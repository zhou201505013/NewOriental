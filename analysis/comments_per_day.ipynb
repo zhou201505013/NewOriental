{
 "cells": [
  {
   "cell_type": "code",
   "execution_count": 1,
   "metadata": {
    "collapsed": false,
    "jupyter": {
     "outputs_hidden": false
    },
    "pycharm": {
     "name": "#%%\n"
    }
   },
   "outputs": [],
   "source": [
    "# 每日评论数图\n",
    "import pandas as pd\n",
    "import matplotlib.pyplot as plt"
   ]
  },
  {
   "cell_type": "code",
   "execution_count": 2,
   "metadata": {
    "collapsed": false,
    "jupyter": {
     "outputs_hidden": false
    },
    "pycharm": {
     "name": "#%%\n"
    }
   },
   "outputs": [
    {
     "data": {
      "text/plain": "(87467, 4)"
     },
     "execution_count": 2,
     "metadata": {},
     "output_type": "execute_result"
    }
   ],
   "source": [
    "data = pd.read_csv('../data/data_all.csv')\n",
    "data.shape"
   ]
  },
  {
   "cell_type": "code",
   "execution_count": 3,
   "metadata": {
    "collapsed": false,
    "jupyter": {
     "outputs_hidden": false
    },
    "pycharm": {
     "name": "#%%\n"
    }
   },
   "outputs": [
    {
     "data": {
      "text/plain": "                      time  comment\nsource   date                      \nbilibili 2022-06-13      1        1\n         2022-06-14     29       29\n         2022-06-15     15       15\n         2022-06-16     29       29\n         2022-06-17     55       55\n         2022-06-18     30       30\n         2022-06-19    117      117\ndouyin   2022-06-02    489      489\n         2022-06-03     27       27\n         2022-06-04      2        2\n         2022-06-07      5        5\n         2022-06-08    445      445\n         2022-06-09    706      706\n         2022-06-10   7241     7241\n         2022-06-11   4485     4485\n         2022-06-12   2126     2126\n         2022-06-13   2719     2719\n         2022-06-14   4796     4796\n         2022-06-15  14141    14141\n         2022-06-16  11038    11038\n         2022-06-17  12933    12933\n         2022-06-18   7802     7802\n         2022-06-19   6044     6044\n         2022-06-20    433      433\ntoutiao  2022-06-12     76       76\n         2022-06-13     96       96\n         2022-06-14    108      108\n         2022-06-15    262      262\n         2022-06-16    295      295\n         2022-06-17    231      231\n         2022-06-18    137      137\n         2022-06-19     52       52\nweibo    2022-06-07      6        6\n         2022-06-08     21       21\n         2022-06-09     30       30\n         2022-06-10    310      310\n         2022-06-11    354      354\n         2022-06-12    308      308\n         2022-06-13    878      878\n         2022-06-14   1009     1009\n         2022-06-15   1243     1243\n         2022-06-16   6189     6189\n         2022-06-17    119      119\n         2022-06-18     35       35",
      "text/html": "<div>\n<style scoped>\n    .dataframe tbody tr th:only-of-type {\n        vertical-align: middle;\n    }\n\n    .dataframe tbody tr th {\n        vertical-align: top;\n    }\n\n    .dataframe thead th {\n        text-align: right;\n    }\n</style>\n<table border=\"1\" class=\"dataframe\">\n  <thead>\n    <tr style=\"text-align: right;\">\n      <th></th>\n      <th></th>\n      <th>time</th>\n      <th>comment</th>\n    </tr>\n    <tr>\n      <th>source</th>\n      <th>date</th>\n      <th></th>\n      <th></th>\n    </tr>\n  </thead>\n  <tbody>\n    <tr>\n      <th rowspan=\"7\" valign=\"top\">bilibili</th>\n      <th>2022-06-13</th>\n      <td>1</td>\n      <td>1</td>\n    </tr>\n    <tr>\n      <th>2022-06-14</th>\n      <td>29</td>\n      <td>29</td>\n    </tr>\n    <tr>\n      <th>2022-06-15</th>\n      <td>15</td>\n      <td>15</td>\n    </tr>\n    <tr>\n      <th>2022-06-16</th>\n      <td>29</td>\n      <td>29</td>\n    </tr>\n    <tr>\n      <th>2022-06-17</th>\n      <td>55</td>\n      <td>55</td>\n    </tr>\n    <tr>\n      <th>2022-06-18</th>\n      <td>30</td>\n      <td>30</td>\n    </tr>\n    <tr>\n      <th>2022-06-19</th>\n      <td>117</td>\n      <td>117</td>\n    </tr>\n    <tr>\n      <th rowspan=\"17\" valign=\"top\">douyin</th>\n      <th>2022-06-02</th>\n      <td>489</td>\n      <td>489</td>\n    </tr>\n    <tr>\n      <th>2022-06-03</th>\n      <td>27</td>\n      <td>27</td>\n    </tr>\n    <tr>\n      <th>2022-06-04</th>\n      <td>2</td>\n      <td>2</td>\n    </tr>\n    <tr>\n      <th>2022-06-07</th>\n      <td>5</td>\n      <td>5</td>\n    </tr>\n    <tr>\n      <th>2022-06-08</th>\n      <td>445</td>\n      <td>445</td>\n    </tr>\n    <tr>\n      <th>2022-06-09</th>\n      <td>706</td>\n      <td>706</td>\n    </tr>\n    <tr>\n      <th>2022-06-10</th>\n      <td>7241</td>\n      <td>7241</td>\n    </tr>\n    <tr>\n      <th>2022-06-11</th>\n      <td>4485</td>\n      <td>4485</td>\n    </tr>\n    <tr>\n      <th>2022-06-12</th>\n      <td>2126</td>\n      <td>2126</td>\n    </tr>\n    <tr>\n      <th>2022-06-13</th>\n      <td>2719</td>\n      <td>2719</td>\n    </tr>\n    <tr>\n      <th>2022-06-14</th>\n      <td>4796</td>\n      <td>4796</td>\n    </tr>\n    <tr>\n      <th>2022-06-15</th>\n      <td>14141</td>\n      <td>14141</td>\n    </tr>\n    <tr>\n      <th>2022-06-16</th>\n      <td>11038</td>\n      <td>11038</td>\n    </tr>\n    <tr>\n      <th>2022-06-17</th>\n      <td>12933</td>\n      <td>12933</td>\n    </tr>\n    <tr>\n      <th>2022-06-18</th>\n      <td>7802</td>\n      <td>7802</td>\n    </tr>\n    <tr>\n      <th>2022-06-19</th>\n      <td>6044</td>\n      <td>6044</td>\n    </tr>\n    <tr>\n      <th>2022-06-20</th>\n      <td>433</td>\n      <td>433</td>\n    </tr>\n    <tr>\n      <th rowspan=\"8\" valign=\"top\">toutiao</th>\n      <th>2022-06-12</th>\n      <td>76</td>\n      <td>76</td>\n    </tr>\n    <tr>\n      <th>2022-06-13</th>\n      <td>96</td>\n      <td>96</td>\n    </tr>\n    <tr>\n      <th>2022-06-14</th>\n      <td>108</td>\n      <td>108</td>\n    </tr>\n    <tr>\n      <th>2022-06-15</th>\n      <td>262</td>\n      <td>262</td>\n    </tr>\n    <tr>\n      <th>2022-06-16</th>\n      <td>295</td>\n      <td>295</td>\n    </tr>\n    <tr>\n      <th>2022-06-17</th>\n      <td>231</td>\n      <td>231</td>\n    </tr>\n    <tr>\n      <th>2022-06-18</th>\n      <td>137</td>\n      <td>137</td>\n    </tr>\n    <tr>\n      <th>2022-06-19</th>\n      <td>52</td>\n      <td>52</td>\n    </tr>\n    <tr>\n      <th rowspan=\"12\" valign=\"top\">weibo</th>\n      <th>2022-06-07</th>\n      <td>6</td>\n      <td>6</td>\n    </tr>\n    <tr>\n      <th>2022-06-08</th>\n      <td>21</td>\n      <td>21</td>\n    </tr>\n    <tr>\n      <th>2022-06-09</th>\n      <td>30</td>\n      <td>30</td>\n    </tr>\n    <tr>\n      <th>2022-06-10</th>\n      <td>310</td>\n      <td>310</td>\n    </tr>\n    <tr>\n      <th>2022-06-11</th>\n      <td>354</td>\n      <td>354</td>\n    </tr>\n    <tr>\n      <th>2022-06-12</th>\n      <td>308</td>\n      <td>308</td>\n    </tr>\n    <tr>\n      <th>2022-06-13</th>\n      <td>878</td>\n      <td>878</td>\n    </tr>\n    <tr>\n      <th>2022-06-14</th>\n      <td>1009</td>\n      <td>1009</td>\n    </tr>\n    <tr>\n      <th>2022-06-15</th>\n      <td>1243</td>\n      <td>1243</td>\n    </tr>\n    <tr>\n      <th>2022-06-16</th>\n      <td>6189</td>\n      <td>6189</td>\n    </tr>\n    <tr>\n      <th>2022-06-17</th>\n      <td>119</td>\n      <td>119</td>\n    </tr>\n    <tr>\n      <th>2022-06-18</th>\n      <td>35</td>\n      <td>35</td>\n    </tr>\n  </tbody>\n</table>\n</div>"
     },
     "execution_count": 3,
     "metadata": {},
     "output_type": "execute_result"
    }
   ],
   "source": [
    "grouped = data.groupby(['source', 'date'])\n",
    "grouped.count()"
   ]
  },
  {
   "cell_type": "code",
   "execution_count": 7,
   "metadata": {
    "collapsed": false,
    "jupyter": {
     "outputs_hidden": false
    },
    "pycharm": {
     "name": "#%%\n"
    }
   },
   "outputs": [
    {
     "data": {
      "text/plain": "<Figure size 648x288 with 1 Axes>",
      "image/png": "[encoded data removed]"
     },
     "metadata": {
      "needs_background": "light"
     },
     "output_type": "display_data"
    }
   ],
   "source": [
    "plt.rcParams['font.sans-serif'] = ['SimHei']  # 用来正常显示中文标签\n",
    "plt.rcParams['axes.unicode_minus'] = False  # 用来正常显示负号\n",
    "day = ['06-07', '06-08', '06-09', '06-10', '06-11', '06-12', '06-13',\n",
    "       '06-14', '06-15', '06-16', '06-17', '06-18', '06-19', '06-20']\n",
    "comments_by_source = {\n",
    "    '哔哩哔哩': [0, 0, 0, 0, 0, 0, 1, 29, 15, 29, 55, 30, 117, 0],\n",
    "    '今日头条': [0, 0, 0, 0, 0, 76, 96, 108, 262, 295, 231, 137, 52, 0],\n",
    "    '新浪微博': [6, 21, 30, 310, 354, 308, 878, 1009, 1243, 6189, 119, 35, 0, 0],\n",
    "    '抖音': [5, 445, 706, 7241, 4485, 2126, 2719, 4796, 14141, 11038, 12933, 7802, 6044, 433]\n",
    "}\n",
    "fig, ax = plt.subplots()\n",
    "fig.set_figwidth(9)\n",
    "ax.stackplot(day, comments_by_source.values(),\n",
    "             labels=comments_by_source.keys(), alpha=0.8)\n",
    "ax.legend(loc='upper left')\n",
    "#ax.set_title('Comments per day')\n",
    "ax.set_xlabel('日期')\n",
    "ax.set_ylabel('评论数')\n",
    "plt.savefig('../images/每日评论数.svg', dpi=300)\n",
    "plt.show()"
   ]
  },
  {
   "cell_type": "code",
   "execution_count": 5,
   "metadata": {
    "collapsed": false,
    "jupyter": {
     "outputs_hidden": false
    },
    "pycharm": {
     "name": "#%%\n"
    }
   },
   "outputs": [
    {
     "data": {
      "text/plain": "           time  comment   date\nsource                         \nbilibili    276      276    276\ndouyin    75432    75432  75432\ntoutiao    1257     1257   1257\nweibo     10502    10502  10502",
      "text/html": "<div>\n<style scoped>\n    .dataframe tbody tr th:only-of-type {\n        vertical-align: middle;\n    }\n\n    .dataframe tbody tr th {\n        vertical-align: top;\n    }\n\n    .dataframe thead th {\n        text-align: right;\n    }\n</style>\n<table border=\"1\" class=\"dataframe\">\n  <thead>\n    <tr style=\"text-align: right;\">\n      <th></th>\n      <th>time</th>\n      <th>comment</th>\n      <th>date</th>\n    </tr>\n    <tr>\n      <th>source</th>\n      <th></th>\n      <th></th>\n      <th></th>\n    </tr>\n  </thead>\n  <tbody>\n    <tr>\n      <th>bilibili</th>\n      <td>276</td>\n      <td>276</td>\n      <td>276</td>\n    </tr>\n    <tr>\n      <th>douyin</th>\n      <td>75432</td>\n      <td>75432</td>\n      <td>75432</td>\n    </tr>\n    <tr>\n      <th>toutiao</th>\n      <td>1257</td>\n      <td>1257</td>\n      <td>1257</td>\n    </tr>\n    <tr>\n      <th>weibo</th>\n      <td>10502</td>\n      <td>10502</td>\n      <td>10502</td>\n    </tr>\n  </tbody>\n</table>\n</div>"
     },
     "execution_count": 5,
     "metadata": {},
     "output_type": "execute_result"
    }
   ],
   "source": [
    "grouped_by_source = data.groupby('source')\n",
    "grouped_by_source.count()"
   ]
  },
  {
   "cell_type": "code",
   "execution_count": 5,
   "metadata": {
    "collapsed": false,
    "jupyter": {
     "outputs_hidden": false
    },
    "pycharm": {
     "name": "#%%\n"
    }
   },
   "outputs": [],
   "source": []
  }
 ],
 "metadata": {
  "kernelspec": {
   "display_name": "Python 3",
   "language": "python",
   "name": "python3"
  },
  "language_info": {
   "codemirror_mode": {
    "name": "ipython",
    "version": 3
   },
   "file_extension": ".py",
   "mimetype": "text/x-python",
   "name": "python",
   "nbconvert_exporter": "python",
   "pygments_lexer": "ipython3",
   "version": "3.6.8"
  }
 },
 "nbformat": 4,
 "nbformat_minor": 4
}