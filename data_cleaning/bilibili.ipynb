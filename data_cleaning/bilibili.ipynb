{
 "cells": [
  {
   "cell_type": "code",
   "execution_count": 9,
   "outputs": [],
   "source": [
    "# bilibili数据处理\n",
    "import pandas as pd"
   ],
   "metadata": {
    "collapsed": false,
    "pycharm": {
     "name": "#%%\n"
    }
   }
  },
  {
   "cell_type": "code",
   "execution_count": 10,
   "outputs": [
    {
     "data": {
      "text/plain": "     recordid                                   <fullpath>  \\\n0        1708  https://www.bilibili.com/video/BV1r34y15713   \n1        1709  https://www.bilibili.com/video/BV1r34y15713   \n2        1710  https://www.bilibili.com/video/BV1r34y15713   \n3        1711  https://www.bilibili.com/video/BV1r34y15713   \n4        1712  https://www.bilibili.com/video/BV1r34y15713   \n..        ...                                          ...   \n451      2162  https://www.bilibili.com/video/BV1AY411u7ue   \n452      2163  https://www.bilibili.com/video/BV1AY411u7ue   \n453      2164  https://www.bilibili.com/video/BV1AY411u7ue   \n454      2165  https://www.bilibili.com/video/BV1AY411u7ue   \n455      2166  https://www.bilibili.com/video/BV1AY411u7ue   \n\n                                      <realpath>  <pageno>  \\\n0    https://www.bilibili.com/video/BV1r34y15713         0   \n1    https://www.bilibili.com/video/BV1r34y15713         0   \n2    https://www.bilibili.com/video/BV1r34y15713         0   \n3    https://www.bilibili.com/video/BV1r34y15713         0   \n4    https://www.bilibili.com/video/BV1r34y15713         0   \n..                                           ...       ...   \n451  https://www.bilibili.com/video/BV1AY411u7ue         0   \n452  https://www.bilibili.com/video/BV1AY411u7ue         0   \n453  https://www.bilibili.com/video/BV1AY411u7ue         0   \n454  https://www.bilibili.com/video/BV1AY411u7ue         0   \n455  https://www.bilibili.com/video/BV1AY411u7ue         0   \n\n              <createdate>                                视频名称   up主  \\\n0    2022-06-19 17:42:32.0        【新东方直播】董宇辉讲自己的初恋，讲出来了大部分人的心声  弑人考察   \n1    2022-06-19 17:42:32.0        【新东方直播】董宇辉讲自己的初恋，讲出来了大部分人的心声  弑人考察   \n2    2022-06-19 17:42:32.0        【新东方直播】董宇辉讲自己的初恋，讲出来了大部分人的心声  弑人考察   \n3    2022-06-19 17:42:32.0        【新东方直播】董宇辉讲自己的初恋，讲出来了大部分人的心声  弑人考察   \n4    2022-06-19 17:42:32.0        【新东方直播】董宇辉讲自己的初恋，讲出来了大部分人的心声  弑人考察   \n..                     ...                                 ...   ...   \n451  2022-06-19 19:39:59.0  腾讯入股新东方，俞敏洪开启直播平台新篇章，他是否能成为下一个罗永浩？   星奇霖   \n452  2022-06-19 19:40:06.0  腾讯入股新东方，俞敏洪开启直播平台新篇章，他是否能成为下一个罗永浩？   星奇霖   \n453  2022-06-19 19:40:06.0  腾讯入股新东方，俞敏洪开启直播平台新篇章，他是否能成为下一个罗永浩？   星奇霖   \n454  2022-06-19 19:40:13.0  腾讯入股新东方，俞敏洪开启直播平台新篇章，他是否能成为下一个罗永浩？   星奇霖   \n455  2022-06-19 19:40:13.0  腾讯入股新东方，俞敏洪开启直播平台新篇章，他是否能成为下一个罗永浩？   星奇霖   \n\n           播放数        弹幕数               视频发布时间  \\\n0    总播放数12646  历史累计弹幕数15  2022-06-18 17:55:57   \n1    总播放数12646  历史累计弹幕数15  2022-06-18 17:55:57   \n2    总播放数12646  历史累计弹幕数15  2022-06-18 17:55:57   \n3    总播放数12646  历史累计弹幕数15  2022-06-18 17:55:57   \n4    总播放数12646  历史累计弹幕数15  2022-06-18 17:55:57   \n..         ...        ...                  ...   \n451   总播放数2366   历史累计弹幕数4  2022-06-14 20:02:08   \n452   总播放数2366   历史累计弹幕数4  2022-06-14 20:02:08   \n453   总播放数2366   历史累计弹幕数4  2022-06-14 20:02:08   \n454   总播放数2366   历史累计弹幕数4  2022-06-14 20:02:08   \n455   总播放数2366   历史累计弹幕数4  2022-06-14 20:02:08   \n\n                                                  评论内容       评论作者  \\\n0    置顶【【新东方直播】董宇辉：小时候不懂得朱自清的《背影》，长大后才懂得-哔哩哔哩】 【新东方...       弑人考察   \n1                                 活了18年了，别说初恋，我连男朋友都没有    秦汐子yUAN   \n2    我的初恋就是我老公，谈了13年，结婚6个月，身边的人都觉得很不可思议，我们俩反而觉得挺正常的...     嘉善路的小楼   \n3    一直想说一句，董老师太谦虚的，长的很有男人味啊，腹有诗书气自华，他从内而外散发出一种儒雅随和...     我很少玩手机   \n4                                       能深刻反省自己，真是个好孩子   79302906   \n..                                                 ...        ...   \n451                                             估计长久不了  helo13131   \n452                                               不看好…        星奇霖   \n453                                             估计长久不了  helo13131   \n454                                               不看好…        星奇霖   \n455                                             估计长久不了  helo13131   \n\n                 评论时间  评论点赞数  来自客户端  \n0                2小时前    NaN    NaN  \n1                2小时前   56.0    NaN  \n2                2小时前   17.0    NaN  \n3                6分钟前    NaN    NaN  \n4    2022-06-18 22:24    8.0    NaN  \n..                ...    ...    ...  \n451  2022-06-15 20:17    NaN    NaN  \n452  2022-06-16 02:01    NaN    NaN  \n453  2022-06-15 20:17    NaN    NaN  \n454  2022-06-16 02:01    NaN    NaN  \n455  2022-06-15 20:17    NaN    NaN  \n\n[456 rows x 15 columns]",
      "text/html": "<div>\n<style scoped>\n    .dataframe tbody tr th:only-of-type {\n        vertical-align: middle;\n    }\n\n    .dataframe tbody tr th {\n        vertical-align: top;\n    }\n\n    .dataframe thead th {\n        text-align: right;\n    }\n</style>\n<table border=\"1\" class=\"dataframe\">\n  <thead>\n    <tr style=\"text-align: right;\">\n      <th></th>\n      <th>recordid</th>\n      <th>&lt;fullpath&gt;</th>\n      <th>&lt;realpath&gt;</th>\n      <th>&lt;pageno&gt;</th>\n      <th>&lt;createdate&gt;</th>\n      <th>视频名称</th>\n      <th>up主</th>\n      <th>播放数</th>\n      <th>弹幕数</th>\n      <th>视频发布时间</th>\n      <th>评论内容</th>\n      <th>评论作者</th>\n      <th>评论时间</th>\n      <th>评论点赞数</th>\n      <th>来自客户端</th>\n    </tr>\n  </thead>\n  <tbody>\n    <tr>\n      <th>0</th>\n      <td>1708</td>\n      <td>https://www.bilibili.com/video/BV1r34y15713</td>\n      <td>https://www.bilibili.com/video/BV1r34y15713</td>\n      <td>0</td>\n      <td>2022-06-19 17:42:32.0</td>\n      <td>【新东方直播】董宇辉讲自己的初恋，讲出来了大部分人的心声</td>\n      <td>弑人考察</td>\n      <td>总播放数12646</td>\n      <td>历史累计弹幕数15</td>\n      <td>2022-06-18 17:55:57</td>\n      <td>置顶【【新东方直播】董宇辉：小时候不懂得朱自清的《背影》，长大后才懂得-哔哩哔哩】 【新东方...</td>\n      <td>弑人考察</td>\n      <td>2小时前</td>\n      <td>NaN</td>\n      <td>NaN</td>\n    </tr>\n    <tr>\n      <th>1</th>\n      <td>1709</td>\n      <td>https://www.bilibili.com/video/BV1r34y15713</td>\n      <td>https://www.bilibili.com/video/BV1r34y15713</td>\n      <td>0</td>\n      <td>2022-06-19 17:42:32.0</td>\n      <td>【新东方直播】董宇辉讲自己的初恋，讲出来了大部分人的心声</td>\n      <td>弑人考察</td>\n      <td>总播放数12646</td>\n      <td>历史累计弹幕数15</td>\n      <td>2022-06-18 17:55:57</td>\n      <td>活了18年了，别说初恋，我连男朋友都没有</td>\n      <td>秦汐子yUAN</td>\n      <td>2小时前</td>\n      <td>56.0</td>\n      <td>NaN</td>\n    </tr>\n    <tr>\n      <th>2</th>\n      <td>1710</td>\n      <td>https://www.bilibili.com/video/BV1r34y15713</td>\n      <td>https://www.bilibili.com/video/BV1r34y15713</td>\n      <td>0</td>\n      <td>2022-06-19 17:42:32.0</td>\n      <td>【新东方直播】董宇辉讲自己的初恋，讲出来了大部分人的心声</td>\n      <td>弑人考察</td>\n      <td>总播放数12646</td>\n      <td>历史累计弹幕数15</td>\n      <td>2022-06-18 17:55:57</td>\n      <td>我的初恋就是我老公，谈了13年，结婚6个月，身边的人都觉得很不可思议，我们俩反而觉得挺正常的...</td>\n      <td>嘉善路的小楼</td>\n      <td>2小时前</td>\n      <td>17.0</td>\n      <td>NaN</td>\n    </tr>\n    <tr>\n      <th>3</th>\n      <td>1711</td>\n      <td>https://www.bilibili.com/video/BV1r34y15713</td>\n      <td>https://www.bilibili.com/video/BV1r34y15713</td>\n      <td>0</td>\n      <td>2022-06-19 17:42:32.0</td>\n      <td>【新东方直播】董宇辉讲自己的初恋，讲出来了大部分人的心声</td>\n      <td>弑人考察</td>\n      <td>总播放数12646</td>\n      <td>历史累计弹幕数15</td>\n      <td>2022-06-18 17:55:57</td>\n      <td>一直想说一句，董老师太谦虚的，长的很有男人味啊，腹有诗书气自华，他从内而外散发出一种儒雅随和...</td>\n      <td>我很少玩手机</td>\n      <td>6分钟前</td>\n      <td>NaN</td>\n      <td>NaN</td>\n    </tr>\n    <tr>\n      <th>4</th>\n      <td>1712</td>\n      <td>https://www.bilibili.com/video/BV1r34y15713</td>\n      <td>https://www.bilibili.com/video/BV1r34y15713</td>\n      <td>0</td>\n      <td>2022-06-19 17:42:32.0</td>\n      <td>【新东方直播】董宇辉讲自己的初恋，讲出来了大部分人的心声</td>\n      <td>弑人考察</td>\n      <td>总播放数12646</td>\n      <td>历史累计弹幕数15</td>\n      <td>2022-06-18 17:55:57</td>\n      <td>能深刻反省自己，真是个好孩子</td>\n      <td>79302906</td>\n      <td>2022-06-18 22:24</td>\n      <td>8.0</td>\n      <td>NaN</td>\n    </tr>\n    <tr>\n      <th>...</th>\n      <td>...</td>\n      <td>...</td>\n      <td>...</td>\n      <td>...</td>\n      <td>...</td>\n      <td>...</td>\n      <td>...</td>\n      <td>...</td>\n      <td>...</td>\n      <td>...</td>\n      <td>...</td>\n      <td>...</td>\n      <td>...</td>\n      <td>...</td>\n      <td>...</td>\n    </tr>\n    <tr>\n      <th>451</th>\n      <td>2162</td>\n      <td>https://www.bilibili.com/video/BV1AY411u7ue</td>\n      <td>https://www.bilibili.com/video/BV1AY411u7ue</td>\n      <td>0</td>\n      <td>2022-06-19 19:39:59.0</td>\n      <td>腾讯入股新东方，俞敏洪开启直播平台新篇章，他是否能成为下一个罗永浩？</td>\n      <td>星奇霖</td>\n      <td>总播放数2366</td>\n      <td>历史累计弹幕数4</td>\n      <td>2022-06-14 20:02:08</td>\n      <td>估计长久不了</td>\n      <td>helo13131</td>\n      <td>2022-06-15 20:17</td>\n      <td>NaN</td>\n      <td>NaN</td>\n    </tr>\n    <tr>\n      <th>452</th>\n      <td>2163</td>\n      <td>https://www.bilibili.com/video/BV1AY411u7ue</td>\n      <td>https://www.bilibili.com/video/BV1AY411u7ue</td>\n      <td>0</td>\n      <td>2022-06-19 19:40:06.0</td>\n      <td>腾讯入股新东方，俞敏洪开启直播平台新篇章，他是否能成为下一个罗永浩？</td>\n      <td>星奇霖</td>\n      <td>总播放数2366</td>\n      <td>历史累计弹幕数4</td>\n      <td>2022-06-14 20:02:08</td>\n      <td>不看好…</td>\n      <td>星奇霖</td>\n      <td>2022-06-16 02:01</td>\n      <td>NaN</td>\n      <td>NaN</td>\n    </tr>\n    <tr>\n      <th>453</th>\n      <td>2164</td>\n      <td>https://www.bilibili.com/video/BV1AY411u7ue</td>\n      <td>https://www.bilibili.com/video/BV1AY411u7ue</td>\n      <td>0</td>\n      <td>2022-06-19 19:40:06.0</td>\n      <td>腾讯入股新东方，俞敏洪开启直播平台新篇章，他是否能成为下一个罗永浩？</td>\n      <td>星奇霖</td>\n      <td>总播放数2366</td>\n      <td>历史累计弹幕数4</td>\n      <td>2022-06-14 20:02:08</td>\n      <td>估计长久不了</td>\n      <td>helo13131</td>\n      <td>2022-06-15 20:17</td>\n      <td>NaN</td>\n      <td>NaN</td>\n    </tr>\n    <tr>\n      <th>454</th>\n      <td>2165</td>\n      <td>https://www.bilibili.com/video/BV1AY411u7ue</td>\n      <td>https://www.bilibili.com/video/BV1AY411u7ue</td>\n      <td>0</td>\n      <td>2022-06-19 19:40:13.0</td>\n      <td>腾讯入股新东方，俞敏洪开启直播平台新篇章，他是否能成为下一个罗永浩？</td>\n      <td>星奇霖</td>\n      <td>总播放数2366</td>\n      <td>历史累计弹幕数4</td>\n      <td>2022-06-14 20:02:08</td>\n      <td>不看好…</td>\n      <td>星奇霖</td>\n      <td>2022-06-16 02:01</td>\n      <td>NaN</td>\n      <td>NaN</td>\n    </tr>\n    <tr>\n      <th>455</th>\n      <td>2166</td>\n      <td>https://www.bilibili.com/video/BV1AY411u7ue</td>\n      <td>https://www.bilibili.com/video/BV1AY411u7ue</td>\n      <td>0</td>\n      <td>2022-06-19 19:40:13.0</td>\n      <td>腾讯入股新东方，俞敏洪开启直播平台新篇章，他是否能成为下一个罗永浩？</td>\n      <td>星奇霖</td>\n      <td>总播放数2366</td>\n      <td>历史累计弹幕数4</td>\n      <td>2022-06-14 20:02:08</td>\n      <td>估计长久不了</td>\n      <td>helo13131</td>\n      <td>2022-06-15 20:17</td>\n      <td>NaN</td>\n      <td>NaN</td>\n    </tr>\n  </tbody>\n</table>\n<p>456 rows × 15 columns</p>\n</div>"
     },
     "execution_count": 10,
     "metadata": {},
     "output_type": "execute_result"
    }
   ],
   "source": [
    "bilibili = pd.read_excel('data/temp_B站视频采集_评论_规则_1_list_20220619200141941.xlsx')\n",
    "bilibili"
   ],
   "metadata": {
    "collapsed": false,
    "pycharm": {
     "name": "#%%\n"
    }
   }
  },
  {
   "cell_type": "code",
   "execution_count": 11,
   "outputs": [
    {
     "data": {
      "text/plain": "     recordid                                   <fullpath>  \\\n0        1708  https://www.bilibili.com/video/BV1r34y15713   \n1        1709  https://www.bilibili.com/video/BV1r34y15713   \n2        1710  https://www.bilibili.com/video/BV1r34y15713   \n3        1711  https://www.bilibili.com/video/BV1r34y15713   \n4        1712  https://www.bilibili.com/video/BV1r34y15713   \n..        ...                                          ...   \n441      2152  https://www.bilibili.com/video/BV1Z3411g77J   \n442      2153  https://www.bilibili.com/video/BV1Z3411g77J   \n443      2154  https://www.bilibili.com/video/BV1Z3411g77J   \n450      2161  https://www.bilibili.com/video/BV1AY411u7ue   \n451      2162  https://www.bilibili.com/video/BV1AY411u7ue   \n\n                                      <realpath>  <pageno>  \\\n0    https://www.bilibili.com/video/BV1r34y15713         0   \n1    https://www.bilibili.com/video/BV1r34y15713         0   \n2    https://www.bilibili.com/video/BV1r34y15713         0   \n3    https://www.bilibili.com/video/BV1r34y15713         0   \n4    https://www.bilibili.com/video/BV1r34y15713         0   \n..                                           ...       ...   \n441  https://www.bilibili.com/video/BV1Z3411g77J         0   \n442  https://www.bilibili.com/video/BV1Z3411g77J         0   \n443  https://www.bilibili.com/video/BV1Z3411g77J         0   \n450  https://www.bilibili.com/video/BV1AY411u7ue         0   \n451  https://www.bilibili.com/video/BV1AY411u7ue         0   \n\n              <createdate>                                视频名称      up主  \\\n0    2022-06-19 17:42:32.0        【新东方直播】董宇辉讲自己的初恋，讲出来了大部分人的心声     弑人考察   \n1    2022-06-19 17:42:32.0        【新东方直播】董宇辉讲自己的初恋，讲出来了大部分人的心声     弑人考察   \n2    2022-06-19 17:42:32.0        【新东方直播】董宇辉讲自己的初恋，讲出来了大部分人的心声     弑人考察   \n3    2022-06-19 17:42:32.0        【新东方直播】董宇辉讲自己的初恋，讲出来了大部分人的心声     弑人考察   \n4    2022-06-19 17:42:32.0        【新东方直播】董宇辉讲自己的初恋，讲出来了大部分人的心声     弑人考察   \n..                     ...                                 ...      ...   \n441  2022-06-19 19:39:29.0    [顿顿老师]小时候VS现在，顿顿老师的自我介绍来了，网友直呼很行  911打小怪兽   \n442  2022-06-19 19:39:29.0    [顿顿老师]小时候VS现在，顿顿老师的自我介绍来了，网友直呼很行  911打小怪兽   \n443  2022-06-19 19:39:29.0    [顿顿老师]小时候VS现在，顿顿老师的自我介绍来了，网友直呼很行  911打小怪兽   \n450  2022-06-19 19:39:59.0  腾讯入股新东方，俞敏洪开启直播平台新篇章，他是否能成为下一个罗永浩？      星奇霖   \n451  2022-06-19 19:39:59.0  腾讯入股新东方，俞敏洪开启直播平台新篇章，他是否能成为下一个罗永浩？      星奇霖   \n\n           播放数        弹幕数               视频发布时间  \\\n0    总播放数12646  历史累计弹幕数15  2022-06-18 17:55:57   \n1    总播放数12646  历史累计弹幕数15  2022-06-18 17:55:57   \n2    总播放数12646  历史累计弹幕数15  2022-06-18 17:55:57   \n3    总播放数12646  历史累计弹幕数15  2022-06-18 17:55:57   \n4    总播放数12646  历史累计弹幕数15  2022-06-18 17:55:57   \n..         ...        ...                  ...   \n441  总播放数11928   历史累计弹幕数3  2022-06-17 10:52:07   \n442  总播放数11928   历史累计弹幕数3  2022-06-17 10:52:07   \n443  总播放数11928   历史累计弹幕数3  2022-06-17 10:52:07   \n450   总播放数2366   历史累计弹幕数4  2022-06-14 20:02:08   \n451   总播放数2366   历史累计弹幕数4  2022-06-14 20:02:08   \n\n                                                  评论内容       评论作者  \\\n0    置顶【【新东方直播】董宇辉：小时候不懂得朱自清的《背影》，长大后才懂得-哔哩哔哩】 【新东方...       弑人考察   \n1                                 活了18年了，别说初恋，我连男朋友都没有    秦汐子yUAN   \n2    我的初恋就是我老公，谈了13年，结婚6个月，身边的人都觉得很不可思议，我们俩反而觉得挺正常的...     嘉善路的小楼   \n3    一直想说一句，董老师太谦虚的，长的很有男人味啊，腹有诗书气自华，他从内而外散发出一种儒雅随和...     我很少玩手机   \n4                                       能深刻反省自己，真是个好孩子   79302906   \n..                                                 ...        ...   \n441                                                求配乐      酸奶西兰花   \n442                                               确实确实     From原创   \n443                                            那个地方行就行      肖姐姐必糊   \n450                                               不看好…        星奇霖   \n451                                             估计长久不了  helo13131   \n\n                 评论时间  评论点赞数  来自客户端  \n0                2小时前    NaN    NaN  \n1                2小时前   56.0    NaN  \n2                2小时前   17.0    NaN  \n3                6分钟前    NaN    NaN  \n4    2022-06-18 22:24    8.0    NaN  \n..                ...    ...    ...  \n441             10小时前    NaN    NaN  \n442  2022-06-18 22:50    5.0    NaN  \n443              6小时前    1.0    NaN  \n450  2022-06-16 02:01    NaN    NaN  \n451  2022-06-15 20:17    NaN    NaN  \n\n[315 rows x 15 columns]",
      "text/html": "<div>\n<style scoped>\n    .dataframe tbody tr th:only-of-type {\n        vertical-align: middle;\n    }\n\n    .dataframe tbody tr th {\n        vertical-align: top;\n    }\n\n    .dataframe thead th {\n        text-align: right;\n    }\n</style>\n<table border=\"1\" class=\"dataframe\">\n  <thead>\n    <tr style=\"text-align: right;\">\n      <th></th>\n      <th>recordid</th>\n      <th>&lt;fullpath&gt;</th>\n      <th>&lt;realpath&gt;</th>\n      <th>&lt;pageno&gt;</th>\n      <th>&lt;createdate&gt;</th>\n      <th>视频名称</th>\n      <th>up主</th>\n      <th>播放数</th>\n      <th>弹幕数</th>\n      <th>视频发布时间</th>\n      <th>评论内容</th>\n      <th>评论作者</th>\n      <th>评论时间</th>\n      <th>评论点赞数</th>\n      <th>来自客户端</th>\n    </tr>\n  </thead>\n  <tbody>\n    <tr>\n      <th>0</th>\n      <td>1708</td>\n      <td>https://www.bilibili.com/video/BV1r34y15713</td>\n      <td>https://www.bilibili.com/video/BV1r34y15713</td>\n      <td>0</td>\n      <td>2022-06-19 17:42:32.0</td>\n      <td>【新东方直播】董宇辉讲自己的初恋，讲出来了大部分人的心声</td>\n      <td>弑人考察</td>\n      <td>总播放数12646</td>\n      <td>历史累计弹幕数15</td>\n      <td>2022-06-18 17:55:57</td>\n      <td>置顶【【新东方直播】董宇辉：小时候不懂得朱自清的《背影》，长大后才懂得-哔哩哔哩】 【新东方...</td>\n      <td>弑人考察</td>\n      <td>2小时前</td>\n      <td>NaN</td>\n      <td>NaN</td>\n    </tr>\n    <tr>\n      <th>1</th>\n      <td>1709</td>\n      <td>https://www.bilibili.com/video/BV1r34y15713</td>\n      <td>https://www.bilibili.com/video/BV1r34y15713</td>\n      <td>0</td>\n      <td>2022-06-19 17:42:32.0</td>\n      <td>【新东方直播】董宇辉讲自己的初恋，讲出来了大部分人的心声</td>\n      <td>弑人考察</td>\n      <td>总播放数12646</td>\n      <td>历史累计弹幕数15</td>\n      <td>2022-06-18 17:55:57</td>\n      <td>活了18年了，别说初恋，我连男朋友都没有</td>\n      <td>秦汐子yUAN</td>\n      <td>2小时前</td>\n      <td>56.0</td>\n      <td>NaN</td>\n    </tr>\n    <tr>\n      <th>2</th>\n      <td>1710</td>\n      <td>https://www.bilibili.com/video/BV1r34y15713</td>\n      <td>https://www.bilibili.com/video/BV1r34y15713</td>\n      <td>0</td>\n      <td>2022-06-19 17:42:32.0</td>\n      <td>【新东方直播】董宇辉讲自己的初恋，讲出来了大部分人的心声</td>\n      <td>弑人考察</td>\n      <td>总播放数12646</td>\n      <td>历史累计弹幕数15</td>\n      <td>2022-06-18 17:55:57</td>\n      <td>我的初恋就是我老公，谈了13年，结婚6个月，身边的人都觉得很不可思议，我们俩反而觉得挺正常的...</td>\n      <td>嘉善路的小楼</td>\n      <td>2小时前</td>\n      <td>17.0</td>\n      <td>NaN</td>\n    </tr>\n    <tr>\n      <th>3</th>\n      <td>1711</td>\n      <td>https://www.bilibili.com/video/BV1r34y15713</td>\n      <td>https://www.bilibili.com/video/BV1r34y15713</td>\n      <td>0</td>\n      <td>2022-06-19 17:42:32.0</td>\n      <td>【新东方直播】董宇辉讲自己的初恋，讲出来了大部分人的心声</td>\n      <td>弑人考察</td>\n      <td>总播放数12646</td>\n      <td>历史累计弹幕数15</td>\n      <td>2022-06-18 17:55:57</td>\n      <td>一直想说一句，董老师太谦虚的，长的很有男人味啊，腹有诗书气自华，他从内而外散发出一种儒雅随和...</td>\n      <td>我很少玩手机</td>\n      <td>6分钟前</td>\n      <td>NaN</td>\n      <td>NaN</td>\n    </tr>\n    <tr>\n      <th>4</th>\n      <td>1712</td>\n      <td>https://www.bilibili.com/video/BV1r34y15713</td>\n      <td>https://www.bilibili.com/video/BV1r34y15713</td>\n      <td>0</td>\n      <td>2022-06-19 17:42:32.0</td>\n      <td>【新东方直播】董宇辉讲自己的初恋，讲出来了大部分人的心声</td>\n      <td>弑人考察</td>\n      <td>总播放数12646</td>\n      <td>历史累计弹幕数15</td>\n      <td>2022-06-18 17:55:57</td>\n      <td>能深刻反省自己，真是个好孩子</td>\n      <td>79302906</td>\n      <td>2022-06-18 22:24</td>\n      <td>8.0</td>\n      <td>NaN</td>\n    </tr>\n    <tr>\n      <th>...</th>\n      <td>...</td>\n      <td>...</td>\n      <td>...</td>\n      <td>...</td>\n      <td>...</td>\n      <td>...</td>\n      <td>...</td>\n      <td>...</td>\n      <td>...</td>\n      <td>...</td>\n      <td>...</td>\n      <td>...</td>\n      <td>...</td>\n      <td>...</td>\n      <td>...</td>\n    </tr>\n    <tr>\n      <th>441</th>\n      <td>2152</td>\n      <td>https://www.bilibili.com/video/BV1Z3411g77J</td>\n      <td>https://www.bilibili.com/video/BV1Z3411g77J</td>\n      <td>0</td>\n      <td>2022-06-19 19:39:29.0</td>\n      <td>[顿顿老师]小时候VS现在，顿顿老师的自我介绍来了，网友直呼很行</td>\n      <td>911打小怪兽</td>\n      <td>总播放数11928</td>\n      <td>历史累计弹幕数3</td>\n      <td>2022-06-17 10:52:07</td>\n      <td>求配乐</td>\n      <td>酸奶西兰花</td>\n      <td>10小时前</td>\n      <td>NaN</td>\n      <td>NaN</td>\n    </tr>\n    <tr>\n      <th>442</th>\n      <td>2153</td>\n      <td>https://www.bilibili.com/video/BV1Z3411g77J</td>\n      <td>https://www.bilibili.com/video/BV1Z3411g77J</td>\n      <td>0</td>\n      <td>2022-06-19 19:39:29.0</td>\n      <td>[顿顿老师]小时候VS现在，顿顿老师的自我介绍来了，网友直呼很行</td>\n      <td>911打小怪兽</td>\n      <td>总播放数11928</td>\n      <td>历史累计弹幕数3</td>\n      <td>2022-06-17 10:52:07</td>\n      <td>确实确实</td>\n      <td>From原创</td>\n      <td>2022-06-18 22:50</td>\n      <td>5.0</td>\n      <td>NaN</td>\n    </tr>\n    <tr>\n      <th>443</th>\n      <td>2154</td>\n      <td>https://www.bilibili.com/video/BV1Z3411g77J</td>\n      <td>https://www.bilibili.com/video/BV1Z3411g77J</td>\n      <td>0</td>\n      <td>2022-06-19 19:39:29.0</td>\n      <td>[顿顿老师]小时候VS现在，顿顿老师的自我介绍来了，网友直呼很行</td>\n      <td>911打小怪兽</td>\n      <td>总播放数11928</td>\n      <td>历史累计弹幕数3</td>\n      <td>2022-06-17 10:52:07</td>\n      <td>那个地方行就行</td>\n      <td>肖姐姐必糊</td>\n      <td>6小时前</td>\n      <td>1.0</td>\n      <td>NaN</td>\n    </tr>\n    <tr>\n      <th>450</th>\n      <td>2161</td>\n      <td>https://www.bilibili.com/video/BV1AY411u7ue</td>\n      <td>https://www.bilibili.com/video/BV1AY411u7ue</td>\n      <td>0</td>\n      <td>2022-06-19 19:39:59.0</td>\n      <td>腾讯入股新东方，俞敏洪开启直播平台新篇章，他是否能成为下一个罗永浩？</td>\n      <td>星奇霖</td>\n      <td>总播放数2366</td>\n      <td>历史累计弹幕数4</td>\n      <td>2022-06-14 20:02:08</td>\n      <td>不看好…</td>\n      <td>星奇霖</td>\n      <td>2022-06-16 02:01</td>\n      <td>NaN</td>\n      <td>NaN</td>\n    </tr>\n    <tr>\n      <th>451</th>\n      <td>2162</td>\n      <td>https://www.bilibili.com/video/BV1AY411u7ue</td>\n      <td>https://www.bilibili.com/video/BV1AY411u7ue</td>\n      <td>0</td>\n      <td>2022-06-19 19:39:59.0</td>\n      <td>腾讯入股新东方，俞敏洪开启直播平台新篇章，他是否能成为下一个罗永浩？</td>\n      <td>星奇霖</td>\n      <td>总播放数2366</td>\n      <td>历史累计弹幕数4</td>\n      <td>2022-06-14 20:02:08</td>\n      <td>估计长久不了</td>\n      <td>helo13131</td>\n      <td>2022-06-15 20:17</td>\n      <td>NaN</td>\n      <td>NaN</td>\n    </tr>\n  </tbody>\n</table>\n<p>315 rows × 15 columns</p>\n</div>"
     },
     "execution_count": 11,
     "metadata": {},
     "output_type": "execute_result"
    }
   ],
   "source": [
    "bilibili = bilibili.drop_duplicates(subset='评论内容')\n",
    "bilibili"
   ],
   "metadata": {
    "collapsed": false,
    "pycharm": {
     "name": "#%%\n"
    }
   }
  },
  {
   "cell_type": "code",
   "execution_count": 12,
   "outputs": [
    {
     "data": {
      "text/plain": "((114, 15), (3, 15), (198, 15))"
     },
     "execution_count": 12,
     "metadata": {},
     "output_type": "execute_result"
    }
   ],
   "source": [
    "# 小时前 分钟前 2022-06-18 22:24\n",
    "bilibili_hour = bilibili[bilibili['评论时间'].str.contains('小时前')]\n",
    "bilibili_minute = bilibili[bilibili['评论时间'].str.contains('分钟前')]\n",
    "bilibili_time = bilibili[bilibili['评论时间'].str.contains(r'\\d{4}-\\d{2}-\\d{2}\\s\\d{2}:\\d{2}')]\n",
    "bilibili_hour.shape, bilibili_minute.shape, bilibili_time.shape"
   ],
   "metadata": {
    "collapsed": false,
    "pycharm": {
     "name": "#%%\n"
    }
   }
  },
  {
   "cell_type": "code",
   "execution_count": 13,
   "outputs": [
    {
     "data": {
      "text/plain": "315"
     },
     "execution_count": 13,
     "metadata": {},
     "output_type": "execute_result"
    }
   ],
   "source": [
    "114 + 3 + 198"
   ],
   "metadata": {
    "collapsed": false,
    "pycharm": {
     "name": "#%%\n"
    }
   }
  },
  {
   "cell_type": "code",
   "execution_count": 14,
   "outputs": [
    {
     "name": "stderr",
     "output_type": "stream",
     "text": [
      "C:\\Users\\Zhouzw\\AppData\\Local\\Temp\\ipykernel_33332\\2396161022.py:1: SettingWithCopyWarning: \n",
      "A value is trying to be set on a copy of a slice from a DataFrame.\n",
      "Try using .loc[row_indexer,col_indexer] = value instead\n",
      "\n",
      "See the caveats in the documentation: https://pandas.pydata.org/pandas-docs/stable/user_guide/indexing.html#returning-a-view-versus-a-copy\n",
      "  bilibili_hour['评论时间'] = bilibili_hour['评论时间'].str.extract(r'(\\d+)')\n",
      "C:\\Users\\Zhouzw\\AppData\\Local\\Temp\\ipykernel_33332\\2396161022.py:2: SettingWithCopyWarning: \n",
      "A value is trying to be set on a copy of a slice from a DataFrame.\n",
      "Try using .loc[row_indexer,col_indexer] = value instead\n",
      "\n",
      "See the caveats in the documentation: https://pandas.pydata.org/pandas-docs/stable/user_guide/indexing.html#returning-a-view-versus-a-copy\n",
      "  bilibili_hour['评论时间'] = bilibili_hour['<createdate>'].apply(pd.Timestamp) - bilibili_hour['评论时间'].apply(\n"
     ]
    },
    {
     "data": {
      "text/plain": "     recordid                                   <fullpath>  \\\n0        1708  https://www.bilibili.com/video/BV1r34y15713   \n1        1709  https://www.bilibili.com/video/BV1r34y15713   \n2        1710  https://www.bilibili.com/video/BV1r34y15713   \n5        1713  https://www.bilibili.com/video/BV1r34y15713   \n6        1714  https://www.bilibili.com/video/BV1r34y15713   \n..        ...                                          ...   \n428      2136  https://www.bilibili.com/video/BV17B4y1s7Ro   \n429      2137  https://www.bilibili.com/video/BV17B4y1s7Ro   \n437      2148  https://www.bilibili.com/video/BV18v4y1g73W   \n441      2152  https://www.bilibili.com/video/BV1Z3411g77J   \n443      2154  https://www.bilibili.com/video/BV1Z3411g77J   \n\n                                      <realpath>  <pageno>  \\\n0    https://www.bilibili.com/video/BV1r34y15713         0   \n1    https://www.bilibili.com/video/BV1r34y15713         0   \n2    https://www.bilibili.com/video/BV1r34y15713         0   \n5    https://www.bilibili.com/video/BV1r34y15713         0   \n6    https://www.bilibili.com/video/BV1r34y15713         0   \n..                                           ...       ...   \n428  https://www.bilibili.com/video/BV17B4y1s7Ro         0   \n429  https://www.bilibili.com/video/BV17B4y1s7Ro         0   \n437  https://www.bilibili.com/video/BV18v4y1g73W         0   \n441  https://www.bilibili.com/video/BV1Z3411g77J         0   \n443  https://www.bilibili.com/video/BV1Z3411g77J         0   \n\n              <createdate>                              视频名称       up主  \\\n0    2022-06-19 17:42:32.0      【新东方直播】董宇辉讲自己的初恋，讲出来了大部分人的心声      弑人考察   \n1    2022-06-19 17:42:32.0      【新东方直播】董宇辉讲自己的初恋，讲出来了大部分人的心声      弑人考察   \n2    2022-06-19 17:42:32.0      【新东方直播】董宇辉讲自己的初恋，讲出来了大部分人的心声      弑人考察   \n5    2022-06-19 17:42:32.0      【新东方直播】董宇辉讲自己的初恋，讲出来了大部分人的心声      弑人考察   \n6    2022-06-19 17:42:32.0      【新东方直播】董宇辉讲自己的初恋，讲出来了大部分人的心声      弑人考察   \n..                     ...                               ...       ...   \n428  2022-06-19 19:33:21.0    知识在发光！我只想买冰淇淋，你讲莎士比亚泰戈尔，温柔书生顿顿     文火炖土豆   \n429  2022-06-19 19:33:21.0    知识在发光！我只想买冰淇淋，你讲莎士比亚泰戈尔，温柔书生顿顿     文火炖土豆   \n437  2022-06-19 19:39:05.0        顿顿老师说不要沉沦于虚拟网络世界，要多陪陪家人孩子！  一七得七二七得八   \n441  2022-06-19 19:39:29.0  [顿顿老师]小时候VS现在，顿顿老师的自我介绍来了，网友直呼很行   911打小怪兽   \n443  2022-06-19 19:39:29.0  [顿顿老师]小时候VS现在，顿顿老师的自我介绍来了，网友直呼很行   911打小怪兽   \n\n           播放数         弹幕数               视频发布时间  \\\n0    总播放数12646   历史累计弹幕数15  2022-06-18 17:55:57   \n1    总播放数12646   历史累计弹幕数15  2022-06-18 17:55:57   \n2    总播放数12646   历史累计弹幕数15  2022-06-18 17:55:57   \n5    总播放数12646   历史累计弹幕数15  2022-06-18 17:55:57   \n6    总播放数12646   历史累计弹幕数15  2022-06-18 17:55:57   \n..         ...         ...                  ...   \n428  总播放数94937  历史累计弹幕数104  2022-06-18 16:25:04   \n429  总播放数94937  历史累计弹幕数104  2022-06-18 16:25:04   \n437   总播放数2951    历史累计弹幕数0  2022-06-17 16:17:10   \n441  总播放数11928    历史累计弹幕数3  2022-06-17 10:52:07   \n443  总播放数11928    历史累计弹幕数3  2022-06-17 10:52:07   \n\n                                                  评论内容      评论作者  \\\n0    置顶【【新东方直播】董宇辉：小时候不懂得朱自清的《背影》，长大后才懂得-哔哩哔哩】 【新东方...      弑人考察   \n1                                 活了18年了，别说初恋，我连男朋友都没有   秦汐子yUAN   \n2    我的初恋就是我老公，谈了13年，结婚6个月，身边的人都觉得很不可思议，我们俩反而觉得挺正常的...    嘉善路的小楼   \n5              她现在看到你如此成熟稳重有立场，她一定很高兴曾经成为你的女朋友，你是她的骄傲。       李文鈊   \n6                                                   成长    杨洋羊阳扬泱   \n..                                                 ...       ...   \n428                                    怎么感觉他说英语有法语的味道？   一直转的电风扇   \n429                     这个老师真的好合我眼缘啊啊！！！就喜欢这种娓娓道来的感觉！！   奶团子_Vic   \n437                                 顿顿老公 我不沉迷网络  只沉迷于你  一七得七二七得八   \n441                                                求配乐     酸奶西兰花   \n443                                            那个地方行就行     肖姐姐必糊   \n\n                   评论时间  评论点赞数  来自客户端  \n0   2022-06-19 15:42:32    NaN    NaN  \n1   2022-06-19 15:42:32   56.0    NaN  \n2   2022-06-19 15:42:32   17.0    NaN  \n5   2022-06-19 16:42:32    3.0    NaN  \n6   2022-06-19 16:42:32    NaN    NaN  \n..                  ...    ...    ...  \n428 2022-06-19 01:33:21    5.0    NaN  \n429 2022-06-19 07:33:21    4.0    NaN  \n437 2022-06-19 12:39:05    2.0    NaN  \n441 2022-06-19 09:39:29    NaN    NaN  \n443 2022-06-19 13:39:29    1.0    NaN  \n\n[114 rows x 15 columns]",
      "text/html": "<div>\n<style scoped>\n    .dataframe tbody tr th:only-of-type {\n        vertical-align: middle;\n    }\n\n    .dataframe tbody tr th {\n        vertical-align: top;\n    }\n\n    .dataframe thead th {\n        text-align: right;\n    }\n</style>\n<table border=\"1\" class=\"dataframe\">\n  <thead>\n    <tr style=\"text-align: right;\">\n      <th></th>\n      <th>recordid</th>\n      <th>&lt;fullpath&gt;</th>\n      <th>&lt;realpath&gt;</th>\n      <th>&lt;pageno&gt;</th>\n      <th>&lt;createdate&gt;</th>\n      <th>视频名称</th>\n      <th>up主</th>\n      <th>播放数</th>\n      <th>弹幕数</th>\n      <th>视频发布时间</th>\n      <th>评论内容</th>\n      <th>评论作者</th>\n      <th>评论时间</th>\n      <th>评论点赞数</th>\n      <th>来自客户端</th>\n    </tr>\n  </thead>\n  <tbody>\n    <tr>\n      <th>0</th>\n      <td>1708</td>\n      <td>https://www.bilibili.com/video/BV1r34y15713</td>\n      <td>https://www.bilibili.com/video/BV1r34y15713</td>\n      <td>0</td>\n      <td>2022-06-19 17:42:32.0</td>\n      <td>【新东方直播】董宇辉讲自己的初恋，讲出来了大部分人的心声</td>\n      <td>弑人考察</td>\n      <td>总播放数12646</td>\n      <td>历史累计弹幕数15</td>\n      <td>2022-06-18 17:55:57</td>\n      <td>置顶【【新东方直播】董宇辉：小时候不懂得朱自清的《背影》，长大后才懂得-哔哩哔哩】 【新东方...</td>\n      <td>弑人考察</td>\n      <td>2022-06-19 15:42:32</td>\n      <td>NaN</td>\n      <td>NaN</td>\n    </tr>\n    <tr>\n      <th>1</th>\n      <td>1709</td>\n      <td>https://www.bilibili.com/video/BV1r34y15713</td>\n      <td>https://www.bilibili.com/video/BV1r34y15713</td>\n      <td>0</td>\n      <td>2022-06-19 17:42:32.0</td>\n      <td>【新东方直播】董宇辉讲自己的初恋，讲出来了大部分人的心声</td>\n      <td>弑人考察</td>\n      <td>总播放数12646</td>\n      <td>历史累计弹幕数15</td>\n      <td>2022-06-18 17:55:57</td>\n      <td>活了18年了，别说初恋，我连男朋友都没有</td>\n      <td>秦汐子yUAN</td>\n      <td>2022-06-19 15:42:32</td>\n      <td>56.0</td>\n      <td>NaN</td>\n    </tr>\n    <tr>\n      <th>2</th>\n      <td>1710</td>\n      <td>https://www.bilibili.com/video/BV1r34y15713</td>\n      <td>https://www.bilibili.com/video/BV1r34y15713</td>\n      <td>0</td>\n      <td>2022-06-19 17:42:32.0</td>\n      <td>【新东方直播】董宇辉讲自己的初恋，讲出来了大部分人的心声</td>\n      <td>弑人考察</td>\n      <td>总播放数12646</td>\n      <td>历史累计弹幕数15</td>\n      <td>2022-06-18 17:55:57</td>\n      <td>我的初恋就是我老公，谈了13年，结婚6个月，身边的人都觉得很不可思议，我们俩反而觉得挺正常的...</td>\n      <td>嘉善路的小楼</td>\n      <td>2022-06-19 15:42:32</td>\n      <td>17.0</td>\n      <td>NaN</td>\n    </tr>\n    <tr>\n      <th>5</th>\n      <td>1713</td>\n      <td>https://www.bilibili.com/video/BV1r34y15713</td>\n      <td>https://www.bilibili.com/video/BV1r34y15713</td>\n      <td>0</td>\n      <td>2022-06-19 17:42:32.0</td>\n      <td>【新东方直播】董宇辉讲自己的初恋，讲出来了大部分人的心声</td>\n      <td>弑人考察</td>\n      <td>总播放数12646</td>\n      <td>历史累计弹幕数15</td>\n      <td>2022-06-18 17:55:57</td>\n      <td>她现在看到你如此成熟稳重有立场，她一定很高兴曾经成为你的女朋友，你是她的骄傲。</td>\n      <td>李文鈊</td>\n      <td>2022-06-19 16:42:32</td>\n      <td>3.0</td>\n      <td>NaN</td>\n    </tr>\n    <tr>\n      <th>6</th>\n      <td>1714</td>\n      <td>https://www.bilibili.com/video/BV1r34y15713</td>\n      <td>https://www.bilibili.com/video/BV1r34y15713</td>\n      <td>0</td>\n      <td>2022-06-19 17:42:32.0</td>\n      <td>【新东方直播】董宇辉讲自己的初恋，讲出来了大部分人的心声</td>\n      <td>弑人考察</td>\n      <td>总播放数12646</td>\n      <td>历史累计弹幕数15</td>\n      <td>2022-06-18 17:55:57</td>\n      <td>成长</td>\n      <td>杨洋羊阳扬泱</td>\n      <td>2022-06-19 16:42:32</td>\n      <td>NaN</td>\n      <td>NaN</td>\n    </tr>\n    <tr>\n      <th>...</th>\n      <td>...</td>\n      <td>...</td>\n      <td>...</td>\n      <td>...</td>\n      <td>...</td>\n      <td>...</td>\n      <td>...</td>\n      <td>...</td>\n      <td>...</td>\n      <td>...</td>\n      <td>...</td>\n      <td>...</td>\n      <td>...</td>\n      <td>...</td>\n      <td>...</td>\n    </tr>\n    <tr>\n      <th>428</th>\n      <td>2136</td>\n      <td>https://www.bilibili.com/video/BV17B4y1s7Ro</td>\n      <td>https://www.bilibili.com/video/BV17B4y1s7Ro</td>\n      <td>0</td>\n      <td>2022-06-19 19:33:21.0</td>\n      <td>知识在发光！我只想买冰淇淋，你讲莎士比亚泰戈尔，温柔书生顿顿</td>\n      <td>文火炖土豆</td>\n      <td>总播放数94937</td>\n      <td>历史累计弹幕数104</td>\n      <td>2022-06-18 16:25:04</td>\n      <td>怎么感觉他说英语有法语的味道？</td>\n      <td>一直转的电风扇</td>\n      <td>2022-06-19 01:33:21</td>\n      <td>5.0</td>\n      <td>NaN</td>\n    </tr>\n    <tr>\n      <th>429</th>\n      <td>2137</td>\n      <td>https://www.bilibili.com/video/BV17B4y1s7Ro</td>\n      <td>https://www.bilibili.com/video/BV17B4y1s7Ro</td>\n      <td>0</td>\n      <td>2022-06-19 19:33:21.0</td>\n      <td>知识在发光！我只想买冰淇淋，你讲莎士比亚泰戈尔，温柔书生顿顿</td>\n      <td>文火炖土豆</td>\n      <td>总播放数94937</td>\n      <td>历史累计弹幕数104</td>\n      <td>2022-06-18 16:25:04</td>\n      <td>这个老师真的好合我眼缘啊啊！！！就喜欢这种娓娓道来的感觉！！</td>\n      <td>奶团子_Vic</td>\n      <td>2022-06-19 07:33:21</td>\n      <td>4.0</td>\n      <td>NaN</td>\n    </tr>\n    <tr>\n      <th>437</th>\n      <td>2148</td>\n      <td>https://www.bilibili.com/video/BV18v4y1g73W</td>\n      <td>https://www.bilibili.com/video/BV18v4y1g73W</td>\n      <td>0</td>\n      <td>2022-06-19 19:39:05.0</td>\n      <td>顿顿老师说不要沉沦于虚拟网络世界，要多陪陪家人孩子！</td>\n      <td>一七得七二七得八</td>\n      <td>总播放数2951</td>\n      <td>历史累计弹幕数0</td>\n      <td>2022-06-17 16:17:10</td>\n      <td>顿顿老公 我不沉迷网络  只沉迷于你</td>\n      <td>一七得七二七得八</td>\n      <td>2022-06-19 12:39:05</td>\n      <td>2.0</td>\n      <td>NaN</td>\n    </tr>\n    <tr>\n      <th>441</th>\n      <td>2152</td>\n      <td>https://www.bilibili.com/video/BV1Z3411g77J</td>\n      <td>https://www.bilibili.com/video/BV1Z3411g77J</td>\n      <td>0</td>\n      <td>2022-06-19 19:39:29.0</td>\n      <td>[顿顿老师]小时候VS现在，顿顿老师的自我介绍来了，网友直呼很行</td>\n      <td>911打小怪兽</td>\n      <td>总播放数11928</td>\n      <td>历史累计弹幕数3</td>\n      <td>2022-06-17 10:52:07</td>\n      <td>求配乐</td>\n      <td>酸奶西兰花</td>\n      <td>2022-06-19 09:39:29</td>\n      <td>NaN</td>\n      <td>NaN</td>\n    </tr>\n    <tr>\n      <th>443</th>\n      <td>2154</td>\n      <td>https://www.bilibili.com/video/BV1Z3411g77J</td>\n      <td>https://www.bilibili.com/video/BV1Z3411g77J</td>\n      <td>0</td>\n      <td>2022-06-19 19:39:29.0</td>\n      <td>[顿顿老师]小时候VS现在，顿顿老师的自我介绍来了，网友直呼很行</td>\n      <td>911打小怪兽</td>\n      <td>总播放数11928</td>\n      <td>历史累计弹幕数3</td>\n      <td>2022-06-17 10:52:07</td>\n      <td>那个地方行就行</td>\n      <td>肖姐姐必糊</td>\n      <td>2022-06-19 13:39:29</td>\n      <td>1.0</td>\n      <td>NaN</td>\n    </tr>\n  </tbody>\n</table>\n<p>114 rows × 15 columns</p>\n</div>"
     },
     "execution_count": 14,
     "metadata": {},
     "output_type": "execute_result"
    }
   ],
   "source": [
    "bilibili_hour['评论时间'] = bilibili_hour['评论时间'].str.extract(r'(\\d+)')\n",
    "bilibili_hour['评论时间'] = bilibili_hour['<createdate>'].apply(pd.Timestamp) - bilibili_hour['评论时间'].apply(\n",
    "    lambda x: pd.Timedelta(int(x), unit='hour'))\n",
    "bilibili_hour"
   ],
   "metadata": {
    "collapsed": false,
    "pycharm": {
     "name": "#%%\n"
    }
   }
  },
  {
   "cell_type": "code",
   "execution_count": 15,
   "outputs": [
    {
     "name": "stderr",
     "output_type": "stream",
     "text": [
      "C:\\Users\\Zhouzw\\AppData\\Local\\Temp\\ipykernel_33332\\1000353935.py:1: SettingWithCopyWarning: \n",
      "A value is trying to be set on a copy of a slice from a DataFrame.\n",
      "Try using .loc[row_indexer,col_indexer] = value instead\n",
      "\n",
      "See the caveats in the documentation: https://pandas.pydata.org/pandas-docs/stable/user_guide/indexing.html#returning-a-view-versus-a-copy\n",
      "  bilibili_minute['评论时间'] = bilibili_minute['评论时间'].str.extract(r'(\\d+)')\n",
      "C:\\Users\\Zhouzw\\AppData\\Local\\Temp\\ipykernel_33332\\1000353935.py:2: SettingWithCopyWarning: \n",
      "A value is trying to be set on a copy of a slice from a DataFrame.\n",
      "Try using .loc[row_indexer,col_indexer] = value instead\n",
      "\n",
      "See the caveats in the documentation: https://pandas.pydata.org/pandas-docs/stable/user_guide/indexing.html#returning-a-view-versus-a-copy\n",
      "  bilibili_minute['评论时间'] = bilibili_minute['<createdate>'].apply(pd.Timestamp) - bilibili_minute['评论时间'].apply(\n"
     ]
    },
    {
     "data": {
      "text/plain": "     recordid                                   <fullpath>  \\\n3        1711  https://www.bilibili.com/video/BV1r34y15713   \n11       1719  https://www.bilibili.com/video/BV1r34y15713   \n300      2008  https://www.bilibili.com/video/BV1iZ4y1v7w9   \n\n                                      <realpath>  <pageno>  \\\n3    https://www.bilibili.com/video/BV1r34y15713         0   \n11   https://www.bilibili.com/video/BV1r34y15713         0   \n300  https://www.bilibili.com/video/BV1iZ4y1v7w9         0   \n\n              <createdate>                          视频名称    up主         播放数  \\\n3    2022-06-19 17:42:32.0  【新东方直播】董宇辉讲自己的初恋，讲出来了大部分人的心声   弑人考察   总播放数12646   \n11   2022-06-19 17:42:32.0  【新东方直播】董宇辉讲自己的初恋，讲出来了大部分人的心声   弑人考察   总播放数12646   \n300  2022-06-19 19:20:01.0      直播间粉丝突破1000万，新东方在线股价再涨一倍  闰土爱扎猹  总播放数163025   \n\n           弹幕数               视频发布时间  \\\n3    历史累计弹幕数15  2022-06-18 17:55:57   \n11   历史累计弹幕数15  2022-06-18 17:55:57   \n300   历史累计弹幕数6  2022-06-16 16:10:49   \n\n                                                  评论内容     评论作者  \\\n3    一直想说一句，董老师太谦虚的，长的很有男人味啊，腹有诗书气自华，他从内而外散发出一种儒雅随和...   我很少玩手机   \n11                                               羡慕那些人  薄荷盛开的夏天   \n300                                     说明，多读书，读好书真的有用   王小波556   \n\n                   评论时间  评论点赞数  来自客户端  \n3   2022-06-19 17:36:32    NaN    NaN  \n11  2022-06-19 16:56:32    NaN    NaN  \n300 2022-06-19 18:56:01    NaN    NaN  ",
      "text/html": "<div>\n<style scoped>\n    .dataframe tbody tr th:only-of-type {\n        vertical-align: middle;\n    }\n\n    .dataframe tbody tr th {\n        vertical-align: top;\n    }\n\n    .dataframe thead th {\n        text-align: right;\n    }\n</style>\n<table border=\"1\" class=\"dataframe\">\n  <thead>\n    <tr style=\"text-align: right;\">\n      <th></th>\n      <th>recordid</th>\n      <th>&lt;fullpath&gt;</th>\n      <th>&lt;realpath&gt;</th>\n      <th>&lt;pageno&gt;</th>\n      <th>&lt;createdate&gt;</th>\n      <th>视频名称</th>\n      <th>up主</th>\n      <th>播放数</th>\n      <th>弹幕数</th>\n      <th>视频发布时间</th>\n      <th>评论内容</th>\n      <th>评论作者</th>\n      <th>评论时间</th>\n      <th>评论点赞数</th>\n      <th>来自客户端</th>\n    </tr>\n  </thead>\n  <tbody>\n    <tr>\n      <th>3</th>\n      <td>1711</td>\n      <td>https://www.bilibili.com/video/BV1r34y15713</td>\n      <td>https://www.bilibili.com/video/BV1r34y15713</td>\n      <td>0</td>\n      <td>2022-06-19 17:42:32.0</td>\n      <td>【新东方直播】董宇辉讲自己的初恋，讲出来了大部分人的心声</td>\n      <td>弑人考察</td>\n      <td>总播放数12646</td>\n      <td>历史累计弹幕数15</td>\n      <td>2022-06-18 17:55:57</td>\n      <td>一直想说一句，董老师太谦虚的，长的很有男人味啊，腹有诗书气自华，他从内而外散发出一种儒雅随和...</td>\n      <td>我很少玩手机</td>\n      <td>2022-06-19 17:36:32</td>\n      <td>NaN</td>\n      <td>NaN</td>\n    </tr>\n    <tr>\n      <th>11</th>\n      <td>1719</td>\n      <td>https://www.bilibili.com/video/BV1r34y15713</td>\n      <td>https://www.bilibili.com/video/BV1r34y15713</td>\n      <td>0</td>\n      <td>2022-06-19 17:42:32.0</td>\n      <td>【新东方直播】董宇辉讲自己的初恋，讲出来了大部分人的心声</td>\n      <td>弑人考察</td>\n      <td>总播放数12646</td>\n      <td>历史累计弹幕数15</td>\n      <td>2022-06-18 17:55:57</td>\n      <td>羡慕那些人</td>\n      <td>薄荷盛开的夏天</td>\n      <td>2022-06-19 16:56:32</td>\n      <td>NaN</td>\n      <td>NaN</td>\n    </tr>\n    <tr>\n      <th>300</th>\n      <td>2008</td>\n      <td>https://www.bilibili.com/video/BV1iZ4y1v7w9</td>\n      <td>https://www.bilibili.com/video/BV1iZ4y1v7w9</td>\n      <td>0</td>\n      <td>2022-06-19 19:20:01.0</td>\n      <td>直播间粉丝突破1000万，新东方在线股价再涨一倍</td>\n      <td>闰土爱扎猹</td>\n      <td>总播放数163025</td>\n      <td>历史累计弹幕数6</td>\n      <td>2022-06-16 16:10:49</td>\n      <td>说明，多读书，读好书真的有用</td>\n      <td>王小波556</td>\n      <td>2022-06-19 18:56:01</td>\n      <td>NaN</td>\n      <td>NaN</td>\n    </tr>\n  </tbody>\n</table>\n</div>"
     },
     "execution_count": 15,
     "metadata": {},
     "output_type": "execute_result"
    }
   ],
   "source": [
    "bilibili_minute['评论时间'] = bilibili_minute['评论时间'].str.extract(r'(\\d+)')\n",
    "bilibili_minute['评论时间'] = bilibili_minute['<createdate>'].apply(pd.Timestamp) - bilibili_minute['评论时间'].apply(\n",
    "    lambda x: pd.Timedelta(int(x), unit='minute'))\n",
    "bilibili_minute"
   ],
   "metadata": {
    "collapsed": false,
    "pycharm": {
     "name": "#%%\n"
    }
   }
  },
  {
   "cell_type": "code",
   "execution_count": 16,
   "outputs": [],
   "source": [
    "bilibili = pd.concat([bilibili_hour, bilibili_minute, bilibili_time])\n",
    "data_bilibili = pd.DataFrame()\n",
    "data_bilibili[['time', 'comment']] = bilibili[['评论时间', '评论内容']]\n",
    "bilibili.to_excel('data/bilibili_comment.xlsx')\n",
    "data_bilibili.to_excel('data/data_bilibili.xlsx')"
   ],
   "metadata": {
    "collapsed": false,
    "pycharm": {
     "name": "#%%\n"
    }
   }
  },
  {
   "cell_type": "code",
   "execution_count": 16,
   "outputs": [],
   "source": [],
   "metadata": {
    "collapsed": false,
    "pycharm": {
     "name": "#%%\n"
    }
   }
  }
 ],
 "metadata": {
  "kernelspec": {
   "display_name": "Python 3",
   "language": "python",
   "name": "python3"
  },
  "language_info": {
   "codemirror_mode": {
    "name": "ipython",
    "version": 2
   },
   "file_extension": ".py",
   "mimetype": "text/x-python",
   "name": "python",
   "nbconvert_exporter": "python",
   "pygments_lexer": "ipython2",
   "version": "2.7.6"
  }
 },
 "nbformat": 4,
 "nbformat_minor": 0
}