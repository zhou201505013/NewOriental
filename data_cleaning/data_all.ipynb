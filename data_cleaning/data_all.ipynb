{
 "cells": [
  {
   "cell_type": "code",
   "execution_count": 3,
   "outputs": [],
   "source": [
    "# 合并数据\n",
    "import pandas as pd"
   ],
   "metadata": {
    "collapsed": false,
    "pycharm": {
     "name": "#%%\n"
    }
   }
  },
  {
   "cell_type": "code",
   "execution_count": 4,
   "outputs": [],
   "source": [
    "bilibili = pd.read_excel('data/data_bilibili.xlsx')\n",
    "toutiao = pd.read_excel('data/data_toutiao.xlsx')\n",
    "weibo = pd.read_excel('data/data_weibo.xlsx')\n",
    "douyin = pd.read_excel('data/data_douyin.xlsx')"
   ],
   "metadata": {
    "collapsed": false,
    "pycharm": {
     "name": "#%%\n"
    }
   }
  },
  {
   "cell_type": "code",
   "execution_count": 5,
   "outputs": [
    {
     "data": {
      "text/plain": "((276, 5), (1257, 3), (10502, 3), (79097, 3))"
     },
     "execution_count": 5,
     "metadata": {},
     "output_type": "execute_result"
    }
   ],
   "source": [
    "bilibili.shape, toutiao.shape, weibo.shape, douyin.shape"
   ],
   "metadata": {
    "collapsed": false,
    "pycharm": {
     "name": "#%%\n"
    }
   }
  },
  {
   "cell_type": "code",
   "execution_count": 6,
   "outputs": [
    {
     "data": {
      "text/plain": "     Unnamed: 0  Unnamed: 0.1                time  \\\n0             0             0 2022-06-19 15:42:32   \n1             1             1 2022-06-19 15:42:32   \n2             2             2 2022-06-19 15:42:32   \n3             3             5 2022-06-19 16:42:32   \n4             4             6 2022-06-19 16:42:32   \n..          ...           ...                 ...   \n271         309           430 2022-06-18 23:30:00   \n272         310           440 2022-06-17 21:11:00   \n273         311           442 2022-06-18 22:50:00   \n274         312           450 2022-06-16 02:01:00   \n275         313           451 2022-06-15 20:17:00   \n\n                                               comment    source  \n0                            董宇辉：小时候不懂得朱自清的《背影》，长大后才懂得  bilibili  \n1                                 活了18年了，别说初恋，我连男朋友都没有  bilibili  \n2    我的初恋就是我老公，谈了13年，结婚6个月，身边的人都觉得很不可思议，我们俩反而觉得挺正常的...  bilibili  \n3              她现在看到你如此成熟稳重有立场，她一定很高兴曾经成为你的女朋友，你是她的骄傲。  bilibili  \n4                                                   成长  bilibili  \n..                                                 ...       ...  \n271                                         你他娘的还真是个天才  bilibili  \n272                                            土过但是没丑过  bilibili  \n273                                               确实确实  bilibili  \n274                                               不看好…  bilibili  \n275                                             估计长久不了  bilibili  \n\n[276 rows x 5 columns]",
      "text/html": "<div>\n<style scoped>\n    .dataframe tbody tr th:only-of-type {\n        vertical-align: middle;\n    }\n\n    .dataframe tbody tr th {\n        vertical-align: top;\n    }\n\n    .dataframe thead th {\n        text-align: right;\n    }\n</style>\n<table border=\"1\" class=\"dataframe\">\n  <thead>\n    <tr style=\"text-align: right;\">\n      <th></th>\n      <th>Unnamed: 0</th>\n      <th>Unnamed: 0.1</th>\n      <th>time</th>\n      <th>comment</th>\n      <th>source</th>\n    </tr>\n  </thead>\n  <tbody>\n    <tr>\n      <th>0</th>\n      <td>0</td>\n      <td>0</td>\n      <td>2022-06-19 15:42:32</td>\n      <td>董宇辉：小时候不懂得朱自清的《背影》，长大后才懂得</td>\n      <td>bilibili</td>\n    </tr>\n    <tr>\n      <th>1</th>\n      <td>1</td>\n      <td>1</td>\n      <td>2022-06-19 15:42:32</td>\n      <td>活了18年了，别说初恋，我连男朋友都没有</td>\n      <td>bilibili</td>\n    </tr>\n    <tr>\n      <th>2</th>\n      <td>2</td>\n      <td>2</td>\n      <td>2022-06-19 15:42:32</td>\n      <td>我的初恋就是我老公，谈了13年，结婚6个月，身边的人都觉得很不可思议，我们俩反而觉得挺正常的...</td>\n      <td>bilibili</td>\n    </tr>\n    <tr>\n      <th>3</th>\n      <td>3</td>\n      <td>5</td>\n      <td>2022-06-19 16:42:32</td>\n      <td>她现在看到你如此成熟稳重有立场，她一定很高兴曾经成为你的女朋友，你是她的骄傲。</td>\n      <td>bilibili</td>\n    </tr>\n    <tr>\n      <th>4</th>\n      <td>4</td>\n      <td>6</td>\n      <td>2022-06-19 16:42:32</td>\n      <td>成长</td>\n      <td>bilibili</td>\n    </tr>\n    <tr>\n      <th>...</th>\n      <td>...</td>\n      <td>...</td>\n      <td>...</td>\n      <td>...</td>\n      <td>...</td>\n    </tr>\n    <tr>\n      <th>271</th>\n      <td>309</td>\n      <td>430</td>\n      <td>2022-06-18 23:30:00</td>\n      <td>你他娘的还真是个天才</td>\n      <td>bilibili</td>\n    </tr>\n    <tr>\n      <th>272</th>\n      <td>310</td>\n      <td>440</td>\n      <td>2022-06-17 21:11:00</td>\n      <td>土过但是没丑过</td>\n      <td>bilibili</td>\n    </tr>\n    <tr>\n      <th>273</th>\n      <td>311</td>\n      <td>442</td>\n      <td>2022-06-18 22:50:00</td>\n      <td>确实确实</td>\n      <td>bilibili</td>\n    </tr>\n    <tr>\n      <th>274</th>\n      <td>312</td>\n      <td>450</td>\n      <td>2022-06-16 02:01:00</td>\n      <td>不看好…</td>\n      <td>bilibili</td>\n    </tr>\n    <tr>\n      <th>275</th>\n      <td>313</td>\n      <td>451</td>\n      <td>2022-06-15 20:17:00</td>\n      <td>估计长久不了</td>\n      <td>bilibili</td>\n    </tr>\n  </tbody>\n</table>\n<p>276 rows × 5 columns</p>\n</div>"
     },
     "execution_count": 6,
     "metadata": {},
     "output_type": "execute_result"
    }
   ],
   "source": [
    "bilibili['source'] = 'bilibili'\n",
    "bilibili"
   ],
   "metadata": {
    "collapsed": false,
    "pycharm": {
     "name": "#%%\n"
    }
   }
  },
  {
   "cell_type": "code",
   "execution_count": 7,
   "outputs": [],
   "source": [
    "toutiao['source'] = 'toutiao'\n",
    "weibo['source'] = 'weibo'\n",
    "douyin['source'] = 'douyin'"
   ],
   "metadata": {
    "collapsed": false,
    "pycharm": {
     "name": "#%%\n"
    }
   }
  },
  {
   "cell_type": "code",
   "execution_count": 8,
   "outputs": [
    {
     "data": {
      "text/plain": "(91132, 5)"
     },
     "execution_count": 8,
     "metadata": {},
     "output_type": "execute_result"
    }
   ],
   "source": [
    "data_all = pd.concat([bilibili, toutiao, weibo, douyin])\n",
    "data_all.shape"
   ],
   "metadata": {
    "collapsed": false,
    "pycharm": {
     "name": "#%%\n"
    }
   }
  },
  {
   "cell_type": "code",
   "execution_count": 9,
   "outputs": [],
   "source": [
    "data_all.to_excel('data/data_all.xlsx')"
   ],
   "metadata": {
    "collapsed": false,
    "pycharm": {
     "name": "#%%\n"
    }
   }
  },
  {
   "cell_type": "code",
   "execution_count": 10,
   "outputs": [
    {
     "data": {
      "text/plain": "(276, 5)"
     },
     "execution_count": 10,
     "metadata": {},
     "output_type": "execute_result"
    }
   ],
   "source": [
    "bilibili = bilibili[bilibili['time'] > pd.Timestamp('2021-12-28')]\n",
    "bilibili.shape"
   ],
   "metadata": {
    "collapsed": false,
    "pycharm": {
     "name": "#%%\n"
    }
   }
  },
  {
   "cell_type": "code",
   "execution_count": 11,
   "outputs": [],
   "source": [
    "bilibili.to_excel('data/data_bilibili.xlsx')"
   ],
   "metadata": {
    "collapsed": false,
    "pycharm": {
     "name": "#%%\n"
    }
   }
  },
  {
   "cell_type": "code",
   "execution_count": 12,
   "outputs": [
    {
     "data": {
      "text/plain": "     Unnamed: 0  Unnamed: 0.1                time  \\\n0             0             0 2022-06-19 15:42:32   \n1             1             1 2022-06-19 15:42:32   \n2             2             2 2022-06-19 15:42:32   \n3             3             5 2022-06-19 16:42:32   \n4             4             6 2022-06-19 16:42:32   \n..          ...           ...                 ...   \n271         309           430 2022-06-18 23:30:00   \n272         310           440 2022-06-17 21:11:00   \n273         311           442 2022-06-18 22:50:00   \n274         312           450 2022-06-16 02:01:00   \n275         313           451 2022-06-15 20:17:00   \n\n                                               comment    source  \n0                            董宇辉：小时候不懂得朱自清的《背影》，长大后才懂得  bilibili  \n1                                 活了18年了，别说初恋，我连男朋友都没有  bilibili  \n2    我的初恋就是我老公，谈了13年，结婚6个月，身边的人都觉得很不可思议，我们俩反而觉得挺正常的...  bilibili  \n3              她现在看到你如此成熟稳重有立场，她一定很高兴曾经成为你的女朋友，你是她的骄傲。  bilibili  \n4                                                   成长  bilibili  \n..                                                 ...       ...  \n271                                         你他娘的还真是个天才  bilibili  \n272                                            土过但是没丑过  bilibili  \n273                                               确实确实  bilibili  \n274                                               不看好…  bilibili  \n275                                             估计长久不了  bilibili  \n\n[276 rows x 5 columns]",
      "text/html": "<div>\n<style scoped>\n    .dataframe tbody tr th:only-of-type {\n        vertical-align: middle;\n    }\n\n    .dataframe tbody tr th {\n        vertical-align: top;\n    }\n\n    .dataframe thead th {\n        text-align: right;\n    }\n</style>\n<table border=\"1\" class=\"dataframe\">\n  <thead>\n    <tr style=\"text-align: right;\">\n      <th></th>\n      <th>Unnamed: 0</th>\n      <th>Unnamed: 0.1</th>\n      <th>time</th>\n      <th>comment</th>\n      <th>source</th>\n    </tr>\n  </thead>\n  <tbody>\n    <tr>\n      <th>0</th>\n      <td>0</td>\n      <td>0</td>\n      <td>2022-06-19 15:42:32</td>\n      <td>董宇辉：小时候不懂得朱自清的《背影》，长大后才懂得</td>\n      <td>bilibili</td>\n    </tr>\n    <tr>\n      <th>1</th>\n      <td>1</td>\n      <td>1</td>\n      <td>2022-06-19 15:42:32</td>\n      <td>活了18年了，别说初恋，我连男朋友都没有</td>\n      <td>bilibili</td>\n    </tr>\n    <tr>\n      <th>2</th>\n      <td>2</td>\n      <td>2</td>\n      <td>2022-06-19 15:42:32</td>\n      <td>我的初恋就是我老公，谈了13年，结婚6个月，身边的人都觉得很不可思议，我们俩反而觉得挺正常的...</td>\n      <td>bilibili</td>\n    </tr>\n    <tr>\n      <th>3</th>\n      <td>3</td>\n      <td>5</td>\n      <td>2022-06-19 16:42:32</td>\n      <td>她现在看到你如此成熟稳重有立场，她一定很高兴曾经成为你的女朋友，你是她的骄傲。</td>\n      <td>bilibili</td>\n    </tr>\n    <tr>\n      <th>4</th>\n      <td>4</td>\n      <td>6</td>\n      <td>2022-06-19 16:42:32</td>\n      <td>成长</td>\n      <td>bilibili</td>\n    </tr>\n    <tr>\n      <th>...</th>\n      <td>...</td>\n      <td>...</td>\n      <td>...</td>\n      <td>...</td>\n      <td>...</td>\n    </tr>\n    <tr>\n      <th>271</th>\n      <td>309</td>\n      <td>430</td>\n      <td>2022-06-18 23:30:00</td>\n      <td>你他娘的还真是个天才</td>\n      <td>bilibili</td>\n    </tr>\n    <tr>\n      <th>272</th>\n      <td>310</td>\n      <td>440</td>\n      <td>2022-06-17 21:11:00</td>\n      <td>土过但是没丑过</td>\n      <td>bilibili</td>\n    </tr>\n    <tr>\n      <th>273</th>\n      <td>311</td>\n      <td>442</td>\n      <td>2022-06-18 22:50:00</td>\n      <td>确实确实</td>\n      <td>bilibili</td>\n    </tr>\n    <tr>\n      <th>274</th>\n      <td>312</td>\n      <td>450</td>\n      <td>2022-06-16 02:01:00</td>\n      <td>不看好…</td>\n      <td>bilibili</td>\n    </tr>\n    <tr>\n      <th>275</th>\n      <td>313</td>\n      <td>451</td>\n      <td>2022-06-15 20:17:00</td>\n      <td>估计长久不了</td>\n      <td>bilibili</td>\n    </tr>\n  </tbody>\n</table>\n<p>276 rows × 5 columns</p>\n</div>"
     },
     "execution_count": 12,
     "metadata": {},
     "output_type": "execute_result"
    }
   ],
   "source": [
    "bilibili"
   ],
   "metadata": {
    "collapsed": false,
    "pycharm": {
     "name": "#%%\n"
    }
   }
  },
  {
   "cell_type": "code",
   "execution_count": 13,
   "outputs": [],
   "source": [
    "data_all = pd.concat([bilibili, toutiao, weibo, douyin])\n",
    "data_all.to_excel('data/data_all.xlsx')"
   ],
   "metadata": {
    "collapsed": false,
    "pycharm": {
     "name": "#%%\n"
    }
   }
  }
 ],
 "metadata": {
  "kernelspec": {
   "display_name": "Python 3",
   "language": "python",
   "name": "python3"
  },
  "language_info": {
   "codemirror_mode": {
    "name": "ipython",
    "version": 2
   },
   "file_extension": ".py",
   "mimetype": "text/x-python",
   "name": "python",
   "nbconvert_exporter": "python",
   "pygments_lexer": "ipython2",
   "version": "2.7.6"
  }
 },
 "nbformat": 4,
 "nbformat_minor": 0
}