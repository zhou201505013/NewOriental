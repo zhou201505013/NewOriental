{
 "cells": [
  {
   "cell_type": "code",
   "execution_count": 31,
   "outputs": [
    {
     "data": {
      "text/plain": "       Unnamed: 0  Unnamed: 0.1  Unnamed: 0.1.1                 time  \\\n0               0             0             0.0  2022-06-19 15:42:32   \n1               1             1             1.0  2022-06-19 15:42:32   \n2               2             2             2.0  2022-06-19 15:42:32   \n3               3             3             5.0  2022-06-19 16:42:32   \n4               4             4             6.0  2022-06-19 16:42:32   \n...           ...           ...             ...                  ...   \n91127       79092        220735             NaN  2022-06-11 00:00:00   \n91128       79093        220737             NaN  2022-06-11 00:00:00   \n91129       79094        220738             NaN  2022-06-11 00:00:00   \n91130       79095        220739             NaN  2022-06-11 00:00:00   \n91131       79096        220740             NaN  2022-06-11 00:00:00   \n\n                                                 comment    source  \n0                              董宇辉：小时候不懂得朱自清的《背影》，长大后才懂得  bilibili  \n1                                   活了18年了，别说初恋，我连男朋友都没有  bilibili  \n2      我的初恋就是我老公，谈了13年，结婚6个月，身边的人都觉得很不可思议，我们俩反而觉得挺正常的...  bilibili  \n3                她现在看到你如此成熟稳重有立场，她一定很高兴曾经成为你的女朋友，你是她的骄傲。  bilibili  \n4                                                     成长  bilibili  \n...                                                  ...       ...  \n91127                               这行业壁垒有点高啊，运营真的是越来越难了    douyin  \n91128                                                 反杀    douyin  \n91129                           我觉得 就算老俞去讨饭 也能比别人讨到更多的钱了    douyin  \n91130                                  学学中文吧，不要以学英文为傲！！！    douyin  \n91131                                               降为打击    douyin  \n\n[91132 rows x 6 columns]",
      "text/html": "<div>\n<style scoped>\n    .dataframe tbody tr th:only-of-type {\n        vertical-align: middle;\n    }\n\n    .dataframe tbody tr th {\n        vertical-align: top;\n    }\n\n    .dataframe thead th {\n        text-align: right;\n    }\n</style>\n<table border=\"1\" class=\"dataframe\">\n  <thead>\n    <tr style=\"text-align: right;\">\n      <th></th>\n      <th>Unnamed: 0</th>\n      <th>Unnamed: 0.1</th>\n      <th>Unnamed: 0.1.1</th>\n      <th>time</th>\n      <th>comment</th>\n      <th>source</th>\n    </tr>\n  </thead>\n  <tbody>\n    <tr>\n      <th>0</th>\n      <td>0</td>\n      <td>0</td>\n      <td>0.0</td>\n      <td>2022-06-19 15:42:32</td>\n      <td>董宇辉：小时候不懂得朱自清的《背影》，长大后才懂得</td>\n      <td>bilibili</td>\n    </tr>\n    <tr>\n      <th>1</th>\n      <td>1</td>\n      <td>1</td>\n      <td>1.0</td>\n      <td>2022-06-19 15:42:32</td>\n      <td>活了18年了，别说初恋，我连男朋友都没有</td>\n      <td>bilibili</td>\n    </tr>\n    <tr>\n      <th>2</th>\n      <td>2</td>\n      <td>2</td>\n      <td>2.0</td>\n      <td>2022-06-19 15:42:32</td>\n      <td>我的初恋就是我老公，谈了13年，结婚6个月，身边的人都觉得很不可思议，我们俩反而觉得挺正常的...</td>\n      <td>bilibili</td>\n    </tr>\n    <tr>\n      <th>3</th>\n      <td>3</td>\n      <td>3</td>\n      <td>5.0</td>\n      <td>2022-06-19 16:42:32</td>\n      <td>她现在看到你如此成熟稳重有立场，她一定很高兴曾经成为你的女朋友，你是她的骄傲。</td>\n      <td>bilibili</td>\n    </tr>\n    <tr>\n      <th>4</th>\n      <td>4</td>\n      <td>4</td>\n      <td>6.0</td>\n      <td>2022-06-19 16:42:32</td>\n      <td>成长</td>\n      <td>bilibili</td>\n    </tr>\n    <tr>\n      <th>...</th>\n      <td>...</td>\n      <td>...</td>\n      <td>...</td>\n      <td>...</td>\n      <td>...</td>\n      <td>...</td>\n    </tr>\n    <tr>\n      <th>91127</th>\n      <td>79092</td>\n      <td>220735</td>\n      <td>NaN</td>\n      <td>2022-06-11 00:00:00</td>\n      <td>这行业壁垒有点高啊，运营真的是越来越难了</td>\n      <td>douyin</td>\n    </tr>\n    <tr>\n      <th>91128</th>\n      <td>79093</td>\n      <td>220737</td>\n      <td>NaN</td>\n      <td>2022-06-11 00:00:00</td>\n      <td>反杀</td>\n      <td>douyin</td>\n    </tr>\n    <tr>\n      <th>91129</th>\n      <td>79094</td>\n      <td>220738</td>\n      <td>NaN</td>\n      <td>2022-06-11 00:00:00</td>\n      <td>我觉得 就算老俞去讨饭 也能比别人讨到更多的钱了</td>\n      <td>douyin</td>\n    </tr>\n    <tr>\n      <th>91130</th>\n      <td>79095</td>\n      <td>220739</td>\n      <td>NaN</td>\n      <td>2022-06-11 00:00:00</td>\n      <td>学学中文吧，不要以学英文为傲！！！</td>\n      <td>douyin</td>\n    </tr>\n    <tr>\n      <th>91131</th>\n      <td>79096</td>\n      <td>220740</td>\n      <td>NaN</td>\n      <td>2022-06-11 00:00:00</td>\n      <td>降为打击</td>\n      <td>douyin</td>\n    </tr>\n  </tbody>\n</table>\n<p>91132 rows × 6 columns</p>\n</div>"
     },
     "execution_count": 31,
     "metadata": {},
     "output_type": "execute_result"
    }
   ],
   "source": [
    "# 处理时间格式\n",
    "import pandas as pd\n",
    "\n",
    "data = pd.read_excel('data/data_all.xlsx')\n",
    "data"
   ],
   "metadata": {
    "collapsed": false,
    "pycharm": {
     "name": "#%%\n"
    }
   }
  },
  {
   "cell_type": "code",
   "execution_count": 32,
   "outputs": [
    {
     "data": {
      "text/plain": "                      time                                            comment  \\\n0      2022-06-19 15:42:32                          董宇辉：小时候不懂得朱自清的《背影》，长大后才懂得   \n1      2022-06-19 15:42:32                               活了18年了，别说初恋，我连男朋友都没有   \n2      2022-06-19 15:42:32  我的初恋就是我老公，谈了13年，结婚6个月，身边的人都觉得很不可思议，我们俩反而觉得挺正常的...   \n3      2022-06-19 16:42:32            她现在看到你如此成熟稳重有立场，她一定很高兴曾经成为你的女朋友，你是她的骄傲。   \n4      2022-06-19 16:42:32                                                 成长   \n...                    ...                                                ...   \n91127  2022-06-11 00:00:00                               这行业壁垒有点高啊，运营真的是越来越难了   \n91128  2022-06-11 00:00:00                                                 反杀   \n91129  2022-06-11 00:00:00                           我觉得 就算老俞去讨饭 也能比别人讨到更多的钱了   \n91130  2022-06-11 00:00:00                                  学学中文吧，不要以学英文为傲！！！   \n91131  2022-06-11 00:00:00                                               降为打击   \n\n         source  \n0      bilibili  \n1      bilibili  \n2      bilibili  \n3      bilibili  \n4      bilibili  \n...         ...  \n91127    douyin  \n91128    douyin  \n91129    douyin  \n91130    douyin  \n91131    douyin  \n\n[91132 rows x 3 columns]",
      "text/html": "<div>\n<style scoped>\n    .dataframe tbody tr th:only-of-type {\n        vertical-align: middle;\n    }\n\n    .dataframe tbody tr th {\n        vertical-align: top;\n    }\n\n    .dataframe thead th {\n        text-align: right;\n    }\n</style>\n<table border=\"1\" class=\"dataframe\">\n  <thead>\n    <tr style=\"text-align: right;\">\n      <th></th>\n      <th>time</th>\n      <th>comment</th>\n      <th>source</th>\n    </tr>\n  </thead>\n  <tbody>\n    <tr>\n      <th>0</th>\n      <td>2022-06-19 15:42:32</td>\n      <td>董宇辉：小时候不懂得朱自清的《背影》，长大后才懂得</td>\n      <td>bilibili</td>\n    </tr>\n    <tr>\n      <th>1</th>\n      <td>2022-06-19 15:42:32</td>\n      <td>活了18年了，别说初恋，我连男朋友都没有</td>\n      <td>bilibili</td>\n    </tr>\n    <tr>\n      <th>2</th>\n      <td>2022-06-19 15:42:32</td>\n      <td>我的初恋就是我老公，谈了13年，结婚6个月，身边的人都觉得很不可思议，我们俩反而觉得挺正常的...</td>\n      <td>bilibili</td>\n    </tr>\n    <tr>\n      <th>3</th>\n      <td>2022-06-19 16:42:32</td>\n      <td>她现在看到你如此成熟稳重有立场，她一定很高兴曾经成为你的女朋友，你是她的骄傲。</td>\n      <td>bilibili</td>\n    </tr>\n    <tr>\n      <th>4</th>\n      <td>2022-06-19 16:42:32</td>\n      <td>成长</td>\n      <td>bilibili</td>\n    </tr>\n    <tr>\n      <th>...</th>\n      <td>...</td>\n      <td>...</td>\n      <td>...</td>\n    </tr>\n    <tr>\n      <th>91127</th>\n      <td>2022-06-11 00:00:00</td>\n      <td>这行业壁垒有点高啊，运营真的是越来越难了</td>\n      <td>douyin</td>\n    </tr>\n    <tr>\n      <th>91128</th>\n      <td>2022-06-11 00:00:00</td>\n      <td>反杀</td>\n      <td>douyin</td>\n    </tr>\n    <tr>\n      <th>91129</th>\n      <td>2022-06-11 00:00:00</td>\n      <td>我觉得 就算老俞去讨饭 也能比别人讨到更多的钱了</td>\n      <td>douyin</td>\n    </tr>\n    <tr>\n      <th>91130</th>\n      <td>2022-06-11 00:00:00</td>\n      <td>学学中文吧，不要以学英文为傲！！！</td>\n      <td>douyin</td>\n    </tr>\n    <tr>\n      <th>91131</th>\n      <td>2022-06-11 00:00:00</td>\n      <td>降为打击</td>\n      <td>douyin</td>\n    </tr>\n  </tbody>\n</table>\n<p>91132 rows × 3 columns</p>\n</div>"
     },
     "execution_count": 32,
     "metadata": {},
     "output_type": "execute_result"
    }
   ],
   "source": [
    "data = data.drop(data.columns[[0, 1, 2]], axis=1)\n",
    "data"
   ],
   "metadata": {
    "collapsed": false,
    "pycharm": {
     "name": "#%%\n"
    }
   }
  },
  {
   "cell_type": "code",
   "execution_count": 33,
   "outputs": [
    {
     "data": {
      "text/plain": "                      time                                            comment  \\\n0      2022-06-19 15:42:32                          董宇辉：小时候不懂得朱自清的《背影》，长大后才懂得   \n1      2022-06-19 15:42:32                               活了18年了，别说初恋，我连男朋友都没有   \n2      2022-06-19 15:42:32  我的初恋就是我老公，谈了13年，结婚6个月，身边的人都觉得很不可思议，我们俩反而觉得挺正常的...   \n3      2022-06-19 16:42:32            她现在看到你如此成熟稳重有立场，她一定很高兴曾经成为你的女朋友，你是她的骄傲。   \n4      2022-06-19 16:42:32                                                 成长   \n...                    ...                                                ...   \n91127  2022-06-11 00:00:00                               这行业壁垒有点高啊，运营真的是越来越难了   \n91128  2022-06-11 00:00:00                                                 反杀   \n91129  2022-06-11 00:00:00                           我觉得 就算老俞去讨饭 也能比别人讨到更多的钱了   \n91130  2022-06-11 00:00:00                                  学学中文吧，不要以学英文为傲！！！   \n91131  2022-06-11 00:00:00                                               降为打击   \n\n         source       date  \n0      bilibili 2022-06-19  \n1      bilibili 2022-06-19  \n2      bilibili 2022-06-19  \n3      bilibili 2022-06-19  \n4      bilibili 2022-06-19  \n...         ...        ...  \n91127    douyin 2022-06-11  \n91128    douyin 2022-06-11  \n91129    douyin 2022-06-11  \n91130    douyin 2022-06-11  \n91131    douyin 2022-06-11  \n\n[91132 rows x 4 columns]",
      "text/html": "<div>\n<style scoped>\n    .dataframe tbody tr th:only-of-type {\n        vertical-align: middle;\n    }\n\n    .dataframe tbody tr th {\n        vertical-align: top;\n    }\n\n    .dataframe thead th {\n        text-align: right;\n    }\n</style>\n<table border=\"1\" class=\"dataframe\">\n  <thead>\n    <tr style=\"text-align: right;\">\n      <th></th>\n      <th>time</th>\n      <th>comment</th>\n      <th>source</th>\n      <th>date</th>\n    </tr>\n  </thead>\n  <tbody>\n    <tr>\n      <th>0</th>\n      <td>2022-06-19 15:42:32</td>\n      <td>董宇辉：小时候不懂得朱自清的《背影》，长大后才懂得</td>\n      <td>bilibili</td>\n      <td>2022-06-19</td>\n    </tr>\n    <tr>\n      <th>1</th>\n      <td>2022-06-19 15:42:32</td>\n      <td>活了18年了，别说初恋，我连男朋友都没有</td>\n      <td>bilibili</td>\n      <td>2022-06-19</td>\n    </tr>\n    <tr>\n      <th>2</th>\n      <td>2022-06-19 15:42:32</td>\n      <td>我的初恋就是我老公，谈了13年，结婚6个月，身边的人都觉得很不可思议，我们俩反而觉得挺正常的...</td>\n      <td>bilibili</td>\n      <td>2022-06-19</td>\n    </tr>\n    <tr>\n      <th>3</th>\n      <td>2022-06-19 16:42:32</td>\n      <td>她现在看到你如此成熟稳重有立场，她一定很高兴曾经成为你的女朋友，你是她的骄傲。</td>\n      <td>bilibili</td>\n      <td>2022-06-19</td>\n    </tr>\n    <tr>\n      <th>4</th>\n      <td>2022-06-19 16:42:32</td>\n      <td>成长</td>\n      <td>bilibili</td>\n      <td>2022-06-19</td>\n    </tr>\n    <tr>\n      <th>...</th>\n      <td>...</td>\n      <td>...</td>\n      <td>...</td>\n      <td>...</td>\n    </tr>\n    <tr>\n      <th>91127</th>\n      <td>2022-06-11 00:00:00</td>\n      <td>这行业壁垒有点高啊，运营真的是越来越难了</td>\n      <td>douyin</td>\n      <td>2022-06-11</td>\n    </tr>\n    <tr>\n      <th>91128</th>\n      <td>2022-06-11 00:00:00</td>\n      <td>反杀</td>\n      <td>douyin</td>\n      <td>2022-06-11</td>\n    </tr>\n    <tr>\n      <th>91129</th>\n      <td>2022-06-11 00:00:00</td>\n      <td>我觉得 就算老俞去讨饭 也能比别人讨到更多的钱了</td>\n      <td>douyin</td>\n      <td>2022-06-11</td>\n    </tr>\n    <tr>\n      <th>91130</th>\n      <td>2022-06-11 00:00:00</td>\n      <td>学学中文吧，不要以学英文为傲！！！</td>\n      <td>douyin</td>\n      <td>2022-06-11</td>\n    </tr>\n    <tr>\n      <th>91131</th>\n      <td>2022-06-11 00:00:00</td>\n      <td>降为打击</td>\n      <td>douyin</td>\n      <td>2022-06-11</td>\n    </tr>\n  </tbody>\n</table>\n<p>91132 rows × 4 columns</p>\n</div>"
     },
     "execution_count": 33,
     "metadata": {},
     "output_type": "execute_result"
    }
   ],
   "source": [
    "import re\n",
    "\n",
    "# bilibili和抖音的时间是datetime.datetime类型，头条和微博的时间是str类型\n",
    "data['date'] = data['time'].apply(lambda x:\n",
    "                                  pd.Timestamp(\n",
    "                                      re.findall(r'\\d+-\\d+-\\d+', x)[0] if isinstance(x, str) else x.strftime('%F')))\n",
    "data"
   ],
   "metadata": {
    "collapsed": false,
    "pycharm": {
     "name": "#%%\n"
    }
   }
  },
  {
   "cell_type": "code",
   "execution_count": 34,
   "outputs": [],
   "source": [
    "data = data[data['date'] > pd.Timestamp('2022-06-01')]\n",
    "data.to_csv('data/data_all.csv', index=False)"
   ],
   "metadata": {
    "collapsed": false,
    "pycharm": {
     "name": "#%%\n"
    }
   }
  },
  {
   "cell_type": "code",
   "execution_count": 29,
   "outputs": [
    {
     "data": {
      "text/plain": "(87467, 4)"
     },
     "execution_count": 29,
     "metadata": {},
     "output_type": "execute_result"
    }
   ],
   "source": [
    "data"
   ],
   "metadata": {
    "collapsed": false,
    "pycharm": {
     "name": "#%%\n"
    }
   }
  },
  {
   "cell_type": "code",
   "execution_count": 35,
   "outputs": [
    {
     "data": {
      "text/plain": "                  time                                            comment  \\\n0  2022-06-19 15:42:32                          董宇辉：小时候不懂得朱自清的《背影》，长大后才懂得   \n1  2022-06-19 15:42:32                               活了18年了，别说初恋，我连男朋友都没有   \n2  2022-06-19 15:42:32  我的初恋就是我老公，谈了13年，结婚6个月，身边的人都觉得很不可思议，我们俩反而觉得挺正常的...   \n3  2022-06-19 16:42:32            她现在看到你如此成熟稳重有立场，她一定很高兴曾经成为你的女朋友，你是她的骄傲。   \n4  2022-06-19 16:42:32                                                 成长   \n\n     source        date  \n0  bilibili  2022-06-19  \n1  bilibili  2022-06-19  \n2  bilibili  2022-06-19  \n3  bilibili  2022-06-19  \n4  bilibili  2022-06-19  ",
      "text/html": "<div>\n<style scoped>\n    .dataframe tbody tr th:only-of-type {\n        vertical-align: middle;\n    }\n\n    .dataframe tbody tr th {\n        vertical-align: top;\n    }\n\n    .dataframe thead th {\n        text-align: right;\n    }\n</style>\n<table border=\"1\" class=\"dataframe\">\n  <thead>\n    <tr style=\"text-align: right;\">\n      <th></th>\n      <th>time</th>\n      <th>comment</th>\n      <th>source</th>\n      <th>date</th>\n    </tr>\n  </thead>\n  <tbody>\n    <tr>\n      <th>0</th>\n      <td>2022-06-19 15:42:32</td>\n      <td>董宇辉：小时候不懂得朱自清的《背影》，长大后才懂得</td>\n      <td>bilibili</td>\n      <td>2022-06-19</td>\n    </tr>\n    <tr>\n      <th>1</th>\n      <td>2022-06-19 15:42:32</td>\n      <td>活了18年了，别说初恋，我连男朋友都没有</td>\n      <td>bilibili</td>\n      <td>2022-06-19</td>\n    </tr>\n    <tr>\n      <th>2</th>\n      <td>2022-06-19 15:42:32</td>\n      <td>我的初恋就是我老公，谈了13年，结婚6个月，身边的人都觉得很不可思议，我们俩反而觉得挺正常的...</td>\n      <td>bilibili</td>\n      <td>2022-06-19</td>\n    </tr>\n    <tr>\n      <th>3</th>\n      <td>2022-06-19 16:42:32</td>\n      <td>她现在看到你如此成熟稳重有立场，她一定很高兴曾经成为你的女朋友，你是她的骄傲。</td>\n      <td>bilibili</td>\n      <td>2022-06-19</td>\n    </tr>\n    <tr>\n      <th>4</th>\n      <td>2022-06-19 16:42:32</td>\n      <td>成长</td>\n      <td>bilibili</td>\n      <td>2022-06-19</td>\n    </tr>\n  </tbody>\n</table>\n</div>"
     },
     "execution_count": 35,
     "metadata": {},
     "output_type": "execute_result"
    }
   ],
   "source": [
    "test = pd.read_csv('data/data_all.csv')\n",
    "test.head()"
   ],
   "metadata": {
    "collapsed": false,
    "pycharm": {
     "name": "#%%\n"
    }
   }
  },
  {
   "cell_type": "code",
   "execution_count": null,
   "outputs": [],
   "source": [],
   "metadata": {
    "collapsed": false,
    "pycharm": {
     "name": "#%%\n"
    }
   }
  }
 ],
 "metadata": {
  "kernelspec": {
   "display_name": "Python 3",
   "language": "python",
   "name": "python3"
  },
  "language_info": {
   "codemirror_mode": {
    "name": "ipython",
    "version": 2
   },
   "file_extension": ".py",
   "mimetype": "text/x-python",
   "name": "python",
   "nbconvert_exporter": "python",
   "pygments_lexer": "ipython2",
   "version": "2.7.6"
  }
 },
 "nbformat": 4,
 "nbformat_minor": 0
}