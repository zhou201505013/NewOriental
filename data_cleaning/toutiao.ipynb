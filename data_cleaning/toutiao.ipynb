{
 "cells": [
  {
   "cell_type": "code",
   "execution_count": 13,
   "outputs": [],
   "source": [
    "# 头条数据处理\n",
    "import pandas as pd"
   ],
   "metadata": {
    "collapsed": false,
    "pycharm": {
     "name": "#%%\n"
    }
   }
  },
  {
   "cell_type": "code",
   "execution_count": 14,
   "outputs": [
    {
     "name": "stderr",
     "output_type": "stream",
     "text": [
      "C:\\Users\\Zhouzw\\anaconda3\\envs\\d2l\\lib\\site-packages\\openpyxl\\styles\\stylesheet.py:226: UserWarning: Workbook contains no default style, apply openpyxl's default\n",
      "  warn(\"Workbook contains no default style, apply openpyxl's default\")\n"
     ]
    },
    {
     "data": {
      "text/plain": "      recordid                                         <fullpath>  \\\n0          864  https://www.toutiao.com/article/71100643765387...   \n1          865  https://www.toutiao.com/article/71100643765387...   \n2          866  https://www.toutiao.com/article/71101396905855...   \n3          867  https://www.toutiao.com/article/71101396905855...   \n4          868  https://www.toutiao.com/article/71101396905855...   \n...        ...                                                ...   \n1401      2434  https://www.toutiao.com/article/71096753218169...   \n1402      2435  https://www.toutiao.com/article/71096753218169...   \n1403      2436  https://www.toutiao.com/article/71096753218169...   \n1404      2437  https://www.toutiao.com/article/71096753218169...   \n1405      2438  https://www.toutiao.com/article/71096753218169...   \n\n                                             <realpath>  <pageno>  \\\n0     https://www.toutiao.com/article/71100643765387...         0   \n1     https://www.toutiao.com/article/71100643765387...         0   \n2     https://www.toutiao.com/article/71101396905855...         0   \n3     https://www.toutiao.com/article/71101396905855...         0   \n4     https://www.toutiao.com/article/71101396905855...         0   \n...                                                 ...       ...   \n1401  https://www.toutiao.com/article/71096753218169...         0   \n1402  https://www.toutiao.com/article/71096753218169...         0   \n1403  https://www.toutiao.com/article/71096753218169...         0   \n1404  https://www.toutiao.com/article/71096753218169...         0   \n1405  https://www.toutiao.com/article/71096753218169...         0   \n\n               <createdate>             评论用户  \\\n0     2022-06-19 16:54:49.0        我是张先生ANoL   \n1     2022-06-19 16:54:49.0        润物无声2020朱   \n2     2022-06-19 16:55:02.0           贤妈育儿分享   \n3     2022-06-19 16:55:02.0           高级菠萝It   \n4     2022-06-19 16:55:02.0           安逸海风FP   \n...                     ...              ...   \n1401  2022-06-19 17:25:44.0  用户3501303889683   \n1402  2022-06-19 17:25:44.0   用户508471906693   \n1403  2022-06-19 17:25:44.0  用户4154130528250   \n1404  2022-06-19 17:25:44.0              自已美   \n1405  2022-06-19 17:25:44.0         秋风瑟瑟0325   \n\n                                                   评论内容 点赞数     评论时间  \n0                                 新巴表示不服家人们，赶紧去东方直播间捣乱吧   2  昨天10:14  \n1     红不了一个月。实际上就是带货，因为有新东方教育的名头，所以他就加了一点啊教育的味道，没想到就...   赞  昨天10:15  \n2     牛了！那些其他平台买到坏的，也不见会有媒体专门报道，也不会有消费者找到记者报道、联系退款不就...  14  前天22:48  \n3     这个思路完全正确，即解决了就业问题，又能充分保证产品质量，打出东方甄选的品牌，这可是质量品牌...  28  前天19:11  \n4                                             哈哈哈，冷连不行啊   3  前天18:53  \n...                                                 ...  ..      ...  \n1401               讨厌买它，买它……那种和地摊一样的氛围！喜欢新东方那样的和谐自在的销售！   4      3天前  \n1402                                     希望把“直播带货”引入正轨！   赞      3天前  \n1403                                               税交了吗   赞  前天00:04  \n1404                        直播带货搞活了别人的地方经济，用直播带货的方式教学吗？   赞  前天01:50  \n1405                                     没有前途，热闹一个月就凉凉了   1      3天前  \n\n[1406 rows x 9 columns]",
      "text/html": "<div>\n<style scoped>\n    .dataframe tbody tr th:only-of-type {\n        vertical-align: middle;\n    }\n\n    .dataframe tbody tr th {\n        vertical-align: top;\n    }\n\n    .dataframe thead th {\n        text-align: right;\n    }\n</style>\n<table border=\"1\" class=\"dataframe\">\n  <thead>\n    <tr style=\"text-align: right;\">\n      <th></th>\n      <th>recordid</th>\n      <th>&lt;fullpath&gt;</th>\n      <th>&lt;realpath&gt;</th>\n      <th>&lt;pageno&gt;</th>\n      <th>&lt;createdate&gt;</th>\n      <th>评论用户</th>\n      <th>评论内容</th>\n      <th>点赞数</th>\n      <th>评论时间</th>\n    </tr>\n  </thead>\n  <tbody>\n    <tr>\n      <th>0</th>\n      <td>864</td>\n      <td>https://www.toutiao.com/article/71100643765387...</td>\n      <td>https://www.toutiao.com/article/71100643765387...</td>\n      <td>0</td>\n      <td>2022-06-19 16:54:49.0</td>\n      <td>我是张先生ANoL</td>\n      <td>新巴表示不服家人们，赶紧去东方直播间捣乱吧</td>\n      <td>2</td>\n      <td>昨天10:14</td>\n    </tr>\n    <tr>\n      <th>1</th>\n      <td>865</td>\n      <td>https://www.toutiao.com/article/71100643765387...</td>\n      <td>https://www.toutiao.com/article/71100643765387...</td>\n      <td>0</td>\n      <td>2022-06-19 16:54:49.0</td>\n      <td>润物无声2020朱</td>\n      <td>红不了一个月。实际上就是带货，因为有新东方教育的名头，所以他就加了一点啊教育的味道，没想到就...</td>\n      <td>赞</td>\n      <td>昨天10:15</td>\n    </tr>\n    <tr>\n      <th>2</th>\n      <td>866</td>\n      <td>https://www.toutiao.com/article/71101396905855...</td>\n      <td>https://www.toutiao.com/article/71101396905855...</td>\n      <td>0</td>\n      <td>2022-06-19 16:55:02.0</td>\n      <td>贤妈育儿分享</td>\n      <td>牛了！那些其他平台买到坏的，也不见会有媒体专门报道，也不会有消费者找到记者报道、联系退款不就...</td>\n      <td>14</td>\n      <td>前天22:48</td>\n    </tr>\n    <tr>\n      <th>3</th>\n      <td>867</td>\n      <td>https://www.toutiao.com/article/71101396905855...</td>\n      <td>https://www.toutiao.com/article/71101396905855...</td>\n      <td>0</td>\n      <td>2022-06-19 16:55:02.0</td>\n      <td>高级菠萝It</td>\n      <td>这个思路完全正确，即解决了就业问题，又能充分保证产品质量，打出东方甄选的品牌，这可是质量品牌...</td>\n      <td>28</td>\n      <td>前天19:11</td>\n    </tr>\n    <tr>\n      <th>4</th>\n      <td>868</td>\n      <td>https://www.toutiao.com/article/71101396905855...</td>\n      <td>https://www.toutiao.com/article/71101396905855...</td>\n      <td>0</td>\n      <td>2022-06-19 16:55:02.0</td>\n      <td>安逸海风FP</td>\n      <td>哈哈哈，冷连不行啊</td>\n      <td>3</td>\n      <td>前天18:53</td>\n    </tr>\n    <tr>\n      <th>...</th>\n      <td>...</td>\n      <td>...</td>\n      <td>...</td>\n      <td>...</td>\n      <td>...</td>\n      <td>...</td>\n      <td>...</td>\n      <td>...</td>\n      <td>...</td>\n    </tr>\n    <tr>\n      <th>1401</th>\n      <td>2434</td>\n      <td>https://www.toutiao.com/article/71096753218169...</td>\n      <td>https://www.toutiao.com/article/71096753218169...</td>\n      <td>0</td>\n      <td>2022-06-19 17:25:44.0</td>\n      <td>用户3501303889683</td>\n      <td>讨厌买它，买它……那种和地摊一样的氛围！喜欢新东方那样的和谐自在的销售！</td>\n      <td>4</td>\n      <td>3天前</td>\n    </tr>\n    <tr>\n      <th>1402</th>\n      <td>2435</td>\n      <td>https://www.toutiao.com/article/71096753218169...</td>\n      <td>https://www.toutiao.com/article/71096753218169...</td>\n      <td>0</td>\n      <td>2022-06-19 17:25:44.0</td>\n      <td>用户508471906693</td>\n      <td>希望把“直播带货”引入正轨！</td>\n      <td>赞</td>\n      <td>3天前</td>\n    </tr>\n    <tr>\n      <th>1403</th>\n      <td>2436</td>\n      <td>https://www.toutiao.com/article/71096753218169...</td>\n      <td>https://www.toutiao.com/article/71096753218169...</td>\n      <td>0</td>\n      <td>2022-06-19 17:25:44.0</td>\n      <td>用户4154130528250</td>\n      <td>税交了吗</td>\n      <td>赞</td>\n      <td>前天00:04</td>\n    </tr>\n    <tr>\n      <th>1404</th>\n      <td>2437</td>\n      <td>https://www.toutiao.com/article/71096753218169...</td>\n      <td>https://www.toutiao.com/article/71096753218169...</td>\n      <td>0</td>\n      <td>2022-06-19 17:25:44.0</td>\n      <td>自已美</td>\n      <td>直播带货搞活了别人的地方经济，用直播带货的方式教学吗？</td>\n      <td>赞</td>\n      <td>前天01:50</td>\n    </tr>\n    <tr>\n      <th>1405</th>\n      <td>2438</td>\n      <td>https://www.toutiao.com/article/71096753218169...</td>\n      <td>https://www.toutiao.com/article/71096753218169...</td>\n      <td>0</td>\n      <td>2022-06-19 17:25:44.0</td>\n      <td>秋风瑟瑟0325</td>\n      <td>没有前途，热闹一个月就凉凉了</td>\n      <td>1</td>\n      <td>3天前</td>\n    </tr>\n  </tbody>\n</table>\n<p>1406 rows × 9 columns</p>\n</div>"
     },
     "execution_count": 14,
     "metadata": {},
     "output_type": "execute_result"
    }
   ],
   "source": [
    "toutiao = pd.read_excel('data/今日头条评论.xlsx')\n",
    "toutiao"
   ],
   "metadata": {
    "collapsed": false,
    "pycharm": {
     "name": "#%%\n"
    }
   }
  },
  {
   "cell_type": "code",
   "execution_count": 15,
   "outputs": [
    {
     "data": {
      "text/plain": "      recordid                                         <fullpath>  \\\n0          864  https://www.toutiao.com/article/71100643765387...   \n1          865  https://www.toutiao.com/article/71100643765387...   \n2          866  https://www.toutiao.com/article/71101396905855...   \n3          867  https://www.toutiao.com/article/71101396905855...   \n4          868  https://www.toutiao.com/article/71101396905855...   \n...        ...                                                ...   \n1401      2434  https://www.toutiao.com/article/71096753218169...   \n1402      2435  https://www.toutiao.com/article/71096753218169...   \n1403      2436  https://www.toutiao.com/article/71096753218169...   \n1404      2437  https://www.toutiao.com/article/71096753218169...   \n1405      2438  https://www.toutiao.com/article/71096753218169...   \n\n                                             <realpath>  <pageno>  \\\n0     https://www.toutiao.com/article/71100643765387...         0   \n1     https://www.toutiao.com/article/71100643765387...         0   \n2     https://www.toutiao.com/article/71101396905855...         0   \n3     https://www.toutiao.com/article/71101396905855...         0   \n4     https://www.toutiao.com/article/71101396905855...         0   \n...                                                 ...       ...   \n1401  https://www.toutiao.com/article/71096753218169...         0   \n1402  https://www.toutiao.com/article/71096753218169...         0   \n1403  https://www.toutiao.com/article/71096753218169...         0   \n1404  https://www.toutiao.com/article/71096753218169...         0   \n1405  https://www.toutiao.com/article/71096753218169...         0   \n\n               <createdate>             评论用户  \\\n0     2022-06-19 16:54:49.0        我是张先生ANoL   \n1     2022-06-19 16:54:49.0        润物无声2020朱   \n2     2022-06-19 16:55:02.0           贤妈育儿分享   \n3     2022-06-19 16:55:02.0           高级菠萝It   \n4     2022-06-19 16:55:02.0           安逸海风FP   \n...                     ...              ...   \n1401  2022-06-19 17:25:44.0  用户3501303889683   \n1402  2022-06-19 17:25:44.0   用户508471906693   \n1403  2022-06-19 17:25:44.0  用户4154130528250   \n1404  2022-06-19 17:25:44.0              自已美   \n1405  2022-06-19 17:25:44.0         秋风瑟瑟0325   \n\n                                                   评论内容 点赞数     评论时间  \n0                                 新巴表示不服家人们，赶紧去东方直播间捣乱吧   2  昨天10:14  \n1     红不了一个月。实际上就是带货，因为有新东方教育的名头，所以他就加了一点啊教育的味道，没想到就...   赞  昨天10:15  \n2     牛了！那些其他平台买到坏的，也不见会有媒体专门报道，也不会有消费者找到记者报道、联系退款不就...  14  前天22:48  \n3     这个思路完全正确，即解决了就业问题，又能充分保证产品质量，打出东方甄选的品牌，这可是质量品牌...  28  前天19:11  \n4                                             哈哈哈，冷连不行啊   3  前天18:53  \n...                                                 ...  ..      ...  \n1401               讨厌买它，买它……那种和地摊一样的氛围！喜欢新东方那样的和谐自在的销售！   4      3天前  \n1402                                     希望把“直播带货”引入正轨！   赞      3天前  \n1403                                               税交了吗   赞  前天00:04  \n1404                        直播带货搞活了别人的地方经济，用直播带货的方式教学吗？   赞  前天01:50  \n1405                                     没有前途，热闹一个月就凉凉了   1      3天前  \n\n[1393 rows x 9 columns]",
      "text/html": "<div>\n<style scoped>\n    .dataframe tbody tr th:only-of-type {\n        vertical-align: middle;\n    }\n\n    .dataframe tbody tr th {\n        vertical-align: top;\n    }\n\n    .dataframe thead th {\n        text-align: right;\n    }\n</style>\n<table border=\"1\" class=\"dataframe\">\n  <thead>\n    <tr style=\"text-align: right;\">\n      <th></th>\n      <th>recordid</th>\n      <th>&lt;fullpath&gt;</th>\n      <th>&lt;realpath&gt;</th>\n      <th>&lt;pageno&gt;</th>\n      <th>&lt;createdate&gt;</th>\n      <th>评论用户</th>\n      <th>评论内容</th>\n      <th>点赞数</th>\n      <th>评论时间</th>\n    </tr>\n  </thead>\n  <tbody>\n    <tr>\n      <th>0</th>\n      <td>864</td>\n      <td>https://www.toutiao.com/article/71100643765387...</td>\n      <td>https://www.toutiao.com/article/71100643765387...</td>\n      <td>0</td>\n      <td>2022-06-19 16:54:49.0</td>\n      <td>我是张先生ANoL</td>\n      <td>新巴表示不服家人们，赶紧去东方直播间捣乱吧</td>\n      <td>2</td>\n      <td>昨天10:14</td>\n    </tr>\n    <tr>\n      <th>1</th>\n      <td>865</td>\n      <td>https://www.toutiao.com/article/71100643765387...</td>\n      <td>https://www.toutiao.com/article/71100643765387...</td>\n      <td>0</td>\n      <td>2022-06-19 16:54:49.0</td>\n      <td>润物无声2020朱</td>\n      <td>红不了一个月。实际上就是带货，因为有新东方教育的名头，所以他就加了一点啊教育的味道，没想到就...</td>\n      <td>赞</td>\n      <td>昨天10:15</td>\n    </tr>\n    <tr>\n      <th>2</th>\n      <td>866</td>\n      <td>https://www.toutiao.com/article/71101396905855...</td>\n      <td>https://www.toutiao.com/article/71101396905855...</td>\n      <td>0</td>\n      <td>2022-06-19 16:55:02.0</td>\n      <td>贤妈育儿分享</td>\n      <td>牛了！那些其他平台买到坏的，也不见会有媒体专门报道，也不会有消费者找到记者报道、联系退款不就...</td>\n      <td>14</td>\n      <td>前天22:48</td>\n    </tr>\n    <tr>\n      <th>3</th>\n      <td>867</td>\n      <td>https://www.toutiao.com/article/71101396905855...</td>\n      <td>https://www.toutiao.com/article/71101396905855...</td>\n      <td>0</td>\n      <td>2022-06-19 16:55:02.0</td>\n      <td>高级菠萝It</td>\n      <td>这个思路完全正确，即解决了就业问题，又能充分保证产品质量，打出东方甄选的品牌，这可是质量品牌...</td>\n      <td>28</td>\n      <td>前天19:11</td>\n    </tr>\n    <tr>\n      <th>4</th>\n      <td>868</td>\n      <td>https://www.toutiao.com/article/71101396905855...</td>\n      <td>https://www.toutiao.com/article/71101396905855...</td>\n      <td>0</td>\n      <td>2022-06-19 16:55:02.0</td>\n      <td>安逸海风FP</td>\n      <td>哈哈哈，冷连不行啊</td>\n      <td>3</td>\n      <td>前天18:53</td>\n    </tr>\n    <tr>\n      <th>...</th>\n      <td>...</td>\n      <td>...</td>\n      <td>...</td>\n      <td>...</td>\n      <td>...</td>\n      <td>...</td>\n      <td>...</td>\n      <td>...</td>\n      <td>...</td>\n    </tr>\n    <tr>\n      <th>1401</th>\n      <td>2434</td>\n      <td>https://www.toutiao.com/article/71096753218169...</td>\n      <td>https://www.toutiao.com/article/71096753218169...</td>\n      <td>0</td>\n      <td>2022-06-19 17:25:44.0</td>\n      <td>用户3501303889683</td>\n      <td>讨厌买它，买它……那种和地摊一样的氛围！喜欢新东方那样的和谐自在的销售！</td>\n      <td>4</td>\n      <td>3天前</td>\n    </tr>\n    <tr>\n      <th>1402</th>\n      <td>2435</td>\n      <td>https://www.toutiao.com/article/71096753218169...</td>\n      <td>https://www.toutiao.com/article/71096753218169...</td>\n      <td>0</td>\n      <td>2022-06-19 17:25:44.0</td>\n      <td>用户508471906693</td>\n      <td>希望把“直播带货”引入正轨！</td>\n      <td>赞</td>\n      <td>3天前</td>\n    </tr>\n    <tr>\n      <th>1403</th>\n      <td>2436</td>\n      <td>https://www.toutiao.com/article/71096753218169...</td>\n      <td>https://www.toutiao.com/article/71096753218169...</td>\n      <td>0</td>\n      <td>2022-06-19 17:25:44.0</td>\n      <td>用户4154130528250</td>\n      <td>税交了吗</td>\n      <td>赞</td>\n      <td>前天00:04</td>\n    </tr>\n    <tr>\n      <th>1404</th>\n      <td>2437</td>\n      <td>https://www.toutiao.com/article/71096753218169...</td>\n      <td>https://www.toutiao.com/article/71096753218169...</td>\n      <td>0</td>\n      <td>2022-06-19 17:25:44.0</td>\n      <td>自已美</td>\n      <td>直播带货搞活了别人的地方经济，用直播带货的方式教学吗？</td>\n      <td>赞</td>\n      <td>前天01:50</td>\n    </tr>\n    <tr>\n      <th>1405</th>\n      <td>2438</td>\n      <td>https://www.toutiao.com/article/71096753218169...</td>\n      <td>https://www.toutiao.com/article/71096753218169...</td>\n      <td>0</td>\n      <td>2022-06-19 17:25:44.0</td>\n      <td>秋风瑟瑟0325</td>\n      <td>没有前途，热闹一个月就凉凉了</td>\n      <td>1</td>\n      <td>3天前</td>\n    </tr>\n  </tbody>\n</table>\n<p>1393 rows × 9 columns</p>\n</div>"
     },
     "execution_count": 15,
     "metadata": {},
     "output_type": "execute_result"
    }
   ],
   "source": [
    "toutiao = toutiao[~ toutiao['评论内容'].isnull()]\n",
    "toutiao"
   ],
   "metadata": {
    "collapsed": false,
    "pycharm": {
     "name": "#%%\n"
    }
   }
  },
  {
   "cell_type": "code",
   "execution_count": 16,
   "outputs": [
    {
     "data": {
      "text/plain": "      recordid                                         <fullpath>  \\\n0          864  https://www.toutiao.com/article/71100643765387...   \n1          865  https://www.toutiao.com/article/71100643765387...   \n2          866  https://www.toutiao.com/article/71101396905855...   \n3          867  https://www.toutiao.com/article/71101396905855...   \n4          868  https://www.toutiao.com/article/71101396905855...   \n...        ...                                                ...   \n1401      2434  https://www.toutiao.com/article/71096753218169...   \n1402      2435  https://www.toutiao.com/article/71096753218169...   \n1403      2436  https://www.toutiao.com/article/71096753218169...   \n1404      2437  https://www.toutiao.com/article/71096753218169...   \n1405      2438  https://www.toutiao.com/article/71096753218169...   \n\n                                             <realpath>  <pageno>  \\\n0     https://www.toutiao.com/article/71100643765387...         0   \n1     https://www.toutiao.com/article/71100643765387...         0   \n2     https://www.toutiao.com/article/71101396905855...         0   \n3     https://www.toutiao.com/article/71101396905855...         0   \n4     https://www.toutiao.com/article/71101396905855...         0   \n...                                                 ...       ...   \n1401  https://www.toutiao.com/article/71096753218169...         0   \n1402  https://www.toutiao.com/article/71096753218169...         0   \n1403  https://www.toutiao.com/article/71096753218169...         0   \n1404  https://www.toutiao.com/article/71096753218169...         0   \n1405  https://www.toutiao.com/article/71096753218169...         0   \n\n               <createdate>             评论用户  \\\n0     2022-06-19 16:54:49.0        我是张先生ANoL   \n1     2022-06-19 16:54:49.0        润物无声2020朱   \n2     2022-06-19 16:55:02.0           贤妈育儿分享   \n3     2022-06-19 16:55:02.0           高级菠萝It   \n4     2022-06-19 16:55:02.0           安逸海风FP   \n...                     ...              ...   \n1401  2022-06-19 17:25:44.0  用户3501303889683   \n1402  2022-06-19 17:25:44.0   用户508471906693   \n1403  2022-06-19 17:25:44.0  用户4154130528250   \n1404  2022-06-19 17:25:44.0              自已美   \n1405  2022-06-19 17:25:44.0         秋风瑟瑟0325   \n\n                                                   评论内容 点赞数     评论时间  \n0                                 新巴表示不服家人们，赶紧去东方直播间捣乱吧   2  昨天10:14  \n1     红不了一个月。实际上就是带货，因为有新东方教育的名头，所以他就加了一点啊教育的味道，没想到就...   赞  昨天10:15  \n2     牛了！那些其他平台买到坏的，也不见会有媒体专门报道，也不会有消费者找到记者报道、联系退款不就...  14  前天22:48  \n3     这个思路完全正确，即解决了就业问题，又能充分保证产品质量，打出东方甄选的品牌，这可是质量品牌...  28  前天19:11  \n4                                             哈哈哈，冷连不行啊   3  前天18:53  \n...                                                 ...  ..      ...  \n1401               讨厌买它，买它……那种和地摊一样的氛围！喜欢新东方那样的和谐自在的销售！   4      3天前  \n1402                                     希望把“直播带货”引入正轨！   赞      3天前  \n1403                                               税交了吗   赞  前天00:04  \n1404                        直播带货搞活了别人的地方经济，用直播带货的方式教学吗？   赞  前天01:50  \n1405                                     没有前途，热闹一个月就凉凉了   1      3天前  \n\n[1257 rows x 9 columns]",
      "text/html": "<div>\n<style scoped>\n    .dataframe tbody tr th:only-of-type {\n        vertical-align: middle;\n    }\n\n    .dataframe tbody tr th {\n        vertical-align: top;\n    }\n\n    .dataframe thead th {\n        text-align: right;\n    }\n</style>\n<table border=\"1\" class=\"dataframe\">\n  <thead>\n    <tr style=\"text-align: right;\">\n      <th></th>\n      <th>recordid</th>\n      <th>&lt;fullpath&gt;</th>\n      <th>&lt;realpath&gt;</th>\n      <th>&lt;pageno&gt;</th>\n      <th>&lt;createdate&gt;</th>\n      <th>评论用户</th>\n      <th>评论内容</th>\n      <th>点赞数</th>\n      <th>评论时间</th>\n    </tr>\n  </thead>\n  <tbody>\n    <tr>\n      <th>0</th>\n      <td>864</td>\n      <td>https://www.toutiao.com/article/71100643765387...</td>\n      <td>https://www.toutiao.com/article/71100643765387...</td>\n      <td>0</td>\n      <td>2022-06-19 16:54:49.0</td>\n      <td>我是张先生ANoL</td>\n      <td>新巴表示不服家人们，赶紧去东方直播间捣乱吧</td>\n      <td>2</td>\n      <td>昨天10:14</td>\n    </tr>\n    <tr>\n      <th>1</th>\n      <td>865</td>\n      <td>https://www.toutiao.com/article/71100643765387...</td>\n      <td>https://www.toutiao.com/article/71100643765387...</td>\n      <td>0</td>\n      <td>2022-06-19 16:54:49.0</td>\n      <td>润物无声2020朱</td>\n      <td>红不了一个月。实际上就是带货，因为有新东方教育的名头，所以他就加了一点啊教育的味道，没想到就...</td>\n      <td>赞</td>\n      <td>昨天10:15</td>\n    </tr>\n    <tr>\n      <th>2</th>\n      <td>866</td>\n      <td>https://www.toutiao.com/article/71101396905855...</td>\n      <td>https://www.toutiao.com/article/71101396905855...</td>\n      <td>0</td>\n      <td>2022-06-19 16:55:02.0</td>\n      <td>贤妈育儿分享</td>\n      <td>牛了！那些其他平台买到坏的，也不见会有媒体专门报道，也不会有消费者找到记者报道、联系退款不就...</td>\n      <td>14</td>\n      <td>前天22:48</td>\n    </tr>\n    <tr>\n      <th>3</th>\n      <td>867</td>\n      <td>https://www.toutiao.com/article/71101396905855...</td>\n      <td>https://www.toutiao.com/article/71101396905855...</td>\n      <td>0</td>\n      <td>2022-06-19 16:55:02.0</td>\n      <td>高级菠萝It</td>\n      <td>这个思路完全正确，即解决了就业问题，又能充分保证产品质量，打出东方甄选的品牌，这可是质量品牌...</td>\n      <td>28</td>\n      <td>前天19:11</td>\n    </tr>\n    <tr>\n      <th>4</th>\n      <td>868</td>\n      <td>https://www.toutiao.com/article/71101396905855...</td>\n      <td>https://www.toutiao.com/article/71101396905855...</td>\n      <td>0</td>\n      <td>2022-06-19 16:55:02.0</td>\n      <td>安逸海风FP</td>\n      <td>哈哈哈，冷连不行啊</td>\n      <td>3</td>\n      <td>前天18:53</td>\n    </tr>\n    <tr>\n      <th>...</th>\n      <td>...</td>\n      <td>...</td>\n      <td>...</td>\n      <td>...</td>\n      <td>...</td>\n      <td>...</td>\n      <td>...</td>\n      <td>...</td>\n      <td>...</td>\n    </tr>\n    <tr>\n      <th>1401</th>\n      <td>2434</td>\n      <td>https://www.toutiao.com/article/71096753218169...</td>\n      <td>https://www.toutiao.com/article/71096753218169...</td>\n      <td>0</td>\n      <td>2022-06-19 17:25:44.0</td>\n      <td>用户3501303889683</td>\n      <td>讨厌买它，买它……那种和地摊一样的氛围！喜欢新东方那样的和谐自在的销售！</td>\n      <td>4</td>\n      <td>3天前</td>\n    </tr>\n    <tr>\n      <th>1402</th>\n      <td>2435</td>\n      <td>https://www.toutiao.com/article/71096753218169...</td>\n      <td>https://www.toutiao.com/article/71096753218169...</td>\n      <td>0</td>\n      <td>2022-06-19 17:25:44.0</td>\n      <td>用户508471906693</td>\n      <td>希望把“直播带货”引入正轨！</td>\n      <td>赞</td>\n      <td>3天前</td>\n    </tr>\n    <tr>\n      <th>1403</th>\n      <td>2436</td>\n      <td>https://www.toutiao.com/article/71096753218169...</td>\n      <td>https://www.toutiao.com/article/71096753218169...</td>\n      <td>0</td>\n      <td>2022-06-19 17:25:44.0</td>\n      <td>用户4154130528250</td>\n      <td>税交了吗</td>\n      <td>赞</td>\n      <td>前天00:04</td>\n    </tr>\n    <tr>\n      <th>1404</th>\n      <td>2437</td>\n      <td>https://www.toutiao.com/article/71096753218169...</td>\n      <td>https://www.toutiao.com/article/71096753218169...</td>\n      <td>0</td>\n      <td>2022-06-19 17:25:44.0</td>\n      <td>自已美</td>\n      <td>直播带货搞活了别人的地方经济，用直播带货的方式教学吗？</td>\n      <td>赞</td>\n      <td>前天01:50</td>\n    </tr>\n    <tr>\n      <th>1405</th>\n      <td>2438</td>\n      <td>https://www.toutiao.com/article/71096753218169...</td>\n      <td>https://www.toutiao.com/article/71096753218169...</td>\n      <td>0</td>\n      <td>2022-06-19 17:25:44.0</td>\n      <td>秋风瑟瑟0325</td>\n      <td>没有前途，热闹一个月就凉凉了</td>\n      <td>1</td>\n      <td>3天前</td>\n    </tr>\n  </tbody>\n</table>\n<p>1257 rows × 9 columns</p>\n</div>"
     },
     "execution_count": 16,
     "metadata": {},
     "output_type": "execute_result"
    }
   ],
   "source": [
    "toutiao = toutiao.drop_duplicates(subset='评论内容')\n",
    "toutiao"
   ],
   "metadata": {
    "collapsed": false,
    "pycharm": {
     "name": "#%%\n"
    }
   }
  },
  {
   "cell_type": "code",
   "execution_count": 17,
   "outputs": [
    {
     "data": {
      "text/plain": "((105, 9), (231, 9), (83, 9), (837, 9))"
     },
     "execution_count": 17,
     "metadata": {},
     "output_type": "execute_result"
    }
   ],
   "source": [
    "# 昨天10:14 前天22:48 23小时前 5天前 39分钟前\n",
    "toutiao_yesterday = toutiao[toutiao['评论时间'].str.contains('昨天')]\n",
    "toutiao_before_yesterday = toutiao[toutiao['评论时间'].str.contains('前天')]\n",
    "toutiao_hour = toutiao[toutiao['评论时间'].str.contains('小时前')]\n",
    "toutiao_days = toutiao[toutiao['评论时间'].str.contains('天前')]\n",
    "toutiao_yesterday.shape, toutiao_before_yesterday.shape, toutiao_hour.shape, toutiao_days.shape"
   ],
   "metadata": {
    "collapsed": false,
    "pycharm": {
     "name": "#%%\n"
    }
   }
  },
  {
   "cell_type": "code",
   "execution_count": 18,
   "outputs": [
    {
     "data": {
      "text/plain": "1256"
     },
     "execution_count": 18,
     "metadata": {},
     "output_type": "execute_result"
    }
   ],
   "source": [
    "105 + 231 + 83 + 837"
   ],
   "metadata": {
    "collapsed": false,
    "pycharm": {
     "name": "#%%\n"
    }
   }
  },
  {
   "cell_type": "code",
   "execution_count": 19,
   "outputs": [
    {
     "data": {
      "text/plain": "      recordid                                         <fullpath>  \\\n1210      2243  https://www.toutiao.com/article/71100264659487...   \n\n                                             <realpath>  <pageno>  \\\n1210  https://www.toutiao.com/article/71100264659487...         0   \n\n               <createdate>           评论用户      评论内容 点赞数   评论时间  \n1210  2022-06-19 17:03:04.0  游泳的鱼181999170  ，新东方是正能量   赞  39分钟前  ",
      "text/html": "<div>\n<style scoped>\n    .dataframe tbody tr th:only-of-type {\n        vertical-align: middle;\n    }\n\n    .dataframe tbody tr th {\n        vertical-align: top;\n    }\n\n    .dataframe thead th {\n        text-align: right;\n    }\n</style>\n<table border=\"1\" class=\"dataframe\">\n  <thead>\n    <tr style=\"text-align: right;\">\n      <th></th>\n      <th>recordid</th>\n      <th>&lt;fullpath&gt;</th>\n      <th>&lt;realpath&gt;</th>\n      <th>&lt;pageno&gt;</th>\n      <th>&lt;createdate&gt;</th>\n      <th>评论用户</th>\n      <th>评论内容</th>\n      <th>点赞数</th>\n      <th>评论时间</th>\n    </tr>\n  </thead>\n  <tbody>\n    <tr>\n      <th>1210</th>\n      <td>2243</td>\n      <td>https://www.toutiao.com/article/71100264659487...</td>\n      <td>https://www.toutiao.com/article/71100264659487...</td>\n      <td>0</td>\n      <td>2022-06-19 17:03:04.0</td>\n      <td>游泳的鱼181999170</td>\n      <td>，新东方是正能量</td>\n      <td>赞</td>\n      <td>39分钟前</td>\n    </tr>\n  </tbody>\n</table>\n</div>"
     },
     "execution_count": 19,
     "metadata": {},
     "output_type": "execute_result"
    }
   ],
   "source": [
    "pd.concat([toutiao, toutiao_yesterday, toutiao_before_yesterday, toutiao_hour, toutiao_days]).drop_duplicates(\n",
    "    subset='评论时间', keep=False)"
   ],
   "metadata": {
    "collapsed": false,
    "pycharm": {
     "name": "#%%\n"
    }
   }
  },
  {
   "cell_type": "code",
   "execution_count": 20,
   "outputs": [
    {
     "data": {
      "text/plain": "      recordid                                         <fullpath>  \\\n1210      2243  https://www.toutiao.com/article/71100264659487...   \n\n                                             <realpath>  <pageno>  \\\n1210  https://www.toutiao.com/article/71100264659487...         0   \n\n               <createdate>           评论用户      评论内容 点赞数   评论时间  \n1210  2022-06-19 17:03:04.0  游泳的鱼181999170  ，新东方是正能量   赞  39分钟前  ",
      "text/html": "<div>\n<style scoped>\n    .dataframe tbody tr th:only-of-type {\n        vertical-align: middle;\n    }\n\n    .dataframe tbody tr th {\n        vertical-align: top;\n    }\n\n    .dataframe thead th {\n        text-align: right;\n    }\n</style>\n<table border=\"1\" class=\"dataframe\">\n  <thead>\n    <tr style=\"text-align: right;\">\n      <th></th>\n      <th>recordid</th>\n      <th>&lt;fullpath&gt;</th>\n      <th>&lt;realpath&gt;</th>\n      <th>&lt;pageno&gt;</th>\n      <th>&lt;createdate&gt;</th>\n      <th>评论用户</th>\n      <th>评论内容</th>\n      <th>点赞数</th>\n      <th>评论时间</th>\n    </tr>\n  </thead>\n  <tbody>\n    <tr>\n      <th>1210</th>\n      <td>2243</td>\n      <td>https://www.toutiao.com/article/71100264659487...</td>\n      <td>https://www.toutiao.com/article/71100264659487...</td>\n      <td>0</td>\n      <td>2022-06-19 17:03:04.0</td>\n      <td>游泳的鱼181999170</td>\n      <td>，新东方是正能量</td>\n      <td>赞</td>\n      <td>39分钟前</td>\n    </tr>\n  </tbody>\n</table>\n</div>"
     },
     "execution_count": 20,
     "metadata": {},
     "output_type": "execute_result"
    }
   ],
   "source": [
    "toutiao_minutes = toutiao[toutiao['评论时间'].str.contains('分钟前')]\n",
    "toutiao_minutes"
   ],
   "metadata": {
    "collapsed": false,
    "pycharm": {
     "name": "#%%\n"
    }
   }
  },
  {
   "cell_type": "code",
   "execution_count": 21,
   "outputs": [
    {
     "name": "stderr",
     "output_type": "stream",
     "text": [
      "C:\\Users\\Zhouzw\\AppData\\Local\\Temp\\ipykernel_25224\\952514549.py:1: SettingWithCopyWarning: \n",
      "A value is trying to be set on a copy of a slice from a DataFrame.\n",
      "Try using .loc[row_indexer,col_indexer] = value instead\n",
      "\n",
      "See the caveats in the documentation: https://pandas.pydata.org/pandas-docs/stable/user_guide/indexing.html#returning-a-view-versus-a-copy\n",
      "  toutiao_yesterday['评论时间'] = toutiao_yesterday['评论时间'].str.extract(r'(\\d{2}:\\d{2})')\n"
     ]
    }
   ],
   "source": [
    "toutiao_yesterday['评论时间'] = toutiao_yesterday['评论时间'].str.extract(r'(\\d{2}:\\d{2})')"
   ],
   "metadata": {
    "collapsed": false,
    "pycharm": {
     "name": "#%%\n"
    }
   }
  },
  {
   "cell_type": "code",
   "execution_count": 22,
   "outputs": [
    {
     "data": {
      "text/plain": "      recordid                                         <fullpath>  \\\n0          864  https://www.toutiao.com/article/71100643765387...   \n1          865  https://www.toutiao.com/article/71100643765387...   \n5          869  https://www.toutiao.com/article/71101396905855...   \n9          873  https://www.toutiao.com/article/71101396905855...   \n11         875  https://www.toutiao.com/article/71101396905855...   \n...        ...                                                ...   \n1302      2335  https://www.toutiao.com/article/71100264659487...   \n1304      2337  https://www.toutiao.com/article/71100264659487...   \n1306      2339  https://www.toutiao.com/article/71100264659487...   \n1307      2340  https://www.toutiao.com/article/71100264659487...   \n1315      2348  https://www.toutiao.com/article/71101261576174...   \n\n                                             <realpath>  <pageno>  \\\n0     https://www.toutiao.com/article/71100643765387...         0   \n1     https://www.toutiao.com/article/71100643765387...         0   \n5     https://www.toutiao.com/article/71101396905855...         0   \n9     https://www.toutiao.com/article/71101396905855...         0   \n11    https://www.toutiao.com/article/71101396905855...         0   \n...                                                 ...       ...   \n1302  https://www.toutiao.com/article/71100264659487...         0   \n1304  https://www.toutiao.com/article/71100264659487...         0   \n1306  https://www.toutiao.com/article/71100264659487...         0   \n1307  https://www.toutiao.com/article/71100264659487...         0   \n1315  https://www.toutiao.com/article/71101261576174...         0   \n\n               <createdate>             评论用户  \\\n0     2022-06-19 16:54:49.0        我是张先生ANoL   \n1     2022-06-19 16:54:49.0        润物无声2020朱   \n5     2022-06-19 16:55:02.0       斜阳下我那飘逸的秀发   \n9     2022-06-19 16:55:02.0           大气饺子o9   \n11    2022-06-19 16:55:02.0             百草健康   \n...                     ...              ...   \n1302  2022-06-19 17:03:19.0           亲切星空yR   \n1304  2022-06-19 17:03:19.0      小草285161682   \n1306  2022-06-19 17:03:19.0           难于上青天啊   \n1307  2022-06-19 17:03:19.0  用户9298386601411   \n1315  2022-06-19 17:18:04.0          O北大O心理师   \n\n                                                   评论内容 点赞数   评论时间  \n0                                 新巴表示不服家人们，赶紧去东方直播间捣乱吧   2  10:14  \n1     红不了一个月。实际上就是带货，因为有新东方教育的名头，所以他就加了一点啊教育的味道，没想到就...   赞  10:15  \n5     第三方发货，很容易出现品质问题，那些负责装货打包的人，素质没那么高，用劣质产品以次充好，没有...   4  00:15  \n9       我也买了，在驿站放了两天也没有这样，这样诋毁人家好吗？真的有坏的找客服索赔就可以了，何必这样？   1  10:22  \n11    俞敏洪老师！一直关注！你的分享我常看我很受益！祝你事业在辉煌！给国家作更大贡献！不忘初心！牢...   2  08:24  \n...                                                 ...  ..    ...  \n1302                                          辛巴那绝对吹牛比的   赞  09:44  \n1304                                      直播帶货已进入诸候争杀时代   赞  00:50  \n1306                                               假货大王   赞  11:45  \n1307                10亿有九亿九都是造假，辛有志去哪里了，还有她的消息吗，有啥值得吹嘘的   赞  08:08  \n1315                                         听说直播间东西比较贵   1  11:52  \n\n[105 rows x 9 columns]",
      "text/html": "<div>\n<style scoped>\n    .dataframe tbody tr th:only-of-type {\n        vertical-align: middle;\n    }\n\n    .dataframe tbody tr th {\n        vertical-align: top;\n    }\n\n    .dataframe thead th {\n        text-align: right;\n    }\n</style>\n<table border=\"1\" class=\"dataframe\">\n  <thead>\n    <tr style=\"text-align: right;\">\n      <th></th>\n      <th>recordid</th>\n      <th>&lt;fullpath&gt;</th>\n      <th>&lt;realpath&gt;</th>\n      <th>&lt;pageno&gt;</th>\n      <th>&lt;createdate&gt;</th>\n      <th>评论用户</th>\n      <th>评论内容</th>\n      <th>点赞数</th>\n      <th>评论时间</th>\n    </tr>\n  </thead>\n  <tbody>\n    <tr>\n      <th>0</th>\n      <td>864</td>\n      <td>https://www.toutiao.com/article/71100643765387...</td>\n      <td>https://www.toutiao.com/article/71100643765387...</td>\n      <td>0</td>\n      <td>2022-06-19 16:54:49.0</td>\n      <td>我是张先生ANoL</td>\n      <td>新巴表示不服家人们，赶紧去东方直播间捣乱吧</td>\n      <td>2</td>\n      <td>10:14</td>\n    </tr>\n    <tr>\n      <th>1</th>\n      <td>865</td>\n      <td>https://www.toutiao.com/article/71100643765387...</td>\n      <td>https://www.toutiao.com/article/71100643765387...</td>\n      <td>0</td>\n      <td>2022-06-19 16:54:49.0</td>\n      <td>润物无声2020朱</td>\n      <td>红不了一个月。实际上就是带货，因为有新东方教育的名头，所以他就加了一点啊教育的味道，没想到就...</td>\n      <td>赞</td>\n      <td>10:15</td>\n    </tr>\n    <tr>\n      <th>5</th>\n      <td>869</td>\n      <td>https://www.toutiao.com/article/71101396905855...</td>\n      <td>https://www.toutiao.com/article/71101396905855...</td>\n      <td>0</td>\n      <td>2022-06-19 16:55:02.0</td>\n      <td>斜阳下我那飘逸的秀发</td>\n      <td>第三方发货，很容易出现品质问题，那些负责装货打包的人，素质没那么高，用劣质产品以次充好，没有...</td>\n      <td>4</td>\n      <td>00:15</td>\n    </tr>\n    <tr>\n      <th>9</th>\n      <td>873</td>\n      <td>https://www.toutiao.com/article/71101396905855...</td>\n      <td>https://www.toutiao.com/article/71101396905855...</td>\n      <td>0</td>\n      <td>2022-06-19 16:55:02.0</td>\n      <td>大气饺子o9</td>\n      <td>我也买了，在驿站放了两天也没有这样，这样诋毁人家好吗？真的有坏的找客服索赔就可以了，何必这样？</td>\n      <td>1</td>\n      <td>10:22</td>\n    </tr>\n    <tr>\n      <th>11</th>\n      <td>875</td>\n      <td>https://www.toutiao.com/article/71101396905855...</td>\n      <td>https://www.toutiao.com/article/71101396905855...</td>\n      <td>0</td>\n      <td>2022-06-19 16:55:02.0</td>\n      <td>百草健康</td>\n      <td>俞敏洪老师！一直关注！你的分享我常看我很受益！祝你事业在辉煌！给国家作更大贡献！不忘初心！牢...</td>\n      <td>2</td>\n      <td>08:24</td>\n    </tr>\n    <tr>\n      <th>...</th>\n      <td>...</td>\n      <td>...</td>\n      <td>...</td>\n      <td>...</td>\n      <td>...</td>\n      <td>...</td>\n      <td>...</td>\n      <td>...</td>\n      <td>...</td>\n    </tr>\n    <tr>\n      <th>1302</th>\n      <td>2335</td>\n      <td>https://www.toutiao.com/article/71100264659487...</td>\n      <td>https://www.toutiao.com/article/71100264659487...</td>\n      <td>0</td>\n      <td>2022-06-19 17:03:19.0</td>\n      <td>亲切星空yR</td>\n      <td>辛巴那绝对吹牛比的</td>\n      <td>赞</td>\n      <td>09:44</td>\n    </tr>\n    <tr>\n      <th>1304</th>\n      <td>2337</td>\n      <td>https://www.toutiao.com/article/71100264659487...</td>\n      <td>https://www.toutiao.com/article/71100264659487...</td>\n      <td>0</td>\n      <td>2022-06-19 17:03:19.0</td>\n      <td>小草285161682</td>\n      <td>直播帶货已进入诸候争杀时代</td>\n      <td>赞</td>\n      <td>00:50</td>\n    </tr>\n    <tr>\n      <th>1306</th>\n      <td>2339</td>\n      <td>https://www.toutiao.com/article/71100264659487...</td>\n      <td>https://www.toutiao.com/article/71100264659487...</td>\n      <td>0</td>\n      <td>2022-06-19 17:03:19.0</td>\n      <td>难于上青天啊</td>\n      <td>假货大王</td>\n      <td>赞</td>\n      <td>11:45</td>\n    </tr>\n    <tr>\n      <th>1307</th>\n      <td>2340</td>\n      <td>https://www.toutiao.com/article/71100264659487...</td>\n      <td>https://www.toutiao.com/article/71100264659487...</td>\n      <td>0</td>\n      <td>2022-06-19 17:03:19.0</td>\n      <td>用户9298386601411</td>\n      <td>10亿有九亿九都是造假，辛有志去哪里了，还有她的消息吗，有啥值得吹嘘的</td>\n      <td>赞</td>\n      <td>08:08</td>\n    </tr>\n    <tr>\n      <th>1315</th>\n      <td>2348</td>\n      <td>https://www.toutiao.com/article/71101261576174...</td>\n      <td>https://www.toutiao.com/article/71101261576174...</td>\n      <td>0</td>\n      <td>2022-06-19 17:18:04.0</td>\n      <td>O北大O心理师</td>\n      <td>听说直播间东西比较贵</td>\n      <td>1</td>\n      <td>11:52</td>\n    </tr>\n  </tbody>\n</table>\n<p>105 rows × 9 columns</p>\n</div>"
     },
     "execution_count": 22,
     "metadata": {},
     "output_type": "execute_result"
    }
   ],
   "source": [
    "toutiao_yesterday"
   ],
   "metadata": {
    "collapsed": false,
    "pycharm": {
     "name": "#%%\n"
    }
   }
  },
  {
   "cell_type": "code",
   "execution_count": 23,
   "outputs": [
    {
     "name": "stderr",
     "output_type": "stream",
     "text": [
      "C:\\Users\\Zhouzw\\AppData\\Local\\Temp\\ipykernel_25224\\545205381.py:1: SettingWithCopyWarning: \n",
      "A value is trying to be set on a copy of a slice from a DataFrame.\n",
      "Try using .loc[row_indexer,col_indexer] = value instead\n",
      "\n",
      "See the caveats in the documentation: https://pandas.pydata.org/pandas-docs/stable/user_guide/indexing.html#returning-a-view-versus-a-copy\n",
      "  toutiao_yesterday['<createdate>'] = toutiao_yesterday['<createdate>'].apply(lambda t: t[:9] + '8 ')\n"
     ]
    },
    {
     "data": {
      "text/plain": "      recordid                                         <fullpath>  \\\n0          864  https://www.toutiao.com/article/71100643765387...   \n1          865  https://www.toutiao.com/article/71100643765387...   \n5          869  https://www.toutiao.com/article/71101396905855...   \n9          873  https://www.toutiao.com/article/71101396905855...   \n11         875  https://www.toutiao.com/article/71101396905855...   \n...        ...                                                ...   \n1302      2335  https://www.toutiao.com/article/71100264659487...   \n1304      2337  https://www.toutiao.com/article/71100264659487...   \n1306      2339  https://www.toutiao.com/article/71100264659487...   \n1307      2340  https://www.toutiao.com/article/71100264659487...   \n1315      2348  https://www.toutiao.com/article/71101261576174...   \n\n                                             <realpath>  <pageno>  \\\n0     https://www.toutiao.com/article/71100643765387...         0   \n1     https://www.toutiao.com/article/71100643765387...         0   \n5     https://www.toutiao.com/article/71101396905855...         0   \n9     https://www.toutiao.com/article/71101396905855...         0   \n11    https://www.toutiao.com/article/71101396905855...         0   \n...                                                 ...       ...   \n1302  https://www.toutiao.com/article/71100264659487...         0   \n1304  https://www.toutiao.com/article/71100264659487...         0   \n1306  https://www.toutiao.com/article/71100264659487...         0   \n1307  https://www.toutiao.com/article/71100264659487...         0   \n1315  https://www.toutiao.com/article/71101261576174...         0   \n\n     <createdate>             评论用户  \\\n0     2022-06-18         我是张先生ANoL   \n1     2022-06-18         润物无声2020朱   \n5     2022-06-18        斜阳下我那飘逸的秀发   \n9     2022-06-18            大气饺子o9   \n11    2022-06-18              百草健康   \n...           ...              ...   \n1302  2022-06-18            亲切星空yR   \n1304  2022-06-18       小草285161682   \n1306  2022-06-18            难于上青天啊   \n1307  2022-06-18   用户9298386601411   \n1315  2022-06-18           O北大O心理师   \n\n                                                   评论内容 点赞数   评论时间  \n0                                 新巴表示不服家人们，赶紧去东方直播间捣乱吧   2  10:14  \n1     红不了一个月。实际上就是带货，因为有新东方教育的名头，所以他就加了一点啊教育的味道，没想到就...   赞  10:15  \n5     第三方发货，很容易出现品质问题，那些负责装货打包的人，素质没那么高，用劣质产品以次充好，没有...   4  00:15  \n9       我也买了，在驿站放了两天也没有这样，这样诋毁人家好吗？真的有坏的找客服索赔就可以了，何必这样？   1  10:22  \n11    俞敏洪老师！一直关注！你的分享我常看我很受益！祝你事业在辉煌！给国家作更大贡献！不忘初心！牢...   2  08:24  \n...                                                 ...  ..    ...  \n1302                                          辛巴那绝对吹牛比的   赞  09:44  \n1304                                      直播帶货已进入诸候争杀时代   赞  00:50  \n1306                                               假货大王   赞  11:45  \n1307                10亿有九亿九都是造假，辛有志去哪里了，还有她的消息吗，有啥值得吹嘘的   赞  08:08  \n1315                                         听说直播间东西比较贵   1  11:52  \n\n[105 rows x 9 columns]",
      "text/html": "<div>\n<style scoped>\n    .dataframe tbody tr th:only-of-type {\n        vertical-align: middle;\n    }\n\n    .dataframe tbody tr th {\n        vertical-align: top;\n    }\n\n    .dataframe thead th {\n        text-align: right;\n    }\n</style>\n<table border=\"1\" class=\"dataframe\">\n  <thead>\n    <tr style=\"text-align: right;\">\n      <th></th>\n      <th>recordid</th>\n      <th>&lt;fullpath&gt;</th>\n      <th>&lt;realpath&gt;</th>\n      <th>&lt;pageno&gt;</th>\n      <th>&lt;createdate&gt;</th>\n      <th>评论用户</th>\n      <th>评论内容</th>\n      <th>点赞数</th>\n      <th>评论时间</th>\n    </tr>\n  </thead>\n  <tbody>\n    <tr>\n      <th>0</th>\n      <td>864</td>\n      <td>https://www.toutiao.com/article/71100643765387...</td>\n      <td>https://www.toutiao.com/article/71100643765387...</td>\n      <td>0</td>\n      <td>2022-06-18</td>\n      <td>我是张先生ANoL</td>\n      <td>新巴表示不服家人们，赶紧去东方直播间捣乱吧</td>\n      <td>2</td>\n      <td>10:14</td>\n    </tr>\n    <tr>\n      <th>1</th>\n      <td>865</td>\n      <td>https://www.toutiao.com/article/71100643765387...</td>\n      <td>https://www.toutiao.com/article/71100643765387...</td>\n      <td>0</td>\n      <td>2022-06-18</td>\n      <td>润物无声2020朱</td>\n      <td>红不了一个月。实际上就是带货，因为有新东方教育的名头，所以他就加了一点啊教育的味道，没想到就...</td>\n      <td>赞</td>\n      <td>10:15</td>\n    </tr>\n    <tr>\n      <th>5</th>\n      <td>869</td>\n      <td>https://www.toutiao.com/article/71101396905855...</td>\n      <td>https://www.toutiao.com/article/71101396905855...</td>\n      <td>0</td>\n      <td>2022-06-18</td>\n      <td>斜阳下我那飘逸的秀发</td>\n      <td>第三方发货，很容易出现品质问题，那些负责装货打包的人，素质没那么高，用劣质产品以次充好，没有...</td>\n      <td>4</td>\n      <td>00:15</td>\n    </tr>\n    <tr>\n      <th>9</th>\n      <td>873</td>\n      <td>https://www.toutiao.com/article/71101396905855...</td>\n      <td>https://www.toutiao.com/article/71101396905855...</td>\n      <td>0</td>\n      <td>2022-06-18</td>\n      <td>大气饺子o9</td>\n      <td>我也买了，在驿站放了两天也没有这样，这样诋毁人家好吗？真的有坏的找客服索赔就可以了，何必这样？</td>\n      <td>1</td>\n      <td>10:22</td>\n    </tr>\n    <tr>\n      <th>11</th>\n      <td>875</td>\n      <td>https://www.toutiao.com/article/71101396905855...</td>\n      <td>https://www.toutiao.com/article/71101396905855...</td>\n      <td>0</td>\n      <td>2022-06-18</td>\n      <td>百草健康</td>\n      <td>俞敏洪老师！一直关注！你的分享我常看我很受益！祝你事业在辉煌！给国家作更大贡献！不忘初心！牢...</td>\n      <td>2</td>\n      <td>08:24</td>\n    </tr>\n    <tr>\n      <th>...</th>\n      <td>...</td>\n      <td>...</td>\n      <td>...</td>\n      <td>...</td>\n      <td>...</td>\n      <td>...</td>\n      <td>...</td>\n      <td>...</td>\n      <td>...</td>\n    </tr>\n    <tr>\n      <th>1302</th>\n      <td>2335</td>\n      <td>https://www.toutiao.com/article/71100264659487...</td>\n      <td>https://www.toutiao.com/article/71100264659487...</td>\n      <td>0</td>\n      <td>2022-06-18</td>\n      <td>亲切星空yR</td>\n      <td>辛巴那绝对吹牛比的</td>\n      <td>赞</td>\n      <td>09:44</td>\n    </tr>\n    <tr>\n      <th>1304</th>\n      <td>2337</td>\n      <td>https://www.toutiao.com/article/71100264659487...</td>\n      <td>https://www.toutiao.com/article/71100264659487...</td>\n      <td>0</td>\n      <td>2022-06-18</td>\n      <td>小草285161682</td>\n      <td>直播帶货已进入诸候争杀时代</td>\n      <td>赞</td>\n      <td>00:50</td>\n    </tr>\n    <tr>\n      <th>1306</th>\n      <td>2339</td>\n      <td>https://www.toutiao.com/article/71100264659487...</td>\n      <td>https://www.toutiao.com/article/71100264659487...</td>\n      <td>0</td>\n      <td>2022-06-18</td>\n      <td>难于上青天啊</td>\n      <td>假货大王</td>\n      <td>赞</td>\n      <td>11:45</td>\n    </tr>\n    <tr>\n      <th>1307</th>\n      <td>2340</td>\n      <td>https://www.toutiao.com/article/71100264659487...</td>\n      <td>https://www.toutiao.com/article/71100264659487...</td>\n      <td>0</td>\n      <td>2022-06-18</td>\n      <td>用户9298386601411</td>\n      <td>10亿有九亿九都是造假，辛有志去哪里了，还有她的消息吗，有啥值得吹嘘的</td>\n      <td>赞</td>\n      <td>08:08</td>\n    </tr>\n    <tr>\n      <th>1315</th>\n      <td>2348</td>\n      <td>https://www.toutiao.com/article/71101261576174...</td>\n      <td>https://www.toutiao.com/article/71101261576174...</td>\n      <td>0</td>\n      <td>2022-06-18</td>\n      <td>O北大O心理师</td>\n      <td>听说直播间东西比较贵</td>\n      <td>1</td>\n      <td>11:52</td>\n    </tr>\n  </tbody>\n</table>\n<p>105 rows × 9 columns</p>\n</div>"
     },
     "execution_count": 23,
     "metadata": {},
     "output_type": "execute_result"
    }
   ],
   "source": [
    "toutiao_yesterday['<createdate>'] = toutiao_yesterday['<createdate>'].apply(lambda t: t[:9] + '8 ')\n",
    "toutiao_yesterday"
   ],
   "metadata": {
    "collapsed": false,
    "pycharm": {
     "name": "#%%\n"
    }
   }
  },
  {
   "cell_type": "code",
   "execution_count": 25,
   "outputs": [
    {
     "name": "stderr",
     "output_type": "stream",
     "text": [
      "C:\\Users\\Zhouzw\\AppData\\Local\\Temp\\ipykernel_25224\\463018509.py:1: SettingWithCopyWarning: \n",
      "A value is trying to be set on a copy of a slice from a DataFrame.\n",
      "Try using .loc[row_indexer,col_indexer] = value instead\n",
      "\n",
      "See the caveats in the documentation: https://pandas.pydata.org/pandas-docs/stable/user_guide/indexing.html#returning-a-view-versus-a-copy\n",
      "  toutiao_yesterday['评论时间'] = toutiao_yesterday['<createdate>'].str.cat(toutiao_yesterday['评论时间'])\n"
     ]
    },
    {
     "data": {
      "text/plain": "      recordid                                         <fullpath>  \\\n0          864  https://www.toutiao.com/article/71100643765387...   \n1          865  https://www.toutiao.com/article/71100643765387...   \n5          869  https://www.toutiao.com/article/71101396905855...   \n9          873  https://www.toutiao.com/article/71101396905855...   \n11         875  https://www.toutiao.com/article/71101396905855...   \n...        ...                                                ...   \n1302      2335  https://www.toutiao.com/article/71100264659487...   \n1304      2337  https://www.toutiao.com/article/71100264659487...   \n1306      2339  https://www.toutiao.com/article/71100264659487...   \n1307      2340  https://www.toutiao.com/article/71100264659487...   \n1315      2348  https://www.toutiao.com/article/71101261576174...   \n\n                                             <realpath>  <pageno>  \\\n0     https://www.toutiao.com/article/71100643765387...         0   \n1     https://www.toutiao.com/article/71100643765387...         0   \n5     https://www.toutiao.com/article/71101396905855...         0   \n9     https://www.toutiao.com/article/71101396905855...         0   \n11    https://www.toutiao.com/article/71101396905855...         0   \n...                                                 ...       ...   \n1302  https://www.toutiao.com/article/71100264659487...         0   \n1304  https://www.toutiao.com/article/71100264659487...         0   \n1306  https://www.toutiao.com/article/71100264659487...         0   \n1307  https://www.toutiao.com/article/71100264659487...         0   \n1315  https://www.toutiao.com/article/71101261576174...         0   \n\n     <createdate>             评论用户  \\\n0     2022-06-18         我是张先生ANoL   \n1     2022-06-18         润物无声2020朱   \n5     2022-06-18        斜阳下我那飘逸的秀发   \n9     2022-06-18            大气饺子o9   \n11    2022-06-18              百草健康   \n...           ...              ...   \n1302  2022-06-18            亲切星空yR   \n1304  2022-06-18       小草285161682   \n1306  2022-06-18            难于上青天啊   \n1307  2022-06-18   用户9298386601411   \n1315  2022-06-18           O北大O心理师   \n\n                                                   评论内容 点赞数              评论时间  \n0                                 新巴表示不服家人们，赶紧去东方直播间捣乱吧   2  2022-06-18 10:14  \n1     红不了一个月。实际上就是带货，因为有新东方教育的名头，所以他就加了一点啊教育的味道，没想到就...   赞  2022-06-18 10:15  \n5     第三方发货，很容易出现品质问题，那些负责装货打包的人，素质没那么高，用劣质产品以次充好，没有...   4  2022-06-18 00:15  \n9       我也买了，在驿站放了两天也没有这样，这样诋毁人家好吗？真的有坏的找客服索赔就可以了，何必这样？   1  2022-06-18 10:22  \n11    俞敏洪老师！一直关注！你的分享我常看我很受益！祝你事业在辉煌！给国家作更大贡献！不忘初心！牢...   2  2022-06-18 08:24  \n...                                                 ...  ..               ...  \n1302                                          辛巴那绝对吹牛比的   赞  2022-06-18 09:44  \n1304                                      直播帶货已进入诸候争杀时代   赞  2022-06-18 00:50  \n1306                                               假货大王   赞  2022-06-18 11:45  \n1307                10亿有九亿九都是造假，辛有志去哪里了，还有她的消息吗，有啥值得吹嘘的   赞  2022-06-18 08:08  \n1315                                         听说直播间东西比较贵   1  2022-06-18 11:52  \n\n[105 rows x 9 columns]",
      "text/html": "<div>\n<style scoped>\n    .dataframe tbody tr th:only-of-type {\n        vertical-align: middle;\n    }\n\n    .dataframe tbody tr th {\n        vertical-align: top;\n    }\n\n    .dataframe thead th {\n        text-align: right;\n    }\n</style>\n<table border=\"1\" class=\"dataframe\">\n  <thead>\n    <tr style=\"text-align: right;\">\n      <th></th>\n      <th>recordid</th>\n      <th>&lt;fullpath&gt;</th>\n      <th>&lt;realpath&gt;</th>\n      <th>&lt;pageno&gt;</th>\n      <th>&lt;createdate&gt;</th>\n      <th>评论用户</th>\n      <th>评论内容</th>\n      <th>点赞数</th>\n      <th>评论时间</th>\n    </tr>\n  </thead>\n  <tbody>\n    <tr>\n      <th>0</th>\n      <td>864</td>\n      <td>https://www.toutiao.com/article/71100643765387...</td>\n      <td>https://www.toutiao.com/article/71100643765387...</td>\n      <td>0</td>\n      <td>2022-06-18</td>\n      <td>我是张先生ANoL</td>\n      <td>新巴表示不服家人们，赶紧去东方直播间捣乱吧</td>\n      <td>2</td>\n      <td>2022-06-18 10:14</td>\n    </tr>\n    <tr>\n      <th>1</th>\n      <td>865</td>\n      <td>https://www.toutiao.com/article/71100643765387...</td>\n      <td>https://www.toutiao.com/article/71100643765387...</td>\n      <td>0</td>\n      <td>2022-06-18</td>\n      <td>润物无声2020朱</td>\n      <td>红不了一个月。实际上就是带货，因为有新东方教育的名头，所以他就加了一点啊教育的味道，没想到就...</td>\n      <td>赞</td>\n      <td>2022-06-18 10:15</td>\n    </tr>\n    <tr>\n      <th>5</th>\n      <td>869</td>\n      <td>https://www.toutiao.com/article/71101396905855...</td>\n      <td>https://www.toutiao.com/article/71101396905855...</td>\n      <td>0</td>\n      <td>2022-06-18</td>\n      <td>斜阳下我那飘逸的秀发</td>\n      <td>第三方发货，很容易出现品质问题，那些负责装货打包的人，素质没那么高，用劣质产品以次充好，没有...</td>\n      <td>4</td>\n      <td>2022-06-18 00:15</td>\n    </tr>\n    <tr>\n      <th>9</th>\n      <td>873</td>\n      <td>https://www.toutiao.com/article/71101396905855...</td>\n      <td>https://www.toutiao.com/article/71101396905855...</td>\n      <td>0</td>\n      <td>2022-06-18</td>\n      <td>大气饺子o9</td>\n      <td>我也买了，在驿站放了两天也没有这样，这样诋毁人家好吗？真的有坏的找客服索赔就可以了，何必这样？</td>\n      <td>1</td>\n      <td>2022-06-18 10:22</td>\n    </tr>\n    <tr>\n      <th>11</th>\n      <td>875</td>\n      <td>https://www.toutiao.com/article/71101396905855...</td>\n      <td>https://www.toutiao.com/article/71101396905855...</td>\n      <td>0</td>\n      <td>2022-06-18</td>\n      <td>百草健康</td>\n      <td>俞敏洪老师！一直关注！你的分享我常看我很受益！祝你事业在辉煌！给国家作更大贡献！不忘初心！牢...</td>\n      <td>2</td>\n      <td>2022-06-18 08:24</td>\n    </tr>\n    <tr>\n      <th>...</th>\n      <td>...</td>\n      <td>...</td>\n      <td>...</td>\n      <td>...</td>\n      <td>...</td>\n      <td>...</td>\n      <td>...</td>\n      <td>...</td>\n      <td>...</td>\n    </tr>\n    <tr>\n      <th>1302</th>\n      <td>2335</td>\n      <td>https://www.toutiao.com/article/71100264659487...</td>\n      <td>https://www.toutiao.com/article/71100264659487...</td>\n      <td>0</td>\n      <td>2022-06-18</td>\n      <td>亲切星空yR</td>\n      <td>辛巴那绝对吹牛比的</td>\n      <td>赞</td>\n      <td>2022-06-18 09:44</td>\n    </tr>\n    <tr>\n      <th>1304</th>\n      <td>2337</td>\n      <td>https://www.toutiao.com/article/71100264659487...</td>\n      <td>https://www.toutiao.com/article/71100264659487...</td>\n      <td>0</td>\n      <td>2022-06-18</td>\n      <td>小草285161682</td>\n      <td>直播帶货已进入诸候争杀时代</td>\n      <td>赞</td>\n      <td>2022-06-18 00:50</td>\n    </tr>\n    <tr>\n      <th>1306</th>\n      <td>2339</td>\n      <td>https://www.toutiao.com/article/71100264659487...</td>\n      <td>https://www.toutiao.com/article/71100264659487...</td>\n      <td>0</td>\n      <td>2022-06-18</td>\n      <td>难于上青天啊</td>\n      <td>假货大王</td>\n      <td>赞</td>\n      <td>2022-06-18 11:45</td>\n    </tr>\n    <tr>\n      <th>1307</th>\n      <td>2340</td>\n      <td>https://www.toutiao.com/article/71100264659487...</td>\n      <td>https://www.toutiao.com/article/71100264659487...</td>\n      <td>0</td>\n      <td>2022-06-18</td>\n      <td>用户9298386601411</td>\n      <td>10亿有九亿九都是造假，辛有志去哪里了，还有她的消息吗，有啥值得吹嘘的</td>\n      <td>赞</td>\n      <td>2022-06-18 08:08</td>\n    </tr>\n    <tr>\n      <th>1315</th>\n      <td>2348</td>\n      <td>https://www.toutiao.com/article/71101261576174...</td>\n      <td>https://www.toutiao.com/article/71101261576174...</td>\n      <td>0</td>\n      <td>2022-06-18</td>\n      <td>O北大O心理师</td>\n      <td>听说直播间东西比较贵</td>\n      <td>1</td>\n      <td>2022-06-18 11:52</td>\n    </tr>\n  </tbody>\n</table>\n<p>105 rows × 9 columns</p>\n</div>"
     },
     "execution_count": 25,
     "metadata": {},
     "output_type": "execute_result"
    }
   ],
   "source": [
    "toutiao_yesterday['评论时间'] = toutiao_yesterday['<createdate>'].str.cat(toutiao_yesterday['评论时间'])\n",
    "toutiao_yesterday"
   ],
   "metadata": {
    "collapsed": false,
    "pycharm": {
     "name": "#%%\n"
    }
   }
  },
  {
   "cell_type": "code",
   "execution_count": 26,
   "outputs": [
    {
     "name": "stderr",
     "output_type": "stream",
     "text": [
      "C:\\Users\\Zhouzw\\AppData\\Local\\Temp\\ipykernel_25224\\3954495867.py:1: SettingWithCopyWarning: \n",
      "A value is trying to be set on a copy of a slice from a DataFrame.\n",
      "Try using .loc[row_indexer,col_indexer] = value instead\n",
      "\n",
      "See the caveats in the documentation: https://pandas.pydata.org/pandas-docs/stable/user_guide/indexing.html#returning-a-view-versus-a-copy\n",
      "  toutiao_before_yesterday['评论时间'] = toutiao_before_yesterday['评论时间'].str.extract(r'(\\d{2}:\\d{2})')\n",
      "C:\\Users\\Zhouzw\\AppData\\Local\\Temp\\ipykernel_25224\\3954495867.py:2: SettingWithCopyWarning: \n",
      "A value is trying to be set on a copy of a slice from a DataFrame.\n",
      "Try using .loc[row_indexer,col_indexer] = value instead\n",
      "\n",
      "See the caveats in the documentation: https://pandas.pydata.org/pandas-docs/stable/user_guide/indexing.html#returning-a-view-versus-a-copy\n",
      "  toutiao_before_yesterday['<createdate>'] = toutiao_before_yesterday['<createdate>'].apply(lambda t: t[:9] + '7 ')\n",
      "C:\\Users\\Zhouzw\\AppData\\Local\\Temp\\ipykernel_25224\\3954495867.py:3: SettingWithCopyWarning: \n",
      "A value is trying to be set on a copy of a slice from a DataFrame.\n",
      "Try using .loc[row_indexer,col_indexer] = value instead\n",
      "\n",
      "See the caveats in the documentation: https://pandas.pydata.org/pandas-docs/stable/user_guide/indexing.html#returning-a-view-versus-a-copy\n",
      "  toutiao_before_yesterday['评论时间'] = toutiao_before_yesterday['<createdate>'].str.cat(toutiao_before_yesterday['评论时间'])\n"
     ]
    },
    {
     "data": {
      "text/plain": "      recordid                                         <fullpath>  \\\n2          866  https://www.toutiao.com/article/71101396905855...   \n3          867  https://www.toutiao.com/article/71101396905855...   \n4          868  https://www.toutiao.com/article/71101396905855...   \n6          870  https://www.toutiao.com/article/71101396905855...   \n7          871  https://www.toutiao.com/article/71101396905855...   \n...        ...                                                ...   \n1386      2419  https://www.toutiao.com/article/71096753218169...   \n1391      2424  https://www.toutiao.com/article/71096753218169...   \n1392      2425  https://www.toutiao.com/article/71096753218169...   \n1403      2436  https://www.toutiao.com/article/71096753218169...   \n1404      2437  https://www.toutiao.com/article/71096753218169...   \n\n                                             <realpath>  <pageno>  \\\n2     https://www.toutiao.com/article/71101396905855...         0   \n3     https://www.toutiao.com/article/71101396905855...         0   \n4     https://www.toutiao.com/article/71101396905855...         0   \n6     https://www.toutiao.com/article/71101396905855...         0   \n7     https://www.toutiao.com/article/71101396905855...         0   \n...                                                 ...       ...   \n1386  https://www.toutiao.com/article/71096753218169...         0   \n1391  https://www.toutiao.com/article/71096753218169...         0   \n1392  https://www.toutiao.com/article/71096753218169...         0   \n1403  https://www.toutiao.com/article/71096753218169...         0   \n1404  https://www.toutiao.com/article/71096753218169...         0   \n\n     <createdate>             评论用户  \\\n2     2022-06-17            贤妈育儿分享   \n3     2022-06-17            高级菠萝It   \n4     2022-06-17            安逸海风FP   \n6     2022-06-17             洒脱麻麻v   \n7     2022-06-17              风吹花开   \n...           ...              ...   \n1386  2022-06-17              纽约输记   \n1391  2022-06-17           林本本1427   \n1392  2022-06-17           自由子非鱼SJ   \n1403  2022-06-17   用户4154130528250   \n1404  2022-06-17               自已美   \n\n                                                   评论内容 点赞数              评论时间  \n2     牛了！那些其他平台买到坏的，也不见会有媒体专门报道，也不会有消费者找到记者报道、联系退款不就...  14  2022-06-17 22:48  \n3     这个思路完全正确，即解决了就业问题，又能充分保证产品质量，打出东方甄选的品牌，这可是质量品牌...  28  2022-06-17 19:11  \n4                                             哈哈哈，冷连不行啊   3  2022-06-17 18:53  \n6        果蔬生鲜肯定会有的，而且是个例。人家也让你主动联系退款了，多大事啊！这在网上购物上很正常啊。  14  2022-06-17 19:20  \n7            一企业能为社会提供更多岗位，而面向全世界级。给更多优秀的年轻人机会，让他们撬动地球吧  11  2022-06-17 19:47  \n...                                                 ...  ..               ...  \n1386  终于还原了老师们本来的面目，他们本来就是为了赚钱而来的生意人，教培只是生意之一，做什么生意不...   赞  2022-06-17 06:53  \n1391  新东方带货爆火，体现出知识的力量，但希望这只是新东方解燃眉之急的一时之举，未来希望好的培训机...   1  2022-06-17 05:40  \n1392  这真是当前市场经济环境下的一股清流。新东方也是绝地求生了。看看未来市场经济走向，零售业和老百...   赞  2022-06-17 08:38  \n1403                                               税交了吗   赞  2022-06-17 00:04  \n1404                        直播带货搞活了别人的地方经济，用直播带货的方式教学吗？   赞  2022-06-17 01:50  \n\n[231 rows x 9 columns]",
      "text/html": "<div>\n<style scoped>\n    .dataframe tbody tr th:only-of-type {\n        vertical-align: middle;\n    }\n\n    .dataframe tbody tr th {\n        vertical-align: top;\n    }\n\n    .dataframe thead th {\n        text-align: right;\n    }\n</style>\n<table border=\"1\" class=\"dataframe\">\n  <thead>\n    <tr style=\"text-align: right;\">\n      <th></th>\n      <th>recordid</th>\n      <th>&lt;fullpath&gt;</th>\n      <th>&lt;realpath&gt;</th>\n      <th>&lt;pageno&gt;</th>\n      <th>&lt;createdate&gt;</th>\n      <th>评论用户</th>\n      <th>评论内容</th>\n      <th>点赞数</th>\n      <th>评论时间</th>\n    </tr>\n  </thead>\n  <tbody>\n    <tr>\n      <th>2</th>\n      <td>866</td>\n      <td>https://www.toutiao.com/article/71101396905855...</td>\n      <td>https://www.toutiao.com/article/71101396905855...</td>\n      <td>0</td>\n      <td>2022-06-17</td>\n      <td>贤妈育儿分享</td>\n      <td>牛了！那些其他平台买到坏的，也不见会有媒体专门报道，也不会有消费者找到记者报道、联系退款不就...</td>\n      <td>14</td>\n      <td>2022-06-17 22:48</td>\n    </tr>\n    <tr>\n      <th>3</th>\n      <td>867</td>\n      <td>https://www.toutiao.com/article/71101396905855...</td>\n      <td>https://www.toutiao.com/article/71101396905855...</td>\n      <td>0</td>\n      <td>2022-06-17</td>\n      <td>高级菠萝It</td>\n      <td>这个思路完全正确，即解决了就业问题，又能充分保证产品质量，打出东方甄选的品牌，这可是质量品牌...</td>\n      <td>28</td>\n      <td>2022-06-17 19:11</td>\n    </tr>\n    <tr>\n      <th>4</th>\n      <td>868</td>\n      <td>https://www.toutiao.com/article/71101396905855...</td>\n      <td>https://www.toutiao.com/article/71101396905855...</td>\n      <td>0</td>\n      <td>2022-06-17</td>\n      <td>安逸海风FP</td>\n      <td>哈哈哈，冷连不行啊</td>\n      <td>3</td>\n      <td>2022-06-17 18:53</td>\n    </tr>\n    <tr>\n      <th>6</th>\n      <td>870</td>\n      <td>https://www.toutiao.com/article/71101396905855...</td>\n      <td>https://www.toutiao.com/article/71101396905855...</td>\n      <td>0</td>\n      <td>2022-06-17</td>\n      <td>洒脱麻麻v</td>\n      <td>果蔬生鲜肯定会有的，而且是个例。人家也让你主动联系退款了，多大事啊！这在网上购物上很正常啊。</td>\n      <td>14</td>\n      <td>2022-06-17 19:20</td>\n    </tr>\n    <tr>\n      <th>7</th>\n      <td>871</td>\n      <td>https://www.toutiao.com/article/71101396905855...</td>\n      <td>https://www.toutiao.com/article/71101396905855...</td>\n      <td>0</td>\n      <td>2022-06-17</td>\n      <td>风吹花开</td>\n      <td>一企业能为社会提供更多岗位，而面向全世界级。给更多优秀的年轻人机会，让他们撬动地球吧</td>\n      <td>11</td>\n      <td>2022-06-17 19:47</td>\n    </tr>\n    <tr>\n      <th>...</th>\n      <td>...</td>\n      <td>...</td>\n      <td>...</td>\n      <td>...</td>\n      <td>...</td>\n      <td>...</td>\n      <td>...</td>\n      <td>...</td>\n      <td>...</td>\n    </tr>\n    <tr>\n      <th>1386</th>\n      <td>2419</td>\n      <td>https://www.toutiao.com/article/71096753218169...</td>\n      <td>https://www.toutiao.com/article/71096753218169...</td>\n      <td>0</td>\n      <td>2022-06-17</td>\n      <td>纽约输记</td>\n      <td>终于还原了老师们本来的面目，他们本来就是为了赚钱而来的生意人，教培只是生意之一，做什么生意不...</td>\n      <td>赞</td>\n      <td>2022-06-17 06:53</td>\n    </tr>\n    <tr>\n      <th>1391</th>\n      <td>2424</td>\n      <td>https://www.toutiao.com/article/71096753218169...</td>\n      <td>https://www.toutiao.com/article/71096753218169...</td>\n      <td>0</td>\n      <td>2022-06-17</td>\n      <td>林本本1427</td>\n      <td>新东方带货爆火，体现出知识的力量，但希望这只是新东方解燃眉之急的一时之举，未来希望好的培训机...</td>\n      <td>1</td>\n      <td>2022-06-17 05:40</td>\n    </tr>\n    <tr>\n      <th>1392</th>\n      <td>2425</td>\n      <td>https://www.toutiao.com/article/71096753218169...</td>\n      <td>https://www.toutiao.com/article/71096753218169...</td>\n      <td>0</td>\n      <td>2022-06-17</td>\n      <td>自由子非鱼SJ</td>\n      <td>这真是当前市场经济环境下的一股清流。新东方也是绝地求生了。看看未来市场经济走向，零售业和老百...</td>\n      <td>赞</td>\n      <td>2022-06-17 08:38</td>\n    </tr>\n    <tr>\n      <th>1403</th>\n      <td>2436</td>\n      <td>https://www.toutiao.com/article/71096753218169...</td>\n      <td>https://www.toutiao.com/article/71096753218169...</td>\n      <td>0</td>\n      <td>2022-06-17</td>\n      <td>用户4154130528250</td>\n      <td>税交了吗</td>\n      <td>赞</td>\n      <td>2022-06-17 00:04</td>\n    </tr>\n    <tr>\n      <th>1404</th>\n      <td>2437</td>\n      <td>https://www.toutiao.com/article/71096753218169...</td>\n      <td>https://www.toutiao.com/article/71096753218169...</td>\n      <td>0</td>\n      <td>2022-06-17</td>\n      <td>自已美</td>\n      <td>直播带货搞活了别人的地方经济，用直播带货的方式教学吗？</td>\n      <td>赞</td>\n      <td>2022-06-17 01:50</td>\n    </tr>\n  </tbody>\n</table>\n<p>231 rows × 9 columns</p>\n</div>"
     },
     "execution_count": 26,
     "metadata": {},
     "output_type": "execute_result"
    }
   ],
   "source": [
    "toutiao_before_yesterday['评论时间'] = toutiao_before_yesterday['评论时间'].str.extract(r'(\\d{2}:\\d{2})')\n",
    "toutiao_before_yesterday['<createdate>'] = toutiao_before_yesterday['<createdate>'].apply(lambda t: t[:9] + '7 ')\n",
    "toutiao_before_yesterday['评论时间'] = toutiao_before_yesterday['<createdate>'].str.cat(toutiao_before_yesterday['评论时间'])\n",
    "toutiao_before_yesterday"
   ],
   "metadata": {
    "collapsed": false,
    "pycharm": {
     "name": "#%%\n"
    }
   }
  },
  {
   "cell_type": "code",
   "execution_count": 28,
   "outputs": [
    {
     "name": "stderr",
     "output_type": "stream",
     "text": [
      "C:\\Users\\Zhouzw\\AppData\\Local\\Temp\\ipykernel_25224\\2069809111.py:1: SettingWithCopyWarning: \n",
      "A value is trying to be set on a copy of a slice from a DataFrame.\n",
      "Try using .loc[row_indexer,col_indexer] = value instead\n",
      "\n",
      "See the caveats in the documentation: https://pandas.pydata.org/pandas-docs/stable/user_guide/indexing.html#returning-a-view-versus-a-copy\n",
      "  toutiao_days['评论时间'] = toutiao_days['评论时间'].str.extract(r'(\\d+)')\n"
     ]
    },
    {
     "data": {
      "text/plain": "      recordid                                         <fullpath>  \\\n27         891  https://www.toutiao.com/article/71088900080979...   \n28         892  https://www.toutiao.com/article/71088900080979...   \n29         893  https://www.toutiao.com/article/71088900080979...   \n30         894  https://www.toutiao.com/article/71088900080979...   \n31         895  https://www.toutiao.com/article/71088900080979...   \n...        ...                                                ...   \n1394      2427  https://www.toutiao.com/article/71096753218169...   \n1395      2428  https://www.toutiao.com/article/71096753218169...   \n1401      2434  https://www.toutiao.com/article/71096753218169...   \n1402      2435  https://www.toutiao.com/article/71096753218169...   \n1405      2438  https://www.toutiao.com/article/71096753218169...   \n\n                                             <realpath>  <pageno>  \\\n27    https://www.toutiao.com/article/71088900080979...         0   \n28    https://www.toutiao.com/article/71088900080979...         0   \n29    https://www.toutiao.com/article/71088900080979...         0   \n30    https://www.toutiao.com/article/71088900080979...         0   \n31    https://www.toutiao.com/article/71088900080979...         0   \n...                                                 ...       ...   \n1394  https://www.toutiao.com/article/71096753218169...         0   \n1395  https://www.toutiao.com/article/71096753218169...         0   \n1401  https://www.toutiao.com/article/71096753218169...         0   \n1402  https://www.toutiao.com/article/71096753218169...         0   \n1405  https://www.toutiao.com/article/71096753218169...         0   \n\n               <createdate>             评论用户  \\\n27    2022-06-19 16:55:17.0             发霉滴梦   \n28    2022-06-19 16:55:17.0             数理女神   \n29    2022-06-19 16:55:17.0           一只金色的鹿   \n30    2022-06-19 16:55:17.0          不知道什么人了   \n31    2022-06-19 16:55:17.0    moon126929345   \n...                     ...              ...   \n1394  2022-06-19 17:25:44.0             南唐一愚   \n1395  2022-06-19 17:25:44.0        勇往直前的星辰3I   \n1401  2022-06-19 17:25:44.0  用户3501303889683   \n1402  2022-06-19 17:25:44.0   用户508471906693   \n1405  2022-06-19 17:25:44.0         秋风瑟瑟0325   \n\n                                      评论内容 点赞数 评论时间  \n27                           心酸应该让这些老师回到讲台  17    5  \n28             是啊，新东方如果暑假直播上课，鼓励千万人在线，不可想象  14    5  \n29     新东方太不容易了，不支持一下都不好意思，真是才华横溢，出口成章，涨见识  20    5  \n30                               在哪啊？我要去看看   2    5  \n31              挺好的，为俞敏洪点赞！！励志好男人，一般人早就躺平了  17    5  \n...                                    ...  ..  ...  \n1394                     都不想干苦力了，一窝蜂搞平台直播。   1    3  \n1395              不让讲文化，好，我们也讲\"钱\"，比比看谁挣的多！   赞    3  \n1401  讨厌买它，买它……那种和地摊一样的氛围！喜欢新东方那样的和谐自在的销售！   4    3  \n1402                        希望把“直播带货”引入正轨！   赞    3  \n1405                        没有前途，热闹一个月就凉凉了   1    3  \n\n[837 rows x 9 columns]",
      "text/html": "<div>\n<style scoped>\n    .dataframe tbody tr th:only-of-type {\n        vertical-align: middle;\n    }\n\n    .dataframe tbody tr th {\n        vertical-align: top;\n    }\n\n    .dataframe thead th {\n        text-align: right;\n    }\n</style>\n<table border=\"1\" class=\"dataframe\">\n  <thead>\n    <tr style=\"text-align: right;\">\n      <th></th>\n      <th>recordid</th>\n      <th>&lt;fullpath&gt;</th>\n      <th>&lt;realpath&gt;</th>\n      <th>&lt;pageno&gt;</th>\n      <th>&lt;createdate&gt;</th>\n      <th>评论用户</th>\n      <th>评论内容</th>\n      <th>点赞数</th>\n      <th>评论时间</th>\n    </tr>\n  </thead>\n  <tbody>\n    <tr>\n      <th>27</th>\n      <td>891</td>\n      <td>https://www.toutiao.com/article/71088900080979...</td>\n      <td>https://www.toutiao.com/article/71088900080979...</td>\n      <td>0</td>\n      <td>2022-06-19 16:55:17.0</td>\n      <td>发霉滴梦</td>\n      <td>心酸应该让这些老师回到讲台</td>\n      <td>17</td>\n      <td>5</td>\n    </tr>\n    <tr>\n      <th>28</th>\n      <td>892</td>\n      <td>https://www.toutiao.com/article/71088900080979...</td>\n      <td>https://www.toutiao.com/article/71088900080979...</td>\n      <td>0</td>\n      <td>2022-06-19 16:55:17.0</td>\n      <td>数理女神</td>\n      <td>是啊，新东方如果暑假直播上课，鼓励千万人在线，不可想象</td>\n      <td>14</td>\n      <td>5</td>\n    </tr>\n    <tr>\n      <th>29</th>\n      <td>893</td>\n      <td>https://www.toutiao.com/article/71088900080979...</td>\n      <td>https://www.toutiao.com/article/71088900080979...</td>\n      <td>0</td>\n      <td>2022-06-19 16:55:17.0</td>\n      <td>一只金色的鹿</td>\n      <td>新东方太不容易了，不支持一下都不好意思，真是才华横溢，出口成章，涨见识</td>\n      <td>20</td>\n      <td>5</td>\n    </tr>\n    <tr>\n      <th>30</th>\n      <td>894</td>\n      <td>https://www.toutiao.com/article/71088900080979...</td>\n      <td>https://www.toutiao.com/article/71088900080979...</td>\n      <td>0</td>\n      <td>2022-06-19 16:55:17.0</td>\n      <td>不知道什么人了</td>\n      <td>在哪啊？我要去看看</td>\n      <td>2</td>\n      <td>5</td>\n    </tr>\n    <tr>\n      <th>31</th>\n      <td>895</td>\n      <td>https://www.toutiao.com/article/71088900080979...</td>\n      <td>https://www.toutiao.com/article/71088900080979...</td>\n      <td>0</td>\n      <td>2022-06-19 16:55:17.0</td>\n      <td>moon126929345</td>\n      <td>挺好的，为俞敏洪点赞！！励志好男人，一般人早就躺平了</td>\n      <td>17</td>\n      <td>5</td>\n    </tr>\n    <tr>\n      <th>...</th>\n      <td>...</td>\n      <td>...</td>\n      <td>...</td>\n      <td>...</td>\n      <td>...</td>\n      <td>...</td>\n      <td>...</td>\n      <td>...</td>\n      <td>...</td>\n    </tr>\n    <tr>\n      <th>1394</th>\n      <td>2427</td>\n      <td>https://www.toutiao.com/article/71096753218169...</td>\n      <td>https://www.toutiao.com/article/71096753218169...</td>\n      <td>0</td>\n      <td>2022-06-19 17:25:44.0</td>\n      <td>南唐一愚</td>\n      <td>都不想干苦力了，一窝蜂搞平台直播。</td>\n      <td>1</td>\n      <td>3</td>\n    </tr>\n    <tr>\n      <th>1395</th>\n      <td>2428</td>\n      <td>https://www.toutiao.com/article/71096753218169...</td>\n      <td>https://www.toutiao.com/article/71096753218169...</td>\n      <td>0</td>\n      <td>2022-06-19 17:25:44.0</td>\n      <td>勇往直前的星辰3I</td>\n      <td>不让讲文化，好，我们也讲\"钱\"，比比看谁挣的多！</td>\n      <td>赞</td>\n      <td>3</td>\n    </tr>\n    <tr>\n      <th>1401</th>\n      <td>2434</td>\n      <td>https://www.toutiao.com/article/71096753218169...</td>\n      <td>https://www.toutiao.com/article/71096753218169...</td>\n      <td>0</td>\n      <td>2022-06-19 17:25:44.0</td>\n      <td>用户3501303889683</td>\n      <td>讨厌买它，买它……那种和地摊一样的氛围！喜欢新东方那样的和谐自在的销售！</td>\n      <td>4</td>\n      <td>3</td>\n    </tr>\n    <tr>\n      <th>1402</th>\n      <td>2435</td>\n      <td>https://www.toutiao.com/article/71096753218169...</td>\n      <td>https://www.toutiao.com/article/71096753218169...</td>\n      <td>0</td>\n      <td>2022-06-19 17:25:44.0</td>\n      <td>用户508471906693</td>\n      <td>希望把“直播带货”引入正轨！</td>\n      <td>赞</td>\n      <td>3</td>\n    </tr>\n    <tr>\n      <th>1405</th>\n      <td>2438</td>\n      <td>https://www.toutiao.com/article/71096753218169...</td>\n      <td>https://www.toutiao.com/article/71096753218169...</td>\n      <td>0</td>\n      <td>2022-06-19 17:25:44.0</td>\n      <td>秋风瑟瑟0325</td>\n      <td>没有前途，热闹一个月就凉凉了</td>\n      <td>1</td>\n      <td>3</td>\n    </tr>\n  </tbody>\n</table>\n<p>837 rows × 9 columns</p>\n</div>"
     },
     "execution_count": 28,
     "metadata": {},
     "output_type": "execute_result"
    }
   ],
   "source": [
    "toutiao_days['评论时间'] = toutiao_days['评论时间'].str.extract(r'(\\d+)')\n",
    "toutiao_days"
   ],
   "metadata": {
    "collapsed": false,
    "pycharm": {
     "name": "#%%\n"
    }
   }
  },
  {
   "cell_type": "code",
   "execution_count": 30,
   "outputs": [
    {
     "name": "stderr",
     "output_type": "stream",
     "text": [
      "C:\\Users\\Zhouzw\\AppData\\Local\\Temp\\ipykernel_25224\\2073402599.py:1: SettingWithCopyWarning: \n",
      "A value is trying to be set on a copy of a slice from a DataFrame.\n",
      "Try using .loc[row_indexer,col_indexer] = value instead\n",
      "\n",
      "See the caveats in the documentation: https://pandas.pydata.org/pandas-docs/stable/user_guide/indexing.html#returning-a-view-versus-a-copy\n",
      "  toutiao_days['评论时间'] = toutiao_days['<createdate>'].apply(pd.Timestamp) - toutiao_days['评论时间'].apply(\n"
     ]
    },
    {
     "data": {
      "text/plain": "      recordid                                         <fullpath>  \\\n27         891  https://www.toutiao.com/article/71088900080979...   \n28         892  https://www.toutiao.com/article/71088900080979...   \n29         893  https://www.toutiao.com/article/71088900080979...   \n30         894  https://www.toutiao.com/article/71088900080979...   \n31         895  https://www.toutiao.com/article/71088900080979...   \n...        ...                                                ...   \n1394      2427  https://www.toutiao.com/article/71096753218169...   \n1395      2428  https://www.toutiao.com/article/71096753218169...   \n1401      2434  https://www.toutiao.com/article/71096753218169...   \n1402      2435  https://www.toutiao.com/article/71096753218169...   \n1405      2438  https://www.toutiao.com/article/71096753218169...   \n\n                                             <realpath>  <pageno>  \\\n27    https://www.toutiao.com/article/71088900080979...         0   \n28    https://www.toutiao.com/article/71088900080979...         0   \n29    https://www.toutiao.com/article/71088900080979...         0   \n30    https://www.toutiao.com/article/71088900080979...         0   \n31    https://www.toutiao.com/article/71088900080979...         0   \n...                                                 ...       ...   \n1394  https://www.toutiao.com/article/71096753218169...         0   \n1395  https://www.toutiao.com/article/71096753218169...         0   \n1401  https://www.toutiao.com/article/71096753218169...         0   \n1402  https://www.toutiao.com/article/71096753218169...         0   \n1405  https://www.toutiao.com/article/71096753218169...         0   \n\n               <createdate>             评论用户  \\\n27    2022-06-19 16:55:17.0             发霉滴梦   \n28    2022-06-19 16:55:17.0             数理女神   \n29    2022-06-19 16:55:17.0           一只金色的鹿   \n30    2022-06-19 16:55:17.0          不知道什么人了   \n31    2022-06-19 16:55:17.0    moon126929345   \n...                     ...              ...   \n1394  2022-06-19 17:25:44.0             南唐一愚   \n1395  2022-06-19 17:25:44.0        勇往直前的星辰3I   \n1401  2022-06-19 17:25:44.0  用户3501303889683   \n1402  2022-06-19 17:25:44.0   用户508471906693   \n1405  2022-06-19 17:25:44.0         秋风瑟瑟0325   \n\n                                      评论内容 点赞数                评论时间  \n27                           心酸应该让这些老师回到讲台  17 2022-06-14 16:55:17  \n28             是啊，新东方如果暑假直播上课，鼓励千万人在线，不可想象  14 2022-06-14 16:55:17  \n29     新东方太不容易了，不支持一下都不好意思，真是才华横溢，出口成章，涨见识  20 2022-06-14 16:55:17  \n30                               在哪啊？我要去看看   2 2022-06-14 16:55:17  \n31              挺好的，为俞敏洪点赞！！励志好男人，一般人早就躺平了  17 2022-06-14 16:55:17  \n...                                    ...  ..                 ...  \n1394                     都不想干苦力了，一窝蜂搞平台直播。   1 2022-06-16 17:25:44  \n1395              不让讲文化，好，我们也讲\"钱\"，比比看谁挣的多！   赞 2022-06-16 17:25:44  \n1401  讨厌买它，买它……那种和地摊一样的氛围！喜欢新东方那样的和谐自在的销售！   4 2022-06-16 17:25:44  \n1402                        希望把“直播带货”引入正轨！   赞 2022-06-16 17:25:44  \n1405                        没有前途，热闹一个月就凉凉了   1 2022-06-16 17:25:44  \n\n[837 rows x 9 columns]",
      "text/html": "<div>\n<style scoped>\n    .dataframe tbody tr th:only-of-type {\n        vertical-align: middle;\n    }\n\n    .dataframe tbody tr th {\n        vertical-align: top;\n    }\n\n    .dataframe thead th {\n        text-align: right;\n    }\n</style>\n<table border=\"1\" class=\"dataframe\">\n  <thead>\n    <tr style=\"text-align: right;\">\n      <th></th>\n      <th>recordid</th>\n      <th>&lt;fullpath&gt;</th>\n      <th>&lt;realpath&gt;</th>\n      <th>&lt;pageno&gt;</th>\n      <th>&lt;createdate&gt;</th>\n      <th>评论用户</th>\n      <th>评论内容</th>\n      <th>点赞数</th>\n      <th>评论时间</th>\n    </tr>\n  </thead>\n  <tbody>\n    <tr>\n      <th>27</th>\n      <td>891</td>\n      <td>https://www.toutiao.com/article/71088900080979...</td>\n      <td>https://www.toutiao.com/article/71088900080979...</td>\n      <td>0</td>\n      <td>2022-06-19 16:55:17.0</td>\n      <td>发霉滴梦</td>\n      <td>心酸应该让这些老师回到讲台</td>\n      <td>17</td>\n      <td>2022-06-14 16:55:17</td>\n    </tr>\n    <tr>\n      <th>28</th>\n      <td>892</td>\n      <td>https://www.toutiao.com/article/71088900080979...</td>\n      <td>https://www.toutiao.com/article/71088900080979...</td>\n      <td>0</td>\n      <td>2022-06-19 16:55:17.0</td>\n      <td>数理女神</td>\n      <td>是啊，新东方如果暑假直播上课，鼓励千万人在线，不可想象</td>\n      <td>14</td>\n      <td>2022-06-14 16:55:17</td>\n    </tr>\n    <tr>\n      <th>29</th>\n      <td>893</td>\n      <td>https://www.toutiao.com/article/71088900080979...</td>\n      <td>https://www.toutiao.com/article/71088900080979...</td>\n      <td>0</td>\n      <td>2022-06-19 16:55:17.0</td>\n      <td>一只金色的鹿</td>\n      <td>新东方太不容易了，不支持一下都不好意思，真是才华横溢，出口成章，涨见识</td>\n      <td>20</td>\n      <td>2022-06-14 16:55:17</td>\n    </tr>\n    <tr>\n      <th>30</th>\n      <td>894</td>\n      <td>https://www.toutiao.com/article/71088900080979...</td>\n      <td>https://www.toutiao.com/article/71088900080979...</td>\n      <td>0</td>\n      <td>2022-06-19 16:55:17.0</td>\n      <td>不知道什么人了</td>\n      <td>在哪啊？我要去看看</td>\n      <td>2</td>\n      <td>2022-06-14 16:55:17</td>\n    </tr>\n    <tr>\n      <th>31</th>\n      <td>895</td>\n      <td>https://www.toutiao.com/article/71088900080979...</td>\n      <td>https://www.toutiao.com/article/71088900080979...</td>\n      <td>0</td>\n      <td>2022-06-19 16:55:17.0</td>\n      <td>moon126929345</td>\n      <td>挺好的，为俞敏洪点赞！！励志好男人，一般人早就躺平了</td>\n      <td>17</td>\n      <td>2022-06-14 16:55:17</td>\n    </tr>\n    <tr>\n      <th>...</th>\n      <td>...</td>\n      <td>...</td>\n      <td>...</td>\n      <td>...</td>\n      <td>...</td>\n      <td>...</td>\n      <td>...</td>\n      <td>...</td>\n      <td>...</td>\n    </tr>\n    <tr>\n      <th>1394</th>\n      <td>2427</td>\n      <td>https://www.toutiao.com/article/71096753218169...</td>\n      <td>https://www.toutiao.com/article/71096753218169...</td>\n      <td>0</td>\n      <td>2022-06-19 17:25:44.0</td>\n      <td>南唐一愚</td>\n      <td>都不想干苦力了，一窝蜂搞平台直播。</td>\n      <td>1</td>\n      <td>2022-06-16 17:25:44</td>\n    </tr>\n    <tr>\n      <th>1395</th>\n      <td>2428</td>\n      <td>https://www.toutiao.com/article/71096753218169...</td>\n      <td>https://www.toutiao.com/article/71096753218169...</td>\n      <td>0</td>\n      <td>2022-06-19 17:25:44.0</td>\n      <td>勇往直前的星辰3I</td>\n      <td>不让讲文化，好，我们也讲\"钱\"，比比看谁挣的多！</td>\n      <td>赞</td>\n      <td>2022-06-16 17:25:44</td>\n    </tr>\n    <tr>\n      <th>1401</th>\n      <td>2434</td>\n      <td>https://www.toutiao.com/article/71096753218169...</td>\n      <td>https://www.toutiao.com/article/71096753218169...</td>\n      <td>0</td>\n      <td>2022-06-19 17:25:44.0</td>\n      <td>用户3501303889683</td>\n      <td>讨厌买它，买它……那种和地摊一样的氛围！喜欢新东方那样的和谐自在的销售！</td>\n      <td>4</td>\n      <td>2022-06-16 17:25:44</td>\n    </tr>\n    <tr>\n      <th>1402</th>\n      <td>2435</td>\n      <td>https://www.toutiao.com/article/71096753218169...</td>\n      <td>https://www.toutiao.com/article/71096753218169...</td>\n      <td>0</td>\n      <td>2022-06-19 17:25:44.0</td>\n      <td>用户508471906693</td>\n      <td>希望把“直播带货”引入正轨！</td>\n      <td>赞</td>\n      <td>2022-06-16 17:25:44</td>\n    </tr>\n    <tr>\n      <th>1405</th>\n      <td>2438</td>\n      <td>https://www.toutiao.com/article/71096753218169...</td>\n      <td>https://www.toutiao.com/article/71096753218169...</td>\n      <td>0</td>\n      <td>2022-06-19 17:25:44.0</td>\n      <td>秋风瑟瑟0325</td>\n      <td>没有前途，热闹一个月就凉凉了</td>\n      <td>1</td>\n      <td>2022-06-16 17:25:44</td>\n    </tr>\n  </tbody>\n</table>\n<p>837 rows × 9 columns</p>\n</div>"
     },
     "execution_count": 30,
     "metadata": {},
     "output_type": "execute_result"
    }
   ],
   "source": [
    "toutiao_days['评论时间'] = toutiao_days['<createdate>'].apply(pd.Timestamp) - toutiao_days['评论时间'].apply(\n",
    "    lambda x: pd.Timedelta(int(x), unit='day'))\n",
    "toutiao_days"
   ],
   "metadata": {
    "collapsed": false,
    "pycharm": {
     "name": "#%%\n"
    }
   }
  },
  {
   "cell_type": "code",
   "execution_count": 31,
   "outputs": [
    {
     "name": "stderr",
     "output_type": "stream",
     "text": [
      "C:\\Users\\Zhouzw\\AppData\\Local\\Temp\\ipykernel_25224\\2002742466.py:1: SettingWithCopyWarning: \n",
      "A value is trying to be set on a copy of a slice from a DataFrame.\n",
      "Try using .loc[row_indexer,col_indexer] = value instead\n",
      "\n",
      "See the caveats in the documentation: https://pandas.pydata.org/pandas-docs/stable/user_guide/indexing.html#returning-a-view-versus-a-copy\n",
      "  toutiao_hour['评论时间'] = toutiao_hour['评论时间'].str.extract(r'(\\d+)')\n",
      "C:\\Users\\Zhouzw\\AppData\\Local\\Temp\\ipykernel_25224\\2002742466.py:2: SettingWithCopyWarning: \n",
      "A value is trying to be set on a copy of a slice from a DataFrame.\n",
      "Try using .loc[row_indexer,col_indexer] = value instead\n",
      "\n",
      "See the caveats in the documentation: https://pandas.pydata.org/pandas-docs/stable/user_guide/indexing.html#returning-a-view-versus-a-copy\n",
      "  toutiao_hour['评论时间'] = toutiao_hour['<createdate>'].apply(pd.Timestamp) - toutiao_hour['评论时间'].apply(\n"
     ]
    },
    {
     "data": {
      "text/plain": "      recordid                                         <fullpath>  \\\n19         883  https://www.toutiao.com/article/71101396905855...   \n23         887  https://www.toutiao.com/article/71101396905855...   \n180       1060  https://www.toutiao.com/article/71093679691923...   \n181       1061  https://www.toutiao.com/article/71093679691923...   \n252       1132  https://www.toutiao.com/article/71097689291316...   \n...        ...                                                ...   \n1276      2309  https://www.toutiao.com/article/71100264659487...   \n1285      2318  https://www.toutiao.com/article/71100264659487...   \n1289      2322  https://www.toutiao.com/article/71100264659487...   \n1291      2324  https://www.toutiao.com/article/71100264659487...   \n1294      2327  https://www.toutiao.com/article/71100264659487...   \n\n                                             <realpath>  <pageno>  \\\n19    https://www.toutiao.com/article/71101396905855...         0   \n23    https://www.toutiao.com/article/71101396905855...         0   \n180   https://www.toutiao.com/article/71093679691923...         0   \n181   https://www.toutiao.com/article/71093679691923...         0   \n252   https://www.toutiao.com/article/71097689291316...         0   \n...                                                 ...       ...   \n1276  https://www.toutiao.com/article/71100264659487...         0   \n1285  https://www.toutiao.com/article/71100264659487...         0   \n1289  https://www.toutiao.com/article/71100264659487...         0   \n1291  https://www.toutiao.com/article/71100264659487...         0   \n1294  https://www.toutiao.com/article/71100264659487...         0   \n\n               <createdate>           评论用户  \\\n19    2022-06-19 16:55:02.0           南郭箫生   \n23    2022-06-19 16:55:05.0  人生如梦二80523978   \n180   2022-06-19 16:55:58.0         777花花儿   \n181   2022-06-19 16:55:58.0            傻娃仔   \n252   2022-06-19 17:00:01.0       正大光明铅笔js   \n...                     ...            ...   \n1276  2022-06-19 17:03:16.0        额济纳的胡杨林   \n1285  2022-06-19 17:03:16.0        聪明的海洋wq   \n1289  2022-06-19 17:03:16.0         踩坑从不回头   \n1291  2022-06-19 17:03:16.0           中科益农   \n1294  2022-06-19 17:03:19.0          repre   \n\n                                                   评论内容 点赞数  \\\n19                                             佩服老俞[作揖]   赞   \n23                                                  转发了   赞   \n180                          没有一朵花，一开始就是花。没有一朵花，到最后只是花。   赞   \n181                              卖家似懂非懂，然后买家也是似懂非懂。就拍咯！   赞   \n252   俞敏洪老师是一个品德高尚的人，是个大善人，大好人，他的敬业，他的为人让我很敬佩，很感动，这样...   2   \n...                                                 ...  ..   \n1276                                   从不去1万人以上的直播间去买东西   赞   \n1285                                          快手，刷单假的太多   赞   \n1289  辛巴？你开玩笑，辛巴能是一个级别吗？一嘴一个家人们，只想掏空你的腰包，啥赚钱卖啥，有啥可比性...   赞   \n1291           做舔狗也要客观分析：辛巴没有平台给流量扶持，没有几年的直播，能一下直播就几十亿？   赞   \n1294                                              无聊的对比   赞   \n\n                    评论时间  \n19   2022-06-18 17:55:02  \n23   2022-06-19 09:55:05  \n180  2022-06-19 01:55:58  \n181  2022-06-19 05:55:58  \n252  2022-06-18 22:00:01  \n...                  ...  \n1276 2022-06-18 23:03:16  \n1285 2022-06-19 01:03:16  \n1289 2022-06-19 13:03:16  \n1291 2022-06-18 23:03:16  \n1294 2022-06-19 13:03:19  \n\n[83 rows x 9 columns]",
      "text/html": "<div>\n<style scoped>\n    .dataframe tbody tr th:only-of-type {\n        vertical-align: middle;\n    }\n\n    .dataframe tbody tr th {\n        vertical-align: top;\n    }\n\n    .dataframe thead th {\n        text-align: right;\n    }\n</style>\n<table border=\"1\" class=\"dataframe\">\n  <thead>\n    <tr style=\"text-align: right;\">\n      <th></th>\n      <th>recordid</th>\n      <th>&lt;fullpath&gt;</th>\n      <th>&lt;realpath&gt;</th>\n      <th>&lt;pageno&gt;</th>\n      <th>&lt;createdate&gt;</th>\n      <th>评论用户</th>\n      <th>评论内容</th>\n      <th>点赞数</th>\n      <th>评论时间</th>\n    </tr>\n  </thead>\n  <tbody>\n    <tr>\n      <th>19</th>\n      <td>883</td>\n      <td>https://www.toutiao.com/article/71101396905855...</td>\n      <td>https://www.toutiao.com/article/71101396905855...</td>\n      <td>0</td>\n      <td>2022-06-19 16:55:02.0</td>\n      <td>南郭箫生</td>\n      <td>佩服老俞[作揖]</td>\n      <td>赞</td>\n      <td>2022-06-18 17:55:02</td>\n    </tr>\n    <tr>\n      <th>23</th>\n      <td>887</td>\n      <td>https://www.toutiao.com/article/71101396905855...</td>\n      <td>https://www.toutiao.com/article/71101396905855...</td>\n      <td>0</td>\n      <td>2022-06-19 16:55:05.0</td>\n      <td>人生如梦二80523978</td>\n      <td>转发了</td>\n      <td>赞</td>\n      <td>2022-06-19 09:55:05</td>\n    </tr>\n    <tr>\n      <th>180</th>\n      <td>1060</td>\n      <td>https://www.toutiao.com/article/71093679691923...</td>\n      <td>https://www.toutiao.com/article/71093679691923...</td>\n      <td>0</td>\n      <td>2022-06-19 16:55:58.0</td>\n      <td>777花花儿</td>\n      <td>没有一朵花，一开始就是花。没有一朵花，到最后只是花。</td>\n      <td>赞</td>\n      <td>2022-06-19 01:55:58</td>\n    </tr>\n    <tr>\n      <th>181</th>\n      <td>1061</td>\n      <td>https://www.toutiao.com/article/71093679691923...</td>\n      <td>https://www.toutiao.com/article/71093679691923...</td>\n      <td>0</td>\n      <td>2022-06-19 16:55:58.0</td>\n      <td>傻娃仔</td>\n      <td>卖家似懂非懂，然后买家也是似懂非懂。就拍咯！</td>\n      <td>赞</td>\n      <td>2022-06-19 05:55:58</td>\n    </tr>\n    <tr>\n      <th>252</th>\n      <td>1132</td>\n      <td>https://www.toutiao.com/article/71097689291316...</td>\n      <td>https://www.toutiao.com/article/71097689291316...</td>\n      <td>0</td>\n      <td>2022-06-19 17:00:01.0</td>\n      <td>正大光明铅笔js</td>\n      <td>俞敏洪老师是一个品德高尚的人，是个大善人，大好人，他的敬业，他的为人让我很敬佩，很感动，这样...</td>\n      <td>2</td>\n      <td>2022-06-18 22:00:01</td>\n    </tr>\n    <tr>\n      <th>...</th>\n      <td>...</td>\n      <td>...</td>\n      <td>...</td>\n      <td>...</td>\n      <td>...</td>\n      <td>...</td>\n      <td>...</td>\n      <td>...</td>\n      <td>...</td>\n    </tr>\n    <tr>\n      <th>1276</th>\n      <td>2309</td>\n      <td>https://www.toutiao.com/article/71100264659487...</td>\n      <td>https://www.toutiao.com/article/71100264659487...</td>\n      <td>0</td>\n      <td>2022-06-19 17:03:16.0</td>\n      <td>额济纳的胡杨林</td>\n      <td>从不去1万人以上的直播间去买东西</td>\n      <td>赞</td>\n      <td>2022-06-18 23:03:16</td>\n    </tr>\n    <tr>\n      <th>1285</th>\n      <td>2318</td>\n      <td>https://www.toutiao.com/article/71100264659487...</td>\n      <td>https://www.toutiao.com/article/71100264659487...</td>\n      <td>0</td>\n      <td>2022-06-19 17:03:16.0</td>\n      <td>聪明的海洋wq</td>\n      <td>快手，刷单假的太多</td>\n      <td>赞</td>\n      <td>2022-06-19 01:03:16</td>\n    </tr>\n    <tr>\n      <th>1289</th>\n      <td>2322</td>\n      <td>https://www.toutiao.com/article/71100264659487...</td>\n      <td>https://www.toutiao.com/article/71100264659487...</td>\n      <td>0</td>\n      <td>2022-06-19 17:03:16.0</td>\n      <td>踩坑从不回头</td>\n      <td>辛巴？你开玩笑，辛巴能是一个级别吗？一嘴一个家人们，只想掏空你的腰包，啥赚钱卖啥，有啥可比性...</td>\n      <td>赞</td>\n      <td>2022-06-19 13:03:16</td>\n    </tr>\n    <tr>\n      <th>1291</th>\n      <td>2324</td>\n      <td>https://www.toutiao.com/article/71100264659487...</td>\n      <td>https://www.toutiao.com/article/71100264659487...</td>\n      <td>0</td>\n      <td>2022-06-19 17:03:16.0</td>\n      <td>中科益农</td>\n      <td>做舔狗也要客观分析：辛巴没有平台给流量扶持，没有几年的直播，能一下直播就几十亿？</td>\n      <td>赞</td>\n      <td>2022-06-18 23:03:16</td>\n    </tr>\n    <tr>\n      <th>1294</th>\n      <td>2327</td>\n      <td>https://www.toutiao.com/article/71100264659487...</td>\n      <td>https://www.toutiao.com/article/71100264659487...</td>\n      <td>0</td>\n      <td>2022-06-19 17:03:19.0</td>\n      <td>repre</td>\n      <td>无聊的对比</td>\n      <td>赞</td>\n      <td>2022-06-19 13:03:19</td>\n    </tr>\n  </tbody>\n</table>\n<p>83 rows × 9 columns</p>\n</div>"
     },
     "execution_count": 31,
     "metadata": {},
     "output_type": "execute_result"
    }
   ],
   "source": [
    "toutiao_hour['评论时间'] = toutiao_hour['评论时间'].str.extract(r'(\\d+)')\n",
    "toutiao_hour['评论时间'] = toutiao_hour['<createdate>'].apply(pd.Timestamp) - toutiao_hour['评论时间'].apply(\n",
    "    lambda x: pd.Timedelta(int(x), unit='hour'))\n",
    "toutiao_hour"
   ],
   "metadata": {
    "collapsed": false,
    "pycharm": {
     "name": "#%%\n"
    }
   }
  },
  {
   "cell_type": "code",
   "execution_count": 32,
   "outputs": [
    {
     "name": "stderr",
     "output_type": "stream",
     "text": [
      "C:\\Users\\Zhouzw\\AppData\\Local\\Temp\\ipykernel_25224\\1163435577.py:1: SettingWithCopyWarning: \n",
      "A value is trying to be set on a copy of a slice from a DataFrame.\n",
      "Try using .loc[row_indexer,col_indexer] = value instead\n",
      "\n",
      "See the caveats in the documentation: https://pandas.pydata.org/pandas-docs/stable/user_guide/indexing.html#returning-a-view-versus-a-copy\n",
      "  toutiao_minutes['评论时间'] = toutiao_minutes['评论时间'].str.extract(r'(\\d+)')\n",
      "C:\\Users\\Zhouzw\\AppData\\Local\\Temp\\ipykernel_25224\\1163435577.py:2: SettingWithCopyWarning: \n",
      "A value is trying to be set on a copy of a slice from a DataFrame.\n",
      "Try using .loc[row_indexer,col_indexer] = value instead\n",
      "\n",
      "See the caveats in the documentation: https://pandas.pydata.org/pandas-docs/stable/user_guide/indexing.html#returning-a-view-versus-a-copy\n",
      "  toutiao_minutes['评论时间'] = toutiao_minutes['<createdate>'].apply(pd.Timestamp) - toutiao_minutes['评论时间'].apply(\n"
     ]
    },
    {
     "data": {
      "text/plain": "      recordid                                         <fullpath>  \\\n1210      2243  https://www.toutiao.com/article/71100264659487...   \n\n                                             <realpath>  <pageno>  \\\n1210  https://www.toutiao.com/article/71100264659487...         0   \n\n               <createdate>           评论用户      评论内容 点赞数                评论时间  \n1210  2022-06-19 17:03:04.0  游泳的鱼181999170  ，新东方是正能量   赞 2022-06-19 16:24:04  ",
      "text/html": "<div>\n<style scoped>\n    .dataframe tbody tr th:only-of-type {\n        vertical-align: middle;\n    }\n\n    .dataframe tbody tr th {\n        vertical-align: top;\n    }\n\n    .dataframe thead th {\n        text-align: right;\n    }\n</style>\n<table border=\"1\" class=\"dataframe\">\n  <thead>\n    <tr style=\"text-align: right;\">\n      <th></th>\n      <th>recordid</th>\n      <th>&lt;fullpath&gt;</th>\n      <th>&lt;realpath&gt;</th>\n      <th>&lt;pageno&gt;</th>\n      <th>&lt;createdate&gt;</th>\n      <th>评论用户</th>\n      <th>评论内容</th>\n      <th>点赞数</th>\n      <th>评论时间</th>\n    </tr>\n  </thead>\n  <tbody>\n    <tr>\n      <th>1210</th>\n      <td>2243</td>\n      <td>https://www.toutiao.com/article/71100264659487...</td>\n      <td>https://www.toutiao.com/article/71100264659487...</td>\n      <td>0</td>\n      <td>2022-06-19 17:03:04.0</td>\n      <td>游泳的鱼181999170</td>\n      <td>，新东方是正能量</td>\n      <td>赞</td>\n      <td>2022-06-19 16:24:04</td>\n    </tr>\n  </tbody>\n</table>\n</div>"
     },
     "execution_count": 32,
     "metadata": {},
     "output_type": "execute_result"
    }
   ],
   "source": [
    "toutiao_minutes['评论时间'] = toutiao_minutes['评论时间'].str.extract(r'(\\d+)')\n",
    "toutiao_minutes['评论时间'] = toutiao_minutes['<createdate>'].apply(pd.Timestamp) - toutiao_minutes['评论时间'].apply(\n",
    "    lambda x: pd.Timedelta(int(x), unit='minute'))\n",
    "toutiao_minutes"
   ],
   "metadata": {
    "collapsed": false,
    "pycharm": {
     "name": "#%%\n"
    }
   }
  },
  {
   "cell_type": "code",
   "execution_count": 33,
   "outputs": [
    {
     "data": {
      "text/plain": "      recordid                                         <fullpath>  \\\n0          864  https://www.toutiao.com/article/71100643765387...   \n1          865  https://www.toutiao.com/article/71100643765387...   \n5          869  https://www.toutiao.com/article/71101396905855...   \n9          873  https://www.toutiao.com/article/71101396905855...   \n11         875  https://www.toutiao.com/article/71101396905855...   \n...        ...                                                ...   \n1285      2318  https://www.toutiao.com/article/71100264659487...   \n1289      2322  https://www.toutiao.com/article/71100264659487...   \n1291      2324  https://www.toutiao.com/article/71100264659487...   \n1294      2327  https://www.toutiao.com/article/71100264659487...   \n1210      2243  https://www.toutiao.com/article/71100264659487...   \n\n                                             <realpath>  <pageno>  \\\n0     https://www.toutiao.com/article/71100643765387...         0   \n1     https://www.toutiao.com/article/71100643765387...         0   \n5     https://www.toutiao.com/article/71101396905855...         0   \n9     https://www.toutiao.com/article/71101396905855...         0   \n11    https://www.toutiao.com/article/71101396905855...         0   \n...                                                 ...       ...   \n1285  https://www.toutiao.com/article/71100264659487...         0   \n1289  https://www.toutiao.com/article/71100264659487...         0   \n1291  https://www.toutiao.com/article/71100264659487...         0   \n1294  https://www.toutiao.com/article/71100264659487...         0   \n1210  https://www.toutiao.com/article/71100264659487...         0   \n\n               <createdate>           评论用户  \\\n0               2022-06-18       我是张先生ANoL   \n1               2022-06-18       润物无声2020朱   \n5               2022-06-18      斜阳下我那飘逸的秀发   \n9               2022-06-18          大气饺子o9   \n11              2022-06-18            百草健康   \n...                     ...            ...   \n1285  2022-06-19 17:03:16.0        聪明的海洋wq   \n1289  2022-06-19 17:03:16.0         踩坑从不回头   \n1291  2022-06-19 17:03:16.0           中科益农   \n1294  2022-06-19 17:03:19.0          repre   \n1210  2022-06-19 17:03:04.0  游泳的鱼181999170   \n\n                                                   评论内容 点赞数  \\\n0                                 新巴表示不服家人们，赶紧去东方直播间捣乱吧   2   \n1     红不了一个月。实际上就是带货，因为有新东方教育的名头，所以他就加了一点啊教育的味道，没想到就...   赞   \n5     第三方发货，很容易出现品质问题，那些负责装货打包的人，素质没那么高，用劣质产品以次充好，没有...   4   \n9       我也买了，在驿站放了两天也没有这样，这样诋毁人家好吗？真的有坏的找客服索赔就可以了，何必这样？   1   \n11    俞敏洪老师！一直关注！你的分享我常看我很受益！祝你事业在辉煌！给国家作更大贡献！不忘初心！牢...   2   \n...                                                 ...  ..   \n1285                                          快手，刷单假的太多   赞   \n1289  辛巴？你开玩笑，辛巴能是一个级别吗？一嘴一个家人们，只想掏空你的腰包，啥赚钱卖啥，有啥可比性...   赞   \n1291           做舔狗也要客观分析：辛巴没有平台给流量扶持，没有几年的直播，能一下直播就几十亿？   赞   \n1294                                              无聊的对比   赞   \n1210                                           ，新东方是正能量   赞   \n\n                     评论时间  \n0        2022-06-18 10:14  \n1        2022-06-18 10:15  \n5        2022-06-18 00:15  \n9        2022-06-18 10:22  \n11       2022-06-18 08:24  \n...                   ...  \n1285  2022-06-19 01:03:16  \n1289  2022-06-19 13:03:16  \n1291  2022-06-18 23:03:16  \n1294  2022-06-19 13:03:19  \n1210  2022-06-19 16:24:04  \n\n[1257 rows x 9 columns]",
      "text/html": "<div>\n<style scoped>\n    .dataframe tbody tr th:only-of-type {\n        vertical-align: middle;\n    }\n\n    .dataframe tbody tr th {\n        vertical-align: top;\n    }\n\n    .dataframe thead th {\n        text-align: right;\n    }\n</style>\n<table border=\"1\" class=\"dataframe\">\n  <thead>\n    <tr style=\"text-align: right;\">\n      <th></th>\n      <th>recordid</th>\n      <th>&lt;fullpath&gt;</th>\n      <th>&lt;realpath&gt;</th>\n      <th>&lt;pageno&gt;</th>\n      <th>&lt;createdate&gt;</th>\n      <th>评论用户</th>\n      <th>评论内容</th>\n      <th>点赞数</th>\n      <th>评论时间</th>\n    </tr>\n  </thead>\n  <tbody>\n    <tr>\n      <th>0</th>\n      <td>864</td>\n      <td>https://www.toutiao.com/article/71100643765387...</td>\n      <td>https://www.toutiao.com/article/71100643765387...</td>\n      <td>0</td>\n      <td>2022-06-18</td>\n      <td>我是张先生ANoL</td>\n      <td>新巴表示不服家人们，赶紧去东方直播间捣乱吧</td>\n      <td>2</td>\n      <td>2022-06-18 10:14</td>\n    </tr>\n    <tr>\n      <th>1</th>\n      <td>865</td>\n      <td>https://www.toutiao.com/article/71100643765387...</td>\n      <td>https://www.toutiao.com/article/71100643765387...</td>\n      <td>0</td>\n      <td>2022-06-18</td>\n      <td>润物无声2020朱</td>\n      <td>红不了一个月。实际上就是带货，因为有新东方教育的名头，所以他就加了一点啊教育的味道，没想到就...</td>\n      <td>赞</td>\n      <td>2022-06-18 10:15</td>\n    </tr>\n    <tr>\n      <th>5</th>\n      <td>869</td>\n      <td>https://www.toutiao.com/article/71101396905855...</td>\n      <td>https://www.toutiao.com/article/71101396905855...</td>\n      <td>0</td>\n      <td>2022-06-18</td>\n      <td>斜阳下我那飘逸的秀发</td>\n      <td>第三方发货，很容易出现品质问题，那些负责装货打包的人，素质没那么高，用劣质产品以次充好，没有...</td>\n      <td>4</td>\n      <td>2022-06-18 00:15</td>\n    </tr>\n    <tr>\n      <th>9</th>\n      <td>873</td>\n      <td>https://www.toutiao.com/article/71101396905855...</td>\n      <td>https://www.toutiao.com/article/71101396905855...</td>\n      <td>0</td>\n      <td>2022-06-18</td>\n      <td>大气饺子o9</td>\n      <td>我也买了，在驿站放了两天也没有这样，这样诋毁人家好吗？真的有坏的找客服索赔就可以了，何必这样？</td>\n      <td>1</td>\n      <td>2022-06-18 10:22</td>\n    </tr>\n    <tr>\n      <th>11</th>\n      <td>875</td>\n      <td>https://www.toutiao.com/article/71101396905855...</td>\n      <td>https://www.toutiao.com/article/71101396905855...</td>\n      <td>0</td>\n      <td>2022-06-18</td>\n      <td>百草健康</td>\n      <td>俞敏洪老师！一直关注！你的分享我常看我很受益！祝你事业在辉煌！给国家作更大贡献！不忘初心！牢...</td>\n      <td>2</td>\n      <td>2022-06-18 08:24</td>\n    </tr>\n    <tr>\n      <th>...</th>\n      <td>...</td>\n      <td>...</td>\n      <td>...</td>\n      <td>...</td>\n      <td>...</td>\n      <td>...</td>\n      <td>...</td>\n      <td>...</td>\n      <td>...</td>\n    </tr>\n    <tr>\n      <th>1285</th>\n      <td>2318</td>\n      <td>https://www.toutiao.com/article/71100264659487...</td>\n      <td>https://www.toutiao.com/article/71100264659487...</td>\n      <td>0</td>\n      <td>2022-06-19 17:03:16.0</td>\n      <td>聪明的海洋wq</td>\n      <td>快手，刷单假的太多</td>\n      <td>赞</td>\n      <td>2022-06-19 01:03:16</td>\n    </tr>\n    <tr>\n      <th>1289</th>\n      <td>2322</td>\n      <td>https://www.toutiao.com/article/71100264659487...</td>\n      <td>https://www.toutiao.com/article/71100264659487...</td>\n      <td>0</td>\n      <td>2022-06-19 17:03:16.0</td>\n      <td>踩坑从不回头</td>\n      <td>辛巴？你开玩笑，辛巴能是一个级别吗？一嘴一个家人们，只想掏空你的腰包，啥赚钱卖啥，有啥可比性...</td>\n      <td>赞</td>\n      <td>2022-06-19 13:03:16</td>\n    </tr>\n    <tr>\n      <th>1291</th>\n      <td>2324</td>\n      <td>https://www.toutiao.com/article/71100264659487...</td>\n      <td>https://www.toutiao.com/article/71100264659487...</td>\n      <td>0</td>\n      <td>2022-06-19 17:03:16.0</td>\n      <td>中科益农</td>\n      <td>做舔狗也要客观分析：辛巴没有平台给流量扶持，没有几年的直播，能一下直播就几十亿？</td>\n      <td>赞</td>\n      <td>2022-06-18 23:03:16</td>\n    </tr>\n    <tr>\n      <th>1294</th>\n      <td>2327</td>\n      <td>https://www.toutiao.com/article/71100264659487...</td>\n      <td>https://www.toutiao.com/article/71100264659487...</td>\n      <td>0</td>\n      <td>2022-06-19 17:03:19.0</td>\n      <td>repre</td>\n      <td>无聊的对比</td>\n      <td>赞</td>\n      <td>2022-06-19 13:03:19</td>\n    </tr>\n    <tr>\n      <th>1210</th>\n      <td>2243</td>\n      <td>https://www.toutiao.com/article/71100264659487...</td>\n      <td>https://www.toutiao.com/article/71100264659487...</td>\n      <td>0</td>\n      <td>2022-06-19 17:03:04.0</td>\n      <td>游泳的鱼181999170</td>\n      <td>，新东方是正能量</td>\n      <td>赞</td>\n      <td>2022-06-19 16:24:04</td>\n    </tr>\n  </tbody>\n</table>\n<p>1257 rows × 9 columns</p>\n</div>"
     },
     "execution_count": 33,
     "metadata": {},
     "output_type": "execute_result"
    }
   ],
   "source": [
    "toutiao = pd.concat([toutiao_yesterday, toutiao_before_yesterday, toutiao_days, toutiao_hour, toutiao_minutes])\n",
    "toutiao"
   ],
   "metadata": {
    "collapsed": false,
    "pycharm": {
     "name": "#%%\n"
    }
   }
  },
  {
   "cell_type": "code",
   "execution_count": 34,
   "outputs": [
    {
     "data": {
      "text/plain": "                     time                                            comment\n0        2022-06-18 10:14                              新巴表示不服家人们，赶紧去东方直播间捣乱吧\n1        2022-06-18 10:15  红不了一个月。实际上就是带货，因为有新东方教育的名头，所以他就加了一点啊教育的味道，没想到就...\n5        2022-06-18 00:15  第三方发货，很容易出现品质问题，那些负责装货打包的人，素质没那么高，用劣质产品以次充好，没有...\n9        2022-06-18 10:22    我也买了，在驿站放了两天也没有这样，这样诋毁人家好吗？真的有坏的找客服索赔就可以了，何必这样？\n11       2022-06-18 08:24  俞敏洪老师！一直关注！你的分享我常看我很受益！祝你事业在辉煌！给国家作更大贡献！不忘初心！牢...\n...                   ...                                                ...\n1285  2022-06-19 01:03:16                                          快手，刷单假的太多\n1289  2022-06-19 13:03:16  辛巴？你开玩笑，辛巴能是一个级别吗？一嘴一个家人们，只想掏空你的腰包，啥赚钱卖啥，有啥可比性...\n1291  2022-06-18 23:03:16           做舔狗也要客观分析：辛巴没有平台给流量扶持，没有几年的直播，能一下直播就几十亿？\n1294  2022-06-19 13:03:19                                              无聊的对比\n1210  2022-06-19 16:24:04                                           ，新东方是正能量\n\n[1257 rows x 2 columns]",
      "text/html": "<div>\n<style scoped>\n    .dataframe tbody tr th:only-of-type {\n        vertical-align: middle;\n    }\n\n    .dataframe tbody tr th {\n        vertical-align: top;\n    }\n\n    .dataframe thead th {\n        text-align: right;\n    }\n</style>\n<table border=\"1\" class=\"dataframe\">\n  <thead>\n    <tr style=\"text-align: right;\">\n      <th></th>\n      <th>time</th>\n      <th>comment</th>\n    </tr>\n  </thead>\n  <tbody>\n    <tr>\n      <th>0</th>\n      <td>2022-06-18 10:14</td>\n      <td>新巴表示不服家人们，赶紧去东方直播间捣乱吧</td>\n    </tr>\n    <tr>\n      <th>1</th>\n      <td>2022-06-18 10:15</td>\n      <td>红不了一个月。实际上就是带货，因为有新东方教育的名头，所以他就加了一点啊教育的味道，没想到就...</td>\n    </tr>\n    <tr>\n      <th>5</th>\n      <td>2022-06-18 00:15</td>\n      <td>第三方发货，很容易出现品质问题，那些负责装货打包的人，素质没那么高，用劣质产品以次充好，没有...</td>\n    </tr>\n    <tr>\n      <th>9</th>\n      <td>2022-06-18 10:22</td>\n      <td>我也买了，在驿站放了两天也没有这样，这样诋毁人家好吗？真的有坏的找客服索赔就可以了，何必这样？</td>\n    </tr>\n    <tr>\n      <th>11</th>\n      <td>2022-06-18 08:24</td>\n      <td>俞敏洪老师！一直关注！你的分享我常看我很受益！祝你事业在辉煌！给国家作更大贡献！不忘初心！牢...</td>\n    </tr>\n    <tr>\n      <th>...</th>\n      <td>...</td>\n      <td>...</td>\n    </tr>\n    <tr>\n      <th>1285</th>\n      <td>2022-06-19 01:03:16</td>\n      <td>快手，刷单假的太多</td>\n    </tr>\n    <tr>\n      <th>1289</th>\n      <td>2022-06-19 13:03:16</td>\n      <td>辛巴？你开玩笑，辛巴能是一个级别吗？一嘴一个家人们，只想掏空你的腰包，啥赚钱卖啥，有啥可比性...</td>\n    </tr>\n    <tr>\n      <th>1291</th>\n      <td>2022-06-18 23:03:16</td>\n      <td>做舔狗也要客观分析：辛巴没有平台给流量扶持，没有几年的直播，能一下直播就几十亿？</td>\n    </tr>\n    <tr>\n      <th>1294</th>\n      <td>2022-06-19 13:03:19</td>\n      <td>无聊的对比</td>\n    </tr>\n    <tr>\n      <th>1210</th>\n      <td>2022-06-19 16:24:04</td>\n      <td>，新东方是正能量</td>\n    </tr>\n  </tbody>\n</table>\n<p>1257 rows × 2 columns</p>\n</div>"
     },
     "execution_count": 34,
     "metadata": {},
     "output_type": "execute_result"
    }
   ],
   "source": [
    "data_toutiao = pd.DataFrame()\n",
    "data_toutiao[['time', 'comment']] = toutiao[['评论时间', '评论内容']]\n",
    "data_toutiao"
   ],
   "metadata": {
    "collapsed": false,
    "pycharm": {
     "name": "#%%\n"
    }
   }
  },
  {
   "cell_type": "code",
   "execution_count": 35,
   "outputs": [],
   "source": [
    "data_toutiao.to_excel('data/data_toutiao.xlsx')\n",
    "toutiao.to_excel('data/toutiao_comment.xlsx')"
   ],
   "metadata": {
    "collapsed": false,
    "pycharm": {
     "name": "#%%\n"
    }
   }
  }
 ],
 "metadata": {
  "kernelspec": {
   "display_name": "Python 3",
   "language": "python",
   "name": "python3"
  },
  "language_info": {
   "codemirror_mode": {
    "name": "ipython",
    "version": 2
   },
   "file_extension": ".py",
   "mimetype": "text/x-python",
   "name": "python",
   "nbconvert_exporter": "python",
   "pygments_lexer": "ipython2",
   "version": "2.7.6"
  }
 },
 "nbformat": 4,
 "nbformat_minor": 0
}