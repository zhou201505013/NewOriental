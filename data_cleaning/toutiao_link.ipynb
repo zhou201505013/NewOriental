{
 "cells": [
  {
   "cell_type": "code",
   "execution_count": 27,
   "outputs": [],
   "source": [
    "# 处理头条文章链接\n",
    "import pandas as pd"
   ],
   "metadata": {
    "collapsed": false,
    "pycharm": {
     "name": "#%%\n"
    }
   }
  },
  {
   "cell_type": "code",
   "execution_count": 28,
   "outputs": [
    {
     "name": "stderr",
     "output_type": "stream",
     "text": [
      "C:\\Users\\Zhouzw\\anaconda3\\envs\\d2l\\lib\\site-packages\\openpyxl\\styles\\stylesheet.py:226: UserWarning: Workbook contains no default style, apply openpyxl's default\n",
      "  warn(\"Workbook contains no default style, apply openpyxl's default\")\n"
     ]
    }
   ],
   "source": [
    "toutiao = pd.read_excel('../data/temp_今日头条搜索列表_规则_1_列表_20220618175524662.xlsx')"
   ],
   "metadata": {
    "collapsed": false,
    "pycharm": {
     "name": "#%%\n"
    }
   }
  },
  {
   "cell_type": "code",
   "execution_count": 29,
   "outputs": [
    {
     "data": {
      "text/plain": "   recordid                                         <fullpath>  \\\n0       184  https://so.toutiao.com/search/?dvpf=pc&keyword...   \n1       185  https://so.toutiao.com/search/?dvpf=pc&keyword...   \n2       186  https://so.toutiao.com/search/?dvpf=pc&keyword...   \n3       187  https://so.toutiao.com/search/?dvpf=pc&keyword...   \n4       188  https://so.toutiao.com/search/?dvpf=pc&keyword...   \n\n                                          <realpath>  <pageno>  \\\n0  https://so.toutiao.com/search/?dvpf=pc&keyword...         0   \n1  https://so.toutiao.com/search/?dvpf=pc&keyword...         0   \n2  https://so.toutiao.com/search/?dvpf=pc&keyword...         0   \n3  https://so.toutiao.com/search/?dvpf=pc&keyword...         0   \n4  https://so.toutiao.com/search/?dvpf=pc&keyword...         0   \n\n            <createdate>                          标题  \\\n0  2022-06-18 17:39:05.0   新东方直播172天:体面商人俞敏洪，不认怂、终翻红   \n1  2022-06-18 17:39:05.0    新东方直播火了后，其他主播什么反应?还能火多久?   \n2  2022-06-18 17:39:05.0                    新东方直播-视频   \n3  2022-06-18 17:39:05.0           起底新东方直播，这就是“变相培训”   \n4  2022-06-18 17:39:05.0  新东方直播间被曝尝试自建供应链，未来考虑发展自营产品   \n\n                                                标题链接  \\\n0  https://so.toutiao.com/search/jump?url=http%3A...   \n1  https://so.toutiao.com/search/jump?url=http%3A...   \n2  https://so.toutiao.com/search?keyword=%E6%96%B...   \n3  https://so.toutiao.com/search/jump?url=http%3A...   \n4  https://so.toutiao.com/search/jump?url=http%3A...   \n\n                                                  摘要        来源   评论数      发布时间  \n0  这一天，“新东方主播”冲上热搜，“从没想过能在带货直播间学英语”话题登榜抖音热榜第一。十几名...      时代周报   NaN      时代周报  \n1  各个社交平台都被新东方的双语直播间刷屏了，东方甄选直播间新颖的直播方式可谓是十分火爆，那么面...  人人都是产品经理   NaN  人人都是产品经理  \n2                        新东方直播带货爆火!背后真相绝不简单!平台升级里...     楠哥有财气   NaN     楠哥有财气  \n3  不仅销售方面赚了个盆满钵满，而且在资本方面更是高歌猛进。在过去的一个月，港股新东方在线暴涨3...      九宫八卦   0评论      九宫八卦  \n4  如何持续发展，成为新东方在线旗下“东方甄选”直播间迫在眉睫的问题。6月17日，澎湃新闻记者从...      澎湃新闻  28评论      澎湃新闻  ",
      "text/html": "<div>\n<style scoped>\n    .dataframe tbody tr th:only-of-type {\n        vertical-align: middle;\n    }\n\n    .dataframe tbody tr th {\n        vertical-align: top;\n    }\n\n    .dataframe thead th {\n        text-align: right;\n    }\n</style>\n<table border=\"1\" class=\"dataframe\">\n  <thead>\n    <tr style=\"text-align: right;\">\n      <th></th>\n      <th>recordid</th>\n      <th>&lt;fullpath&gt;</th>\n      <th>&lt;realpath&gt;</th>\n      <th>&lt;pageno&gt;</th>\n      <th>&lt;createdate&gt;</th>\n      <th>标题</th>\n      <th>标题链接</th>\n      <th>摘要</th>\n      <th>来源</th>\n      <th>评论数</th>\n      <th>发布时间</th>\n    </tr>\n  </thead>\n  <tbody>\n    <tr>\n      <th>0</th>\n      <td>184</td>\n      <td>https://so.toutiao.com/search/?dvpf=pc&amp;keyword...</td>\n      <td>https://so.toutiao.com/search/?dvpf=pc&amp;keyword...</td>\n      <td>0</td>\n      <td>2022-06-18 17:39:05.0</td>\n      <td>新东方直播172天:体面商人俞敏洪，不认怂、终翻红</td>\n      <td>https://so.toutiao.com/search/jump?url=http%3A...</td>\n      <td>这一天，“新东方主播”冲上热搜，“从没想过能在带货直播间学英语”话题登榜抖音热榜第一。十几名...</td>\n      <td>时代周报</td>\n      <td>NaN</td>\n      <td>时代周报</td>\n    </tr>\n    <tr>\n      <th>1</th>\n      <td>185</td>\n      <td>https://so.toutiao.com/search/?dvpf=pc&amp;keyword...</td>\n      <td>https://so.toutiao.com/search/?dvpf=pc&amp;keyword...</td>\n      <td>0</td>\n      <td>2022-06-18 17:39:05.0</td>\n      <td>新东方直播火了后，其他主播什么反应?还能火多久?</td>\n      <td>https://so.toutiao.com/search/jump?url=http%3A...</td>\n      <td>各个社交平台都被新东方的双语直播间刷屏了，东方甄选直播间新颖的直播方式可谓是十分火爆，那么面...</td>\n      <td>人人都是产品经理</td>\n      <td>NaN</td>\n      <td>人人都是产品经理</td>\n    </tr>\n    <tr>\n      <th>2</th>\n      <td>186</td>\n      <td>https://so.toutiao.com/search/?dvpf=pc&amp;keyword...</td>\n      <td>https://so.toutiao.com/search/?dvpf=pc&amp;keyword...</td>\n      <td>0</td>\n      <td>2022-06-18 17:39:05.0</td>\n      <td>新东方直播-视频</td>\n      <td>https://so.toutiao.com/search?keyword=%E6%96%B...</td>\n      <td>新东方直播带货爆火!背后真相绝不简单!平台升级里...</td>\n      <td>楠哥有财气</td>\n      <td>NaN</td>\n      <td>楠哥有财气</td>\n    </tr>\n    <tr>\n      <th>3</th>\n      <td>187</td>\n      <td>https://so.toutiao.com/search/?dvpf=pc&amp;keyword...</td>\n      <td>https://so.toutiao.com/search/?dvpf=pc&amp;keyword...</td>\n      <td>0</td>\n      <td>2022-06-18 17:39:05.0</td>\n      <td>起底新东方直播，这就是“变相培训”</td>\n      <td>https://so.toutiao.com/search/jump?url=http%3A...</td>\n      <td>不仅销售方面赚了个盆满钵满，而且在资本方面更是高歌猛进。在过去的一个月，港股新东方在线暴涨3...</td>\n      <td>九宫八卦</td>\n      <td>0评论</td>\n      <td>九宫八卦</td>\n    </tr>\n    <tr>\n      <th>4</th>\n      <td>188</td>\n      <td>https://so.toutiao.com/search/?dvpf=pc&amp;keyword...</td>\n      <td>https://so.toutiao.com/search/?dvpf=pc&amp;keyword...</td>\n      <td>0</td>\n      <td>2022-06-18 17:39:05.0</td>\n      <td>新东方直播间被曝尝试自建供应链，未来考虑发展自营产品</td>\n      <td>https://so.toutiao.com/search/jump?url=http%3A...</td>\n      <td>如何持续发展，成为新东方在线旗下“东方甄选”直播间迫在眉睫的问题。6月17日，澎湃新闻记者从...</td>\n      <td>澎湃新闻</td>\n      <td>28评论</td>\n      <td>澎湃新闻</td>\n    </tr>\n  </tbody>\n</table>\n</div>"
     },
     "execution_count": 29,
     "metadata": {},
     "output_type": "execute_result"
    }
   ],
   "source": [
    "toutiao.head()"
   ],
   "metadata": {
    "collapsed": false,
    "pycharm": {
     "name": "#%%\n"
    }
   }
  },
  {
   "cell_type": "code",
   "execution_count": 30,
   "outputs": [
    {
     "data": {
      "text/plain": "0      https://so.toutiao.com/search/jump?url=http%3A...\n1      https://so.toutiao.com/search/jump?url=http%3A...\n2      https://so.toutiao.com/search?keyword=%E6%96%B...\n3      https://so.toutiao.com/search/jump?url=http%3A...\n4      https://so.toutiao.com/search/jump?url=http%3A...\n                             ...                        \n169    https://so.toutiao.com/search/jump?url=http%3A...\n170    https://so.toutiao.com/search/jump?url=http%3A...\n171    https://so.toutiao.com/search/jump?url=http%3A...\n172    https://so.toutiao.com/search/jump?url=http%3A...\n173    https://so.toutiao.com/search/jump?url=http%3A...\nName: 标题链接, Length: 174, dtype: object"
     },
     "execution_count": 30,
     "metadata": {},
     "output_type": "execute_result"
    }
   ],
   "source": [
    "toutiao['标题链接']"
   ],
   "metadata": {
    "collapsed": false,
    "pycharm": {
     "name": "#%%\n"
    }
   }
  },
  {
   "cell_type": "code",
   "execution_count": 31,
   "outputs": [
    {
     "data": {
      "text/plain": "0      7110453880965726724\n1      7110064376538726953\n2                      NaN\n3      7109623007903089192\n4      7110139690585588256\n              ...         \n169    7109047167196774912\n170    7109675321816941064\n171    7108872534812000776\n172    7109736210750243366\n173    7109702654581801480\nName: link, Length: 174, dtype: object"
     },
     "execution_count": 31,
     "metadata": {},
     "output_type": "execute_result"
    }
   ],
   "source": [
    "toutiao['link'] = toutiao['标题链接'].str.extract(r'%2Fa(\\d+)%2F')\n",
    "toutiao['link']"
   ],
   "metadata": {
    "collapsed": false,
    "pycharm": {
     "name": "#%%\n"
    }
   }
  },
  {
   "cell_type": "code",
   "execution_count": 32,
   "outputs": [
    {
     "data": {
      "text/plain": "   recordid                                         <fullpath>  \\\n0       184  https://so.toutiao.com/search/?dvpf=pc&keyword...   \n1       185  https://so.toutiao.com/search/?dvpf=pc&keyword...   \n2       186  https://so.toutiao.com/search/?dvpf=pc&keyword...   \n3       187  https://so.toutiao.com/search/?dvpf=pc&keyword...   \n4       188  https://so.toutiao.com/search/?dvpf=pc&keyword...   \n\n                                          <realpath>  <pageno>  \\\n0  https://so.toutiao.com/search/?dvpf=pc&keyword...         0   \n1  https://so.toutiao.com/search/?dvpf=pc&keyword...         0   \n2  https://so.toutiao.com/search/?dvpf=pc&keyword...         0   \n3  https://so.toutiao.com/search/?dvpf=pc&keyword...         0   \n4  https://so.toutiao.com/search/?dvpf=pc&keyword...         0   \n\n            <createdate>                          标题  \\\n0  2022-06-18 17:39:05.0   新东方直播172天:体面商人俞敏洪，不认怂、终翻红   \n1  2022-06-18 17:39:05.0    新东方直播火了后，其他主播什么反应?还能火多久?   \n2  2022-06-18 17:39:05.0                    新东方直播-视频   \n3  2022-06-18 17:39:05.0           起底新东方直播，这就是“变相培训”   \n4  2022-06-18 17:39:05.0  新东方直播间被曝尝试自建供应链，未来考虑发展自营产品   \n\n                                                标题链接  \\\n0  https://so.toutiao.com/search/jump?url=http%3A...   \n1  https://so.toutiao.com/search/jump?url=http%3A...   \n2  https://so.toutiao.com/search?keyword=%E6%96%B...   \n3  https://so.toutiao.com/search/jump?url=http%3A...   \n4  https://so.toutiao.com/search/jump?url=http%3A...   \n\n                                                  摘要        来源   评论数  \\\n0  这一天，“新东方主播”冲上热搜，“从没想过能在带货直播间学英语”话题登榜抖音热榜第一。十几名...      时代周报   NaN   \n1  各个社交平台都被新东方的双语直播间刷屏了，东方甄选直播间新颖的直播方式可谓是十分火爆，那么面...  人人都是产品经理   NaN   \n2                        新东方直播带货爆火!背后真相绝不简单!平台升级里...     楠哥有财气   NaN   \n3  不仅销售方面赚了个盆满钵满，而且在资本方面更是高歌猛进。在过去的一个月，港股新东方在线暴涨3...      九宫八卦   0评论   \n4  如何持续发展，成为新东方在线旗下“东方甄选”直播间迫在眉睫的问题。6月17日，澎湃新闻记者从...      澎湃新闻  28评论   \n\n       发布时间                 link                       link_prefix  \\\n0      时代周报  7110453880965726724  https://www.toutiao.com/article/   \n1  人人都是产品经理  7110064376538726953  https://www.toutiao.com/article/   \n2     楠哥有财气                  NaN  https://www.toutiao.com/article/   \n3      九宫八卦  7109623007903089192  https://www.toutiao.com/article/   \n4      澎湃新闻  7110139690585588256  https://www.toutiao.com/article/   \n\n                   link_postfix  \n0  /?channel=&source=search_tab  \n1  /?channel=&source=search_tab  \n2  /?channel=&source=search_tab  \n3  /?channel=&source=search_tab  \n4  /?channel=&source=search_tab  ",
      "text/html": "<div>\n<style scoped>\n    .dataframe tbody tr th:only-of-type {\n        vertical-align: middle;\n    }\n\n    .dataframe tbody tr th {\n        vertical-align: top;\n    }\n\n    .dataframe thead th {\n        text-align: right;\n    }\n</style>\n<table border=\"1\" class=\"dataframe\">\n  <thead>\n    <tr style=\"text-align: right;\">\n      <th></th>\n      <th>recordid</th>\n      <th>&lt;fullpath&gt;</th>\n      <th>&lt;realpath&gt;</th>\n      <th>&lt;pageno&gt;</th>\n      <th>&lt;createdate&gt;</th>\n      <th>标题</th>\n      <th>标题链接</th>\n      <th>摘要</th>\n      <th>来源</th>\n      <th>评论数</th>\n      <th>发布时间</th>\n      <th>link</th>\n      <th>link_prefix</th>\n      <th>link_postfix</th>\n    </tr>\n  </thead>\n  <tbody>\n    <tr>\n      <th>0</th>\n      <td>184</td>\n      <td>https://so.toutiao.com/search/?dvpf=pc&amp;keyword...</td>\n      <td>https://so.toutiao.com/search/?dvpf=pc&amp;keyword...</td>\n      <td>0</td>\n      <td>2022-06-18 17:39:05.0</td>\n      <td>新东方直播172天:体面商人俞敏洪，不认怂、终翻红</td>\n      <td>https://so.toutiao.com/search/jump?url=http%3A...</td>\n      <td>这一天，“新东方主播”冲上热搜，“从没想过能在带货直播间学英语”话题登榜抖音热榜第一。十几名...</td>\n      <td>时代周报</td>\n      <td>NaN</td>\n      <td>时代周报</td>\n      <td>7110453880965726724</td>\n      <td>https://www.toutiao.com/article/</td>\n      <td>/?channel=&amp;source=search_tab</td>\n    </tr>\n    <tr>\n      <th>1</th>\n      <td>185</td>\n      <td>https://so.toutiao.com/search/?dvpf=pc&amp;keyword...</td>\n      <td>https://so.toutiao.com/search/?dvpf=pc&amp;keyword...</td>\n      <td>0</td>\n      <td>2022-06-18 17:39:05.0</td>\n      <td>新东方直播火了后，其他主播什么反应?还能火多久?</td>\n      <td>https://so.toutiao.com/search/jump?url=http%3A...</td>\n      <td>各个社交平台都被新东方的双语直播间刷屏了，东方甄选直播间新颖的直播方式可谓是十分火爆，那么面...</td>\n      <td>人人都是产品经理</td>\n      <td>NaN</td>\n      <td>人人都是产品经理</td>\n      <td>7110064376538726953</td>\n      <td>https://www.toutiao.com/article/</td>\n      <td>/?channel=&amp;source=search_tab</td>\n    </tr>\n    <tr>\n      <th>2</th>\n      <td>186</td>\n      <td>https://so.toutiao.com/search/?dvpf=pc&amp;keyword...</td>\n      <td>https://so.toutiao.com/search/?dvpf=pc&amp;keyword...</td>\n      <td>0</td>\n      <td>2022-06-18 17:39:05.0</td>\n      <td>新东方直播-视频</td>\n      <td>https://so.toutiao.com/search?keyword=%E6%96%B...</td>\n      <td>新东方直播带货爆火!背后真相绝不简单!平台升级里...</td>\n      <td>楠哥有财气</td>\n      <td>NaN</td>\n      <td>楠哥有财气</td>\n      <td>NaN</td>\n      <td>https://www.toutiao.com/article/</td>\n      <td>/?channel=&amp;source=search_tab</td>\n    </tr>\n    <tr>\n      <th>3</th>\n      <td>187</td>\n      <td>https://so.toutiao.com/search/?dvpf=pc&amp;keyword...</td>\n      <td>https://so.toutiao.com/search/?dvpf=pc&amp;keyword...</td>\n      <td>0</td>\n      <td>2022-06-18 17:39:05.0</td>\n      <td>起底新东方直播，这就是“变相培训”</td>\n      <td>https://so.toutiao.com/search/jump?url=http%3A...</td>\n      <td>不仅销售方面赚了个盆满钵满，而且在资本方面更是高歌猛进。在过去的一个月，港股新东方在线暴涨3...</td>\n      <td>九宫八卦</td>\n      <td>0评论</td>\n      <td>九宫八卦</td>\n      <td>7109623007903089192</td>\n      <td>https://www.toutiao.com/article/</td>\n      <td>/?channel=&amp;source=search_tab</td>\n    </tr>\n    <tr>\n      <th>4</th>\n      <td>188</td>\n      <td>https://so.toutiao.com/search/?dvpf=pc&amp;keyword...</td>\n      <td>https://so.toutiao.com/search/?dvpf=pc&amp;keyword...</td>\n      <td>0</td>\n      <td>2022-06-18 17:39:05.0</td>\n      <td>新东方直播间被曝尝试自建供应链，未来考虑发展自营产品</td>\n      <td>https://so.toutiao.com/search/jump?url=http%3A...</td>\n      <td>如何持续发展，成为新东方在线旗下“东方甄选”直播间迫在眉睫的问题。6月17日，澎湃新闻记者从...</td>\n      <td>澎湃新闻</td>\n      <td>28评论</td>\n      <td>澎湃新闻</td>\n      <td>7110139690585588256</td>\n      <td>https://www.toutiao.com/article/</td>\n      <td>/?channel=&amp;source=search_tab</td>\n    </tr>\n  </tbody>\n</table>\n</div>"
     },
     "execution_count": 32,
     "metadata": {},
     "output_type": "execute_result"
    }
   ],
   "source": [
    "toutiao['link_prefix'], toutiao['link_postfix'] = 'https://www.toutiao.com/article/', '/?channel=&source=search_tab'\n",
    "toutiao.head()"
   ],
   "metadata": {
    "collapsed": false,
    "pycharm": {
     "name": "#%%\n"
    }
   }
  },
  {
   "cell_type": "code",
   "execution_count": 33,
   "outputs": [
    {
     "data": {
      "text/plain": "0      https://www.toutiao.com/article/71104538809657...\n1      https://www.toutiao.com/article/71100643765387...\n2                                                    NaN\n3      https://www.toutiao.com/article/71096230079030...\n4      https://www.toutiao.com/article/71101396905855...\n                             ...                        \n169    https://www.toutiao.com/article/71090471671967...\n170    https://www.toutiao.com/article/71096753218169...\n171    https://www.toutiao.com/article/71088725348120...\n172    https://www.toutiao.com/article/71097362107502...\n173    https://www.toutiao.com/article/71097026545818...\nName: link, Length: 174, dtype: object"
     },
     "execution_count": 33,
     "metadata": {},
     "output_type": "execute_result"
    }
   ],
   "source": [
    "toutiao['link'] = toutiao['link_prefix'].str.cat(toutiao['link']).str.cat(toutiao['link_postfix'])\n",
    "toutiao['link']"
   ],
   "metadata": {
    "collapsed": false,
    "pycharm": {
     "name": "#%%\n"
    }
   }
  },
  {
   "cell_type": "code",
   "execution_count": 34,
   "outputs": [
    {
     "data": {
      "text/plain": "   recordid                                         <fullpath>  \\\n0       184  https://so.toutiao.com/search/?dvpf=pc&keyword...   \n1       185  https://so.toutiao.com/search/?dvpf=pc&keyword...   \n2       186  https://so.toutiao.com/search/?dvpf=pc&keyword...   \n3       187  https://so.toutiao.com/search/?dvpf=pc&keyword...   \n4       188  https://so.toutiao.com/search/?dvpf=pc&keyword...   \n\n                                          <realpath>  <pageno>  \\\n0  https://so.toutiao.com/search/?dvpf=pc&keyword...         0   \n1  https://so.toutiao.com/search/?dvpf=pc&keyword...         0   \n2  https://so.toutiao.com/search/?dvpf=pc&keyword...         0   \n3  https://so.toutiao.com/search/?dvpf=pc&keyword...         0   \n4  https://so.toutiao.com/search/?dvpf=pc&keyword...         0   \n\n            <createdate>                          标题  \\\n0  2022-06-18 17:39:05.0   新东方直播172天:体面商人俞敏洪，不认怂、终翻红   \n1  2022-06-18 17:39:05.0    新东方直播火了后，其他主播什么反应?还能火多久?   \n2  2022-06-18 17:39:05.0                    新东方直播-视频   \n3  2022-06-18 17:39:05.0           起底新东方直播，这就是“变相培训”   \n4  2022-06-18 17:39:05.0  新东方直播间被曝尝试自建供应链，未来考虑发展自营产品   \n\n                                                标题链接  \\\n0  https://so.toutiao.com/search/jump?url=http%3A...   \n1  https://so.toutiao.com/search/jump?url=http%3A...   \n2  https://so.toutiao.com/search?keyword=%E6%96%B...   \n3  https://so.toutiao.com/search/jump?url=http%3A...   \n4  https://so.toutiao.com/search/jump?url=http%3A...   \n\n                                                  摘要        来源   评论数  \\\n0  这一天，“新东方主播”冲上热搜，“从没想过能在带货直播间学英语”话题登榜抖音热榜第一。十几名...      时代周报   NaN   \n1  各个社交平台都被新东方的双语直播间刷屏了，东方甄选直播间新颖的直播方式可谓是十分火爆，那么面...  人人都是产品经理   NaN   \n2                        新东方直播带货爆火!背后真相绝不简单!平台升级里...     楠哥有财气   NaN   \n3  不仅销售方面赚了个盆满钵满，而且在资本方面更是高歌猛进。在过去的一个月，港股新东方在线暴涨3...      九宫八卦   0评论   \n4  如何持续发展，成为新东方在线旗下“东方甄选”直播间迫在眉睫的问题。6月17日，澎湃新闻记者从...      澎湃新闻  28评论   \n\n       发布时间                                               link  \\\n0      时代周报  https://www.toutiao.com/article/71104538809657...   \n1  人人都是产品经理  https://www.toutiao.com/article/71100643765387...   \n2     楠哥有财气                                                NaN   \n3      九宫八卦  https://www.toutiao.com/article/71096230079030...   \n4      澎湃新闻  https://www.toutiao.com/article/71101396905855...   \n\n                        link_prefix                  link_postfix  \n0  https://www.toutiao.com/article/  /?channel=&source=search_tab  \n1  https://www.toutiao.com/article/  /?channel=&source=search_tab  \n2  https://www.toutiao.com/article/  /?channel=&source=search_tab  \n3  https://www.toutiao.com/article/  /?channel=&source=search_tab  \n4  https://www.toutiao.com/article/  /?channel=&source=search_tab  ",
      "text/html": "<div>\n<style scoped>\n    .dataframe tbody tr th:only-of-type {\n        vertical-align: middle;\n    }\n\n    .dataframe tbody tr th {\n        vertical-align: top;\n    }\n\n    .dataframe thead th {\n        text-align: right;\n    }\n</style>\n<table border=\"1\" class=\"dataframe\">\n  <thead>\n    <tr style=\"text-align: right;\">\n      <th></th>\n      <th>recordid</th>\n      <th>&lt;fullpath&gt;</th>\n      <th>&lt;realpath&gt;</th>\n      <th>&lt;pageno&gt;</th>\n      <th>&lt;createdate&gt;</th>\n      <th>标题</th>\n      <th>标题链接</th>\n      <th>摘要</th>\n      <th>来源</th>\n      <th>评论数</th>\n      <th>发布时间</th>\n      <th>link</th>\n      <th>link_prefix</th>\n      <th>link_postfix</th>\n    </tr>\n  </thead>\n  <tbody>\n    <tr>\n      <th>0</th>\n      <td>184</td>\n      <td>https://so.toutiao.com/search/?dvpf=pc&amp;keyword...</td>\n      <td>https://so.toutiao.com/search/?dvpf=pc&amp;keyword...</td>\n      <td>0</td>\n      <td>2022-06-18 17:39:05.0</td>\n      <td>新东方直播172天:体面商人俞敏洪，不认怂、终翻红</td>\n      <td>https://so.toutiao.com/search/jump?url=http%3A...</td>\n      <td>这一天，“新东方主播”冲上热搜，“从没想过能在带货直播间学英语”话题登榜抖音热榜第一。十几名...</td>\n      <td>时代周报</td>\n      <td>NaN</td>\n      <td>时代周报</td>\n      <td>https://www.toutiao.com/article/71104538809657...</td>\n      <td>https://www.toutiao.com/article/</td>\n      <td>/?channel=&amp;source=search_tab</td>\n    </tr>\n    <tr>\n      <th>1</th>\n      <td>185</td>\n      <td>https://so.toutiao.com/search/?dvpf=pc&amp;keyword...</td>\n      <td>https://so.toutiao.com/search/?dvpf=pc&amp;keyword...</td>\n      <td>0</td>\n      <td>2022-06-18 17:39:05.0</td>\n      <td>新东方直播火了后，其他主播什么反应?还能火多久?</td>\n      <td>https://so.toutiao.com/search/jump?url=http%3A...</td>\n      <td>各个社交平台都被新东方的双语直播间刷屏了，东方甄选直播间新颖的直播方式可谓是十分火爆，那么面...</td>\n      <td>人人都是产品经理</td>\n      <td>NaN</td>\n      <td>人人都是产品经理</td>\n      <td>https://www.toutiao.com/article/71100643765387...</td>\n      <td>https://www.toutiao.com/article/</td>\n      <td>/?channel=&amp;source=search_tab</td>\n    </tr>\n    <tr>\n      <th>2</th>\n      <td>186</td>\n      <td>https://so.toutiao.com/search/?dvpf=pc&amp;keyword...</td>\n      <td>https://so.toutiao.com/search/?dvpf=pc&amp;keyword...</td>\n      <td>0</td>\n      <td>2022-06-18 17:39:05.0</td>\n      <td>新东方直播-视频</td>\n      <td>https://so.toutiao.com/search?keyword=%E6%96%B...</td>\n      <td>新东方直播带货爆火!背后真相绝不简单!平台升级里...</td>\n      <td>楠哥有财气</td>\n      <td>NaN</td>\n      <td>楠哥有财气</td>\n      <td>NaN</td>\n      <td>https://www.toutiao.com/article/</td>\n      <td>/?channel=&amp;source=search_tab</td>\n    </tr>\n    <tr>\n      <th>3</th>\n      <td>187</td>\n      <td>https://so.toutiao.com/search/?dvpf=pc&amp;keyword...</td>\n      <td>https://so.toutiao.com/search/?dvpf=pc&amp;keyword...</td>\n      <td>0</td>\n      <td>2022-06-18 17:39:05.0</td>\n      <td>起底新东方直播，这就是“变相培训”</td>\n      <td>https://so.toutiao.com/search/jump?url=http%3A...</td>\n      <td>不仅销售方面赚了个盆满钵满，而且在资本方面更是高歌猛进。在过去的一个月，港股新东方在线暴涨3...</td>\n      <td>九宫八卦</td>\n      <td>0评论</td>\n      <td>九宫八卦</td>\n      <td>https://www.toutiao.com/article/71096230079030...</td>\n      <td>https://www.toutiao.com/article/</td>\n      <td>/?channel=&amp;source=search_tab</td>\n    </tr>\n    <tr>\n      <th>4</th>\n      <td>188</td>\n      <td>https://so.toutiao.com/search/?dvpf=pc&amp;keyword...</td>\n      <td>https://so.toutiao.com/search/?dvpf=pc&amp;keyword...</td>\n      <td>0</td>\n      <td>2022-06-18 17:39:05.0</td>\n      <td>新东方直播间被曝尝试自建供应链，未来考虑发展自营产品</td>\n      <td>https://so.toutiao.com/search/jump?url=http%3A...</td>\n      <td>如何持续发展，成为新东方在线旗下“东方甄选”直播间迫在眉睫的问题。6月17日，澎湃新闻记者从...</td>\n      <td>澎湃新闻</td>\n      <td>28评论</td>\n      <td>澎湃新闻</td>\n      <td>https://www.toutiao.com/article/71101396905855...</td>\n      <td>https://www.toutiao.com/article/</td>\n      <td>/?channel=&amp;source=search_tab</td>\n    </tr>\n  </tbody>\n</table>\n</div>"
     },
     "execution_count": 34,
     "metadata": {},
     "output_type": "execute_result"
    }
   ],
   "source": [
    "toutiao.head()"
   ],
   "metadata": {
    "collapsed": false,
    "pycharm": {
     "name": "#%%\n"
    }
   }
  },
  {
   "cell_type": "code",
   "execution_count": 38,
   "outputs": [
    {
     "data": {
      "text/plain": "   recordid                                         <fullpath>  \\\n0       184  https://so.toutiao.com/search/?dvpf=pc&keyword...   \n1       185  https://so.toutiao.com/search/?dvpf=pc&keyword...   \n2       186  https://so.toutiao.com/search/?dvpf=pc&keyword...   \n3       187  https://so.toutiao.com/search/?dvpf=pc&keyword...   \n4       188  https://so.toutiao.com/search/?dvpf=pc&keyword...   \n\n                                          <realpath>  <pageno>  \\\n0  https://so.toutiao.com/search/?dvpf=pc&keyword...         0   \n1  https://so.toutiao.com/search/?dvpf=pc&keyword...         0   \n2  https://so.toutiao.com/search/?dvpf=pc&keyword...         0   \n3  https://so.toutiao.com/search/?dvpf=pc&keyword...         0   \n4  https://so.toutiao.com/search/?dvpf=pc&keyword...         0   \n\n            <createdate>                          标题  \\\n0  2022-06-18 17:39:05.0   新东方直播172天:体面商人俞敏洪，不认怂、终翻红   \n1  2022-06-18 17:39:05.0    新东方直播火了后，其他主播什么反应?还能火多久?   \n2  2022-06-18 17:39:05.0                    新东方直播-视频   \n3  2022-06-18 17:39:05.0           起底新东方直播，这就是“变相培训”   \n4  2022-06-18 17:39:05.0  新东方直播间被曝尝试自建供应链，未来考虑发展自营产品   \n\n                                                标题链接  \\\n0  https://so.toutiao.com/search/jump?url=http%3A...   \n1  https://so.toutiao.com/search/jump?url=http%3A...   \n2  https://so.toutiao.com/search?keyword=%E6%96%B...   \n3  https://so.toutiao.com/search/jump?url=http%3A...   \n4  https://so.toutiao.com/search/jump?url=http%3A...   \n\n                                                  摘要        来源   评论数  \\\n0  这一天，“新东方主播”冲上热搜，“从没想过能在带货直播间学英语”话题登榜抖音热榜第一。十几名...      时代周报   NaN   \n1  各个社交平台都被新东方的双语直播间刷屏了，东方甄选直播间新颖的直播方式可谓是十分火爆，那么面...  人人都是产品经理   NaN   \n2                        新东方直播带货爆火!背后真相绝不简单!平台升级里...     楠哥有财气   NaN   \n3  不仅销售方面赚了个盆满钵满，而且在资本方面更是高歌猛进。在过去的一个月，港股新东方在线暴涨3...      九宫八卦   0评论   \n4  如何持续发展，成为新东方在线旗下“东方甄选”直播间迫在眉睫的问题。6月17日，澎湃新闻记者从...      澎湃新闻  28评论   \n\n       发布时间                                               link  \n0      时代周报  https://www.toutiao.com/article/71104538809657...  \n1  人人都是产品经理  https://www.toutiao.com/article/71100643765387...  \n2     楠哥有财气                                                NaN  \n3      九宫八卦  https://www.toutiao.com/article/71096230079030...  \n4      澎湃新闻  https://www.toutiao.com/article/71101396905855...  ",
      "text/html": "<div>\n<style scoped>\n    .dataframe tbody tr th:only-of-type {\n        vertical-align: middle;\n    }\n\n    .dataframe tbody tr th {\n        vertical-align: top;\n    }\n\n    .dataframe thead th {\n        text-align: right;\n    }\n</style>\n<table border=\"1\" class=\"dataframe\">\n  <thead>\n    <tr style=\"text-align: right;\">\n      <th></th>\n      <th>recordid</th>\n      <th>&lt;fullpath&gt;</th>\n      <th>&lt;realpath&gt;</th>\n      <th>&lt;pageno&gt;</th>\n      <th>&lt;createdate&gt;</th>\n      <th>标题</th>\n      <th>标题链接</th>\n      <th>摘要</th>\n      <th>来源</th>\n      <th>评论数</th>\n      <th>发布时间</th>\n      <th>link</th>\n    </tr>\n  </thead>\n  <tbody>\n    <tr>\n      <th>0</th>\n      <td>184</td>\n      <td>https://so.toutiao.com/search/?dvpf=pc&amp;keyword...</td>\n      <td>https://so.toutiao.com/search/?dvpf=pc&amp;keyword...</td>\n      <td>0</td>\n      <td>2022-06-18 17:39:05.0</td>\n      <td>新东方直播172天:体面商人俞敏洪，不认怂、终翻红</td>\n      <td>https://so.toutiao.com/search/jump?url=http%3A...</td>\n      <td>这一天，“新东方主播”冲上热搜，“从没想过能在带货直播间学英语”话题登榜抖音热榜第一。十几名...</td>\n      <td>时代周报</td>\n      <td>NaN</td>\n      <td>时代周报</td>\n      <td>https://www.toutiao.com/article/71104538809657...</td>\n    </tr>\n    <tr>\n      <th>1</th>\n      <td>185</td>\n      <td>https://so.toutiao.com/search/?dvpf=pc&amp;keyword...</td>\n      <td>https://so.toutiao.com/search/?dvpf=pc&amp;keyword...</td>\n      <td>0</td>\n      <td>2022-06-18 17:39:05.0</td>\n      <td>新东方直播火了后，其他主播什么反应?还能火多久?</td>\n      <td>https://so.toutiao.com/search/jump?url=http%3A...</td>\n      <td>各个社交平台都被新东方的双语直播间刷屏了，东方甄选直播间新颖的直播方式可谓是十分火爆，那么面...</td>\n      <td>人人都是产品经理</td>\n      <td>NaN</td>\n      <td>人人都是产品经理</td>\n      <td>https://www.toutiao.com/article/71100643765387...</td>\n    </tr>\n    <tr>\n      <th>2</th>\n      <td>186</td>\n      <td>https://so.toutiao.com/search/?dvpf=pc&amp;keyword...</td>\n      <td>https://so.toutiao.com/search/?dvpf=pc&amp;keyword...</td>\n      <td>0</td>\n      <td>2022-06-18 17:39:05.0</td>\n      <td>新东方直播-视频</td>\n      <td>https://so.toutiao.com/search?keyword=%E6%96%B...</td>\n      <td>新东方直播带货爆火!背后真相绝不简单!平台升级里...</td>\n      <td>楠哥有财气</td>\n      <td>NaN</td>\n      <td>楠哥有财气</td>\n      <td>NaN</td>\n    </tr>\n    <tr>\n      <th>3</th>\n      <td>187</td>\n      <td>https://so.toutiao.com/search/?dvpf=pc&amp;keyword...</td>\n      <td>https://so.toutiao.com/search/?dvpf=pc&amp;keyword...</td>\n      <td>0</td>\n      <td>2022-06-18 17:39:05.0</td>\n      <td>起底新东方直播，这就是“变相培训”</td>\n      <td>https://so.toutiao.com/search/jump?url=http%3A...</td>\n      <td>不仅销售方面赚了个盆满钵满，而且在资本方面更是高歌猛进。在过去的一个月，港股新东方在线暴涨3...</td>\n      <td>九宫八卦</td>\n      <td>0评论</td>\n      <td>九宫八卦</td>\n      <td>https://www.toutiao.com/article/71096230079030...</td>\n    </tr>\n    <tr>\n      <th>4</th>\n      <td>188</td>\n      <td>https://so.toutiao.com/search/?dvpf=pc&amp;keyword...</td>\n      <td>https://so.toutiao.com/search/?dvpf=pc&amp;keyword...</td>\n      <td>0</td>\n      <td>2022-06-18 17:39:05.0</td>\n      <td>新东方直播间被曝尝试自建供应链，未来考虑发展自营产品</td>\n      <td>https://so.toutiao.com/search/jump?url=http%3A...</td>\n      <td>如何持续发展，成为新东方在线旗下“东方甄选”直播间迫在眉睫的问题。6月17日，澎湃新闻记者从...</td>\n      <td>澎湃新闻</td>\n      <td>28评论</td>\n      <td>澎湃新闻</td>\n      <td>https://www.toutiao.com/article/71101396905855...</td>\n    </tr>\n  </tbody>\n</table>\n</div>"
     },
     "execution_count": 38,
     "metadata": {},
     "output_type": "execute_result"
    }
   ],
   "source": [
    "toutiao.drop(labels=['link_prefix', 'link_postfix'], axis=1, inplace=True)\n",
    "toutiao.head()"
   ],
   "metadata": {
    "collapsed": false,
    "pycharm": {
     "name": "#%%\n"
    }
   }
  },
  {
   "cell_type": "code",
   "execution_count": 41,
   "outputs": [],
   "source": [
    "toutiao.to_excel('././data/头条真实链接.xlsx', merge_cells=False)"
   ],
   "metadata": {
    "collapsed": false,
    "pycharm": {
     "name": "#%%\n"
    }
   }
  }
 ],
 "metadata": {
  "kernelspec": {
   "display_name": "Python 3",
   "language": "python",
   "name": "python3"
  },
  "language_info": {
   "codemirror_mode": {
    "name": "ipython",
    "version": 2
   },
   "file_extension": ".py",
   "mimetype": "text/x-python",
   "name": "python",
   "nbconvert_exporter": "python",
   "pygments_lexer": "ipython2",
   "version": "2.7.6"
  }
 },
 "nbformat": 4,
 "nbformat_minor": 0
}