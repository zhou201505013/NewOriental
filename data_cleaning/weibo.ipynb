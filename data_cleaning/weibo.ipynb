{
 "cells": [
  {
   "cell_type": "code",
   "execution_count": 397,
   "outputs": [],
   "source": [
    "# 微博数据处理\n",
    "import pandas as pd"
   ],
   "metadata": {
    "collapsed": false,
    "pycharm": {
     "name": "#%%\n"
    }
   }
  },
  {
   "cell_type": "code",
   "execution_count": 398,
   "outputs": [
    {
     "name": "stderr",
     "output_type": "stream",
     "text": [
      "C:\\Users\\Zhouzw\\anaconda3\\envs\\d2l\\lib\\site-packages\\openpyxl\\styles\\stylesheet.py:226: UserWarning: Workbook contains no default style, apply openpyxl's default\n",
      "  warn(\"Workbook contains no default style, apply openpyxl's default\")\n"
     ]
    },
    {
     "data": {
      "text/plain": "                                                博主头像        博主id  \\\n0  https://tvax3.sinaimg.cn/crop.0.0.664.664.1024...  5774177130   \n1  https://tvax2.sinaimg.cn/crop.32.3.268.268.102...  1648845914   \n2  https://tvax3.sinaimg.cn/crop.0.0.996.996.1024...  5107719655   \n3  https://tva1.sinaimg.cn/crop.0.0.512.512.1024/...  3722002047   \n4  https://tvax1.sinaimg.cn/crop.22.22.55.55.1024...  1453560340   \n\n             博主                          博主主页               转发内容   发布时间  \\\n0        江南VB江南  https://weibo.com/5774177130        江南VB江南：快转微博  14分钟前   \n1         骄傲的赤子  https://weibo.com/1648845914         骄傲的赤子：快转微博  21分钟前   \n2  我最亲爱的D_62747  https://weibo.com/5107719655  我最亲爱的D_62747：转发微博  25分钟前   \n3           大木楼  https://weibo.com/3722002047           大木楼：快转微博  45分钟前   \n4     xinyu0622  https://weibo.com/1453560340     xinyu0622：转发微博  59分钟前   \n\n                                   博文独立网址  点赞数  转发数  \\\n0  https://weibo.com/5774177130/Ly0aL8xrp  NaN  NaN   \n1  https://weibo.com/1648845914/Ly080Co37  NaN  NaN   \n2  https://weibo.com/5107719655/Ly06bdKUz    赞  NaN   \n3  https://weibo.com/3722002047/LxZYcxhjH  NaN  NaN   \n4  https://weibo.com/1453560340/LxZSmi6pr    赞  NaN   \n\n                                          <realpath>  \\\n0  https://weibo.com/1700648435/LxXAflnK6?refer_f...   \n1  https://weibo.com/1700648435/LxXAflnK6?refer_f...   \n2  https://weibo.com/1700648435/LxXAflnK6?refer_f...   \n3  https://weibo.com/1700648435/LxXAflnK6?refer_f...   \n4  https://weibo.com/1700648435/LxXAflnK6?refer_f...   \n\n                                          <fullpath>           <createdate>  \n0  https://weibo.com/1700648435/LxXAflnK6?refer_f...  2022-06-16 17:43:22.0  \n1  https://weibo.com/1700648435/LxXAflnK6?refer_f...  2022-06-16 17:43:22.0  \n2  https://weibo.com/1700648435/LxXAflnK6?refer_f...  2022-06-16 17:43:22.0  \n3  https://weibo.com/1700648435/LxXAflnK6?refer_f...  2022-06-16 17:43:22.0  \n4  https://weibo.com/1700648435/LxXAflnK6?refer_f...  2022-06-16 17:43:22.0  ",
      "text/html": "<div>\n<style scoped>\n    .dataframe tbody tr th:only-of-type {\n        vertical-align: middle;\n    }\n\n    .dataframe tbody tr th {\n        vertical-align: top;\n    }\n\n    .dataframe thead th {\n        text-align: right;\n    }\n</style>\n<table border=\"1\" class=\"dataframe\">\n  <thead>\n    <tr style=\"text-align: right;\">\n      <th></th>\n      <th>博主头像</th>\n      <th>博主id</th>\n      <th>博主</th>\n      <th>博主主页</th>\n      <th>转发内容</th>\n      <th>发布时间</th>\n      <th>博文独立网址</th>\n      <th>点赞数</th>\n      <th>转发数</th>\n      <th>&lt;realpath&gt;</th>\n      <th>&lt;fullpath&gt;</th>\n      <th>&lt;createdate&gt;</th>\n    </tr>\n  </thead>\n  <tbody>\n    <tr>\n      <th>0</th>\n      <td>https://tvax3.sinaimg.cn/crop.0.0.664.664.1024...</td>\n      <td>5774177130</td>\n      <td>江南VB江南</td>\n      <td>https://weibo.com/5774177130</td>\n      <td>江南VB江南：快转微博</td>\n      <td>14分钟前</td>\n      <td>https://weibo.com/5774177130/Ly0aL8xrp</td>\n      <td>NaN</td>\n      <td>NaN</td>\n      <td>https://weibo.com/1700648435/LxXAflnK6?refer_f...</td>\n      <td>https://weibo.com/1700648435/LxXAflnK6?refer_f...</td>\n      <td>2022-06-16 17:43:22.0</td>\n    </tr>\n    <tr>\n      <th>1</th>\n      <td>https://tvax2.sinaimg.cn/crop.32.3.268.268.102...</td>\n      <td>1648845914</td>\n      <td>骄傲的赤子</td>\n      <td>https://weibo.com/1648845914</td>\n      <td>骄傲的赤子：快转微博</td>\n      <td>21分钟前</td>\n      <td>https://weibo.com/1648845914/Ly080Co37</td>\n      <td>NaN</td>\n      <td>NaN</td>\n      <td>https://weibo.com/1700648435/LxXAflnK6?refer_f...</td>\n      <td>https://weibo.com/1700648435/LxXAflnK6?refer_f...</td>\n      <td>2022-06-16 17:43:22.0</td>\n    </tr>\n    <tr>\n      <th>2</th>\n      <td>https://tvax3.sinaimg.cn/crop.0.0.996.996.1024...</td>\n      <td>5107719655</td>\n      <td>我最亲爱的D_62747</td>\n      <td>https://weibo.com/5107719655</td>\n      <td>我最亲爱的D_62747：转发微博</td>\n      <td>25分钟前</td>\n      <td>https://weibo.com/5107719655/Ly06bdKUz</td>\n      <td>赞</td>\n      <td>NaN</td>\n      <td>https://weibo.com/1700648435/LxXAflnK6?refer_f...</td>\n      <td>https://weibo.com/1700648435/LxXAflnK6?refer_f...</td>\n      <td>2022-06-16 17:43:22.0</td>\n    </tr>\n    <tr>\n      <th>3</th>\n      <td>https://tva1.sinaimg.cn/crop.0.0.512.512.1024/...</td>\n      <td>3722002047</td>\n      <td>大木楼</td>\n      <td>https://weibo.com/3722002047</td>\n      <td>大木楼：快转微博</td>\n      <td>45分钟前</td>\n      <td>https://weibo.com/3722002047/LxZYcxhjH</td>\n      <td>NaN</td>\n      <td>NaN</td>\n      <td>https://weibo.com/1700648435/LxXAflnK6?refer_f...</td>\n      <td>https://weibo.com/1700648435/LxXAflnK6?refer_f...</td>\n      <td>2022-06-16 17:43:22.0</td>\n    </tr>\n    <tr>\n      <th>4</th>\n      <td>https://tvax1.sinaimg.cn/crop.22.22.55.55.1024...</td>\n      <td>1453560340</td>\n      <td>xinyu0622</td>\n      <td>https://weibo.com/1453560340</td>\n      <td>xinyu0622：转发微博</td>\n      <td>59分钟前</td>\n      <td>https://weibo.com/1453560340/LxZSmi6pr</td>\n      <td>赞</td>\n      <td>NaN</td>\n      <td>https://weibo.com/1700648435/LxXAflnK6?refer_f...</td>\n      <td>https://weibo.com/1700648435/LxXAflnK6?refer_f...</td>\n      <td>2022-06-16 17:43:22.0</td>\n    </tr>\n  </tbody>\n</table>\n</div>"
     },
     "execution_count": 398,
     "metadata": {},
     "output_type": "execute_result"
    }
   ],
   "source": [
    "# 转发清洗\n",
    "repost = pd.read_excel('data/微博转发.xlsx')\n",
    "repost.head()"
   ],
   "metadata": {
    "collapsed": false,
    "pycharm": {
     "name": "#%%\n"
    }
   }
  },
  {
   "cell_type": "code",
   "execution_count": 399,
   "outputs": [
    {
     "data": {
      "text/plain": "(12245, 12)"
     },
     "execution_count": 399,
     "metadata": {},
     "output_type": "execute_result"
    }
   ],
   "source": [
    "repost.shape"
   ],
   "metadata": {
    "collapsed": false,
    "pycharm": {
     "name": "#%%\n"
    }
   }
  },
  {
   "cell_type": "code",
   "execution_count": 400,
   "outputs": [
    {
     "data": {
      "text/plain": "0                 快转微博\n1                 快转微博\n2                 转发微博\n3                 快转微博\n4                 转发微博\n             ...      \n12240            赞，支持。\n12241      不错的哦，一定要赞一个\n12242    给力的朋友们，果断些。。。\n12243      给你来个32个大赞哈。\n12244            值得收藏！\nName: split, Length: 12245, dtype: object"
     },
     "execution_count": 400,
     "metadata": {},
     "output_type": "execute_result"
    }
   ],
   "source": [
    "# 去掉转发中的id\n",
    "repost['split'] = repost['转发内容'].str.split('：').str[-1]\n",
    "repost['split']"
   ],
   "metadata": {
    "collapsed": false,
    "pycharm": {
     "name": "#%%\n"
    }
   }
  },
  {
   "cell_type": "code",
   "execution_count": 401,
   "outputs": [
    {
     "data": {
      "text/plain": "(3785, 13)"
     },
     "execution_count": 401,
     "metadata": {},
     "output_type": "execute_result"
    }
   ],
   "source": [
    "# 去重\n",
    "repost.drop_duplicates(subset='split', inplace=True)\n",
    "repost.shape"
   ],
   "metadata": {
    "collapsed": false,
    "pycharm": {
     "name": "#%%\n"
    }
   }
  },
  {
   "cell_type": "code",
   "execution_count": 402,
   "outputs": [
    {
     "data": {
      "text/plain": "0                                                   快转微博\n2                                                   转发微博\n5                                      #俞敏洪谈董宇辉直播走红#6.16\n9                      就这？谷贱伤农？人*网红！（老大O明天晚上7点超过他[doge]）\n12       【俞敏洪厉害啊】新东方#董宇辉说我就是一个农民的孩子#，如你我一样在大城市努力奋斗的年轻人……\n                              ...                       \n12240                                              赞，支持。\n12241                                        不错的哦，一定要赞一个\n12242                                      给力的朋友们，果断些。。。\n12243                                        给你来个32个大赞哈。\n12244                                              值得收藏！\nName: split, Length: 3785, dtype: object"
     },
     "execution_count": 402,
     "metadata": {},
     "output_type": "execute_result"
    }
   ],
   "source": [
    "repost['split']"
   ],
   "metadata": {
    "collapsed": false,
    "pycharm": {
     "name": "#%%\n"
    }
   }
  },
  {
   "cell_type": "code",
   "execution_count": 403,
   "outputs": [
    {
     "data": {
      "text/plain": "(1161, 13)"
     },
     "execution_count": 403,
     "metadata": {},
     "output_type": "execute_result"
    }
   ],
   "source": [
    "repost_with_id = repost[repost['split'].str.contains(r'@')]\n",
    "repost_with_id.shape"
   ],
   "metadata": {
    "collapsed": false,
    "pycharm": {
     "name": "#%%\n"
    }
   }
  },
  {
   "cell_type": "code",
   "execution_count": 404,
   "outputs": [
    {
     "data": {
      "text/plain": "15       确实，很讨厌聒噪或者在那儿轧戏的直播间//@根正苗红的贫农:董老师让人看到了直播该有的样子，...\n42                             //@鱼massage:批评不自由则赞美无意义，说得好\n88                    //@Red-xxyyzz:天，他还那么年轻就这么有智慧……前途不可限量\n126                                     //@一慕天下:批评不自由赞美无意义\n149      //@PS3保罗:采访不错//@老蘇老了:所以董老师大概什么时候会自立门户？//@郑伟:? ...\n                               ...                        \n11885           米虫之超话 //@timetellsthetale:有知识的，和没知识的，都沉默了\n11887    回复@lucky呆呆lucky://@lucky呆呆lucky:他没有学生了，只有客户，你管...\n11934                                //@微博生活指南:不再害怕痛苦与焦虑了！\n11956               //@喂兔曹-Victor:这世间真魔幻，总是青铜指点王者，普通人教大佬做事\n11957              //@玖蔻洗护CEO陈凤琴:对，不要听大多数人的意见，否则世上也不会有贫富差距\nName: split, Length: 1161, dtype: object"
     },
     "execution_count": 404,
     "metadata": {},
     "output_type": "execute_result"
    }
   ],
   "source": [
    "repost_with_id['split']"
   ],
   "metadata": {
    "collapsed": false,
    "pycharm": {
     "name": "#%%\n"
    }
   }
  },
  {
   "cell_type": "code",
   "execution_count": 405,
   "outputs": [
    {
     "data": {
      "text/plain": "(2624, 13)"
     },
     "execution_count": 405,
     "metadata": {},
     "output_type": "execute_result"
    }
   ],
   "source": [
    "repost_without_id = repost[~ repost['split'].str.contains(r'@')]\n",
    "repost_without_id.shape"
   ],
   "metadata": {
    "collapsed": false,
    "pycharm": {
     "name": "#%%\n"
    }
   }
  },
  {
   "cell_type": "code",
   "execution_count": 406,
   "outputs": [
    {
     "name": "stderr",
     "output_type": "stream",
     "text": [
      "C:\\Users\\Zhouzw\\AppData\\Local\\Temp\\ipykernel_19156\\4285407207.py:1: FutureWarning: The default value of regex will change from True to False in a future version.\n",
      "  repost_with_id['split_2'] = repost_with_id['split'].str.replace(r'//@[\\u4E00-\\u9FA5A-Za-z0-9-_\\s]+:', '<place_holder>')\n",
      "C:\\Users\\Zhouzw\\AppData\\Local\\Temp\\ipykernel_19156\\4285407207.py:1: SettingWithCopyWarning: \n",
      "A value is trying to be set on a copy of a slice from a DataFrame.\n",
      "Try using .loc[row_indexer,col_indexer] = value instead\n",
      "\n",
      "See the caveats in the documentation: https://pandas.pydata.org/pandas-docs/stable/user_guide/indexing.html#returning-a-view-versus-a-copy\n",
      "  repost_with_id['split_2'] = repost_with_id['split'].str.replace(r'//@[\\u4E00-\\u9FA5A-Za-z0-9-_\\s]+:', '<place_holder>')\n"
     ]
    },
    {
     "data": {
      "text/plain": "15       确实，很讨厌聒噪或者在那儿轧戏的直播间<place_holder>董老师让人看到了直播该有的...\n42                           <place_holder>批评不自由则赞美无意义，说得好\n88                    <place_holder>天，他还那么年轻就这么有智慧……前途不可限量\n126                               <place_holder>批评不自由赞美无意义\n149      <place_holder>采访不错<place_holder>所以董老师大概什么时候会自立...\n                               ...                        \n11885                 米虫之超话 <place_holder>有知识的，和没知识的，都沉默了\n11887    回复@lucky呆呆lucky:<place_holder>他没有学生了，只有客户，你管你的...\n11934                            <place_holder>不再害怕痛苦与焦虑了！\n11956               <place_holder>这世间真魔幻，总是青铜指点王者，普通人教大佬做事\n11957              <place_holder>对，不要听大多数人的意见，否则世上也不会有贫富差距\nName: split_2, Length: 1161, dtype: object"
     },
     "execution_count": 406,
     "metadata": {},
     "output_type": "execute_result"
    }
   ],
   "source": [
    "# 正则替换//@id\n",
    "repost_with_id['split_2'] = repost_with_id['split'].str.replace(r'//@[\\u4E00-\\u9FA5A-Za-z0-9-_\\s]+:', '<place_holder>')\n",
    "repost_with_id['split_2']"
   ],
   "metadata": {
    "collapsed": false,
    "pycharm": {
     "name": "#%%\n"
    }
   }
  },
  {
   "cell_type": "code",
   "execution_count": 407,
   "outputs": [
    {
     "name": "stderr",
     "output_type": "stream",
     "text": [
      "C:\\Users\\Zhouzw\\AppData\\Local\\Temp\\ipykernel_19156\\2288476763.py:1: FutureWarning: The default value of regex will change from True to False in a future version.\n",
      "  repost_with_id['split_2'] = repost_with_id['split_2'].str.replace(r'@[\\u4E00-\\u9FA5A-Za-z0-9-_\\s]+', '<place_holder2>')\n",
      "C:\\Users\\Zhouzw\\AppData\\Local\\Temp\\ipykernel_19156\\2288476763.py:1: SettingWithCopyWarning: \n",
      "A value is trying to be set on a copy of a slice from a DataFrame.\n",
      "Try using .loc[row_indexer,col_indexer] = value instead\n",
      "\n",
      "See the caveats in the documentation: https://pandas.pydata.org/pandas-docs/stable/user_guide/indexing.html#returning-a-view-versus-a-copy\n",
      "  repost_with_id['split_2'] = repost_with_id['split_2'].str.replace(r'@[\\u4E00-\\u9FA5A-Za-z0-9-_\\s]+', '<place_holder2>')\n"
     ]
    },
    {
     "data": {
      "text/plain": "15       确实，很讨厌聒噪或者在那儿轧戏的直播间<place_holder>董老师让人看到了直播该有的...\n42                           <place_holder>批评不自由则赞美无意义，说得好\n88                    <place_holder>天，他还那么年轻就这么有智慧……前途不可限量\n126                               <place_holder>批评不自由赞美无意义\n149      <place_holder>采访不错<place_holder>所以董老师大概什么时候会自立...\n                               ...                        \n11885                 米虫之超话 <place_holder>有知识的，和没知识的，都沉默了\n11887    回复<place_holder2>:<place_holder>他没有学生了，只有客户，你管...\n11934                            <place_holder>不再害怕痛苦与焦虑了！\n11956               <place_holder>这世间真魔幻，总是青铜指点王者，普通人教大佬做事\n11957              <place_holder>对，不要听大多数人的意见，否则世上也不会有贫富差距\nName: split_2, Length: 1161, dtype: object"
     },
     "execution_count": 407,
     "metadata": {},
     "output_type": "execute_result"
    }
   ],
   "source": [
    "# 正则替换@id\n",
    "repost_with_id['split_2'] = repost_with_id['split_2'].str.replace(r'@[\\u4E00-\\u9FA5A-Za-z0-9-_\\s]+', '<place_holder2>')\n",
    "repost_with_id['split_2']"
   ],
   "metadata": {
    "collapsed": false,
    "pycharm": {
     "name": "#%%\n"
    }
   }
  },
  {
   "cell_type": "code",
   "execution_count": 408,
   "outputs": [
    {
     "name": "stderr",
     "output_type": "stream",
     "text": [
      "C:\\Users\\Zhouzw\\AppData\\Local\\Temp\\ipykernel_19156\\93721964.py:1: SettingWithCopyWarning: \n",
      "A value is trying to be set on a copy of a slice from a DataFrame.\n",
      "Try using .loc[row_indexer,col_indexer] = value instead\n",
      "\n",
      "See the caveats in the documentation: https://pandas.pydata.org/pandas-docs/stable/user_guide/indexing.html#returning-a-view-versus-a-copy\n",
      "  repost_with_id['split_2'] = repost_with_id['split_2'].str.replace(r'<place_holder2>:', '')\n"
     ]
    },
    {
     "data": {
      "text/plain": "15       确实，很讨厌聒噪或者在那儿轧戏的直播间<place_holder>董老师让人看到了直播该有的...\n42                           <place_holder>批评不自由则赞美无意义，说得好\n88                    <place_holder>天，他还那么年轻就这么有智慧……前途不可限量\n126                               <place_holder>批评不自由赞美无意义\n149      <place_holder>采访不错<place_holder>所以董老师大概什么时候会自立...\n                               ...                        \n11885                 米虫之超话 <place_holder>有知识的，和没知识的，都沉默了\n11887               回复<place_holder>他没有学生了，只有客户，你管你的客户去干嘛？\n11934                            <place_holder>不再害怕痛苦与焦虑了！\n11956               <place_holder>这世间真魔幻，总是青铜指点王者，普通人教大佬做事\n11957              <place_holder>对，不要听大多数人的意见，否则世上也不会有贫富差距\nName: split_2, Length: 1161, dtype: object"
     },
     "execution_count": 408,
     "metadata": {},
     "output_type": "execute_result"
    }
   ],
   "source": [
    "#\n",
    "repost_with_id['split_2'] = repost_with_id['split_2'].str.replace(r'<place_holder2>:', '')\n",
    "repost_with_id['split_2']"
   ],
   "metadata": {
    "collapsed": false,
    "pycharm": {
     "name": "#%%\n"
    }
   }
  },
  {
   "cell_type": "code",
   "execution_count": 409,
   "outputs": [
    {
     "name": "stderr",
     "output_type": "stream",
     "text": [
      "C:\\Users\\Zhouzw\\AppData\\Local\\Temp\\ipykernel_19156\\1962603461.py:1: SettingWithCopyWarning: \n",
      "A value is trying to be set on a copy of a slice from a DataFrame.\n",
      "Try using .loc[row_indexer,col_indexer] = value instead\n",
      "\n",
      "See the caveats in the documentation: https://pandas.pydata.org/pandas-docs/stable/user_guide/indexing.html#returning-a-view-versus-a-copy\n",
      "  repost_with_id['split_2'] = repost_with_id['split_2'].str.split(r'<place_holder>|<place_holder2>')\n"
     ]
    },
    {
     "data": {
      "text/plain": "15       [确实，很讨厌聒噪或者在那儿轧戏的直播间, 董老师让人看到了直播该有的样子，比起那些聒噪的直...\n42                                     [, 批评不自由则赞美无意义，说得好]\n88                              [, 天，他还那么年轻就这么有智慧……前途不可限量]\n126                                         [, 批评不自由赞美无意义]\n149      [, 采访不错, 所以董老师大概什么时候会自立门户？, ? , “教育不是注满一桶水而是点燃...\n                               ...                        \n11885                           [米虫之超话 , 有知识的，和没知识的，都沉默了]\n11887                         [回复, 他没有学生了，只有客户，你管你的客户去干嘛？]\n11934                                      [, 不再害怕痛苦与焦虑了！]\n11956                         [, 这世间真魔幻，总是青铜指点王者，普通人教大佬做事]\n11957                        [, 对，不要听大多数人的意见，否则世上也不会有贫富差距]\nName: split_2, Length: 1161, dtype: object"
     },
     "execution_count": 409,
     "metadata": {},
     "output_type": "execute_result"
    }
   ],
   "source": [
    "repost_with_id['split_2'] = repost_with_id['split_2'].str.split(r'<place_holder>|<place_holder2>')\n",
    "repost_with_id['split_2']"
   ],
   "metadata": {
    "collapsed": false,
    "pycharm": {
     "name": "#%%\n"
    }
   }
  },
  {
   "cell_type": "code",
   "execution_count": 410,
   "outputs": [],
   "source": [
    "import numpy as np\n",
    "\n",
    "\n",
    "def split_row(data, column):\n",
    "    \"\"\"拆分成行\n",
    "\n",
    "    :param data: 原始数据\n",
    "    :param column: 拆分的列名\n",
    "    :type data: pandas.core.frame.DataFrame\n",
    "    :type column: str\n",
    "    \"\"\"\n",
    "    row_len = list(map(len, data[column].values))\n",
    "    rows = []\n",
    "    for i in data.columns:\n",
    "        if i == column:\n",
    "            row = np.concatenate(data[i].values)\n",
    "        else:\n",
    "            row = np.repeat(data[i].values, row_len)\n",
    "        rows.append(row)\n",
    "    return pd.DataFrame(np.dstack(tuple(rows))[0], columns=data.columns)"
   ],
   "metadata": {
    "collapsed": false,
    "pycharm": {
     "name": "#%%\n"
    }
   }
  },
  {
   "cell_type": "code",
   "execution_count": 411,
   "outputs": [
    {
     "data": {
      "text/plain": "0                                     确实，很讨厌聒噪或者在那儿轧戏的直播间\n1       董老师让人看到了直播该有的样子，比起那些聒噪的直播间和给老板打电话砍价的戏精主播，董老师的涵...\n2                                                        \n3                                         批评不自由则赞美无意义，说得好\n4                                                        \n                              ...                        \n3241                                          不再害怕痛苦与焦虑了！\n3242                                                     \n3243                             这世间真魔幻，总是青铜指点王者，普通人教大佬做事\n3244                                                     \n3245                            对，不要听大多数人的意见，否则世上也不会有贫富差距\nName: split_2, Length: 3246, dtype: object"
     },
     "execution_count": 411,
     "metadata": {},
     "output_type": "execute_result"
    }
   ],
   "source": [
    "repost_with_id = split_row(repost_with_id, 'split_2')\n",
    "repost_with_id['split_2']"
   ],
   "metadata": {
    "collapsed": false,
    "pycharm": {
     "name": "#%%\n"
    }
   }
  },
  {
   "cell_type": "code",
   "execution_count": 412,
   "outputs": [
    {
     "data": {
      "text/plain": "(1087, 14)"
     },
     "execution_count": 412,
     "metadata": {},
     "output_type": "execute_result"
    }
   ],
   "source": [
    "repost_with_id.drop_duplicates(subset='split_2', inplace=True)\n",
    "repost_with_id.shape"
   ],
   "metadata": {
    "collapsed": false,
    "pycharm": {
     "name": "#%%\n"
    }
   }
  },
  {
   "cell_type": "code",
   "execution_count": 413,
   "outputs": [
    {
     "data": {
      "text/plain": "0                                     确实，很讨厌聒噪或者在那儿轧戏的直播间\n1       董老师让人看到了直播该有的样子，比起那些聒噪的直播间和给老板打电话砍价的戏精主播，董老师的涵...\n2                                                        \n3                                         批评不自由则赞美无意义，说得好\n5                                  天，他还那么年轻就这么有智慧……前途不可限量\n                              ...                        \n3234                                              米虫之超话 \n3239                               他没有学生了，只有客户，你管你的客户去干嘛？\n3241                                          不再害怕痛苦与焦虑了！\n3243                             这世间真魔幻，总是青铜指点王者，普通人教大佬做事\n3245                            对，不要听大多数人的意见，否则世上也不会有贫富差距\nName: split_2, Length: 1087, dtype: object"
     },
     "execution_count": 413,
     "metadata": {},
     "output_type": "execute_result"
    }
   ],
   "source": [
    "repost_with_id['split_2']"
   ],
   "metadata": {
    "collapsed": false,
    "pycharm": {
     "name": "#%%\n"
    }
   }
  },
  {
   "cell_type": "code",
   "execution_count": 414,
   "outputs": [
    {
     "data": {
      "text/plain": "0                                                   快转微博\n2                                                   转发微博\n5                                      #俞敏洪谈董宇辉直播走红#6.16\n9                      就这？谷贱伤农？人*网红！（老大O明天晚上7点超过他[doge]）\n12       【俞敏洪厉害啊】新东方#董宇辉说我就是一个农民的孩子#，如你我一样在大城市努力奋斗的年轻人……\n                              ...                       \n12240                                              赞，支持。\n12241                                        不错的哦，一定要赞一个\n12242                                      给力的朋友们，果断些。。。\n12243                                        给你来个32个大赞哈。\n12244                                              值得收藏！\nName: split, Length: 2624, dtype: object"
     },
     "execution_count": 414,
     "metadata": {},
     "output_type": "execute_result"
    }
   ],
   "source": [
    "repost_without_id['split']"
   ],
   "metadata": {
    "collapsed": false,
    "pycharm": {
     "name": "#%%\n"
    }
   }
  },
  {
   "cell_type": "code",
   "execution_count": 415,
   "outputs": [
    {
     "data": {
      "text/plain": "                                                 博主头像        博主id  \\\n0   https://tvax3.sinaimg.cn/crop.0.0.664.664.1024...  5774177130   \n2   https://tvax3.sinaimg.cn/crop.0.0.996.996.1024...  5107719655   \n5   https://tvax1.sinaimg.cn/crop.0.0.996.996.1024...  7490550240   \n9   https://tvax4.sinaimg.cn/crop.0.0.960.960.1024...  5539158338   \n12  https://tvax4.sinaimg.cn/crop.0.0.996.996.1024...  6303498198   \n\n              博主                          博主主页  \\\n0         江南VB江南  https://weibo.com/5774177130   \n2   我最亲爱的D_62747  https://weibo.com/5107719655   \n5          我爱抡砖头  https://weibo.com/7490550240   \n9           权予权义  https://weibo.com/5539158338   \n12    tangshan冬哥  https://weibo.com/6303498198   \n\n                                                 转发内容      发布时间  \\\n0                                         江南VB江南：快转微博     14分钟前   \n2                                   我最亲爱的D_62747：转发微博     25分钟前   \n5                             我爱抡砖头：#俞敏洪谈董宇辉直播走红#6.16  今天 16:39   \n9              权予权义：就这？谷贱伤农？人*网红！（老大O明天晚上7点超过他[doge]）  今天 15:58   \n12  tangshan冬哥：【俞敏洪厉害啊】新东方#董宇辉说我就是一个农民的孩子#，如你我一样在大...  今天 14:19   \n\n                                    博文独立网址  点赞数  转发数  \\\n0   https://weibo.com/5774177130/Ly0aL8xrp  NaN  NaN   \n2   https://weibo.com/5107719655/Ly06bdKUz    赞  NaN   \n5   https://weibo.com/7490550240/LxZQd16Yi    赞  NaN   \n9   https://weibo.com/5539158338/LxZzwx8Ec    赞  NaN   \n12  https://weibo.com/6303498198/LxYVw6aSx    2  NaN   \n\n                                           <realpath>  \\\n0   https://weibo.com/1700648435/LxXAflnK6?refer_f...   \n2   https://weibo.com/1700648435/LxXAflnK6?refer_f...   \n5   https://weibo.com/1700648435/LxXAflnK6?refer_f...   \n9   https://weibo.com/1700648435/LxXAflnK6?refer_f...   \n12  https://weibo.com/1700648435/LxXAflnK6?refer_f...   \n\n                                           <fullpath>           <createdate>  \\\n0   https://weibo.com/1700648435/LxXAflnK6?refer_f...  2022-06-16 17:43:22.0   \n2   https://weibo.com/1700648435/LxXAflnK6?refer_f...  2022-06-16 17:43:22.0   \n5   https://weibo.com/1700648435/LxXAflnK6?refer_f...  2022-06-16 17:43:22.0   \n9   https://weibo.com/1700648435/LxXAflnK6?refer_f...  2022-06-16 17:43:22.0   \n12  https://weibo.com/1700648435/LxXAflnK6?refer_f...  2022-06-16 17:43:22.0   \n\n                                              split  \n0                                              快转微博  \n2                                              转发微博  \n5                                 #俞敏洪谈董宇辉直播走红#6.16  \n9                 就这？谷贱伤农？人*网红！（老大O明天晚上7点超过他[doge]）  \n12  【俞敏洪厉害啊】新东方#董宇辉说我就是一个农民的孩子#，如你我一样在大城市努力奋斗的年轻人……  ",
      "text/html": "<div>\n<style scoped>\n    .dataframe tbody tr th:only-of-type {\n        vertical-align: middle;\n    }\n\n    .dataframe tbody tr th {\n        vertical-align: top;\n    }\n\n    .dataframe thead th {\n        text-align: right;\n    }\n</style>\n<table border=\"1\" class=\"dataframe\">\n  <thead>\n    <tr style=\"text-align: right;\">\n      <th></th>\n      <th>博主头像</th>\n      <th>博主id</th>\n      <th>博主</th>\n      <th>博主主页</th>\n      <th>转发内容</th>\n      <th>发布时间</th>\n      <th>博文独立网址</th>\n      <th>点赞数</th>\n      <th>转发数</th>\n      <th>&lt;realpath&gt;</th>\n      <th>&lt;fullpath&gt;</th>\n      <th>&lt;createdate&gt;</th>\n      <th>split</th>\n    </tr>\n  </thead>\n  <tbody>\n    <tr>\n      <th>0</th>\n      <td>https://tvax3.sinaimg.cn/crop.0.0.664.664.1024...</td>\n      <td>5774177130</td>\n      <td>江南VB江南</td>\n      <td>https://weibo.com/5774177130</td>\n      <td>江南VB江南：快转微博</td>\n      <td>14分钟前</td>\n      <td>https://weibo.com/5774177130/Ly0aL8xrp</td>\n      <td>NaN</td>\n      <td>NaN</td>\n      <td>https://weibo.com/1700648435/LxXAflnK6?refer_f...</td>\n      <td>https://weibo.com/1700648435/LxXAflnK6?refer_f...</td>\n      <td>2022-06-16 17:43:22.0</td>\n      <td>快转微博</td>\n    </tr>\n    <tr>\n      <th>2</th>\n      <td>https://tvax3.sinaimg.cn/crop.0.0.996.996.1024...</td>\n      <td>5107719655</td>\n      <td>我最亲爱的D_62747</td>\n      <td>https://weibo.com/5107719655</td>\n      <td>我最亲爱的D_62747：转发微博</td>\n      <td>25分钟前</td>\n      <td>https://weibo.com/5107719655/Ly06bdKUz</td>\n      <td>赞</td>\n      <td>NaN</td>\n      <td>https://weibo.com/1700648435/LxXAflnK6?refer_f...</td>\n      <td>https://weibo.com/1700648435/LxXAflnK6?refer_f...</td>\n      <td>2022-06-16 17:43:22.0</td>\n      <td>转发微博</td>\n    </tr>\n    <tr>\n      <th>5</th>\n      <td>https://tvax1.sinaimg.cn/crop.0.0.996.996.1024...</td>\n      <td>7490550240</td>\n      <td>我爱抡砖头</td>\n      <td>https://weibo.com/7490550240</td>\n      <td>我爱抡砖头：#俞敏洪谈董宇辉直播走红#6.16</td>\n      <td>今天 16:39</td>\n      <td>https://weibo.com/7490550240/LxZQd16Yi</td>\n      <td>赞</td>\n      <td>NaN</td>\n      <td>https://weibo.com/1700648435/LxXAflnK6?refer_f...</td>\n      <td>https://weibo.com/1700648435/LxXAflnK6?refer_f...</td>\n      <td>2022-06-16 17:43:22.0</td>\n      <td>#俞敏洪谈董宇辉直播走红#6.16</td>\n    </tr>\n    <tr>\n      <th>9</th>\n      <td>https://tvax4.sinaimg.cn/crop.0.0.960.960.1024...</td>\n      <td>5539158338</td>\n      <td>权予权义</td>\n      <td>https://weibo.com/5539158338</td>\n      <td>权予权义：就这？谷贱伤农？人*网红！（老大O明天晚上7点超过他[doge]）</td>\n      <td>今天 15:58</td>\n      <td>https://weibo.com/5539158338/LxZzwx8Ec</td>\n      <td>赞</td>\n      <td>NaN</td>\n      <td>https://weibo.com/1700648435/LxXAflnK6?refer_f...</td>\n      <td>https://weibo.com/1700648435/LxXAflnK6?refer_f...</td>\n      <td>2022-06-16 17:43:22.0</td>\n      <td>就这？谷贱伤农？人*网红！（老大O明天晚上7点超过他[doge]）</td>\n    </tr>\n    <tr>\n      <th>12</th>\n      <td>https://tvax4.sinaimg.cn/crop.0.0.996.996.1024...</td>\n      <td>6303498198</td>\n      <td>tangshan冬哥</td>\n      <td>https://weibo.com/6303498198</td>\n      <td>tangshan冬哥：【俞敏洪厉害啊】新东方#董宇辉说我就是一个农民的孩子#，如你我一样在大...</td>\n      <td>今天 14:19</td>\n      <td>https://weibo.com/6303498198/LxYVw6aSx</td>\n      <td>2</td>\n      <td>NaN</td>\n      <td>https://weibo.com/1700648435/LxXAflnK6?refer_f...</td>\n      <td>https://weibo.com/1700648435/LxXAflnK6?refer_f...</td>\n      <td>2022-06-16 17:43:22.0</td>\n      <td>【俞敏洪厉害啊】新东方#董宇辉说我就是一个农民的孩子#，如你我一样在大城市努力奋斗的年轻人……</td>\n    </tr>\n  </tbody>\n</table>\n</div>"
     },
     "execution_count": 415,
     "metadata": {},
     "output_type": "execute_result"
    }
   ],
   "source": [
    "repost_without_id.head()"
   ],
   "metadata": {
    "collapsed": false,
    "pycharm": {
     "name": "#%%\n"
    }
   }
  },
  {
   "cell_type": "code",
   "execution_count": 416,
   "outputs": [
    {
     "data": {
      "text/plain": "                                                博主头像        博主id        博主  \\\n0  https://tva3.sinaimg.cn/crop.0.0.664.664.1024/...  3136807007  猪猪的私密小天地   \n1  https://tva3.sinaimg.cn/crop.0.0.664.664.1024/...  3136807007  猪猪的私密小天地   \n2  https://tvax2.sinaimg.cn/crop.0.0.1000.1000.10...  5639889665  一颗快乐的糖橘子   \n3  https://tvax2.sinaimg.cn/crop.0.0.1000.1000.10...  5639889665  一颗快乐的糖橘子   \n5  https://tvax1.sinaimg.cn/crop.0.0.996.996.1024...  1631487171   捡到现金请归还   \n\n                           博主主页  \\\n0  https://weibo.com/3136807007   \n1  https://weibo.com/3136807007   \n2  https://weibo.com/5639889665   \n3  https://weibo.com/5639889665   \n5  https://weibo.com/1631487171   \n\n                                                转发内容      发布时间  \\\n0  猪猪的私密小天地：确实，很讨厌聒噪或者在那儿轧戏的直播间//@根正苗红的贫农:董老师让人看到...  今天 12:34   \n1  猪猪的私密小天地：确实，很讨厌聒噪或者在那儿轧戏的直播间//@根正苗红的贫农:董老师让人看到...  今天 12:34   \n2               一颗快乐的糖橘子：//@鱼massage:批评不自由则赞美无意义，说得好     26分钟前   \n3               一颗快乐的糖橘子：//@鱼massage:批评不自由则赞美无意义，说得好     26分钟前   \n5       捡到现金请归还：//@Red-xxyyzz:天，他还那么年轻就这么有智慧……前途不可限量     46分钟前   \n\n                                   博文独立网址 点赞数  转发数  \\\n0  https://weibo.com/3136807007/LxYf1vMMX   赞  NaN   \n1  https://weibo.com/3136807007/LxYf1vMMX   赞  NaN   \n2  https://weibo.com/5639889665/Ly064auPj   赞  NaN   \n3  https://weibo.com/5639889665/Ly064auPj   赞  NaN   \n5  https://weibo.com/1631487171/LxZYeAfYE   赞  NaN   \n\n                                          <realpath>  \\\n0  https://weibo.com/1700648435/LxXAflnK6?refer_f...   \n1  https://weibo.com/1700648435/LxXAflnK6?refer_f...   \n2  https://weibo.com/6023189492/LxQ9B5sWa?refer_f...   \n3  https://weibo.com/6023189492/LxQ9B5sWa?refer_f...   \n5  https://weibo.com/6023189492/LxQ9B5sWa?refer_f...   \n\n                                          <fullpath>           <createdate>  \\\n0  https://weibo.com/1700648435/LxXAflnK6?refer_f...  2022-06-16 17:43:32.0   \n1  https://weibo.com/1700648435/LxXAflnK6?refer_f...  2022-06-16 17:43:32.0   \n2  https://weibo.com/6023189492/LxQ9B5sWa?refer_f...  2022-06-16 17:43:57.0   \n3  https://weibo.com/6023189492/LxQ9B5sWa?refer_f...  2022-06-16 17:43:57.0   \n5  https://weibo.com/6023189492/LxQ9B5sWa?refer_f...  2022-06-16 17:44:25.0   \n\n                                               split  \\\n0  确实，很讨厌聒噪或者在那儿轧戏的直播间//@根正苗红的贫农:董老师让人看到了直播该有的样子，...   \n1  确实，很讨厌聒噪或者在那儿轧戏的直播间//@根正苗红的贫农:董老师让人看到了直播该有的样子，...   \n2                        //@鱼massage:批评不自由则赞美无意义，说得好   \n3                        //@鱼massage:批评不自由则赞美无意义，说得好   \n5               //@Red-xxyyzz:天，他还那么年轻就这么有智慧……前途不可限量   \n\n                                             split_2  \n0                                确实，很讨厌聒噪或者在那儿轧戏的直播间  \n1  董老师让人看到了直播该有的样子，比起那些聒噪的直播间和给老板打电话砍价的戏精主播，董老师的涵...  \n2                                                     \n3                                    批评不自由则赞美无意义，说得好  \n5                             天，他还那么年轻就这么有智慧……前途不可限量  ",
      "text/html": "<div>\n<style scoped>\n    .dataframe tbody tr th:only-of-type {\n        vertical-align: middle;\n    }\n\n    .dataframe tbody tr th {\n        vertical-align: top;\n    }\n\n    .dataframe thead th {\n        text-align: right;\n    }\n</style>\n<table border=\"1\" class=\"dataframe\">\n  <thead>\n    <tr style=\"text-align: right;\">\n      <th></th>\n      <th>博主头像</th>\n      <th>博主id</th>\n      <th>博主</th>\n      <th>博主主页</th>\n      <th>转发内容</th>\n      <th>发布时间</th>\n      <th>博文独立网址</th>\n      <th>点赞数</th>\n      <th>转发数</th>\n      <th>&lt;realpath&gt;</th>\n      <th>&lt;fullpath&gt;</th>\n      <th>&lt;createdate&gt;</th>\n      <th>split</th>\n      <th>split_2</th>\n    </tr>\n  </thead>\n  <tbody>\n    <tr>\n      <th>0</th>\n      <td>https://tva3.sinaimg.cn/crop.0.0.664.664.1024/...</td>\n      <td>3136807007</td>\n      <td>猪猪的私密小天地</td>\n      <td>https://weibo.com/3136807007</td>\n      <td>猪猪的私密小天地：确实，很讨厌聒噪或者在那儿轧戏的直播间//@根正苗红的贫农:董老师让人看到...</td>\n      <td>今天 12:34</td>\n      <td>https://weibo.com/3136807007/LxYf1vMMX</td>\n      <td>赞</td>\n      <td>NaN</td>\n      <td>https://weibo.com/1700648435/LxXAflnK6?refer_f...</td>\n      <td>https://weibo.com/1700648435/LxXAflnK6?refer_f...</td>\n      <td>2022-06-16 17:43:32.0</td>\n      <td>确实，很讨厌聒噪或者在那儿轧戏的直播间//@根正苗红的贫农:董老师让人看到了直播该有的样子，...</td>\n      <td>确实，很讨厌聒噪或者在那儿轧戏的直播间</td>\n    </tr>\n    <tr>\n      <th>1</th>\n      <td>https://tva3.sinaimg.cn/crop.0.0.664.664.1024/...</td>\n      <td>3136807007</td>\n      <td>猪猪的私密小天地</td>\n      <td>https://weibo.com/3136807007</td>\n      <td>猪猪的私密小天地：确实，很讨厌聒噪或者在那儿轧戏的直播间//@根正苗红的贫农:董老师让人看到...</td>\n      <td>今天 12:34</td>\n      <td>https://weibo.com/3136807007/LxYf1vMMX</td>\n      <td>赞</td>\n      <td>NaN</td>\n      <td>https://weibo.com/1700648435/LxXAflnK6?refer_f...</td>\n      <td>https://weibo.com/1700648435/LxXAflnK6?refer_f...</td>\n      <td>2022-06-16 17:43:32.0</td>\n      <td>确实，很讨厌聒噪或者在那儿轧戏的直播间//@根正苗红的贫农:董老师让人看到了直播该有的样子，...</td>\n      <td>董老师让人看到了直播该有的样子，比起那些聒噪的直播间和给老板打电话砍价的戏精主播，董老师的涵...</td>\n    </tr>\n    <tr>\n      <th>2</th>\n      <td>https://tvax2.sinaimg.cn/crop.0.0.1000.1000.10...</td>\n      <td>5639889665</td>\n      <td>一颗快乐的糖橘子</td>\n      <td>https://weibo.com/5639889665</td>\n      <td>一颗快乐的糖橘子：//@鱼massage:批评不自由则赞美无意义，说得好</td>\n      <td>26分钟前</td>\n      <td>https://weibo.com/5639889665/Ly064auPj</td>\n      <td>赞</td>\n      <td>NaN</td>\n      <td>https://weibo.com/6023189492/LxQ9B5sWa?refer_f...</td>\n      <td>https://weibo.com/6023189492/LxQ9B5sWa?refer_f...</td>\n      <td>2022-06-16 17:43:57.0</td>\n      <td>//@鱼massage:批评不自由则赞美无意义，说得好</td>\n      <td></td>\n    </tr>\n    <tr>\n      <th>3</th>\n      <td>https://tvax2.sinaimg.cn/crop.0.0.1000.1000.10...</td>\n      <td>5639889665</td>\n      <td>一颗快乐的糖橘子</td>\n      <td>https://weibo.com/5639889665</td>\n      <td>一颗快乐的糖橘子：//@鱼massage:批评不自由则赞美无意义，说得好</td>\n      <td>26分钟前</td>\n      <td>https://weibo.com/5639889665/Ly064auPj</td>\n      <td>赞</td>\n      <td>NaN</td>\n      <td>https://weibo.com/6023189492/LxQ9B5sWa?refer_f...</td>\n      <td>https://weibo.com/6023189492/LxQ9B5sWa?refer_f...</td>\n      <td>2022-06-16 17:43:57.0</td>\n      <td>//@鱼massage:批评不自由则赞美无意义，说得好</td>\n      <td>批评不自由则赞美无意义，说得好</td>\n    </tr>\n    <tr>\n      <th>5</th>\n      <td>https://tvax1.sinaimg.cn/crop.0.0.996.996.1024...</td>\n      <td>1631487171</td>\n      <td>捡到现金请归还</td>\n      <td>https://weibo.com/1631487171</td>\n      <td>捡到现金请归还：//@Red-xxyyzz:天，他还那么年轻就这么有智慧……前途不可限量</td>\n      <td>46分钟前</td>\n      <td>https://weibo.com/1631487171/LxZYeAfYE</td>\n      <td>赞</td>\n      <td>NaN</td>\n      <td>https://weibo.com/6023189492/LxQ9B5sWa?refer_f...</td>\n      <td>https://weibo.com/6023189492/LxQ9B5sWa?refer_f...</td>\n      <td>2022-06-16 17:44:25.0</td>\n      <td>//@Red-xxyyzz:天，他还那么年轻就这么有智慧……前途不可限量</td>\n      <td>天，他还那么年轻就这么有智慧……前途不可限量</td>\n    </tr>\n  </tbody>\n</table>\n</div>"
     },
     "execution_count": 416,
     "metadata": {},
     "output_type": "execute_result"
    }
   ],
   "source": [
    "repost_with_id.head()"
   ],
   "metadata": {
    "collapsed": false,
    "pycharm": {
     "name": "#%%\n"
    }
   }
  },
  {
   "cell_type": "code",
   "execution_count": 417,
   "outputs": [
    {
     "data": {
      "text/plain": "                                                博主头像        博主id        博主  \\\n0  https://tva3.sinaimg.cn/crop.0.0.664.664.1024/...  3136807007  猪猪的私密小天地   \n1  https://tva3.sinaimg.cn/crop.0.0.664.664.1024/...  3136807007  猪猪的私密小天地   \n2  https://tvax2.sinaimg.cn/crop.0.0.1000.1000.10...  5639889665  一颗快乐的糖橘子   \n3  https://tvax2.sinaimg.cn/crop.0.0.1000.1000.10...  5639889665  一颗快乐的糖橘子   \n5  https://tvax1.sinaimg.cn/crop.0.0.996.996.1024...  1631487171   捡到现金请归还   \n\n                           博主主页  \\\n0  https://weibo.com/3136807007   \n1  https://weibo.com/3136807007   \n2  https://weibo.com/5639889665   \n3  https://weibo.com/5639889665   \n5  https://weibo.com/1631487171   \n\n                                                转发内容      发布时间  \\\n0  猪猪的私密小天地：确实，很讨厌聒噪或者在那儿轧戏的直播间//@根正苗红的贫农:董老师让人看到...  今天 12:34   \n1  猪猪的私密小天地：确实，很讨厌聒噪或者在那儿轧戏的直播间//@根正苗红的贫农:董老师让人看到...  今天 12:34   \n2               一颗快乐的糖橘子：//@鱼massage:批评不自由则赞美无意义，说得好     26分钟前   \n3               一颗快乐的糖橘子：//@鱼massage:批评不自由则赞美无意义，说得好     26分钟前   \n5       捡到现金请归还：//@Red-xxyyzz:天，他还那么年轻就这么有智慧……前途不可限量     46分钟前   \n\n                                   博文独立网址 点赞数  转发数  \\\n0  https://weibo.com/3136807007/LxYf1vMMX   赞  NaN   \n1  https://weibo.com/3136807007/LxYf1vMMX   赞  NaN   \n2  https://weibo.com/5639889665/Ly064auPj   赞  NaN   \n3  https://weibo.com/5639889665/Ly064auPj   赞  NaN   \n5  https://weibo.com/1631487171/LxZYeAfYE   赞  NaN   \n\n                                          <realpath>  \\\n0  https://weibo.com/1700648435/LxXAflnK6?refer_f...   \n1  https://weibo.com/1700648435/LxXAflnK6?refer_f...   \n2  https://weibo.com/6023189492/LxQ9B5sWa?refer_f...   \n3  https://weibo.com/6023189492/LxQ9B5sWa?refer_f...   \n5  https://weibo.com/6023189492/LxQ9B5sWa?refer_f...   \n\n                                          <fullpath>           <createdate>  \\\n0  https://weibo.com/1700648435/LxXAflnK6?refer_f...  2022-06-16 17:43:32.0   \n1  https://weibo.com/1700648435/LxXAflnK6?refer_f...  2022-06-16 17:43:32.0   \n2  https://weibo.com/6023189492/LxQ9B5sWa?refer_f...  2022-06-16 17:43:57.0   \n3  https://weibo.com/6023189492/LxQ9B5sWa?refer_f...  2022-06-16 17:43:57.0   \n5  https://weibo.com/6023189492/LxQ9B5sWa?refer_f...  2022-06-16 17:44:25.0   \n\n                                               split  \\\n0                                确实，很讨厌聒噪或者在那儿轧戏的直播间   \n1  董老师让人看到了直播该有的样子，比起那些聒噪的直播间和给老板打电话砍价的戏精主播，董老师的涵...   \n2                                                      \n3                                    批评不自由则赞美无意义，说得好   \n5                             天，他还那么年轻就这么有智慧……前途不可限量   \n\n                                             split_2  \n0                                确实，很讨厌聒噪或者在那儿轧戏的直播间  \n1  董老师让人看到了直播该有的样子，比起那些聒噪的直播间和给老板打电话砍价的戏精主播，董老师的涵...  \n2                                                     \n3                                    批评不自由则赞美无意义，说得好  \n5                             天，他还那么年轻就这么有智慧……前途不可限量  ",
      "text/html": "<div>\n<style scoped>\n    .dataframe tbody tr th:only-of-type {\n        vertical-align: middle;\n    }\n\n    .dataframe tbody tr th {\n        vertical-align: top;\n    }\n\n    .dataframe thead th {\n        text-align: right;\n    }\n</style>\n<table border=\"1\" class=\"dataframe\">\n  <thead>\n    <tr style=\"text-align: right;\">\n      <th></th>\n      <th>博主头像</th>\n      <th>博主id</th>\n      <th>博主</th>\n      <th>博主主页</th>\n      <th>转发内容</th>\n      <th>发布时间</th>\n      <th>博文独立网址</th>\n      <th>点赞数</th>\n      <th>转发数</th>\n      <th>&lt;realpath&gt;</th>\n      <th>&lt;fullpath&gt;</th>\n      <th>&lt;createdate&gt;</th>\n      <th>split</th>\n      <th>split_2</th>\n    </tr>\n  </thead>\n  <tbody>\n    <tr>\n      <th>0</th>\n      <td>https://tva3.sinaimg.cn/crop.0.0.664.664.1024/...</td>\n      <td>3136807007</td>\n      <td>猪猪的私密小天地</td>\n      <td>https://weibo.com/3136807007</td>\n      <td>猪猪的私密小天地：确实，很讨厌聒噪或者在那儿轧戏的直播间//@根正苗红的贫农:董老师让人看到...</td>\n      <td>今天 12:34</td>\n      <td>https://weibo.com/3136807007/LxYf1vMMX</td>\n      <td>赞</td>\n      <td>NaN</td>\n      <td>https://weibo.com/1700648435/LxXAflnK6?refer_f...</td>\n      <td>https://weibo.com/1700648435/LxXAflnK6?refer_f...</td>\n      <td>2022-06-16 17:43:32.0</td>\n      <td>确实，很讨厌聒噪或者在那儿轧戏的直播间</td>\n      <td>确实，很讨厌聒噪或者在那儿轧戏的直播间</td>\n    </tr>\n    <tr>\n      <th>1</th>\n      <td>https://tva3.sinaimg.cn/crop.0.0.664.664.1024/...</td>\n      <td>3136807007</td>\n      <td>猪猪的私密小天地</td>\n      <td>https://weibo.com/3136807007</td>\n      <td>猪猪的私密小天地：确实，很讨厌聒噪或者在那儿轧戏的直播间//@根正苗红的贫农:董老师让人看到...</td>\n      <td>今天 12:34</td>\n      <td>https://weibo.com/3136807007/LxYf1vMMX</td>\n      <td>赞</td>\n      <td>NaN</td>\n      <td>https://weibo.com/1700648435/LxXAflnK6?refer_f...</td>\n      <td>https://weibo.com/1700648435/LxXAflnK6?refer_f...</td>\n      <td>2022-06-16 17:43:32.0</td>\n      <td>董老师让人看到了直播该有的样子，比起那些聒噪的直播间和给老板打电话砍价的戏精主播，董老师的涵...</td>\n      <td>董老师让人看到了直播该有的样子，比起那些聒噪的直播间和给老板打电话砍价的戏精主播，董老师的涵...</td>\n    </tr>\n    <tr>\n      <th>2</th>\n      <td>https://tvax2.sinaimg.cn/crop.0.0.1000.1000.10...</td>\n      <td>5639889665</td>\n      <td>一颗快乐的糖橘子</td>\n      <td>https://weibo.com/5639889665</td>\n      <td>一颗快乐的糖橘子：//@鱼massage:批评不自由则赞美无意义，说得好</td>\n      <td>26分钟前</td>\n      <td>https://weibo.com/5639889665/Ly064auPj</td>\n      <td>赞</td>\n      <td>NaN</td>\n      <td>https://weibo.com/6023189492/LxQ9B5sWa?refer_f...</td>\n      <td>https://weibo.com/6023189492/LxQ9B5sWa?refer_f...</td>\n      <td>2022-06-16 17:43:57.0</td>\n      <td></td>\n      <td></td>\n    </tr>\n    <tr>\n      <th>3</th>\n      <td>https://tvax2.sinaimg.cn/crop.0.0.1000.1000.10...</td>\n      <td>5639889665</td>\n      <td>一颗快乐的糖橘子</td>\n      <td>https://weibo.com/5639889665</td>\n      <td>一颗快乐的糖橘子：//@鱼massage:批评不自由则赞美无意义，说得好</td>\n      <td>26分钟前</td>\n      <td>https://weibo.com/5639889665/Ly064auPj</td>\n      <td>赞</td>\n      <td>NaN</td>\n      <td>https://weibo.com/6023189492/LxQ9B5sWa?refer_f...</td>\n      <td>https://weibo.com/6023189492/LxQ9B5sWa?refer_f...</td>\n      <td>2022-06-16 17:43:57.0</td>\n      <td>批评不自由则赞美无意义，说得好</td>\n      <td>批评不自由则赞美无意义，说得好</td>\n    </tr>\n    <tr>\n      <th>5</th>\n      <td>https://tvax1.sinaimg.cn/crop.0.0.996.996.1024...</td>\n      <td>1631487171</td>\n      <td>捡到现金请归还</td>\n      <td>https://weibo.com/1631487171</td>\n      <td>捡到现金请归还：//@Red-xxyyzz:天，他还那么年轻就这么有智慧……前途不可限量</td>\n      <td>46分钟前</td>\n      <td>https://weibo.com/1631487171/LxZYeAfYE</td>\n      <td>赞</td>\n      <td>NaN</td>\n      <td>https://weibo.com/6023189492/LxQ9B5sWa?refer_f...</td>\n      <td>https://weibo.com/6023189492/LxQ9B5sWa?refer_f...</td>\n      <td>2022-06-16 17:44:25.0</td>\n      <td>天，他还那么年轻就这么有智慧……前途不可限量</td>\n      <td>天，他还那么年轻就这么有智慧……前途不可限量</td>\n    </tr>\n  </tbody>\n</table>\n</div>"
     },
     "execution_count": 417,
     "metadata": {},
     "output_type": "execute_result"
    }
   ],
   "source": [
    "repost_with_id['split'] = repost_with_id['split_2']\n",
    "repost_with_id.head()"
   ],
   "metadata": {
    "collapsed": false,
    "pycharm": {
     "name": "#%%\n"
    }
   }
  },
  {
   "cell_type": "code",
   "execution_count": 418,
   "outputs": [
    {
     "data": {
      "text/plain": "                                                博主头像        博主id        博主  \\\n0  https://tva3.sinaimg.cn/crop.0.0.664.664.1024/...  3136807007  猪猪的私密小天地   \n1  https://tva3.sinaimg.cn/crop.0.0.664.664.1024/...  3136807007  猪猪的私密小天地   \n2  https://tvax2.sinaimg.cn/crop.0.0.1000.1000.10...  5639889665  一颗快乐的糖橘子   \n3  https://tvax2.sinaimg.cn/crop.0.0.1000.1000.10...  5639889665  一颗快乐的糖橘子   \n5  https://tvax1.sinaimg.cn/crop.0.0.996.996.1024...  1631487171   捡到现金请归还   \n\n                           博主主页  \\\n0  https://weibo.com/3136807007   \n1  https://weibo.com/3136807007   \n2  https://weibo.com/5639889665   \n3  https://weibo.com/5639889665   \n5  https://weibo.com/1631487171   \n\n                                                转发内容      发布时间  \\\n0  猪猪的私密小天地：确实，很讨厌聒噪或者在那儿轧戏的直播间//@根正苗红的贫农:董老师让人看到...  今天 12:34   \n1  猪猪的私密小天地：确实，很讨厌聒噪或者在那儿轧戏的直播间//@根正苗红的贫农:董老师让人看到...  今天 12:34   \n2               一颗快乐的糖橘子：//@鱼massage:批评不自由则赞美无意义，说得好     26分钟前   \n3               一颗快乐的糖橘子：//@鱼massage:批评不自由则赞美无意义，说得好     26分钟前   \n5       捡到现金请归还：//@Red-xxyyzz:天，他还那么年轻就这么有智慧……前途不可限量     46分钟前   \n\n                                   博文独立网址 点赞数  转发数  \\\n0  https://weibo.com/3136807007/LxYf1vMMX   赞  NaN   \n1  https://weibo.com/3136807007/LxYf1vMMX   赞  NaN   \n2  https://weibo.com/5639889665/Ly064auPj   赞  NaN   \n3  https://weibo.com/5639889665/Ly064auPj   赞  NaN   \n5  https://weibo.com/1631487171/LxZYeAfYE   赞  NaN   \n\n                                          <realpath>  \\\n0  https://weibo.com/1700648435/LxXAflnK6?refer_f...   \n1  https://weibo.com/1700648435/LxXAflnK6?refer_f...   \n2  https://weibo.com/6023189492/LxQ9B5sWa?refer_f...   \n3  https://weibo.com/6023189492/LxQ9B5sWa?refer_f...   \n5  https://weibo.com/6023189492/LxQ9B5sWa?refer_f...   \n\n                                          <fullpath>           <createdate>  \\\n0  https://weibo.com/1700648435/LxXAflnK6?refer_f...  2022-06-16 17:43:32.0   \n1  https://weibo.com/1700648435/LxXAflnK6?refer_f...  2022-06-16 17:43:32.0   \n2  https://weibo.com/6023189492/LxQ9B5sWa?refer_f...  2022-06-16 17:43:57.0   \n3  https://weibo.com/6023189492/LxQ9B5sWa?refer_f...  2022-06-16 17:43:57.0   \n5  https://weibo.com/6023189492/LxQ9B5sWa?refer_f...  2022-06-16 17:44:25.0   \n\n                                               split  \n0                                确实，很讨厌聒噪或者在那儿轧戏的直播间  \n1  董老师让人看到了直播该有的样子，比起那些聒噪的直播间和给老板打电话砍价的戏精主播，董老师的涵...  \n2                                                     \n3                                    批评不自由则赞美无意义，说得好  \n5                             天，他还那么年轻就这么有智慧……前途不可限量  ",
      "text/html": "<div>\n<style scoped>\n    .dataframe tbody tr th:only-of-type {\n        vertical-align: middle;\n    }\n\n    .dataframe tbody tr th {\n        vertical-align: top;\n    }\n\n    .dataframe thead th {\n        text-align: right;\n    }\n</style>\n<table border=\"1\" class=\"dataframe\">\n  <thead>\n    <tr style=\"text-align: right;\">\n      <th></th>\n      <th>博主头像</th>\n      <th>博主id</th>\n      <th>博主</th>\n      <th>博主主页</th>\n      <th>转发内容</th>\n      <th>发布时间</th>\n      <th>博文独立网址</th>\n      <th>点赞数</th>\n      <th>转发数</th>\n      <th>&lt;realpath&gt;</th>\n      <th>&lt;fullpath&gt;</th>\n      <th>&lt;createdate&gt;</th>\n      <th>split</th>\n    </tr>\n  </thead>\n  <tbody>\n    <tr>\n      <th>0</th>\n      <td>https://tva3.sinaimg.cn/crop.0.0.664.664.1024/...</td>\n      <td>3136807007</td>\n      <td>猪猪的私密小天地</td>\n      <td>https://weibo.com/3136807007</td>\n      <td>猪猪的私密小天地：确实，很讨厌聒噪或者在那儿轧戏的直播间//@根正苗红的贫农:董老师让人看到...</td>\n      <td>今天 12:34</td>\n      <td>https://weibo.com/3136807007/LxYf1vMMX</td>\n      <td>赞</td>\n      <td>NaN</td>\n      <td>https://weibo.com/1700648435/LxXAflnK6?refer_f...</td>\n      <td>https://weibo.com/1700648435/LxXAflnK6?refer_f...</td>\n      <td>2022-06-16 17:43:32.0</td>\n      <td>确实，很讨厌聒噪或者在那儿轧戏的直播间</td>\n    </tr>\n    <tr>\n      <th>1</th>\n      <td>https://tva3.sinaimg.cn/crop.0.0.664.664.1024/...</td>\n      <td>3136807007</td>\n      <td>猪猪的私密小天地</td>\n      <td>https://weibo.com/3136807007</td>\n      <td>猪猪的私密小天地：确实，很讨厌聒噪或者在那儿轧戏的直播间//@根正苗红的贫农:董老师让人看到...</td>\n      <td>今天 12:34</td>\n      <td>https://weibo.com/3136807007/LxYf1vMMX</td>\n      <td>赞</td>\n      <td>NaN</td>\n      <td>https://weibo.com/1700648435/LxXAflnK6?refer_f...</td>\n      <td>https://weibo.com/1700648435/LxXAflnK6?refer_f...</td>\n      <td>2022-06-16 17:43:32.0</td>\n      <td>董老师让人看到了直播该有的样子，比起那些聒噪的直播间和给老板打电话砍价的戏精主播，董老师的涵...</td>\n    </tr>\n    <tr>\n      <th>2</th>\n      <td>https://tvax2.sinaimg.cn/crop.0.0.1000.1000.10...</td>\n      <td>5639889665</td>\n      <td>一颗快乐的糖橘子</td>\n      <td>https://weibo.com/5639889665</td>\n      <td>一颗快乐的糖橘子：//@鱼massage:批评不自由则赞美无意义，说得好</td>\n      <td>26分钟前</td>\n      <td>https://weibo.com/5639889665/Ly064auPj</td>\n      <td>赞</td>\n      <td>NaN</td>\n      <td>https://weibo.com/6023189492/LxQ9B5sWa?refer_f...</td>\n      <td>https://weibo.com/6023189492/LxQ9B5sWa?refer_f...</td>\n      <td>2022-06-16 17:43:57.0</td>\n      <td></td>\n    </tr>\n    <tr>\n      <th>3</th>\n      <td>https://tvax2.sinaimg.cn/crop.0.0.1000.1000.10...</td>\n      <td>5639889665</td>\n      <td>一颗快乐的糖橘子</td>\n      <td>https://weibo.com/5639889665</td>\n      <td>一颗快乐的糖橘子：//@鱼massage:批评不自由则赞美无意义，说得好</td>\n      <td>26分钟前</td>\n      <td>https://weibo.com/5639889665/Ly064auPj</td>\n      <td>赞</td>\n      <td>NaN</td>\n      <td>https://weibo.com/6023189492/LxQ9B5sWa?refer_f...</td>\n      <td>https://weibo.com/6023189492/LxQ9B5sWa?refer_f...</td>\n      <td>2022-06-16 17:43:57.0</td>\n      <td>批评不自由则赞美无意义，说得好</td>\n    </tr>\n    <tr>\n      <th>5</th>\n      <td>https://tvax1.sinaimg.cn/crop.0.0.996.996.1024...</td>\n      <td>1631487171</td>\n      <td>捡到现金请归还</td>\n      <td>https://weibo.com/1631487171</td>\n      <td>捡到现金请归还：//@Red-xxyyzz:天，他还那么年轻就这么有智慧……前途不可限量</td>\n      <td>46分钟前</td>\n      <td>https://weibo.com/1631487171/LxZYeAfYE</td>\n      <td>赞</td>\n      <td>NaN</td>\n      <td>https://weibo.com/6023189492/LxQ9B5sWa?refer_f...</td>\n      <td>https://weibo.com/6023189492/LxQ9B5sWa?refer_f...</td>\n      <td>2022-06-16 17:44:25.0</td>\n      <td>天，他还那么年轻就这么有智慧……前途不可限量</td>\n    </tr>\n  </tbody>\n</table>\n</div>"
     },
     "execution_count": 418,
     "metadata": {},
     "output_type": "execute_result"
    }
   ],
   "source": [
    "repost_with_id.drop(labels='split_2', axis=1, inplace=True)\n",
    "repost_with_id.head()"
   ],
   "metadata": {
    "collapsed": false,
    "pycharm": {
     "name": "#%%\n"
    }
   }
  },
  {
   "cell_type": "code",
   "execution_count": 419,
   "outputs": [
    {
     "data": {
      "text/plain": "(3711, 13)"
     },
     "execution_count": 419,
     "metadata": {},
     "output_type": "execute_result"
    }
   ],
   "source": [
    "repost = pd.concat([repost_with_id, repost_without_id])\n",
    "repost.shape"
   ],
   "metadata": {
    "collapsed": false,
    "pycharm": {
     "name": "#%%\n"
    }
   }
  },
  {
   "cell_type": "code",
   "execution_count": 420,
   "outputs": [
    {
     "data": {
      "text/plain": "(3558, 13)"
     },
     "execution_count": 420,
     "metadata": {},
     "output_type": "execute_result"
    }
   ],
   "source": [
    "repost.drop_duplicates(subset='split', inplace=True)\n",
    "repost.shape"
   ],
   "metadata": {
    "collapsed": false,
    "pycharm": {
     "name": "#%%\n"
    }
   }
  },
  {
   "cell_type": "code",
   "execution_count": 421,
   "outputs": [
    {
     "data": {
      "text/plain": "0                                      确实，很讨厌聒噪或者在那儿轧戏的直播间\n1        董老师让人看到了直播该有的样子，比起那些聒噪的直播间和给老板打电话砍价的戏精主播，董老师的涵...\n2                                                         \n3                                          批评不自由则赞美无意义，说得好\n5                                   天，他还那么年轻就这么有智慧……前途不可限量\n                               ...                        \n12240                                                赞，支持。\n12241                                          不错的哦，一定要赞一个\n12242                                        给力的朋友们，果断些。。。\n12243                                          给你来个32个大赞哈。\n12244                                                值得收藏！\nName: split, Length: 3558, dtype: object"
     },
     "execution_count": 421,
     "metadata": {},
     "output_type": "execute_result"
    }
   ],
   "source": [
    "repost['split']"
   ],
   "metadata": {
    "collapsed": false,
    "pycharm": {
     "name": "#%%\n"
    }
   }
  },
  {
   "cell_type": "code",
   "execution_count": 422,
   "outputs": [
    {
     "name": "stderr",
     "output_type": "stream",
     "text": [
      "C:\\Users\\Zhouzw\\anaconda3\\envs\\d2l\\lib\\site-packages\\openpyxl\\styles\\stylesheet.py:226: UserWarning: Workbook contains no default style, apply openpyxl's default\n",
      "  warn(\"Workbook contains no default style, apply openpyxl's default\")\n"
     ]
    },
    {
     "data": {
      "text/plain": "(                                                博主头像        博主id       博主  \\\n 0  https://tvax4.sinaimg.cn/crop.0.0.860.860.1024...  5449687795  根正苗红的贫农   \n 1  https://tvax2.sinaimg.cn/crop.0.0.1002.1002.10...  5060207870     瞭望投资   \n 2  https://tvax2.sinaimg.cn/crop.0.0.636.636.1024...  2172571520     绝对坑哥   \n 3  https://tvax1.sinaimg.cn/crop.0.0.1080.1080.10...  1601912030      周钰z   \n 4  https://tva4.sinaimg.cn/crop.0.0.100.100.1024/...  3184406702     斗者LY   \n \n                                                 博主主页  \\\n 0  https://weibo.com/5449687795?profile_ftype=1&i...   \n 1  https://weibo.com/5060207870?profile_ftype=1&i...   \n 2  https://weibo.com/2172571520?profile_ftype=1&i...   \n 3  https://weibo.com/zhouyu0103?profile_ftype=1&i...   \n 4  https://weibo.com/3184406702?profile_ftype=1&i...   \n \n                                                 评论内容           发布时间 点赞数  回复数  \\\n 0  董老师让人看到了直播该有的样子，比起那些聒噪的直播间和给老板打电话砍价的戏精主播，董老师的涵...  今天 11:02 来自四川  91  NaN   \n 1     说实话，咱们都一样，我都是大山里出来的，我们那会种地都是山坡地，太陡坡了，种地挺累但听光荣！  今天 16:08 来自北京  31  NaN   \n 2  不是吐槽董老师，但是他的团队也太.........1个亿~就算每个人进进出出~~能够无限点赞...  今天 11:35 来自广东  11  NaN   \n 3                                       就是说，为了钱啥都能干。  今天 10:56 来自四川  11  4.0   \n 4                                         一亿人，中国人太闲了  今天 11:37 来自湖南   7  NaN   \n \n                                           <realpath>  \\\n 0  https://weibo.com/1700648435/LxXAflnK6?refer_f...   \n 1  https://weibo.com/1700648435/LxXAflnK6?refer_f...   \n 2  https://weibo.com/1700648435/LxXAflnK6?refer_f...   \n 3  https://weibo.com/1700648435/LxXAflnK6?refer_f...   \n 4  https://weibo.com/1700648435/LxXAflnK6?refer_f...   \n \n                                           <fullpath>           <createdate>  \n 0  https://weibo.com/1700648435/LxXAflnK6?refer_f...  2022-06-16 17:44:00.0  \n 1  https://weibo.com/1700648435/LxXAflnK6?refer_f...  2022-06-16 17:44:00.0  \n 2  https://weibo.com/1700648435/LxXAflnK6?refer_f...  2022-06-16 17:44:00.0  \n 3  https://weibo.com/1700648435/LxXAflnK6?refer_f...  2022-06-16 17:44:00.0  \n 4  https://weibo.com/1700648435/LxXAflnK6?refer_f...  2022-06-16 17:44:00.0  ,\n (9447, 11))"
     },
     "execution_count": 422,
     "metadata": {},
     "output_type": "execute_result"
    }
   ],
   "source": [
    "# 评论处理\n",
    "comment = pd.read_excel('data/微博评论.xlsx')\n",
    "comment.head(), comment.shape"
   ],
   "metadata": {
    "collapsed": false,
    "pycharm": {
     "name": "#%%\n"
    }
   }
  },
  {
   "cell_type": "code",
   "execution_count": 423,
   "outputs": [
    {
     "data": {
      "text/plain": "                                                博主头像        博主id       博主  \\\n0  https://tvax4.sinaimg.cn/crop.0.0.860.860.1024...  5449687795  根正苗红的贫农   \n1  https://tvax2.sinaimg.cn/crop.0.0.1002.1002.10...  5060207870     瞭望投资   \n2  https://tvax2.sinaimg.cn/crop.0.0.636.636.1024...  2172571520     绝对坑哥   \n3  https://tvax1.sinaimg.cn/crop.0.0.1080.1080.10...  1601912030      周钰z   \n4  https://tva4.sinaimg.cn/crop.0.0.100.100.1024/...  3184406702     斗者LY   \n\n                                                博主主页  \\\n0  https://weibo.com/5449687795?profile_ftype=1&i...   \n1  https://weibo.com/5060207870?profile_ftype=1&i...   \n2  https://weibo.com/2172571520?profile_ftype=1&i...   \n3  https://weibo.com/zhouyu0103?profile_ftype=1&i...   \n4  https://weibo.com/3184406702?profile_ftype=1&i...   \n\n                                                评论内容           发布时间 点赞数  回复数  \\\n0  董老师让人看到了直播该有的样子，比起那些聒噪的直播间和给老板打电话砍价的戏精主播，董老师的涵...  今天 11:02 来自四川  91  NaN   \n1     说实话，咱们都一样，我都是大山里出来的，我们那会种地都是山坡地，太陡坡了，种地挺累但听光荣！  今天 16:08 来自北京  31  NaN   \n2  不是吐槽董老师，但是他的团队也太.........1个亿~就算每个人进进出出~~能够无限点赞...  今天 11:35 来自广东  11  NaN   \n3                                       就是说，为了钱啥都能干。  今天 10:56 来自四川  11  4.0   \n4                                         一亿人，中国人太闲了  今天 11:37 来自湖南   7  NaN   \n\n                                          <realpath>  \\\n0  https://weibo.com/1700648435/LxXAflnK6?refer_f...   \n1  https://weibo.com/1700648435/LxXAflnK6?refer_f...   \n2  https://weibo.com/1700648435/LxXAflnK6?refer_f...   \n3  https://weibo.com/1700648435/LxXAflnK6?refer_f...   \n4  https://weibo.com/1700648435/LxXAflnK6?refer_f...   \n\n                                          <fullpath>           <createdate>  \n0  https://weibo.com/1700648435/LxXAflnK6?refer_f...  2022-06-16 17:44:00.0  \n1  https://weibo.com/1700648435/LxXAflnK6?refer_f...  2022-06-16 17:44:00.0  \n2  https://weibo.com/1700648435/LxXAflnK6?refer_f...  2022-06-16 17:44:00.0  \n3  https://weibo.com/1700648435/LxXAflnK6?refer_f...  2022-06-16 17:44:00.0  \n4  https://weibo.com/1700648435/LxXAflnK6?refer_f...  2022-06-16 17:44:00.0  ",
      "text/html": "<div>\n<style scoped>\n    .dataframe tbody tr th:only-of-type {\n        vertical-align: middle;\n    }\n\n    .dataframe tbody tr th {\n        vertical-align: top;\n    }\n\n    .dataframe thead th {\n        text-align: right;\n    }\n</style>\n<table border=\"1\" class=\"dataframe\">\n  <thead>\n    <tr style=\"text-align: right;\">\n      <th></th>\n      <th>博主头像</th>\n      <th>博主id</th>\n      <th>博主</th>\n      <th>博主主页</th>\n      <th>评论内容</th>\n      <th>发布时间</th>\n      <th>点赞数</th>\n      <th>回复数</th>\n      <th>&lt;realpath&gt;</th>\n      <th>&lt;fullpath&gt;</th>\n      <th>&lt;createdate&gt;</th>\n    </tr>\n  </thead>\n  <tbody>\n    <tr>\n      <th>0</th>\n      <td>https://tvax4.sinaimg.cn/crop.0.0.860.860.1024...</td>\n      <td>5449687795</td>\n      <td>根正苗红的贫农</td>\n      <td>https://weibo.com/5449687795?profile_ftype=1&amp;i...</td>\n      <td>董老师让人看到了直播该有的样子，比起那些聒噪的直播间和给老板打电话砍价的戏精主播，董老师的涵...</td>\n      <td>今天 11:02 来自四川</td>\n      <td>91</td>\n      <td>NaN</td>\n      <td>https://weibo.com/1700648435/LxXAflnK6?refer_f...</td>\n      <td>https://weibo.com/1700648435/LxXAflnK6?refer_f...</td>\n      <td>2022-06-16 17:44:00.0</td>\n    </tr>\n    <tr>\n      <th>1</th>\n      <td>https://tvax2.sinaimg.cn/crop.0.0.1002.1002.10...</td>\n      <td>5060207870</td>\n      <td>瞭望投资</td>\n      <td>https://weibo.com/5060207870?profile_ftype=1&amp;i...</td>\n      <td>说实话，咱们都一样，我都是大山里出来的，我们那会种地都是山坡地，太陡坡了，种地挺累但听光荣！</td>\n      <td>今天 16:08 来自北京</td>\n      <td>31</td>\n      <td>NaN</td>\n      <td>https://weibo.com/1700648435/LxXAflnK6?refer_f...</td>\n      <td>https://weibo.com/1700648435/LxXAflnK6?refer_f...</td>\n      <td>2022-06-16 17:44:00.0</td>\n    </tr>\n    <tr>\n      <th>2</th>\n      <td>https://tvax2.sinaimg.cn/crop.0.0.636.636.1024...</td>\n      <td>2172571520</td>\n      <td>绝对坑哥</td>\n      <td>https://weibo.com/2172571520?profile_ftype=1&amp;i...</td>\n      <td>不是吐槽董老师，但是他的团队也太.........1个亿~就算每个人进进出出~~能够无限点赞...</td>\n      <td>今天 11:35 来自广东</td>\n      <td>11</td>\n      <td>NaN</td>\n      <td>https://weibo.com/1700648435/LxXAflnK6?refer_f...</td>\n      <td>https://weibo.com/1700648435/LxXAflnK6?refer_f...</td>\n      <td>2022-06-16 17:44:00.0</td>\n    </tr>\n    <tr>\n      <th>3</th>\n      <td>https://tvax1.sinaimg.cn/crop.0.0.1080.1080.10...</td>\n      <td>1601912030</td>\n      <td>周钰z</td>\n      <td>https://weibo.com/zhouyu0103?profile_ftype=1&amp;i...</td>\n      <td>就是说，为了钱啥都能干。</td>\n      <td>今天 10:56 来自四川</td>\n      <td>11</td>\n      <td>4.0</td>\n      <td>https://weibo.com/1700648435/LxXAflnK6?refer_f...</td>\n      <td>https://weibo.com/1700648435/LxXAflnK6?refer_f...</td>\n      <td>2022-06-16 17:44:00.0</td>\n    </tr>\n    <tr>\n      <th>4</th>\n      <td>https://tva4.sinaimg.cn/crop.0.0.100.100.1024/...</td>\n      <td>3184406702</td>\n      <td>斗者LY</td>\n      <td>https://weibo.com/3184406702?profile_ftype=1&amp;i...</td>\n      <td>一亿人，中国人太闲了</td>\n      <td>今天 11:37 来自湖南</td>\n      <td>7</td>\n      <td>NaN</td>\n      <td>https://weibo.com/1700648435/LxXAflnK6?refer_f...</td>\n      <td>https://weibo.com/1700648435/LxXAflnK6?refer_f...</td>\n      <td>2022-06-16 17:44:00.0</td>\n    </tr>\n  </tbody>\n</table>\n</div>"
     },
     "execution_count": 423,
     "metadata": {},
     "output_type": "execute_result"
    }
   ],
   "source": [
    "comment.head()"
   ],
   "metadata": {
    "collapsed": false,
    "pycharm": {
     "name": "#%%\n"
    }
   }
  },
  {
   "cell_type": "code",
   "execution_count": 424,
   "outputs": [
    {
     "data": {
      "text/plain": "(9447, 11)"
     },
     "execution_count": 424,
     "metadata": {},
     "output_type": "execute_result"
    }
   ],
   "source": [
    "comment.shape"
   ],
   "metadata": {
    "collapsed": false,
    "pycharm": {
     "name": "#%%\n"
    }
   }
  },
  {
   "cell_type": "code",
   "execution_count": 425,
   "outputs": [
    {
     "data": {
      "text/plain": "0       董老师让人看到了直播该有的样子，比起那些聒噪的直播间和给老板打电话砍价的戏精主播，董老师的涵...\n1          说实话，咱们都一样，我都是大山里出来的，我们那会种地都是山坡地，太陡坡了，种地挺累但听光荣！\n2       不是吐槽董老师，但是他的团队也太.........1个亿~就算每个人进进出出~~能够无限点赞...\n3                                            就是说，为了钱啥都能干。\n4                                              一亿人，中国人太闲了\n                              ...                        \n9442                                           销售本质是把故事讲好\n9443                                   一颗颗玉米粒，数的是我童年的日月光阴\n9444                                            他卖玉米，我买情怀\n9445                                       我的天呐这真是语文英语都教了\n9446                                                 文化魅力\nName: 评论内容, Length: 9447, dtype: object"
     },
     "execution_count": 425,
     "metadata": {},
     "output_type": "execute_result"
    }
   ],
   "source": [
    "comment['评论内容']"
   ],
   "metadata": {
    "collapsed": false,
    "pycharm": {
     "name": "#%%\n"
    }
   }
  },
  {
   "cell_type": "code",
   "execution_count": 426,
   "outputs": [
    {
     "data": {
      "text/plain": "((6, 13), (3552, 13))"
     },
     "execution_count": 426,
     "metadata": {},
     "output_type": "execute_result"
    }
   ],
   "source": [
    "repost_with_id, repost_without_id = repost[repost['split'].str.contains(r'@')], repost[\n",
    "    ~ repost['split'].str.contains(r'@')]\n",
    "repost_with_id.shape, repost_without_id.shape"
   ],
   "metadata": {
    "collapsed": false,
    "pycharm": {
     "name": "#%%\n"
    }
   }
  },
  {
   "cell_type": "code",
   "execution_count": 427,
   "outputs": [
    {
     "data": {
      "text/plain": "1248     “我不是一定要你回来，只是又一个人看海。回头才发现你不再，留下我迂回的徘徊。”暴哭 //@...\n1280    //@:教育部帮农村小孩学英语了？民工子弟学校是谁关掉的？1990年代，财政没有钱，还用过私...\n1721     新东方学而思有很多老师很优秀。教材编的也好，我孩子之前上数学跟英语时候就很喜欢。双减以后学...\n2633                                 //@·蜗牛先生:这就是中关村阿黛尔吗？\n2636                                //@·蜗牛先生: 这就是中关村阿黛尔吗？\n2738     消灭一个行业，甚至连调查、讨论、试点都没有，甚至没给个经济过渡期。一张A4纸就让他们灰飞烟...\nName: split, dtype: object"
     },
     "execution_count": 427,
     "metadata": {},
     "output_type": "execute_result"
    }
   ],
   "source": [
    "repost_with_id['split']"
   ],
   "metadata": {
    "collapsed": false,
    "pycharm": {
     "name": "#%%\n"
    }
   }
  },
  {
   "cell_type": "code",
   "execution_count": 428,
   "outputs": [
    {
     "data": {
      "text/plain": "                                                   博主头像        博主id       博主  \\\n0     https://tvax4.sinaimg.cn/crop.0.0.860.860.1024...  5449687795  根正苗红的贫农   \n1     https://tvax2.sinaimg.cn/crop.0.0.1002.1002.10...  5060207870     瞭望投资   \n2     https://tvax2.sinaimg.cn/crop.0.0.636.636.1024...  2172571520     绝对坑哥   \n3     https://tvax1.sinaimg.cn/crop.0.0.1080.1080.10...  1601912030      周钰z   \n4     https://tva4.sinaimg.cn/crop.0.0.100.100.1024/...  3184406702     斗者LY   \n...                                                 ...         ...      ...   \n9442  https://tva3.sinaimg.cn/crop.218.130.345.345.1...  1909064371     吃货黄旭   \n9443  https://tvax4.sinaimg.cn/crop.0.0.996.996.1024...  1110789643  熘肉段加锅包肉   \n9444  https://tvax3.sinaimg.cn/crop.0.0.996.996.1024...  6544520654     陈华清x   \n9445  https://tvax2.sinaimg.cn/crop.0.0.267.267.1024...  7272353728      徐胖埋   \n9446  https://tvax3.sinaimg.cn/crop.0.0.828.828.1024...  5183558728    浅夏6月天   \n\n                                                   博主主页  \\\n0     https://weibo.com/5449687795?profile_ftype=1&i...   \n1     https://weibo.com/5060207870?profile_ftype=1&i...   \n2     https://weibo.com/2172571520?profile_ftype=1&i...   \n3     https://weibo.com/zhouyu0103?profile_ftype=1&i...   \n4     https://weibo.com/3184406702?profile_ftype=1&i...   \n...                                                 ...   \n9442  https://weibo.com/1909064371?profile_ftype=1&i...   \n9443  https://weibo.com/1110789643?profile_ftype=1&i...   \n9444  https://weibo.com/6544520654?profile_ftype=1&i...   \n9445  https://weibo.com/7272353728?profile_ftype=1&i...   \n9446  https://weibo.com/5183558728?profile_ftype=1&i...   \n\n                                                   评论内容              发布时间 点赞数  \\\n0     董老师让人看到了直播该有的样子，比起那些聒噪的直播间和给老板打电话砍价的戏精主播，董老师的涵...     今天 11:02 来自四川  91   \n1        说实话，咱们都一样，我都是大山里出来的，我们那会种地都是山坡地，太陡坡了，种地挺累但听光荣！     今天 16:08 来自北京  31   \n2     不是吐槽董老师，但是他的团队也太.........1个亿~就算每个人进进出出~~能够无限点赞...     今天 11:35 来自广东  11   \n3                                          就是说，为了钱啥都能干。     今天 10:56 来自四川  11   \n4                                            一亿人，中国人太闲了     今天 11:37 来自湖南   7   \n...                                                 ...               ...  ..   \n9442                                         销售本质是把故事讲好  6月17日 06:53 来自广东   赞   \n9443                                 一颗颗玉米粒，数的是我童年的日月光阴  6月16日 13:51 来自吉林   赞   \n9444                                          他卖玉米，我买情怀  6月16日 13:07 来自广东   赞   \n9445                                     我的天呐这真是语文英语都教了  6月16日 13:33 来自上海   赞   \n9446                                               文化魅力  6月17日 14:16 来自天津   赞   \n\n      回复数                                         <realpath>  \\\n0     NaN  https://weibo.com/1700648435/LxXAflnK6?refer_f...   \n1     NaN  https://weibo.com/1700648435/LxXAflnK6?refer_f...   \n2     NaN  https://weibo.com/1700648435/LxXAflnK6?refer_f...   \n3     4.0  https://weibo.com/1700648435/LxXAflnK6?refer_f...   \n4     NaN  https://weibo.com/1700648435/LxXAflnK6?refer_f...   \n...   ...                                                ...   \n9442  NaN  https://weibo.com/1800611161/LxXjr68XA?refer_f...   \n9443  NaN  https://weibo.com/6094546014/LxXaSmGQ4?refer_f...   \n9444  NaN  https://weibo.com/6094546014/LxXaSmGQ4?refer_f...   \n9445  NaN  https://weibo.com/6094546014/LxXaSmGQ4?refer_f...   \n9446  NaN  https://weibo.com/6101001140/LxFSvrVzp?refer_f...   \n\n                                             <fullpath>           <createdate>  \n0     https://weibo.com/1700648435/LxXAflnK6?refer_f...  2022-06-16 17:44:00.0  \n1     https://weibo.com/1700648435/LxXAflnK6?refer_f...  2022-06-16 17:44:00.0  \n2     https://weibo.com/1700648435/LxXAflnK6?refer_f...  2022-06-16 17:44:00.0  \n3     https://weibo.com/1700648435/LxXAflnK6?refer_f...  2022-06-16 17:44:00.0  \n4     https://weibo.com/1700648435/LxXAflnK6?refer_f...  2022-06-16 17:44:00.0  \n...                                                 ...                    ...  \n9442  https://weibo.com/1800611161/LxXjr68XA?refer_f...  2022-06-18 10:14:19.0  \n9443  https://weibo.com/6094546014/LxXaSmGQ4?refer_f...  2022-06-18 10:14:33.0  \n9444  https://weibo.com/6094546014/LxXaSmGQ4?refer_f...  2022-06-18 10:14:33.0  \n9445  https://weibo.com/6094546014/LxXaSmGQ4?refer_f...  2022-06-18 10:14:33.0  \n9446  https://weibo.com/6101001140/LxFSvrVzp?refer_f...  2022-06-18 10:23:06.0  \n\n[9057 rows x 11 columns]",
      "text/html": "<div>\n<style scoped>\n    .dataframe tbody tr th:only-of-type {\n        vertical-align: middle;\n    }\n\n    .dataframe tbody tr th {\n        vertical-align: top;\n    }\n\n    .dataframe thead th {\n        text-align: right;\n    }\n</style>\n<table border=\"1\" class=\"dataframe\">\n  <thead>\n    <tr style=\"text-align: right;\">\n      <th></th>\n      <th>博主头像</th>\n      <th>博主id</th>\n      <th>博主</th>\n      <th>博主主页</th>\n      <th>评论内容</th>\n      <th>发布时间</th>\n      <th>点赞数</th>\n      <th>回复数</th>\n      <th>&lt;realpath&gt;</th>\n      <th>&lt;fullpath&gt;</th>\n      <th>&lt;createdate&gt;</th>\n    </tr>\n  </thead>\n  <tbody>\n    <tr>\n      <th>0</th>\n      <td>https://tvax4.sinaimg.cn/crop.0.0.860.860.1024...</td>\n      <td>5449687795</td>\n      <td>根正苗红的贫农</td>\n      <td>https://weibo.com/5449687795?profile_ftype=1&amp;i...</td>\n      <td>董老师让人看到了直播该有的样子，比起那些聒噪的直播间和给老板打电话砍价的戏精主播，董老师的涵...</td>\n      <td>今天 11:02 来自四川</td>\n      <td>91</td>\n      <td>NaN</td>\n      <td>https://weibo.com/1700648435/LxXAflnK6?refer_f...</td>\n      <td>https://weibo.com/1700648435/LxXAflnK6?refer_f...</td>\n      <td>2022-06-16 17:44:00.0</td>\n    </tr>\n    <tr>\n      <th>1</th>\n      <td>https://tvax2.sinaimg.cn/crop.0.0.1002.1002.10...</td>\n      <td>5060207870</td>\n      <td>瞭望投资</td>\n      <td>https://weibo.com/5060207870?profile_ftype=1&amp;i...</td>\n      <td>说实话，咱们都一样，我都是大山里出来的，我们那会种地都是山坡地，太陡坡了，种地挺累但听光荣！</td>\n      <td>今天 16:08 来自北京</td>\n      <td>31</td>\n      <td>NaN</td>\n      <td>https://weibo.com/1700648435/LxXAflnK6?refer_f...</td>\n      <td>https://weibo.com/1700648435/LxXAflnK6?refer_f...</td>\n      <td>2022-06-16 17:44:00.0</td>\n    </tr>\n    <tr>\n      <th>2</th>\n      <td>https://tvax2.sinaimg.cn/crop.0.0.636.636.1024...</td>\n      <td>2172571520</td>\n      <td>绝对坑哥</td>\n      <td>https://weibo.com/2172571520?profile_ftype=1&amp;i...</td>\n      <td>不是吐槽董老师，但是他的团队也太.........1个亿~就算每个人进进出出~~能够无限点赞...</td>\n      <td>今天 11:35 来自广东</td>\n      <td>11</td>\n      <td>NaN</td>\n      <td>https://weibo.com/1700648435/LxXAflnK6?refer_f...</td>\n      <td>https://weibo.com/1700648435/LxXAflnK6?refer_f...</td>\n      <td>2022-06-16 17:44:00.0</td>\n    </tr>\n    <tr>\n      <th>3</th>\n      <td>https://tvax1.sinaimg.cn/crop.0.0.1080.1080.10...</td>\n      <td>1601912030</td>\n      <td>周钰z</td>\n      <td>https://weibo.com/zhouyu0103?profile_ftype=1&amp;i...</td>\n      <td>就是说，为了钱啥都能干。</td>\n      <td>今天 10:56 来自四川</td>\n      <td>11</td>\n      <td>4.0</td>\n      <td>https://weibo.com/1700648435/LxXAflnK6?refer_f...</td>\n      <td>https://weibo.com/1700648435/LxXAflnK6?refer_f...</td>\n      <td>2022-06-16 17:44:00.0</td>\n    </tr>\n    <tr>\n      <th>4</th>\n      <td>https://tva4.sinaimg.cn/crop.0.0.100.100.1024/...</td>\n      <td>3184406702</td>\n      <td>斗者LY</td>\n      <td>https://weibo.com/3184406702?profile_ftype=1&amp;i...</td>\n      <td>一亿人，中国人太闲了</td>\n      <td>今天 11:37 来自湖南</td>\n      <td>7</td>\n      <td>NaN</td>\n      <td>https://weibo.com/1700648435/LxXAflnK6?refer_f...</td>\n      <td>https://weibo.com/1700648435/LxXAflnK6?refer_f...</td>\n      <td>2022-06-16 17:44:00.0</td>\n    </tr>\n    <tr>\n      <th>...</th>\n      <td>...</td>\n      <td>...</td>\n      <td>...</td>\n      <td>...</td>\n      <td>...</td>\n      <td>...</td>\n      <td>...</td>\n      <td>...</td>\n      <td>...</td>\n      <td>...</td>\n      <td>...</td>\n    </tr>\n    <tr>\n      <th>9442</th>\n      <td>https://tva3.sinaimg.cn/crop.218.130.345.345.1...</td>\n      <td>1909064371</td>\n      <td>吃货黄旭</td>\n      <td>https://weibo.com/1909064371?profile_ftype=1&amp;i...</td>\n      <td>销售本质是把故事讲好</td>\n      <td>6月17日 06:53 来自广东</td>\n      <td>赞</td>\n      <td>NaN</td>\n      <td>https://weibo.com/1800611161/LxXjr68XA?refer_f...</td>\n      <td>https://weibo.com/1800611161/LxXjr68XA?refer_f...</td>\n      <td>2022-06-18 10:14:19.0</td>\n    </tr>\n    <tr>\n      <th>9443</th>\n      <td>https://tvax4.sinaimg.cn/crop.0.0.996.996.1024...</td>\n      <td>1110789643</td>\n      <td>熘肉段加锅包肉</td>\n      <td>https://weibo.com/1110789643?profile_ftype=1&amp;i...</td>\n      <td>一颗颗玉米粒，数的是我童年的日月光阴</td>\n      <td>6月16日 13:51 来自吉林</td>\n      <td>赞</td>\n      <td>NaN</td>\n      <td>https://weibo.com/6094546014/LxXaSmGQ4?refer_f...</td>\n      <td>https://weibo.com/6094546014/LxXaSmGQ4?refer_f...</td>\n      <td>2022-06-18 10:14:33.0</td>\n    </tr>\n    <tr>\n      <th>9444</th>\n      <td>https://tvax3.sinaimg.cn/crop.0.0.996.996.1024...</td>\n      <td>6544520654</td>\n      <td>陈华清x</td>\n      <td>https://weibo.com/6544520654?profile_ftype=1&amp;i...</td>\n      <td>他卖玉米，我买情怀</td>\n      <td>6月16日 13:07 来自广东</td>\n      <td>赞</td>\n      <td>NaN</td>\n      <td>https://weibo.com/6094546014/LxXaSmGQ4?refer_f...</td>\n      <td>https://weibo.com/6094546014/LxXaSmGQ4?refer_f...</td>\n      <td>2022-06-18 10:14:33.0</td>\n    </tr>\n    <tr>\n      <th>9445</th>\n      <td>https://tvax2.sinaimg.cn/crop.0.0.267.267.1024...</td>\n      <td>7272353728</td>\n      <td>徐胖埋</td>\n      <td>https://weibo.com/7272353728?profile_ftype=1&amp;i...</td>\n      <td>我的天呐这真是语文英语都教了</td>\n      <td>6月16日 13:33 来自上海</td>\n      <td>赞</td>\n      <td>NaN</td>\n      <td>https://weibo.com/6094546014/LxXaSmGQ4?refer_f...</td>\n      <td>https://weibo.com/6094546014/LxXaSmGQ4?refer_f...</td>\n      <td>2022-06-18 10:14:33.0</td>\n    </tr>\n    <tr>\n      <th>9446</th>\n      <td>https://tvax3.sinaimg.cn/crop.0.0.828.828.1024...</td>\n      <td>5183558728</td>\n      <td>浅夏6月天</td>\n      <td>https://weibo.com/5183558728?profile_ftype=1&amp;i...</td>\n      <td>文化魅力</td>\n      <td>6月17日 14:16 来自天津</td>\n      <td>赞</td>\n      <td>NaN</td>\n      <td>https://weibo.com/6101001140/LxFSvrVzp?refer_f...</td>\n      <td>https://weibo.com/6101001140/LxFSvrVzp?refer_f...</td>\n      <td>2022-06-18 10:23:06.0</td>\n    </tr>\n  </tbody>\n</table>\n<p>9057 rows × 11 columns</p>\n</div>"
     },
     "execution_count": 428,
     "metadata": {},
     "output_type": "execute_result"
    }
   ],
   "source": [
    "comment = comment[~ comment['评论内容'].isnull()]\n",
    "comment"
   ],
   "metadata": {
    "collapsed": false,
    "pycharm": {
     "name": "#%%\n"
    }
   }
  },
  {
   "cell_type": "code",
   "execution_count": 429,
   "outputs": [
    {
     "data": {
      "text/plain": "((559, 12), (8498, 12))"
     },
     "execution_count": 429,
     "metadata": {},
     "output_type": "execute_result"
    }
   ],
   "source": [
    "comment['split'] = comment['评论内容']\n",
    "comment_with_id, comment_without_id = comment[comment['split'].str.contains(r'@')], comment[\n",
    "    ~ comment['split'].str.contains(r'@')]\n",
    "comment_with_id.shape, comment_without_id.shape"
   ],
   "metadata": {
    "collapsed": false,
    "pycharm": {
     "name": "#%%\n"
    }
   }
  },
  {
   "cell_type": "code",
   "execution_count": 430,
   "outputs": [
    {
     "data": {
      "text/plain": "83                                              @小刘小刘正在吹牛\n89      //@一粒沙白的:很多年前我记得我写过一段文字。 大意是： 他们市侩又真实，他们温暖又热忱。...\n124                                                @Lxy行走\n139             码，一会看//@Red-xxyyzz:天，他还那么年轻就这么有智慧……前途不可限量\n140     //@此域名已失效:引用我们群里有人说的话“因为很久没有看到过有人公开谈文学谈理想谈一朵花一...\n                              ...                        \n9168    //@在树上摄影:被直播的语言感动到了，真的在dy很少有文学能力这么强的带货主播，让人突然渴...\n9215    双减之后啊，微博上出现了好多右边这样的傻子。应该都是逃课之后注册了微博的小学生。//@湖畔旧...\n9224                                                 @饱嗝丽\n9339                                                    @\n9358                                          @Afaa-Jason\nName: split, Length: 559, dtype: object"
     },
     "execution_count": 430,
     "metadata": {},
     "output_type": "execute_result"
    }
   ],
   "source": [
    "comment_with_id['split']"
   ],
   "metadata": {
    "collapsed": false,
    "pycharm": {
     "name": "#%%\n"
    }
   }
  },
  {
   "cell_type": "code",
   "execution_count": 431,
   "outputs": [
    {
     "name": "stderr",
     "output_type": "stream",
     "text": [
      "C:\\Users\\Zhouzw\\AppData\\Local\\Temp\\ipykernel_19156\\2876099312.py:1: FutureWarning: The default value of regex will change from True to False in a future version.\n",
      "  comment_with_id['split_2'] = comment_with_id['split'].str.replace(r'//@[\\u4E00-\\u9FA5A-Za-z0-9-_\\s]+:',\n",
      "C:\\Users\\Zhouzw\\AppData\\Local\\Temp\\ipykernel_19156\\2876099312.py:1: SettingWithCopyWarning: \n",
      "A value is trying to be set on a copy of a slice from a DataFrame.\n",
      "Try using .loc[row_indexer,col_indexer] = value instead\n",
      "\n",
      "See the caveats in the documentation: https://pandas.pydata.org/pandas-docs/stable/user_guide/indexing.html#returning-a-view-versus-a-copy\n",
      "  comment_with_id['split_2'] = comment_with_id['split'].str.replace(r'//@[\\u4E00-\\u9FA5A-Za-z0-9-_\\s]+:',\n"
     ]
    },
    {
     "data": {
      "text/plain": "83                                              @小刘小刘正在吹牛\n89      <place_holder>很多年前我记得我写过一段文字。 大意是： 他们市侩又真实，他们温...\n124                                                @Lxy行走\n139             码，一会看<place_holder>天，他还那么年轻就这么有智慧……前途不可限量\n140     <place_holder>引用我们群里有人说的话“因为很久没有看到过有人公开谈文学谈理想谈...\n                              ...                        \n9168    <place_holder>被直播的语言感动到了，真的在dy很少有文学能力这么强的带货主播，...\n9215    双减之后啊，微博上出现了好多右边这样的傻子。应该都是逃课之后注册了微博的小学生。<place...\n9224                                                 @饱嗝丽\n9339                                                    @\n9358                                          @Afaa-Jason\nName: split_2, Length: 559, dtype: object"
     },
     "execution_count": 431,
     "metadata": {},
     "output_type": "execute_result"
    }
   ],
   "source": [
    "comment_with_id['split_2'] = comment_with_id['split'].str.replace(r'//@[\\u4E00-\\u9FA5A-Za-z0-9-_\\s]+:',\n",
    "                                                                  '<place_holder>')\n",
    "comment_with_id['split_2']"
   ],
   "metadata": {
    "collapsed": false,
    "pycharm": {
     "name": "#%%\n"
    }
   }
  },
  {
   "cell_type": "code",
   "execution_count": 432,
   "outputs": [
    {
     "name": "stderr",
     "output_type": "stream",
     "text": [
      "C:\\Users\\Zhouzw\\AppData\\Local\\Temp\\ipykernel_19156\\1007972911.py:1: FutureWarning: The default value of regex will change from True to False in a future version.\n",
      "  comment_with_id['split_2'] = comment_with_id['split_2'].str.replace(r'@[\\u4E00-\\u9FA5A-Za-z0-9-_\\s]+',\n",
      "C:\\Users\\Zhouzw\\AppData\\Local\\Temp\\ipykernel_19156\\1007972911.py:1: SettingWithCopyWarning: \n",
      "A value is trying to be set on a copy of a slice from a DataFrame.\n",
      "Try using .loc[row_indexer,col_indexer] = value instead\n",
      "\n",
      "See the caveats in the documentation: https://pandas.pydata.org/pandas-docs/stable/user_guide/indexing.html#returning-a-view-versus-a-copy\n",
      "  comment_with_id['split_2'] = comment_with_id['split_2'].str.replace(r'@[\\u4E00-\\u9FA5A-Za-z0-9-_\\s]+',\n"
     ]
    },
    {
     "data": {
      "text/plain": "83                                        <place_holder2>\n89      <place_holder>很多年前我记得我写过一段文字。 大意是： 他们市侩又真实，他们温...\n124                                       <place_holder2>\n139             码，一会看<place_holder>天，他还那么年轻就这么有智慧……前途不可限量\n140     <place_holder>引用我们群里有人说的话“因为很久没有看到过有人公开谈文学谈理想谈...\n                              ...                        \n9168    <place_holder>被直播的语言感动到了，真的在dy很少有文学能力这么强的带货主播，...\n9215    双减之后啊，微博上出现了好多右边这样的傻子。应该都是逃课之后注册了微博的小学生。<place...\n9224                                      <place_holder2>\n9339                                                    @\n9358                                      <place_holder2>\nName: split_2, Length: 559, dtype: object"
     },
     "execution_count": 432,
     "metadata": {},
     "output_type": "execute_result"
    }
   ],
   "source": [
    "comment_with_id['split_2'] = comment_with_id['split_2'].str.replace(r'@[\\u4E00-\\u9FA5A-Za-z0-9-_\\s]+',\n",
    "                                                                    '<place_holder2>')\n",
    "comment_with_id['split_2']"
   ],
   "metadata": {
    "collapsed": false,
    "pycharm": {
     "name": "#%%\n"
    }
   }
  },
  {
   "cell_type": "code",
   "execution_count": 433,
   "outputs": [
    {
     "name": "stderr",
     "output_type": "stream",
     "text": [
      "C:\\Users\\Zhouzw\\AppData\\Local\\Temp\\ipykernel_19156\\657375384.py:1: SettingWithCopyWarning: \n",
      "A value is trying to be set on a copy of a slice from a DataFrame.\n",
      "Try using .loc[row_indexer,col_indexer] = value instead\n",
      "\n",
      "See the caveats in the documentation: https://pandas.pydata.org/pandas-docs/stable/user_guide/indexing.html#returning-a-view-versus-a-copy\n",
      "  comment_with_id['split_2'] = comment_with_id['split_2'].str.replace(r'<place_holder2>:', '')\n"
     ]
    }
   ],
   "source": [
    "comment_with_id['split_2'] = comment_with_id['split_2'].str.replace(r'<place_holder2>:', '')"
   ],
   "metadata": {
    "collapsed": false,
    "pycharm": {
     "name": "#%%\n"
    }
   }
  },
  {
   "cell_type": "code",
   "execution_count": 434,
   "outputs": [
    {
     "name": "stderr",
     "output_type": "stream",
     "text": [
      "C:\\Users\\Zhouzw\\AppData\\Local\\Temp\\ipykernel_19156\\1488230862.py:1: SettingWithCopyWarning: \n",
      "A value is trying to be set on a copy of a slice from a DataFrame.\n",
      "Try using .loc[row_indexer,col_indexer] = value instead\n",
      "\n",
      "See the caveats in the documentation: https://pandas.pydata.org/pandas-docs/stable/user_guide/indexing.html#returning-a-view-versus-a-copy\n",
      "  comment_with_id['split_2'] = comment_with_id['split_2'].str.split(r'<place_holder>|<place_holder2>')\n"
     ]
    }
   ],
   "source": [
    "comment_with_id['split_2'] = comment_with_id['split_2'].str.split(r'<place_holder>|<place_holder2>')\n"
   ],
   "metadata": {
    "collapsed": false,
    "pycharm": {
     "name": "#%%\n"
    }
   }
  },
  {
   "cell_type": "code",
   "execution_count": 435,
   "outputs": [],
   "source": [
    "comment_with_id = split_row(comment_with_id, 'split_2')"
   ],
   "metadata": {
    "collapsed": false,
    "pycharm": {
     "name": "#%%\n"
    }
   }
  },
  {
   "cell_type": "code",
   "execution_count": 436,
   "outputs": [
    {
     "data": {
      "text/plain": "(192, 13)"
     },
     "execution_count": 436,
     "metadata": {},
     "output_type": "execute_result"
    }
   ],
   "source": [
    "comment_with_id.drop_duplicates(subset='split_2', inplace=True)\n",
    "comment_with_id.shape"
   ],
   "metadata": {
    "collapsed": false,
    "pycharm": {
     "name": "#%%\n"
    }
   }
  },
  {
   "cell_type": "code",
   "execution_count": 437,
   "outputs": [
    {
     "data": {
      "text/plain": "                                                   博主头像        博主id  \\\n0     https://tvax1.sinaimg.cn/crop.0.0.512.512.1024...  2605080173   \n3     https://tvax1.sinaimg.cn/crop.0.0.1080.1080.10...  5314858996   \n6     https://tvax3.sinaimg.cn/crop.0.0.996.996.1024...  5256956654   \n7     https://tvax3.sinaimg.cn/crop.0.0.996.996.1024...  5256956654   \n9     https://tvax4.sinaimg.cn/crop.0.0.512.512.1024...  2712808220   \n...                                                 ...         ...   \n1103  https://tva4.sinaimg.cn/crop.0.0.180.180.1024/...  1082887977   \n1136  https://tva4.sinaimg.cn/crop.0.0.180.180.1024/...  1734384887   \n1153  https://tvax1.sinaimg.cn/crop.0.0.600.600.1024...  7387760374   \n1154  https://tvax3.sinaimg.cn/crop.0.0.345.345.1024...  1450802503   \n1155  https://tvax3.sinaimg.cn/crop.0.0.345.345.1024...  1450802503   \n\n                  博主                                               博主主页  \\\n0       AMONSTERCOKE  https://weibo.com/2605080173?profile_ftype=1&i...   \n3             y进口可爱y  https://weibo.com/5314858996?profile_ftype=1&i...   \n6     killthepastone  https://weibo.com/5256956654?profile_ftype=1&i...   \n7     killthepastone  https://weibo.com/5256956654?profile_ftype=1&i...   \n9              你是甜菜心  https://weibo.com/2712808220?profile_ftype=1&i...   \n...              ...                                                ...   \n1103            无处想念  https://weibo.com/1082887977?profile_ftype=1&i...   \n1136          ADIDAF  https://weibo.com/1734384887?profile_ftype=1&i...   \n1153            不列仙班  https://weibo.com/7387760374?profile_ftype=1&i...   \n1154         就叫熊太行也行  https://weibo.com/xiongtaihang?profile_ftype=1...   \n1155         就叫熊太行也行  https://weibo.com/xiongtaihang?profile_ftype=1...   \n\n                                                   评论内容              发布时间 点赞数  \\\n0                                             @小刘小刘正在吹牛        43分钟前 来自安徽   赞   \n3     //@一粒沙白的:很多年前我记得我写过一段文字。 大意是： 他们市侩又真实，他们温暖又热忱。...     今天 16:35 来自上海   赞   \n6             码，一会看//@Red-xxyyzz:天，他还那么年轻就这么有智慧……前途不可限量     今天 10:14 来自广东   赞   \n7             码，一会看//@Red-xxyyzz:天，他还那么年轻就这么有智慧……前途不可限量     今天 10:14 来自广东   赞   \n9     //@此域名已失效:引用我们群里有人说的话“因为很久没有看到过有人公开谈文学谈理想谈一朵花一...     今天 09:45 来自广东   赞   \n...                                                 ...               ...  ..   \n1103  难道世界的尽头只有带货？老师去带货，明星去带货...只剩下交易//@留待某日再改:想想老罗，...  6月11日 12:52 来自北京   赞   \n1136                                 哈哈哈哈哈哈哈哈哈@凹凸曼爱看冷笑话  6月10日 23:15 来自贵州   赞   \n1153  //@在树上摄影:被直播的语言感动到了，真的在dy很少有文学能力这么强的带货主播，让人突然渴...  6月11日 14:32 来自江苏   赞   \n1154  双减之后啊，微博上出现了好多右边这样的傻子。应该都是逃课之后注册了微博的小学生。//@湖畔旧...  6月10日 18:18 来自北京  10   \n1155  双减之后啊，微博上出现了好多右边这样的傻子。应该都是逃课之后注册了微博的小学生。//@湖畔旧...  6月10日 18:18 来自北京  10   \n\n      回复数                                         <realpath>  \\\n0     NaN  https://weibo.com/6023189492/LxQ9B5sWa?refer_f...   \n3     NaN  https://weibo.com/6023189492/LxQ9B5sWa?refer_f...   \n6     NaN  https://weibo.com/6023189492/LxQ9B5sWa?refer_f...   \n7     NaN  https://weibo.com/6023189492/LxQ9B5sWa?refer_f...   \n9     NaN  https://weibo.com/6023189492/LxQ9B5sWa?refer_f...   \n...   ...                                                ...   \n1103  NaN  https://weibo.com/7392924039/LwXSt2g9F?refer_f...   \n1136  NaN  https://weibo.com/1641532820/Lx7ns04k2?refer_f...   \n1153  NaN  https://weibo.com/7727648198/Lx5aw7xEM?refer_f...   \n1154  3.0  https://weibo.com/1450802503/Lx4U8zoeF?refer_f...   \n1155  3.0  https://weibo.com/1450802503/Lx4U8zoeF?refer_f...   \n\n                                             <fullpath>  \\\n0     https://weibo.com/6023189492/LxQ9B5sWa?refer_f...   \n3     https://weibo.com/6023189492/LxQ9B5sWa?refer_f...   \n6     https://weibo.com/6023189492/LxQ9B5sWa?refer_f...   \n7     https://weibo.com/6023189492/LxQ9B5sWa?refer_f...   \n9     https://weibo.com/6023189492/LxQ9B5sWa?refer_f...   \n...                                                 ...   \n1103  https://weibo.com/7392924039/LwXSt2g9F?refer_f...   \n1136  https://weibo.com/1641532820/Lx7ns04k2?refer_f...   \n1153  https://weibo.com/7727648198/Lx5aw7xEM?refer_f...   \n1154  https://weibo.com/1450802503/Lx4U8zoeF?refer_f...   \n1155  https://weibo.com/1450802503/Lx4U8zoeF?refer_f...   \n\n               <createdate>  \\\n0     2022-06-16 17:44:30.0   \n3     2022-06-16 17:44:37.0   \n6     2022-06-16 17:44:58.0   \n7     2022-06-16 17:44:58.0   \n9     2022-06-16 17:44:58.0   \n...                     ...   \n1103  2022-06-16 20:51:14.0   \n1136  2022-06-16 20:54:38.0   \n1153  2022-06-16 20:55:28.0   \n1154  2022-06-16 20:58:13.0   \n1155  2022-06-16 20:58:13.0   \n\n                                                  split  \\\n0                                             @小刘小刘正在吹牛   \n3     //@一粒沙白的:很多年前我记得我写过一段文字。 大意是： 他们市侩又真实，他们温暖又热忱。...   \n6             码，一会看//@Red-xxyyzz:天，他还那么年轻就这么有智慧……前途不可限量   \n7             码，一会看//@Red-xxyyzz:天，他还那么年轻就这么有智慧……前途不可限量   \n9     //@此域名已失效:引用我们群里有人说的话“因为很久没有看到过有人公开谈文学谈理想谈一朵花一...   \n...                                                 ...   \n1103  难道世界的尽头只有带货？老师去带货，明星去带货...只剩下交易//@留待某日再改:想想老罗，...   \n1136                                 哈哈哈哈哈哈哈哈哈@凹凸曼爱看冷笑话   \n1153  //@在树上摄影:被直播的语言感动到了，真的在dy很少有文学能力这么强的带货主播，让人突然渴...   \n1154  双减之后啊，微博上出现了好多右边这样的傻子。应该都是逃课之后注册了微博的小学生。//@湖畔旧...   \n1155  双减之后啊，微博上出现了好多右边这样的傻子。应该都是逃课之后注册了微博的小学生。//@湖畔旧...   \n\n                                                split_2  \n0                                                        \n3       很多年前我记得我写过一段文字。 大意是： 他们市侩又真实，他们温暖又热忱。 因为生活，所以生动  \n6                                                 码，一会看  \n7                                天，他还那么年轻就这么有智慧……前途不可限量  \n9     引用我们群里有人说的话“因为很久没有看到过有人公开谈文学谈理想谈一朵花一片云给我带来的快乐，...  \n...                                                 ...  \n1103                                        想想老罗，就…殊途同归  \n1136                                          哈哈哈哈哈哈哈哈哈  \n1153       被直播的语言感动到了，真的在dy很少有文学能力这么强的带货主播，让人突然渴望去阅读去安静  \n1154           双减之后啊，微博上出现了好多右边这样的傻子。应该都是逃课之后注册了微博的小学生。  \n1155  只看到新东方一家改行带货心疼，看不到在线教育肆虐内卷带给广大万千家庭父母的焦虑和压力？堂堂主...  \n\n[192 rows x 13 columns]",
      "text/html": "<div>\n<style scoped>\n    .dataframe tbody tr th:only-of-type {\n        vertical-align: middle;\n    }\n\n    .dataframe tbody tr th {\n        vertical-align: top;\n    }\n\n    .dataframe thead th {\n        text-align: right;\n    }\n</style>\n<table border=\"1\" class=\"dataframe\">\n  <thead>\n    <tr style=\"text-align: right;\">\n      <th></th>\n      <th>博主头像</th>\n      <th>博主id</th>\n      <th>博主</th>\n      <th>博主主页</th>\n      <th>评论内容</th>\n      <th>发布时间</th>\n      <th>点赞数</th>\n      <th>回复数</th>\n      <th>&lt;realpath&gt;</th>\n      <th>&lt;fullpath&gt;</th>\n      <th>&lt;createdate&gt;</th>\n      <th>split</th>\n      <th>split_2</th>\n    </tr>\n  </thead>\n  <tbody>\n    <tr>\n      <th>0</th>\n      <td>https://tvax1.sinaimg.cn/crop.0.0.512.512.1024...</td>\n      <td>2605080173</td>\n      <td>AMONSTERCOKE</td>\n      <td>https://weibo.com/2605080173?profile_ftype=1&amp;i...</td>\n      <td>@小刘小刘正在吹牛</td>\n      <td>43分钟前 来自安徽</td>\n      <td>赞</td>\n      <td>NaN</td>\n      <td>https://weibo.com/6023189492/LxQ9B5sWa?refer_f...</td>\n      <td>https://weibo.com/6023189492/LxQ9B5sWa?refer_f...</td>\n      <td>2022-06-16 17:44:30.0</td>\n      <td>@小刘小刘正在吹牛</td>\n      <td></td>\n    </tr>\n    <tr>\n      <th>3</th>\n      <td>https://tvax1.sinaimg.cn/crop.0.0.1080.1080.10...</td>\n      <td>5314858996</td>\n      <td>y进口可爱y</td>\n      <td>https://weibo.com/5314858996?profile_ftype=1&amp;i...</td>\n      <td>//@一粒沙白的:很多年前我记得我写过一段文字。 大意是： 他们市侩又真实，他们温暖又热忱。...</td>\n      <td>今天 16:35 来自上海</td>\n      <td>赞</td>\n      <td>NaN</td>\n      <td>https://weibo.com/6023189492/LxQ9B5sWa?refer_f...</td>\n      <td>https://weibo.com/6023189492/LxQ9B5sWa?refer_f...</td>\n      <td>2022-06-16 17:44:37.0</td>\n      <td>//@一粒沙白的:很多年前我记得我写过一段文字。 大意是： 他们市侩又真实，他们温暖又热忱。...</td>\n      <td>很多年前我记得我写过一段文字。 大意是： 他们市侩又真实，他们温暖又热忱。 因为生活，所以生动</td>\n    </tr>\n    <tr>\n      <th>6</th>\n      <td>https://tvax3.sinaimg.cn/crop.0.0.996.996.1024...</td>\n      <td>5256956654</td>\n      <td>killthepastone</td>\n      <td>https://weibo.com/5256956654?profile_ftype=1&amp;i...</td>\n      <td>码，一会看//@Red-xxyyzz:天，他还那么年轻就这么有智慧……前途不可限量</td>\n      <td>今天 10:14 来自广东</td>\n      <td>赞</td>\n      <td>NaN</td>\n      <td>https://weibo.com/6023189492/LxQ9B5sWa?refer_f...</td>\n      <td>https://weibo.com/6023189492/LxQ9B5sWa?refer_f...</td>\n      <td>2022-06-16 17:44:58.0</td>\n      <td>码，一会看//@Red-xxyyzz:天，他还那么年轻就这么有智慧……前途不可限量</td>\n      <td>码，一会看</td>\n    </tr>\n    <tr>\n      <th>7</th>\n      <td>https://tvax3.sinaimg.cn/crop.0.0.996.996.1024...</td>\n      <td>5256956654</td>\n      <td>killthepastone</td>\n      <td>https://weibo.com/5256956654?profile_ftype=1&amp;i...</td>\n      <td>码，一会看//@Red-xxyyzz:天，他还那么年轻就这么有智慧……前途不可限量</td>\n      <td>今天 10:14 来自广东</td>\n      <td>赞</td>\n      <td>NaN</td>\n      <td>https://weibo.com/6023189492/LxQ9B5sWa?refer_f...</td>\n      <td>https://weibo.com/6023189492/LxQ9B5sWa?refer_f...</td>\n      <td>2022-06-16 17:44:58.0</td>\n      <td>码，一会看//@Red-xxyyzz:天，他还那么年轻就这么有智慧……前途不可限量</td>\n      <td>天，他还那么年轻就这么有智慧……前途不可限量</td>\n    </tr>\n    <tr>\n      <th>9</th>\n      <td>https://tvax4.sinaimg.cn/crop.0.0.512.512.1024...</td>\n      <td>2712808220</td>\n      <td>你是甜菜心</td>\n      <td>https://weibo.com/2712808220?profile_ftype=1&amp;i...</td>\n      <td>//@此域名已失效:引用我们群里有人说的话“因为很久没有看到过有人公开谈文学谈理想谈一朵花一...</td>\n      <td>今天 09:45 来自广东</td>\n      <td>赞</td>\n      <td>NaN</td>\n      <td>https://weibo.com/6023189492/LxQ9B5sWa?refer_f...</td>\n      <td>https://weibo.com/6023189492/LxQ9B5sWa?refer_f...</td>\n      <td>2022-06-16 17:44:58.0</td>\n      <td>//@此域名已失效:引用我们群里有人说的话“因为很久没有看到过有人公开谈文学谈理想谈一朵花一...</td>\n      <td>引用我们群里有人说的话“因为很久没有看到过有人公开谈文学谈理想谈一朵花一片云给我带来的快乐，...</td>\n    </tr>\n    <tr>\n      <th>...</th>\n      <td>...</td>\n      <td>...</td>\n      <td>...</td>\n      <td>...</td>\n      <td>...</td>\n      <td>...</td>\n      <td>...</td>\n      <td>...</td>\n      <td>...</td>\n      <td>...</td>\n      <td>...</td>\n      <td>...</td>\n      <td>...</td>\n    </tr>\n    <tr>\n      <th>1103</th>\n      <td>https://tva4.sinaimg.cn/crop.0.0.180.180.1024/...</td>\n      <td>1082887977</td>\n      <td>无处想念</td>\n      <td>https://weibo.com/1082887977?profile_ftype=1&amp;i...</td>\n      <td>难道世界的尽头只有带货？老师去带货，明星去带货...只剩下交易//@留待某日再改:想想老罗，...</td>\n      <td>6月11日 12:52 来自北京</td>\n      <td>赞</td>\n      <td>NaN</td>\n      <td>https://weibo.com/7392924039/LwXSt2g9F?refer_f...</td>\n      <td>https://weibo.com/7392924039/LwXSt2g9F?refer_f...</td>\n      <td>2022-06-16 20:51:14.0</td>\n      <td>难道世界的尽头只有带货？老师去带货，明星去带货...只剩下交易//@留待某日再改:想想老罗，...</td>\n      <td>想想老罗，就…殊途同归</td>\n    </tr>\n    <tr>\n      <th>1136</th>\n      <td>https://tva4.sinaimg.cn/crop.0.0.180.180.1024/...</td>\n      <td>1734384887</td>\n      <td>ADIDAF</td>\n      <td>https://weibo.com/1734384887?profile_ftype=1&amp;i...</td>\n      <td>哈哈哈哈哈哈哈哈哈@凹凸曼爱看冷笑话</td>\n      <td>6月10日 23:15 来自贵州</td>\n      <td>赞</td>\n      <td>NaN</td>\n      <td>https://weibo.com/1641532820/Lx7ns04k2?refer_f...</td>\n      <td>https://weibo.com/1641532820/Lx7ns04k2?refer_f...</td>\n      <td>2022-06-16 20:54:38.0</td>\n      <td>哈哈哈哈哈哈哈哈哈@凹凸曼爱看冷笑话</td>\n      <td>哈哈哈哈哈哈哈哈哈</td>\n    </tr>\n    <tr>\n      <th>1153</th>\n      <td>https://tvax1.sinaimg.cn/crop.0.0.600.600.1024...</td>\n      <td>7387760374</td>\n      <td>不列仙班</td>\n      <td>https://weibo.com/7387760374?profile_ftype=1&amp;i...</td>\n      <td>//@在树上摄影:被直播的语言感动到了，真的在dy很少有文学能力这么强的带货主播，让人突然渴...</td>\n      <td>6月11日 14:32 来自江苏</td>\n      <td>赞</td>\n      <td>NaN</td>\n      <td>https://weibo.com/7727648198/Lx5aw7xEM?refer_f...</td>\n      <td>https://weibo.com/7727648198/Lx5aw7xEM?refer_f...</td>\n      <td>2022-06-16 20:55:28.0</td>\n      <td>//@在树上摄影:被直播的语言感动到了，真的在dy很少有文学能力这么强的带货主播，让人突然渴...</td>\n      <td>被直播的语言感动到了，真的在dy很少有文学能力这么强的带货主播，让人突然渴望去阅读去安静</td>\n    </tr>\n    <tr>\n      <th>1154</th>\n      <td>https://tvax3.sinaimg.cn/crop.0.0.345.345.1024...</td>\n      <td>1450802503</td>\n      <td>就叫熊太行也行</td>\n      <td>https://weibo.com/xiongtaihang?profile_ftype=1...</td>\n      <td>双减之后啊，微博上出现了好多右边这样的傻子。应该都是逃课之后注册了微博的小学生。//@湖畔旧...</td>\n      <td>6月10日 18:18 来自北京</td>\n      <td>10</td>\n      <td>3.0</td>\n      <td>https://weibo.com/1450802503/Lx4U8zoeF?refer_f...</td>\n      <td>https://weibo.com/1450802503/Lx4U8zoeF?refer_f...</td>\n      <td>2022-06-16 20:58:13.0</td>\n      <td>双减之后啊，微博上出现了好多右边这样的傻子。应该都是逃课之后注册了微博的小学生。//@湖畔旧...</td>\n      <td>双减之后啊，微博上出现了好多右边这样的傻子。应该都是逃课之后注册了微博的小学生。</td>\n    </tr>\n    <tr>\n      <th>1155</th>\n      <td>https://tvax3.sinaimg.cn/crop.0.0.345.345.1024...</td>\n      <td>1450802503</td>\n      <td>就叫熊太行也行</td>\n      <td>https://weibo.com/xiongtaihang?profile_ftype=1...</td>\n      <td>双减之后啊，微博上出现了好多右边这样的傻子。应该都是逃课之后注册了微博的小学生。//@湖畔旧...</td>\n      <td>6月10日 18:18 来自北京</td>\n      <td>10</td>\n      <td>3.0</td>\n      <td>https://weibo.com/1450802503/Lx4U8zoeF?refer_f...</td>\n      <td>https://weibo.com/1450802503/Lx4U8zoeF?refer_f...</td>\n      <td>2022-06-16 20:58:13.0</td>\n      <td>双减之后啊，微博上出现了好多右边这样的傻子。应该都是逃课之后注册了微博的小学生。//@湖畔旧...</td>\n      <td>只看到新东方一家改行带货心疼，看不到在线教育肆虐内卷带给广大万千家庭父母的焦虑和压力？堂堂主...</td>\n    </tr>\n  </tbody>\n</table>\n<p>192 rows × 13 columns</p>\n</div>"
     },
     "execution_count": 437,
     "metadata": {},
     "output_type": "execute_result"
    }
   ],
   "source": [
    "comment_with_id"
   ],
   "metadata": {
    "collapsed": false,
    "pycharm": {
     "name": "#%%\n"
    }
   }
  },
  {
   "cell_type": "code",
   "execution_count": 438,
   "outputs": [
    {
     "data": {
      "text/plain": "                                                   博主头像        博主id       博主  \\\n0     https://tvax4.sinaimg.cn/crop.0.0.860.860.1024...  5449687795  根正苗红的贫农   \n1     https://tvax2.sinaimg.cn/crop.0.0.1002.1002.10...  5060207870     瞭望投资   \n2     https://tvax2.sinaimg.cn/crop.0.0.636.636.1024...  2172571520     绝对坑哥   \n3     https://tvax1.sinaimg.cn/crop.0.0.1080.1080.10...  1601912030      周钰z   \n4     https://tva4.sinaimg.cn/crop.0.0.100.100.1024/...  3184406702     斗者LY   \n...                                                 ...         ...      ...   \n9442  https://tva3.sinaimg.cn/crop.218.130.345.345.1...  1909064371     吃货黄旭   \n9443  https://tvax4.sinaimg.cn/crop.0.0.996.996.1024...  1110789643  熘肉段加锅包肉   \n9444  https://tvax3.sinaimg.cn/crop.0.0.996.996.1024...  6544520654     陈华清x   \n9445  https://tvax2.sinaimg.cn/crop.0.0.267.267.1024...  7272353728      徐胖埋   \n9446  https://tvax3.sinaimg.cn/crop.0.0.828.828.1024...  5183558728    浅夏6月天   \n\n                                                   博主主页  \\\n0     https://weibo.com/5449687795?profile_ftype=1&i...   \n1     https://weibo.com/5060207870?profile_ftype=1&i...   \n2     https://weibo.com/2172571520?profile_ftype=1&i...   \n3     https://weibo.com/zhouyu0103?profile_ftype=1&i...   \n4     https://weibo.com/3184406702?profile_ftype=1&i...   \n...                                                 ...   \n9442  https://weibo.com/1909064371?profile_ftype=1&i...   \n9443  https://weibo.com/1110789643?profile_ftype=1&i...   \n9444  https://weibo.com/6544520654?profile_ftype=1&i...   \n9445  https://weibo.com/7272353728?profile_ftype=1&i...   \n9446  https://weibo.com/5183558728?profile_ftype=1&i...   \n\n                                                   评论内容              发布时间 点赞数  \\\n0     董老师让人看到了直播该有的样子，比起那些聒噪的直播间和给老板打电话砍价的戏精主播，董老师的涵...     今天 11:02 来自四川  91   \n1        说实话，咱们都一样，我都是大山里出来的，我们那会种地都是山坡地，太陡坡了，种地挺累但听光荣！     今天 16:08 来自北京  31   \n2     不是吐槽董老师，但是他的团队也太.........1个亿~就算每个人进进出出~~能够无限点赞...     今天 11:35 来自广东  11   \n3                                          就是说，为了钱啥都能干。     今天 10:56 来自四川  11   \n4                                            一亿人，中国人太闲了     今天 11:37 来自湖南   7   \n...                                                 ...               ...  ..   \n9442                                         销售本质是把故事讲好  6月17日 06:53 来自广东   赞   \n9443                                 一颗颗玉米粒，数的是我童年的日月光阴  6月16日 13:51 来自吉林   赞   \n9444                                          他卖玉米，我买情怀  6月16日 13:07 来自广东   赞   \n9445                                     我的天呐这真是语文英语都教了  6月16日 13:33 来自上海   赞   \n9446                                               文化魅力  6月17日 14:16 来自天津   赞   \n\n      回复数                                         <realpath>  \\\n0     NaN  https://weibo.com/1700648435/LxXAflnK6?refer_f...   \n1     NaN  https://weibo.com/1700648435/LxXAflnK6?refer_f...   \n2     NaN  https://weibo.com/1700648435/LxXAflnK6?refer_f...   \n3     4.0  https://weibo.com/1700648435/LxXAflnK6?refer_f...   \n4     NaN  https://weibo.com/1700648435/LxXAflnK6?refer_f...   \n...   ...                                                ...   \n9442  NaN  https://weibo.com/1800611161/LxXjr68XA?refer_f...   \n9443  NaN  https://weibo.com/6094546014/LxXaSmGQ4?refer_f...   \n9444  NaN  https://weibo.com/6094546014/LxXaSmGQ4?refer_f...   \n9445  NaN  https://weibo.com/6094546014/LxXaSmGQ4?refer_f...   \n9446  NaN  https://weibo.com/6101001140/LxFSvrVzp?refer_f...   \n\n                                             <fullpath>  \\\n0     https://weibo.com/1700648435/LxXAflnK6?refer_f...   \n1     https://weibo.com/1700648435/LxXAflnK6?refer_f...   \n2     https://weibo.com/1700648435/LxXAflnK6?refer_f...   \n3     https://weibo.com/1700648435/LxXAflnK6?refer_f...   \n4     https://weibo.com/1700648435/LxXAflnK6?refer_f...   \n...                                                 ...   \n9442  https://weibo.com/1800611161/LxXjr68XA?refer_f...   \n9443  https://weibo.com/6094546014/LxXaSmGQ4?refer_f...   \n9444  https://weibo.com/6094546014/LxXaSmGQ4?refer_f...   \n9445  https://weibo.com/6094546014/LxXaSmGQ4?refer_f...   \n9446  https://weibo.com/6101001140/LxFSvrVzp?refer_f...   \n\n               <createdate>                                              split  \n0     2022-06-16 17:44:00.0  董老师让人看到了直播该有的样子，比起那些聒噪的直播间和给老板打电话砍价的戏精主播，董老师的涵...  \n1     2022-06-16 17:44:00.0     说实话，咱们都一样，我都是大山里出来的，我们那会种地都是山坡地，太陡坡了，种地挺累但听光荣！  \n2     2022-06-16 17:44:00.0  不是吐槽董老师，但是他的团队也太.........1个亿~就算每个人进进出出~~能够无限点赞...  \n3     2022-06-16 17:44:00.0                                       就是说，为了钱啥都能干。  \n4     2022-06-16 17:44:00.0                                         一亿人，中国人太闲了  \n...                     ...                                                ...  \n9442  2022-06-18 10:14:19.0                                         销售本质是把故事讲好  \n9443  2022-06-18 10:14:33.0                                 一颗颗玉米粒，数的是我童年的日月光阴  \n9444  2022-06-18 10:14:33.0                                          他卖玉米，我买情怀  \n9445  2022-06-18 10:14:33.0                                     我的天呐这真是语文英语都教了  \n9446  2022-06-18 10:23:06.0                                               文化魅力  \n\n[8498 rows x 12 columns]",
      "text/html": "<div>\n<style scoped>\n    .dataframe tbody tr th:only-of-type {\n        vertical-align: middle;\n    }\n\n    .dataframe tbody tr th {\n        vertical-align: top;\n    }\n\n    .dataframe thead th {\n        text-align: right;\n    }\n</style>\n<table border=\"1\" class=\"dataframe\">\n  <thead>\n    <tr style=\"text-align: right;\">\n      <th></th>\n      <th>博主头像</th>\n      <th>博主id</th>\n      <th>博主</th>\n      <th>博主主页</th>\n      <th>评论内容</th>\n      <th>发布时间</th>\n      <th>点赞数</th>\n      <th>回复数</th>\n      <th>&lt;realpath&gt;</th>\n      <th>&lt;fullpath&gt;</th>\n      <th>&lt;createdate&gt;</th>\n      <th>split</th>\n    </tr>\n  </thead>\n  <tbody>\n    <tr>\n      <th>0</th>\n      <td>https://tvax4.sinaimg.cn/crop.0.0.860.860.1024...</td>\n      <td>5449687795</td>\n      <td>根正苗红的贫农</td>\n      <td>https://weibo.com/5449687795?profile_ftype=1&amp;i...</td>\n      <td>董老师让人看到了直播该有的样子，比起那些聒噪的直播间和给老板打电话砍价的戏精主播，董老师的涵...</td>\n      <td>今天 11:02 来自四川</td>\n      <td>91</td>\n      <td>NaN</td>\n      <td>https://weibo.com/1700648435/LxXAflnK6?refer_f...</td>\n      <td>https://weibo.com/1700648435/LxXAflnK6?refer_f...</td>\n      <td>2022-06-16 17:44:00.0</td>\n      <td>董老师让人看到了直播该有的样子，比起那些聒噪的直播间和给老板打电话砍价的戏精主播，董老师的涵...</td>\n    </tr>\n    <tr>\n      <th>1</th>\n      <td>https://tvax2.sinaimg.cn/crop.0.0.1002.1002.10...</td>\n      <td>5060207870</td>\n      <td>瞭望投资</td>\n      <td>https://weibo.com/5060207870?profile_ftype=1&amp;i...</td>\n      <td>说实话，咱们都一样，我都是大山里出来的，我们那会种地都是山坡地，太陡坡了，种地挺累但听光荣！</td>\n      <td>今天 16:08 来自北京</td>\n      <td>31</td>\n      <td>NaN</td>\n      <td>https://weibo.com/1700648435/LxXAflnK6?refer_f...</td>\n      <td>https://weibo.com/1700648435/LxXAflnK6?refer_f...</td>\n      <td>2022-06-16 17:44:00.0</td>\n      <td>说实话，咱们都一样，我都是大山里出来的，我们那会种地都是山坡地，太陡坡了，种地挺累但听光荣！</td>\n    </tr>\n    <tr>\n      <th>2</th>\n      <td>https://tvax2.sinaimg.cn/crop.0.0.636.636.1024...</td>\n      <td>2172571520</td>\n      <td>绝对坑哥</td>\n      <td>https://weibo.com/2172571520?profile_ftype=1&amp;i...</td>\n      <td>不是吐槽董老师，但是他的团队也太.........1个亿~就算每个人进进出出~~能够无限点赞...</td>\n      <td>今天 11:35 来自广东</td>\n      <td>11</td>\n      <td>NaN</td>\n      <td>https://weibo.com/1700648435/LxXAflnK6?refer_f...</td>\n      <td>https://weibo.com/1700648435/LxXAflnK6?refer_f...</td>\n      <td>2022-06-16 17:44:00.0</td>\n      <td>不是吐槽董老师，但是他的团队也太.........1个亿~就算每个人进进出出~~能够无限点赞...</td>\n    </tr>\n    <tr>\n      <th>3</th>\n      <td>https://tvax1.sinaimg.cn/crop.0.0.1080.1080.10...</td>\n      <td>1601912030</td>\n      <td>周钰z</td>\n      <td>https://weibo.com/zhouyu0103?profile_ftype=1&amp;i...</td>\n      <td>就是说，为了钱啥都能干。</td>\n      <td>今天 10:56 来自四川</td>\n      <td>11</td>\n      <td>4.0</td>\n      <td>https://weibo.com/1700648435/LxXAflnK6?refer_f...</td>\n      <td>https://weibo.com/1700648435/LxXAflnK6?refer_f...</td>\n      <td>2022-06-16 17:44:00.0</td>\n      <td>就是说，为了钱啥都能干。</td>\n    </tr>\n    <tr>\n      <th>4</th>\n      <td>https://tva4.sinaimg.cn/crop.0.0.100.100.1024/...</td>\n      <td>3184406702</td>\n      <td>斗者LY</td>\n      <td>https://weibo.com/3184406702?profile_ftype=1&amp;i...</td>\n      <td>一亿人，中国人太闲了</td>\n      <td>今天 11:37 来自湖南</td>\n      <td>7</td>\n      <td>NaN</td>\n      <td>https://weibo.com/1700648435/LxXAflnK6?refer_f...</td>\n      <td>https://weibo.com/1700648435/LxXAflnK6?refer_f...</td>\n      <td>2022-06-16 17:44:00.0</td>\n      <td>一亿人，中国人太闲了</td>\n    </tr>\n    <tr>\n      <th>...</th>\n      <td>...</td>\n      <td>...</td>\n      <td>...</td>\n      <td>...</td>\n      <td>...</td>\n      <td>...</td>\n      <td>...</td>\n      <td>...</td>\n      <td>...</td>\n      <td>...</td>\n      <td>...</td>\n      <td>...</td>\n    </tr>\n    <tr>\n      <th>9442</th>\n      <td>https://tva3.sinaimg.cn/crop.218.130.345.345.1...</td>\n      <td>1909064371</td>\n      <td>吃货黄旭</td>\n      <td>https://weibo.com/1909064371?profile_ftype=1&amp;i...</td>\n      <td>销售本质是把故事讲好</td>\n      <td>6月17日 06:53 来自广东</td>\n      <td>赞</td>\n      <td>NaN</td>\n      <td>https://weibo.com/1800611161/LxXjr68XA?refer_f...</td>\n      <td>https://weibo.com/1800611161/LxXjr68XA?refer_f...</td>\n      <td>2022-06-18 10:14:19.0</td>\n      <td>销售本质是把故事讲好</td>\n    </tr>\n    <tr>\n      <th>9443</th>\n      <td>https://tvax4.sinaimg.cn/crop.0.0.996.996.1024...</td>\n      <td>1110789643</td>\n      <td>熘肉段加锅包肉</td>\n      <td>https://weibo.com/1110789643?profile_ftype=1&amp;i...</td>\n      <td>一颗颗玉米粒，数的是我童年的日月光阴</td>\n      <td>6月16日 13:51 来自吉林</td>\n      <td>赞</td>\n      <td>NaN</td>\n      <td>https://weibo.com/6094546014/LxXaSmGQ4?refer_f...</td>\n      <td>https://weibo.com/6094546014/LxXaSmGQ4?refer_f...</td>\n      <td>2022-06-18 10:14:33.0</td>\n      <td>一颗颗玉米粒，数的是我童年的日月光阴</td>\n    </tr>\n    <tr>\n      <th>9444</th>\n      <td>https://tvax3.sinaimg.cn/crop.0.0.996.996.1024...</td>\n      <td>6544520654</td>\n      <td>陈华清x</td>\n      <td>https://weibo.com/6544520654?profile_ftype=1&amp;i...</td>\n      <td>他卖玉米，我买情怀</td>\n      <td>6月16日 13:07 来自广东</td>\n      <td>赞</td>\n      <td>NaN</td>\n      <td>https://weibo.com/6094546014/LxXaSmGQ4?refer_f...</td>\n      <td>https://weibo.com/6094546014/LxXaSmGQ4?refer_f...</td>\n      <td>2022-06-18 10:14:33.0</td>\n      <td>他卖玉米，我买情怀</td>\n    </tr>\n    <tr>\n      <th>9445</th>\n      <td>https://tvax2.sinaimg.cn/crop.0.0.267.267.1024...</td>\n      <td>7272353728</td>\n      <td>徐胖埋</td>\n      <td>https://weibo.com/7272353728?profile_ftype=1&amp;i...</td>\n      <td>我的天呐这真是语文英语都教了</td>\n      <td>6月16日 13:33 来自上海</td>\n      <td>赞</td>\n      <td>NaN</td>\n      <td>https://weibo.com/6094546014/LxXaSmGQ4?refer_f...</td>\n      <td>https://weibo.com/6094546014/LxXaSmGQ4?refer_f...</td>\n      <td>2022-06-18 10:14:33.0</td>\n      <td>我的天呐这真是语文英语都教了</td>\n    </tr>\n    <tr>\n      <th>9446</th>\n      <td>https://tvax3.sinaimg.cn/crop.0.0.828.828.1024...</td>\n      <td>5183558728</td>\n      <td>浅夏6月天</td>\n      <td>https://weibo.com/5183558728?profile_ftype=1&amp;i...</td>\n      <td>文化魅力</td>\n      <td>6月17日 14:16 来自天津</td>\n      <td>赞</td>\n      <td>NaN</td>\n      <td>https://weibo.com/6101001140/LxFSvrVzp?refer_f...</td>\n      <td>https://weibo.com/6101001140/LxFSvrVzp?refer_f...</td>\n      <td>2022-06-18 10:23:06.0</td>\n      <td>文化魅力</td>\n    </tr>\n  </tbody>\n</table>\n<p>8498 rows × 12 columns</p>\n</div>"
     },
     "execution_count": 438,
     "metadata": {},
     "output_type": "execute_result"
    }
   ],
   "source": [
    "comment_without_id"
   ],
   "metadata": {
    "collapsed": false,
    "pycharm": {
     "name": "#%%\n"
    }
   }
  },
  {
   "cell_type": "code",
   "execution_count": 439,
   "outputs": [
    {
     "data": {
      "text/plain": "                                                   博主头像        博主id  \\\n0     https://tvax1.sinaimg.cn/crop.0.0.512.512.1024...  2605080173   \n3     https://tvax1.sinaimg.cn/crop.0.0.1080.1080.10...  5314858996   \n6     https://tvax3.sinaimg.cn/crop.0.0.996.996.1024...  5256956654   \n7     https://tvax3.sinaimg.cn/crop.0.0.996.996.1024...  5256956654   \n9     https://tvax4.sinaimg.cn/crop.0.0.512.512.1024...  2712808220   \n...                                                 ...         ...   \n1103  https://tva4.sinaimg.cn/crop.0.0.180.180.1024/...  1082887977   \n1136  https://tva4.sinaimg.cn/crop.0.0.180.180.1024/...  1734384887   \n1153  https://tvax1.sinaimg.cn/crop.0.0.600.600.1024...  7387760374   \n1154  https://tvax3.sinaimg.cn/crop.0.0.345.345.1024...  1450802503   \n1155  https://tvax3.sinaimg.cn/crop.0.0.345.345.1024...  1450802503   \n\n                  博主                                               博主主页  \\\n0       AMONSTERCOKE  https://weibo.com/2605080173?profile_ftype=1&i...   \n3             y进口可爱y  https://weibo.com/5314858996?profile_ftype=1&i...   \n6     killthepastone  https://weibo.com/5256956654?profile_ftype=1&i...   \n7     killthepastone  https://weibo.com/5256956654?profile_ftype=1&i...   \n9              你是甜菜心  https://weibo.com/2712808220?profile_ftype=1&i...   \n...              ...                                                ...   \n1103            无处想念  https://weibo.com/1082887977?profile_ftype=1&i...   \n1136          ADIDAF  https://weibo.com/1734384887?profile_ftype=1&i...   \n1153            不列仙班  https://weibo.com/7387760374?profile_ftype=1&i...   \n1154         就叫熊太行也行  https://weibo.com/xiongtaihang?profile_ftype=1...   \n1155         就叫熊太行也行  https://weibo.com/xiongtaihang?profile_ftype=1...   \n\n                                                   评论内容              发布时间 点赞数  \\\n0                                             @小刘小刘正在吹牛        43分钟前 来自安徽   赞   \n3     //@一粒沙白的:很多年前我记得我写过一段文字。 大意是： 他们市侩又真实，他们温暖又热忱。...     今天 16:35 来自上海   赞   \n6             码，一会看//@Red-xxyyzz:天，他还那么年轻就这么有智慧……前途不可限量     今天 10:14 来自广东   赞   \n7             码，一会看//@Red-xxyyzz:天，他还那么年轻就这么有智慧……前途不可限量     今天 10:14 来自广东   赞   \n9     //@此域名已失效:引用我们群里有人说的话“因为很久没有看到过有人公开谈文学谈理想谈一朵花一...     今天 09:45 来自广东   赞   \n...                                                 ...               ...  ..   \n1103  难道世界的尽头只有带货？老师去带货，明星去带货...只剩下交易//@留待某日再改:想想老罗，...  6月11日 12:52 来自北京   赞   \n1136                                 哈哈哈哈哈哈哈哈哈@凹凸曼爱看冷笑话  6月10日 23:15 来自贵州   赞   \n1153  //@在树上摄影:被直播的语言感动到了，真的在dy很少有文学能力这么强的带货主播，让人突然渴...  6月11日 14:32 来自江苏   赞   \n1154  双减之后啊，微博上出现了好多右边这样的傻子。应该都是逃课之后注册了微博的小学生。//@湖畔旧...  6月10日 18:18 来自北京  10   \n1155  双减之后啊，微博上出现了好多右边这样的傻子。应该都是逃课之后注册了微博的小学生。//@湖畔旧...  6月10日 18:18 来自北京  10   \n\n      回复数                                         <realpath>  \\\n0     NaN  https://weibo.com/6023189492/LxQ9B5sWa?refer_f...   \n3     NaN  https://weibo.com/6023189492/LxQ9B5sWa?refer_f...   \n6     NaN  https://weibo.com/6023189492/LxQ9B5sWa?refer_f...   \n7     NaN  https://weibo.com/6023189492/LxQ9B5sWa?refer_f...   \n9     NaN  https://weibo.com/6023189492/LxQ9B5sWa?refer_f...   \n...   ...                                                ...   \n1103  NaN  https://weibo.com/7392924039/LwXSt2g9F?refer_f...   \n1136  NaN  https://weibo.com/1641532820/Lx7ns04k2?refer_f...   \n1153  NaN  https://weibo.com/7727648198/Lx5aw7xEM?refer_f...   \n1154  3.0  https://weibo.com/1450802503/Lx4U8zoeF?refer_f...   \n1155  3.0  https://weibo.com/1450802503/Lx4U8zoeF?refer_f...   \n\n                                             <fullpath>  \\\n0     https://weibo.com/6023189492/LxQ9B5sWa?refer_f...   \n3     https://weibo.com/6023189492/LxQ9B5sWa?refer_f...   \n6     https://weibo.com/6023189492/LxQ9B5sWa?refer_f...   \n7     https://weibo.com/6023189492/LxQ9B5sWa?refer_f...   \n9     https://weibo.com/6023189492/LxQ9B5sWa?refer_f...   \n...                                                 ...   \n1103  https://weibo.com/7392924039/LwXSt2g9F?refer_f...   \n1136  https://weibo.com/1641532820/Lx7ns04k2?refer_f...   \n1153  https://weibo.com/7727648198/Lx5aw7xEM?refer_f...   \n1154  https://weibo.com/1450802503/Lx4U8zoeF?refer_f...   \n1155  https://weibo.com/1450802503/Lx4U8zoeF?refer_f...   \n\n               <createdate>                                              split  \n0     2022-06-16 17:44:30.0                                                     \n3     2022-06-16 17:44:37.0    很多年前我记得我写过一段文字。 大意是： 他们市侩又真实，他们温暖又热忱。 因为生活，所以生动  \n6     2022-06-16 17:44:58.0                                              码，一会看  \n7     2022-06-16 17:44:58.0                             天，他还那么年轻就这么有智慧……前途不可限量  \n9     2022-06-16 17:44:58.0  引用我们群里有人说的话“因为很久没有看到过有人公开谈文学谈理想谈一朵花一片云给我带来的快乐，...  \n...                     ...                                                ...  \n1103  2022-06-16 20:51:14.0                                        想想老罗，就…殊途同归  \n1136  2022-06-16 20:54:38.0                                          哈哈哈哈哈哈哈哈哈  \n1153  2022-06-16 20:55:28.0       被直播的语言感动到了，真的在dy很少有文学能力这么强的带货主播，让人突然渴望去阅读去安静  \n1154  2022-06-16 20:58:13.0           双减之后啊，微博上出现了好多右边这样的傻子。应该都是逃课之后注册了微博的小学生。  \n1155  2022-06-16 20:58:13.0  只看到新东方一家改行带货心疼，看不到在线教育肆虐内卷带给广大万千家庭父母的焦虑和压力？堂堂主...  \n\n[192 rows x 12 columns]",
      "text/html": "<div>\n<style scoped>\n    .dataframe tbody tr th:only-of-type {\n        vertical-align: middle;\n    }\n\n    .dataframe tbody tr th {\n        vertical-align: top;\n    }\n\n    .dataframe thead th {\n        text-align: right;\n    }\n</style>\n<table border=\"1\" class=\"dataframe\">\n  <thead>\n    <tr style=\"text-align: right;\">\n      <th></th>\n      <th>博主头像</th>\n      <th>博主id</th>\n      <th>博主</th>\n      <th>博主主页</th>\n      <th>评论内容</th>\n      <th>发布时间</th>\n      <th>点赞数</th>\n      <th>回复数</th>\n      <th>&lt;realpath&gt;</th>\n      <th>&lt;fullpath&gt;</th>\n      <th>&lt;createdate&gt;</th>\n      <th>split</th>\n    </tr>\n  </thead>\n  <tbody>\n    <tr>\n      <th>0</th>\n      <td>https://tvax1.sinaimg.cn/crop.0.0.512.512.1024...</td>\n      <td>2605080173</td>\n      <td>AMONSTERCOKE</td>\n      <td>https://weibo.com/2605080173?profile_ftype=1&amp;i...</td>\n      <td>@小刘小刘正在吹牛</td>\n      <td>43分钟前 来自安徽</td>\n      <td>赞</td>\n      <td>NaN</td>\n      <td>https://weibo.com/6023189492/LxQ9B5sWa?refer_f...</td>\n      <td>https://weibo.com/6023189492/LxQ9B5sWa?refer_f...</td>\n      <td>2022-06-16 17:44:30.0</td>\n      <td></td>\n    </tr>\n    <tr>\n      <th>3</th>\n      <td>https://tvax1.sinaimg.cn/crop.0.0.1080.1080.10...</td>\n      <td>5314858996</td>\n      <td>y进口可爱y</td>\n      <td>https://weibo.com/5314858996?profile_ftype=1&amp;i...</td>\n      <td>//@一粒沙白的:很多年前我记得我写过一段文字。 大意是： 他们市侩又真实，他们温暖又热忱。...</td>\n      <td>今天 16:35 来自上海</td>\n      <td>赞</td>\n      <td>NaN</td>\n      <td>https://weibo.com/6023189492/LxQ9B5sWa?refer_f...</td>\n      <td>https://weibo.com/6023189492/LxQ9B5sWa?refer_f...</td>\n      <td>2022-06-16 17:44:37.0</td>\n      <td>很多年前我记得我写过一段文字。 大意是： 他们市侩又真实，他们温暖又热忱。 因为生活，所以生动</td>\n    </tr>\n    <tr>\n      <th>6</th>\n      <td>https://tvax3.sinaimg.cn/crop.0.0.996.996.1024...</td>\n      <td>5256956654</td>\n      <td>killthepastone</td>\n      <td>https://weibo.com/5256956654?profile_ftype=1&amp;i...</td>\n      <td>码，一会看//@Red-xxyyzz:天，他还那么年轻就这么有智慧……前途不可限量</td>\n      <td>今天 10:14 来自广东</td>\n      <td>赞</td>\n      <td>NaN</td>\n      <td>https://weibo.com/6023189492/LxQ9B5sWa?refer_f...</td>\n      <td>https://weibo.com/6023189492/LxQ9B5sWa?refer_f...</td>\n      <td>2022-06-16 17:44:58.0</td>\n      <td>码，一会看</td>\n    </tr>\n    <tr>\n      <th>7</th>\n      <td>https://tvax3.sinaimg.cn/crop.0.0.996.996.1024...</td>\n      <td>5256956654</td>\n      <td>killthepastone</td>\n      <td>https://weibo.com/5256956654?profile_ftype=1&amp;i...</td>\n      <td>码，一会看//@Red-xxyyzz:天，他还那么年轻就这么有智慧……前途不可限量</td>\n      <td>今天 10:14 来自广东</td>\n      <td>赞</td>\n      <td>NaN</td>\n      <td>https://weibo.com/6023189492/LxQ9B5sWa?refer_f...</td>\n      <td>https://weibo.com/6023189492/LxQ9B5sWa?refer_f...</td>\n      <td>2022-06-16 17:44:58.0</td>\n      <td>天，他还那么年轻就这么有智慧……前途不可限量</td>\n    </tr>\n    <tr>\n      <th>9</th>\n      <td>https://tvax4.sinaimg.cn/crop.0.0.512.512.1024...</td>\n      <td>2712808220</td>\n      <td>你是甜菜心</td>\n      <td>https://weibo.com/2712808220?profile_ftype=1&amp;i...</td>\n      <td>//@此域名已失效:引用我们群里有人说的话“因为很久没有看到过有人公开谈文学谈理想谈一朵花一...</td>\n      <td>今天 09:45 来自广东</td>\n      <td>赞</td>\n      <td>NaN</td>\n      <td>https://weibo.com/6023189492/LxQ9B5sWa?refer_f...</td>\n      <td>https://weibo.com/6023189492/LxQ9B5sWa?refer_f...</td>\n      <td>2022-06-16 17:44:58.0</td>\n      <td>引用我们群里有人说的话“因为很久没有看到过有人公开谈文学谈理想谈一朵花一片云给我带来的快乐，...</td>\n    </tr>\n    <tr>\n      <th>...</th>\n      <td>...</td>\n      <td>...</td>\n      <td>...</td>\n      <td>...</td>\n      <td>...</td>\n      <td>...</td>\n      <td>...</td>\n      <td>...</td>\n      <td>...</td>\n      <td>...</td>\n      <td>...</td>\n      <td>...</td>\n    </tr>\n    <tr>\n      <th>1103</th>\n      <td>https://tva4.sinaimg.cn/crop.0.0.180.180.1024/...</td>\n      <td>1082887977</td>\n      <td>无处想念</td>\n      <td>https://weibo.com/1082887977?profile_ftype=1&amp;i...</td>\n      <td>难道世界的尽头只有带货？老师去带货，明星去带货...只剩下交易//@留待某日再改:想想老罗，...</td>\n      <td>6月11日 12:52 来自北京</td>\n      <td>赞</td>\n      <td>NaN</td>\n      <td>https://weibo.com/7392924039/LwXSt2g9F?refer_f...</td>\n      <td>https://weibo.com/7392924039/LwXSt2g9F?refer_f...</td>\n      <td>2022-06-16 20:51:14.0</td>\n      <td>想想老罗，就…殊途同归</td>\n    </tr>\n    <tr>\n      <th>1136</th>\n      <td>https://tva4.sinaimg.cn/crop.0.0.180.180.1024/...</td>\n      <td>1734384887</td>\n      <td>ADIDAF</td>\n      <td>https://weibo.com/1734384887?profile_ftype=1&amp;i...</td>\n      <td>哈哈哈哈哈哈哈哈哈@凹凸曼爱看冷笑话</td>\n      <td>6月10日 23:15 来自贵州</td>\n      <td>赞</td>\n      <td>NaN</td>\n      <td>https://weibo.com/1641532820/Lx7ns04k2?refer_f...</td>\n      <td>https://weibo.com/1641532820/Lx7ns04k2?refer_f...</td>\n      <td>2022-06-16 20:54:38.0</td>\n      <td>哈哈哈哈哈哈哈哈哈</td>\n    </tr>\n    <tr>\n      <th>1153</th>\n      <td>https://tvax1.sinaimg.cn/crop.0.0.600.600.1024...</td>\n      <td>7387760374</td>\n      <td>不列仙班</td>\n      <td>https://weibo.com/7387760374?profile_ftype=1&amp;i...</td>\n      <td>//@在树上摄影:被直播的语言感动到了，真的在dy很少有文学能力这么强的带货主播，让人突然渴...</td>\n      <td>6月11日 14:32 来自江苏</td>\n      <td>赞</td>\n      <td>NaN</td>\n      <td>https://weibo.com/7727648198/Lx5aw7xEM?refer_f...</td>\n      <td>https://weibo.com/7727648198/Lx5aw7xEM?refer_f...</td>\n      <td>2022-06-16 20:55:28.0</td>\n      <td>被直播的语言感动到了，真的在dy很少有文学能力这么强的带货主播，让人突然渴望去阅读去安静</td>\n    </tr>\n    <tr>\n      <th>1154</th>\n      <td>https://tvax3.sinaimg.cn/crop.0.0.345.345.1024...</td>\n      <td>1450802503</td>\n      <td>就叫熊太行也行</td>\n      <td>https://weibo.com/xiongtaihang?profile_ftype=1...</td>\n      <td>双减之后啊，微博上出现了好多右边这样的傻子。应该都是逃课之后注册了微博的小学生。//@湖畔旧...</td>\n      <td>6月10日 18:18 来自北京</td>\n      <td>10</td>\n      <td>3.0</td>\n      <td>https://weibo.com/1450802503/Lx4U8zoeF?refer_f...</td>\n      <td>https://weibo.com/1450802503/Lx4U8zoeF?refer_f...</td>\n      <td>2022-06-16 20:58:13.0</td>\n      <td>双减之后啊，微博上出现了好多右边这样的傻子。应该都是逃课之后注册了微博的小学生。</td>\n    </tr>\n    <tr>\n      <th>1155</th>\n      <td>https://tvax3.sinaimg.cn/crop.0.0.345.345.1024...</td>\n      <td>1450802503</td>\n      <td>就叫熊太行也行</td>\n      <td>https://weibo.com/xiongtaihang?profile_ftype=1...</td>\n      <td>双减之后啊，微博上出现了好多右边这样的傻子。应该都是逃课之后注册了微博的小学生。//@湖畔旧...</td>\n      <td>6月10日 18:18 来自北京</td>\n      <td>10</td>\n      <td>3.0</td>\n      <td>https://weibo.com/1450802503/Lx4U8zoeF?refer_f...</td>\n      <td>https://weibo.com/1450802503/Lx4U8zoeF?refer_f...</td>\n      <td>2022-06-16 20:58:13.0</td>\n      <td>只看到新东方一家改行带货心疼，看不到在线教育肆虐内卷带给广大万千家庭父母的焦虑和压力？堂堂主...</td>\n    </tr>\n  </tbody>\n</table>\n<p>192 rows × 12 columns</p>\n</div>"
     },
     "execution_count": 439,
     "metadata": {},
     "output_type": "execute_result"
    }
   ],
   "source": [
    "comment_with_id['split'] = comment_with_id['split_2']\n",
    "comment_with_id.drop(labels='split_2', axis=1, inplace=True)\n",
    "comment_with_id"
   ],
   "metadata": {
    "collapsed": false,
    "pycharm": {
     "name": "#%%\n"
    }
   }
  },
  {
   "cell_type": "code",
   "execution_count": 440,
   "outputs": [
    {
     "data": {
      "text/plain": "                                                   博主头像        博主id  \\\n0     https://tvax1.sinaimg.cn/crop.0.0.512.512.1024...  2605080173   \n3     https://tvax1.sinaimg.cn/crop.0.0.1080.1080.10...  5314858996   \n6     https://tvax3.sinaimg.cn/crop.0.0.996.996.1024...  5256956654   \n7     https://tvax3.sinaimg.cn/crop.0.0.996.996.1024...  5256956654   \n9     https://tvax4.sinaimg.cn/crop.0.0.512.512.1024...  2712808220   \n...                                                 ...         ...   \n9442  https://tva3.sinaimg.cn/crop.218.130.345.345.1...  1909064371   \n9443  https://tvax4.sinaimg.cn/crop.0.0.996.996.1024...  1110789643   \n9444  https://tvax3.sinaimg.cn/crop.0.0.996.996.1024...  6544520654   \n9445  https://tvax2.sinaimg.cn/crop.0.0.267.267.1024...  7272353728   \n9446  https://tvax3.sinaimg.cn/crop.0.0.828.828.1024...  5183558728   \n\n                  博主                                               博主主页  \\\n0       AMONSTERCOKE  https://weibo.com/2605080173?profile_ftype=1&i...   \n3             y进口可爱y  https://weibo.com/5314858996?profile_ftype=1&i...   \n6     killthepastone  https://weibo.com/5256956654?profile_ftype=1&i...   \n7     killthepastone  https://weibo.com/5256956654?profile_ftype=1&i...   \n9              你是甜菜心  https://weibo.com/2712808220?profile_ftype=1&i...   \n...              ...                                                ...   \n9442            吃货黄旭  https://weibo.com/1909064371?profile_ftype=1&i...   \n9443         熘肉段加锅包肉  https://weibo.com/1110789643?profile_ftype=1&i...   \n9444            陈华清x  https://weibo.com/6544520654?profile_ftype=1&i...   \n9445             徐胖埋  https://weibo.com/7272353728?profile_ftype=1&i...   \n9446           浅夏6月天  https://weibo.com/5183558728?profile_ftype=1&i...   \n\n                                                   评论内容              发布时间 点赞数  \\\n0                                             @小刘小刘正在吹牛        43分钟前 来自安徽   赞   \n3     //@一粒沙白的:很多年前我记得我写过一段文字。 大意是： 他们市侩又真实，他们温暖又热忱。...     今天 16:35 来自上海   赞   \n6             码，一会看//@Red-xxyyzz:天，他还那么年轻就这么有智慧……前途不可限量     今天 10:14 来自广东   赞   \n7             码，一会看//@Red-xxyyzz:天，他还那么年轻就这么有智慧……前途不可限量     今天 10:14 来自广东   赞   \n9     //@此域名已失效:引用我们群里有人说的话“因为很久没有看到过有人公开谈文学谈理想谈一朵花一...     今天 09:45 来自广东   赞   \n...                                                 ...               ...  ..   \n9442                                         销售本质是把故事讲好  6月17日 06:53 来自广东   赞   \n9443                                 一颗颗玉米粒，数的是我童年的日月光阴  6月16日 13:51 来自吉林   赞   \n9444                                          他卖玉米，我买情怀  6月16日 13:07 来自广东   赞   \n9445                                     我的天呐这真是语文英语都教了  6月16日 13:33 来自上海   赞   \n9446                                               文化魅力  6月17日 14:16 来自天津   赞   \n\n      回复数                                         <realpath>  \\\n0     NaN  https://weibo.com/6023189492/LxQ9B5sWa?refer_f...   \n3     NaN  https://weibo.com/6023189492/LxQ9B5sWa?refer_f...   \n6     NaN  https://weibo.com/6023189492/LxQ9B5sWa?refer_f...   \n7     NaN  https://weibo.com/6023189492/LxQ9B5sWa?refer_f...   \n9     NaN  https://weibo.com/6023189492/LxQ9B5sWa?refer_f...   \n...   ...                                                ...   \n9442  NaN  https://weibo.com/1800611161/LxXjr68XA?refer_f...   \n9443  NaN  https://weibo.com/6094546014/LxXaSmGQ4?refer_f...   \n9444  NaN  https://weibo.com/6094546014/LxXaSmGQ4?refer_f...   \n9445  NaN  https://weibo.com/6094546014/LxXaSmGQ4?refer_f...   \n9446  NaN  https://weibo.com/6101001140/LxFSvrVzp?refer_f...   \n\n                                             <fullpath>  \\\n0     https://weibo.com/6023189492/LxQ9B5sWa?refer_f...   \n3     https://weibo.com/6023189492/LxQ9B5sWa?refer_f...   \n6     https://weibo.com/6023189492/LxQ9B5sWa?refer_f...   \n7     https://weibo.com/6023189492/LxQ9B5sWa?refer_f...   \n9     https://weibo.com/6023189492/LxQ9B5sWa?refer_f...   \n...                                                 ...   \n9442  https://weibo.com/1800611161/LxXjr68XA?refer_f...   \n9443  https://weibo.com/6094546014/LxXaSmGQ4?refer_f...   \n9444  https://weibo.com/6094546014/LxXaSmGQ4?refer_f...   \n9445  https://weibo.com/6094546014/LxXaSmGQ4?refer_f...   \n9446  https://weibo.com/6101001140/LxFSvrVzp?refer_f...   \n\n               <createdate>                                              split  \n0     2022-06-16 17:44:30.0                                                     \n3     2022-06-16 17:44:37.0    很多年前我记得我写过一段文字。 大意是： 他们市侩又真实，他们温暖又热忱。 因为生活，所以生动  \n6     2022-06-16 17:44:58.0                                              码，一会看  \n7     2022-06-16 17:44:58.0                             天，他还那么年轻就这么有智慧……前途不可限量  \n9     2022-06-16 17:44:58.0  引用我们群里有人说的话“因为很久没有看到过有人公开谈文学谈理想谈一朵花一片云给我带来的快乐，...  \n...                     ...                                                ...  \n9442  2022-06-18 10:14:19.0                                         销售本质是把故事讲好  \n9443  2022-06-18 10:14:33.0                                 一颗颗玉米粒，数的是我童年的日月光阴  \n9444  2022-06-18 10:14:33.0                                          他卖玉米，我买情怀  \n9445  2022-06-18 10:14:33.0                                     我的天呐这真是语文英语都教了  \n9446  2022-06-18 10:23:06.0                                               文化魅力  \n\n[8690 rows x 12 columns]",
      "text/html": "<div>\n<style scoped>\n    .dataframe tbody tr th:only-of-type {\n        vertical-align: middle;\n    }\n\n    .dataframe tbody tr th {\n        vertical-align: top;\n    }\n\n    .dataframe thead th {\n        text-align: right;\n    }\n</style>\n<table border=\"1\" class=\"dataframe\">\n  <thead>\n    <tr style=\"text-align: right;\">\n      <th></th>\n      <th>博主头像</th>\n      <th>博主id</th>\n      <th>博主</th>\n      <th>博主主页</th>\n      <th>评论内容</th>\n      <th>发布时间</th>\n      <th>点赞数</th>\n      <th>回复数</th>\n      <th>&lt;realpath&gt;</th>\n      <th>&lt;fullpath&gt;</th>\n      <th>&lt;createdate&gt;</th>\n      <th>split</th>\n    </tr>\n  </thead>\n  <tbody>\n    <tr>\n      <th>0</th>\n      <td>https://tvax1.sinaimg.cn/crop.0.0.512.512.1024...</td>\n      <td>2605080173</td>\n      <td>AMONSTERCOKE</td>\n      <td>https://weibo.com/2605080173?profile_ftype=1&amp;i...</td>\n      <td>@小刘小刘正在吹牛</td>\n      <td>43分钟前 来自安徽</td>\n      <td>赞</td>\n      <td>NaN</td>\n      <td>https://weibo.com/6023189492/LxQ9B5sWa?refer_f...</td>\n      <td>https://weibo.com/6023189492/LxQ9B5sWa?refer_f...</td>\n      <td>2022-06-16 17:44:30.0</td>\n      <td></td>\n    </tr>\n    <tr>\n      <th>3</th>\n      <td>https://tvax1.sinaimg.cn/crop.0.0.1080.1080.10...</td>\n      <td>5314858996</td>\n      <td>y进口可爱y</td>\n      <td>https://weibo.com/5314858996?profile_ftype=1&amp;i...</td>\n      <td>//@一粒沙白的:很多年前我记得我写过一段文字。 大意是： 他们市侩又真实，他们温暖又热忱。...</td>\n      <td>今天 16:35 来自上海</td>\n      <td>赞</td>\n      <td>NaN</td>\n      <td>https://weibo.com/6023189492/LxQ9B5sWa?refer_f...</td>\n      <td>https://weibo.com/6023189492/LxQ9B5sWa?refer_f...</td>\n      <td>2022-06-16 17:44:37.0</td>\n      <td>很多年前我记得我写过一段文字。 大意是： 他们市侩又真实，他们温暖又热忱。 因为生活，所以生动</td>\n    </tr>\n    <tr>\n      <th>6</th>\n      <td>https://tvax3.sinaimg.cn/crop.0.0.996.996.1024...</td>\n      <td>5256956654</td>\n      <td>killthepastone</td>\n      <td>https://weibo.com/5256956654?profile_ftype=1&amp;i...</td>\n      <td>码，一会看//@Red-xxyyzz:天，他还那么年轻就这么有智慧……前途不可限量</td>\n      <td>今天 10:14 来自广东</td>\n      <td>赞</td>\n      <td>NaN</td>\n      <td>https://weibo.com/6023189492/LxQ9B5sWa?refer_f...</td>\n      <td>https://weibo.com/6023189492/LxQ9B5sWa?refer_f...</td>\n      <td>2022-06-16 17:44:58.0</td>\n      <td>码，一会看</td>\n    </tr>\n    <tr>\n      <th>7</th>\n      <td>https://tvax3.sinaimg.cn/crop.0.0.996.996.1024...</td>\n      <td>5256956654</td>\n      <td>killthepastone</td>\n      <td>https://weibo.com/5256956654?profile_ftype=1&amp;i...</td>\n      <td>码，一会看//@Red-xxyyzz:天，他还那么年轻就这么有智慧……前途不可限量</td>\n      <td>今天 10:14 来自广东</td>\n      <td>赞</td>\n      <td>NaN</td>\n      <td>https://weibo.com/6023189492/LxQ9B5sWa?refer_f...</td>\n      <td>https://weibo.com/6023189492/LxQ9B5sWa?refer_f...</td>\n      <td>2022-06-16 17:44:58.0</td>\n      <td>天，他还那么年轻就这么有智慧……前途不可限量</td>\n    </tr>\n    <tr>\n      <th>9</th>\n      <td>https://tvax4.sinaimg.cn/crop.0.0.512.512.1024...</td>\n      <td>2712808220</td>\n      <td>你是甜菜心</td>\n      <td>https://weibo.com/2712808220?profile_ftype=1&amp;i...</td>\n      <td>//@此域名已失效:引用我们群里有人说的话“因为很久没有看到过有人公开谈文学谈理想谈一朵花一...</td>\n      <td>今天 09:45 来自广东</td>\n      <td>赞</td>\n      <td>NaN</td>\n      <td>https://weibo.com/6023189492/LxQ9B5sWa?refer_f...</td>\n      <td>https://weibo.com/6023189492/LxQ9B5sWa?refer_f...</td>\n      <td>2022-06-16 17:44:58.0</td>\n      <td>引用我们群里有人说的话“因为很久没有看到过有人公开谈文学谈理想谈一朵花一片云给我带来的快乐，...</td>\n    </tr>\n    <tr>\n      <th>...</th>\n      <td>...</td>\n      <td>...</td>\n      <td>...</td>\n      <td>...</td>\n      <td>...</td>\n      <td>...</td>\n      <td>...</td>\n      <td>...</td>\n      <td>...</td>\n      <td>...</td>\n      <td>...</td>\n      <td>...</td>\n    </tr>\n    <tr>\n      <th>9442</th>\n      <td>https://tva3.sinaimg.cn/crop.218.130.345.345.1...</td>\n      <td>1909064371</td>\n      <td>吃货黄旭</td>\n      <td>https://weibo.com/1909064371?profile_ftype=1&amp;i...</td>\n      <td>销售本质是把故事讲好</td>\n      <td>6月17日 06:53 来自广东</td>\n      <td>赞</td>\n      <td>NaN</td>\n      <td>https://weibo.com/1800611161/LxXjr68XA?refer_f...</td>\n      <td>https://weibo.com/1800611161/LxXjr68XA?refer_f...</td>\n      <td>2022-06-18 10:14:19.0</td>\n      <td>销售本质是把故事讲好</td>\n    </tr>\n    <tr>\n      <th>9443</th>\n      <td>https://tvax4.sinaimg.cn/crop.0.0.996.996.1024...</td>\n      <td>1110789643</td>\n      <td>熘肉段加锅包肉</td>\n      <td>https://weibo.com/1110789643?profile_ftype=1&amp;i...</td>\n      <td>一颗颗玉米粒，数的是我童年的日月光阴</td>\n      <td>6月16日 13:51 来自吉林</td>\n      <td>赞</td>\n      <td>NaN</td>\n      <td>https://weibo.com/6094546014/LxXaSmGQ4?refer_f...</td>\n      <td>https://weibo.com/6094546014/LxXaSmGQ4?refer_f...</td>\n      <td>2022-06-18 10:14:33.0</td>\n      <td>一颗颗玉米粒，数的是我童年的日月光阴</td>\n    </tr>\n    <tr>\n      <th>9444</th>\n      <td>https://tvax3.sinaimg.cn/crop.0.0.996.996.1024...</td>\n      <td>6544520654</td>\n      <td>陈华清x</td>\n      <td>https://weibo.com/6544520654?profile_ftype=1&amp;i...</td>\n      <td>他卖玉米，我买情怀</td>\n      <td>6月16日 13:07 来自广东</td>\n      <td>赞</td>\n      <td>NaN</td>\n      <td>https://weibo.com/6094546014/LxXaSmGQ4?refer_f...</td>\n      <td>https://weibo.com/6094546014/LxXaSmGQ4?refer_f...</td>\n      <td>2022-06-18 10:14:33.0</td>\n      <td>他卖玉米，我买情怀</td>\n    </tr>\n    <tr>\n      <th>9445</th>\n      <td>https://tvax2.sinaimg.cn/crop.0.0.267.267.1024...</td>\n      <td>7272353728</td>\n      <td>徐胖埋</td>\n      <td>https://weibo.com/7272353728?profile_ftype=1&amp;i...</td>\n      <td>我的天呐这真是语文英语都教了</td>\n      <td>6月16日 13:33 来自上海</td>\n      <td>赞</td>\n      <td>NaN</td>\n      <td>https://weibo.com/6094546014/LxXaSmGQ4?refer_f...</td>\n      <td>https://weibo.com/6094546014/LxXaSmGQ4?refer_f...</td>\n      <td>2022-06-18 10:14:33.0</td>\n      <td>我的天呐这真是语文英语都教了</td>\n    </tr>\n    <tr>\n      <th>9446</th>\n      <td>https://tvax3.sinaimg.cn/crop.0.0.828.828.1024...</td>\n      <td>5183558728</td>\n      <td>浅夏6月天</td>\n      <td>https://weibo.com/5183558728?profile_ftype=1&amp;i...</td>\n      <td>文化魅力</td>\n      <td>6月17日 14:16 来自天津</td>\n      <td>赞</td>\n      <td>NaN</td>\n      <td>https://weibo.com/6101001140/LxFSvrVzp?refer_f...</td>\n      <td>https://weibo.com/6101001140/LxFSvrVzp?refer_f...</td>\n      <td>2022-06-18 10:23:06.0</td>\n      <td>文化魅力</td>\n    </tr>\n  </tbody>\n</table>\n<p>8690 rows × 12 columns</p>\n</div>"
     },
     "execution_count": 440,
     "metadata": {},
     "output_type": "execute_result"
    }
   ],
   "source": [
    "comment = pd.concat([comment_with_id, comment_without_id])\n",
    "comment"
   ],
   "metadata": {
    "collapsed": false,
    "pycharm": {
     "name": "#%%\n"
    }
   }
  },
  {
   "cell_type": "code",
   "execution_count": 441,
   "outputs": [
    {
     "data": {
      "text/plain": "                                                   博主头像        博主id  \\\n0     https://tvax1.sinaimg.cn/crop.0.0.512.512.1024...  2605080173   \n3     https://tvax1.sinaimg.cn/crop.0.0.1080.1080.10...  5314858996   \n6     https://tvax3.sinaimg.cn/crop.0.0.996.996.1024...  5256956654   \n7     https://tvax3.sinaimg.cn/crop.0.0.996.996.1024...  5256956654   \n9     https://tvax4.sinaimg.cn/crop.0.0.512.512.1024...  2712808220   \n...                                                 ...         ...   \n9442  https://tva3.sinaimg.cn/crop.218.130.345.345.1...  1909064371   \n9443  https://tvax4.sinaimg.cn/crop.0.0.996.996.1024...  1110789643   \n9444  https://tvax3.sinaimg.cn/crop.0.0.996.996.1024...  6544520654   \n9445  https://tvax2.sinaimg.cn/crop.0.0.267.267.1024...  7272353728   \n9446  https://tvax3.sinaimg.cn/crop.0.0.828.828.1024...  5183558728   \n\n                  博主                                               博主主页  \\\n0       AMONSTERCOKE  https://weibo.com/2605080173?profile_ftype=1&i...   \n3             y进口可爱y  https://weibo.com/5314858996?profile_ftype=1&i...   \n6     killthepastone  https://weibo.com/5256956654?profile_ftype=1&i...   \n7     killthepastone  https://weibo.com/5256956654?profile_ftype=1&i...   \n9              你是甜菜心  https://weibo.com/2712808220?profile_ftype=1&i...   \n...              ...                                                ...   \n9442            吃货黄旭  https://weibo.com/1909064371?profile_ftype=1&i...   \n9443         熘肉段加锅包肉  https://weibo.com/1110789643?profile_ftype=1&i...   \n9444            陈华清x  https://weibo.com/6544520654?profile_ftype=1&i...   \n9445             徐胖埋  https://weibo.com/7272353728?profile_ftype=1&i...   \n9446           浅夏6月天  https://weibo.com/5183558728?profile_ftype=1&i...   \n\n                                                   评论内容              发布时间 点赞数  \\\n0                                             @小刘小刘正在吹牛        43分钟前 来自安徽   赞   \n3     //@一粒沙白的:很多年前我记得我写过一段文字。 大意是： 他们市侩又真实，他们温暖又热忱。...     今天 16:35 来自上海   赞   \n6             码，一会看//@Red-xxyyzz:天，他还那么年轻就这么有智慧……前途不可限量     今天 10:14 来自广东   赞   \n7             码，一会看//@Red-xxyyzz:天，他还那么年轻就这么有智慧……前途不可限量     今天 10:14 来自广东   赞   \n9     //@此域名已失效:引用我们群里有人说的话“因为很久没有看到过有人公开谈文学谈理想谈一朵花一...     今天 09:45 来自广东   赞   \n...                                                 ...               ...  ..   \n9442                                         销售本质是把故事讲好  6月17日 06:53 来自广东   赞   \n9443                                 一颗颗玉米粒，数的是我童年的日月光阴  6月16日 13:51 来自吉林   赞   \n9444                                          他卖玉米，我买情怀  6月16日 13:07 来自广东   赞   \n9445                                     我的天呐这真是语文英语都教了  6月16日 13:33 来自上海   赞   \n9446                                               文化魅力  6月17日 14:16 来自天津   赞   \n\n      回复数                                         <realpath>  \\\n0     NaN  https://weibo.com/6023189492/LxQ9B5sWa?refer_f...   \n3     NaN  https://weibo.com/6023189492/LxQ9B5sWa?refer_f...   \n6     NaN  https://weibo.com/6023189492/LxQ9B5sWa?refer_f...   \n7     NaN  https://weibo.com/6023189492/LxQ9B5sWa?refer_f...   \n9     NaN  https://weibo.com/6023189492/LxQ9B5sWa?refer_f...   \n...   ...                                                ...   \n9442  NaN  https://weibo.com/1800611161/LxXjr68XA?refer_f...   \n9443  NaN  https://weibo.com/6094546014/LxXaSmGQ4?refer_f...   \n9444  NaN  https://weibo.com/6094546014/LxXaSmGQ4?refer_f...   \n9445  NaN  https://weibo.com/6094546014/LxXaSmGQ4?refer_f...   \n9446  NaN  https://weibo.com/6101001140/LxFSvrVzp?refer_f...   \n\n                                             <fullpath>  \\\n0     https://weibo.com/6023189492/LxQ9B5sWa?refer_f...   \n3     https://weibo.com/6023189492/LxQ9B5sWa?refer_f...   \n6     https://weibo.com/6023189492/LxQ9B5sWa?refer_f...   \n7     https://weibo.com/6023189492/LxQ9B5sWa?refer_f...   \n9     https://weibo.com/6023189492/LxQ9B5sWa?refer_f...   \n...                                                 ...   \n9442  https://weibo.com/1800611161/LxXjr68XA?refer_f...   \n9443  https://weibo.com/6094546014/LxXaSmGQ4?refer_f...   \n9444  https://weibo.com/6094546014/LxXaSmGQ4?refer_f...   \n9445  https://weibo.com/6094546014/LxXaSmGQ4?refer_f...   \n9446  https://weibo.com/6101001140/LxFSvrVzp?refer_f...   \n\n               <createdate>                                              split  \n0     2022-06-16 17:44:30.0                                                     \n3     2022-06-16 17:44:37.0    很多年前我记得我写过一段文字。 大意是： 他们市侩又真实，他们温暖又热忱。 因为生活，所以生动  \n6     2022-06-16 17:44:58.0                                              码，一会看  \n7     2022-06-16 17:44:58.0                             天，他还那么年轻就这么有智慧……前途不可限量  \n9     2022-06-16 17:44:58.0  引用我们群里有人说的话“因为很久没有看到过有人公开谈文学谈理想谈一朵花一片云给我带来的快乐，...  \n...                     ...                                                ...  \n9442  2022-06-18 10:14:19.0                                         销售本质是把故事讲好  \n9443  2022-06-18 10:14:33.0                                 一颗颗玉米粒，数的是我童年的日月光阴  \n9444  2022-06-18 10:14:33.0                                          他卖玉米，我买情怀  \n9445  2022-06-18 10:14:33.0                                     我的天呐这真是语文英语都教了  \n9446  2022-06-18 10:23:06.0                                               文化魅力  \n\n[7862 rows x 12 columns]",
      "text/html": "<div>\n<style scoped>\n    .dataframe tbody tr th:only-of-type {\n        vertical-align: middle;\n    }\n\n    .dataframe tbody tr th {\n        vertical-align: top;\n    }\n\n    .dataframe thead th {\n        text-align: right;\n    }\n</style>\n<table border=\"1\" class=\"dataframe\">\n  <thead>\n    <tr style=\"text-align: right;\">\n      <th></th>\n      <th>博主头像</th>\n      <th>博主id</th>\n      <th>博主</th>\n      <th>博主主页</th>\n      <th>评论内容</th>\n      <th>发布时间</th>\n      <th>点赞数</th>\n      <th>回复数</th>\n      <th>&lt;realpath&gt;</th>\n      <th>&lt;fullpath&gt;</th>\n      <th>&lt;createdate&gt;</th>\n      <th>split</th>\n    </tr>\n  </thead>\n  <tbody>\n    <tr>\n      <th>0</th>\n      <td>https://tvax1.sinaimg.cn/crop.0.0.512.512.1024...</td>\n      <td>2605080173</td>\n      <td>AMONSTERCOKE</td>\n      <td>https://weibo.com/2605080173?profile_ftype=1&amp;i...</td>\n      <td>@小刘小刘正在吹牛</td>\n      <td>43分钟前 来自安徽</td>\n      <td>赞</td>\n      <td>NaN</td>\n      <td>https://weibo.com/6023189492/LxQ9B5sWa?refer_f...</td>\n      <td>https://weibo.com/6023189492/LxQ9B5sWa?refer_f...</td>\n      <td>2022-06-16 17:44:30.0</td>\n      <td></td>\n    </tr>\n    <tr>\n      <th>3</th>\n      <td>https://tvax1.sinaimg.cn/crop.0.0.1080.1080.10...</td>\n      <td>5314858996</td>\n      <td>y进口可爱y</td>\n      <td>https://weibo.com/5314858996?profile_ftype=1&amp;i...</td>\n      <td>//@一粒沙白的:很多年前我记得我写过一段文字。 大意是： 他们市侩又真实，他们温暖又热忱。...</td>\n      <td>今天 16:35 来自上海</td>\n      <td>赞</td>\n      <td>NaN</td>\n      <td>https://weibo.com/6023189492/LxQ9B5sWa?refer_f...</td>\n      <td>https://weibo.com/6023189492/LxQ9B5sWa?refer_f...</td>\n      <td>2022-06-16 17:44:37.0</td>\n      <td>很多年前我记得我写过一段文字。 大意是： 他们市侩又真实，他们温暖又热忱。 因为生活，所以生动</td>\n    </tr>\n    <tr>\n      <th>6</th>\n      <td>https://tvax3.sinaimg.cn/crop.0.0.996.996.1024...</td>\n      <td>5256956654</td>\n      <td>killthepastone</td>\n      <td>https://weibo.com/5256956654?profile_ftype=1&amp;i...</td>\n      <td>码，一会看//@Red-xxyyzz:天，他还那么年轻就这么有智慧……前途不可限量</td>\n      <td>今天 10:14 来自广东</td>\n      <td>赞</td>\n      <td>NaN</td>\n      <td>https://weibo.com/6023189492/LxQ9B5sWa?refer_f...</td>\n      <td>https://weibo.com/6023189492/LxQ9B5sWa?refer_f...</td>\n      <td>2022-06-16 17:44:58.0</td>\n      <td>码，一会看</td>\n    </tr>\n    <tr>\n      <th>7</th>\n      <td>https://tvax3.sinaimg.cn/crop.0.0.996.996.1024...</td>\n      <td>5256956654</td>\n      <td>killthepastone</td>\n      <td>https://weibo.com/5256956654?profile_ftype=1&amp;i...</td>\n      <td>码，一会看//@Red-xxyyzz:天，他还那么年轻就这么有智慧……前途不可限量</td>\n      <td>今天 10:14 来自广东</td>\n      <td>赞</td>\n      <td>NaN</td>\n      <td>https://weibo.com/6023189492/LxQ9B5sWa?refer_f...</td>\n      <td>https://weibo.com/6023189492/LxQ9B5sWa?refer_f...</td>\n      <td>2022-06-16 17:44:58.0</td>\n      <td>天，他还那么年轻就这么有智慧……前途不可限量</td>\n    </tr>\n    <tr>\n      <th>9</th>\n      <td>https://tvax4.sinaimg.cn/crop.0.0.512.512.1024...</td>\n      <td>2712808220</td>\n      <td>你是甜菜心</td>\n      <td>https://weibo.com/2712808220?profile_ftype=1&amp;i...</td>\n      <td>//@此域名已失效:引用我们群里有人说的话“因为很久没有看到过有人公开谈文学谈理想谈一朵花一...</td>\n      <td>今天 09:45 来自广东</td>\n      <td>赞</td>\n      <td>NaN</td>\n      <td>https://weibo.com/6023189492/LxQ9B5sWa?refer_f...</td>\n      <td>https://weibo.com/6023189492/LxQ9B5sWa?refer_f...</td>\n      <td>2022-06-16 17:44:58.0</td>\n      <td>引用我们群里有人说的话“因为很久没有看到过有人公开谈文学谈理想谈一朵花一片云给我带来的快乐，...</td>\n    </tr>\n    <tr>\n      <th>...</th>\n      <td>...</td>\n      <td>...</td>\n      <td>...</td>\n      <td>...</td>\n      <td>...</td>\n      <td>...</td>\n      <td>...</td>\n      <td>...</td>\n      <td>...</td>\n      <td>...</td>\n      <td>...</td>\n      <td>...</td>\n    </tr>\n    <tr>\n      <th>9442</th>\n      <td>https://tva3.sinaimg.cn/crop.218.130.345.345.1...</td>\n      <td>1909064371</td>\n      <td>吃货黄旭</td>\n      <td>https://weibo.com/1909064371?profile_ftype=1&amp;i...</td>\n      <td>销售本质是把故事讲好</td>\n      <td>6月17日 06:53 来自广东</td>\n      <td>赞</td>\n      <td>NaN</td>\n      <td>https://weibo.com/1800611161/LxXjr68XA?refer_f...</td>\n      <td>https://weibo.com/1800611161/LxXjr68XA?refer_f...</td>\n      <td>2022-06-18 10:14:19.0</td>\n      <td>销售本质是把故事讲好</td>\n    </tr>\n    <tr>\n      <th>9443</th>\n      <td>https://tvax4.sinaimg.cn/crop.0.0.996.996.1024...</td>\n      <td>1110789643</td>\n      <td>熘肉段加锅包肉</td>\n      <td>https://weibo.com/1110789643?profile_ftype=1&amp;i...</td>\n      <td>一颗颗玉米粒，数的是我童年的日月光阴</td>\n      <td>6月16日 13:51 来自吉林</td>\n      <td>赞</td>\n      <td>NaN</td>\n      <td>https://weibo.com/6094546014/LxXaSmGQ4?refer_f...</td>\n      <td>https://weibo.com/6094546014/LxXaSmGQ4?refer_f...</td>\n      <td>2022-06-18 10:14:33.0</td>\n      <td>一颗颗玉米粒，数的是我童年的日月光阴</td>\n    </tr>\n    <tr>\n      <th>9444</th>\n      <td>https://tvax3.sinaimg.cn/crop.0.0.996.996.1024...</td>\n      <td>6544520654</td>\n      <td>陈华清x</td>\n      <td>https://weibo.com/6544520654?profile_ftype=1&amp;i...</td>\n      <td>他卖玉米，我买情怀</td>\n      <td>6月16日 13:07 来自广东</td>\n      <td>赞</td>\n      <td>NaN</td>\n      <td>https://weibo.com/6094546014/LxXaSmGQ4?refer_f...</td>\n      <td>https://weibo.com/6094546014/LxXaSmGQ4?refer_f...</td>\n      <td>2022-06-18 10:14:33.0</td>\n      <td>他卖玉米，我买情怀</td>\n    </tr>\n    <tr>\n      <th>9445</th>\n      <td>https://tvax2.sinaimg.cn/crop.0.0.267.267.1024...</td>\n      <td>7272353728</td>\n      <td>徐胖埋</td>\n      <td>https://weibo.com/7272353728?profile_ftype=1&amp;i...</td>\n      <td>我的天呐这真是语文英语都教了</td>\n      <td>6月16日 13:33 来自上海</td>\n      <td>赞</td>\n      <td>NaN</td>\n      <td>https://weibo.com/6094546014/LxXaSmGQ4?refer_f...</td>\n      <td>https://weibo.com/6094546014/LxXaSmGQ4?refer_f...</td>\n      <td>2022-06-18 10:14:33.0</td>\n      <td>我的天呐这真是语文英语都教了</td>\n    </tr>\n    <tr>\n      <th>9446</th>\n      <td>https://tvax3.sinaimg.cn/crop.0.0.828.828.1024...</td>\n      <td>5183558728</td>\n      <td>浅夏6月天</td>\n      <td>https://weibo.com/5183558728?profile_ftype=1&amp;i...</td>\n      <td>文化魅力</td>\n      <td>6月17日 14:16 来自天津</td>\n      <td>赞</td>\n      <td>NaN</td>\n      <td>https://weibo.com/6101001140/LxFSvrVzp?refer_f...</td>\n      <td>https://weibo.com/6101001140/LxFSvrVzp?refer_f...</td>\n      <td>2022-06-18 10:23:06.0</td>\n      <td>文化魅力</td>\n    </tr>\n  </tbody>\n</table>\n<p>7862 rows × 12 columns</p>\n</div>"
     },
     "execution_count": 441,
     "metadata": {},
     "output_type": "execute_result"
    }
   ],
   "source": [
    "comment.drop_duplicates(subset='split', inplace=True)\n",
    "comment"
   ],
   "metadata": {
    "collapsed": false,
    "pycharm": {
     "name": "#%%\n"
    }
   }
  },
  {
   "cell_type": "code",
   "execution_count": 442,
   "outputs": [
    {
     "data": {
      "text/plain": "                                                    博主头像        博主id  \\\n0      https://tva3.sinaimg.cn/crop.0.0.664.664.1024/...  3136807007   \n1      https://tva3.sinaimg.cn/crop.0.0.664.664.1024/...  3136807007   \n2      https://tvax2.sinaimg.cn/crop.0.0.1000.1000.10...  5639889665   \n3      https://tvax2.sinaimg.cn/crop.0.0.1000.1000.10...  5639889665   \n5      https://tvax1.sinaimg.cn/crop.0.0.996.996.1024...  1631487171   \n...                                                  ...         ...   \n12240  https://tvax3.sinaimg.cn/crop.0.0.500.500.1024...  7766999489   \n12241  https://tvax1.sinaimg.cn/crop.0.0.180.180.1024...  7766890780   \n12242  https://tvax2.sinaimg.cn/crop.0.0.180.180.1024...  7766107849   \n12243  https://tvax3.sinaimg.cn/crop.0.0.500.500.1024...  7767130786   \n12244  https://tvax4.sinaimg.cn/crop.0.0.180.180.1024...  7767239873   \n\n             博主                          博主主页  \\\n0      猪猪的私密小天地  https://weibo.com/3136807007   \n1      猪猪的私密小天地  https://weibo.com/3136807007   \n2      一颗快乐的糖橘子  https://weibo.com/5639889665   \n3      一颗快乐的糖橘子  https://weibo.com/5639889665   \n5       捡到现金请归还  https://weibo.com/1631487171   \n...         ...                           ...   \n12240       恨天墒  https://weibo.com/7766999489   \n12241     心如困兽磷  https://weibo.com/7766890780   \n12242     凉薄女子示  https://weibo.com/7766107849   \n12243      樱花崂叶  https://weibo.com/7767130786   \n12244       偎靠臀  https://weibo.com/7767239873   \n\n                                                    转发内容         发布时间  \\\n0      猪猪的私密小天地：确实，很讨厌聒噪或者在那儿轧戏的直播间//@根正苗红的贫农:董老师让人看到...     今天 12:34   \n1      猪猪的私密小天地：确实，很讨厌聒噪或者在那儿轧戏的直播间//@根正苗红的贫农:董老师让人看到...     今天 12:34   \n2                   一颗快乐的糖橘子：//@鱼massage:批评不自由则赞美无意义，说得好        26分钟前   \n3                   一颗快乐的糖橘子：//@鱼massage:批评不自由则赞美无意义，说得好        26分钟前   \n5           捡到现金请归还：//@Red-xxyyzz:天，他还那么年轻就这么有智慧……前途不可限量        46分钟前   \n...                                                  ...          ...   \n12240                                          恨天墒：赞，支持。  6月15日 23:36   \n12241                                  心如困兽磷：不错的哦，一定要赞一个  6月15日 23:36   \n12242                                凉薄女子示：给力的朋友们，果断些。。。  6月15日 23:35   \n12243                                   樱花崂叶：给你来个32个大赞哈。  6月15日 23:33   \n12244                                          偎靠臀：值得收藏！  6月15日 23:31   \n\n                                       博文独立网址 点赞数  转发数  \\\n0      https://weibo.com/3136807007/LxYf1vMMX   赞  NaN   \n1      https://weibo.com/3136807007/LxYf1vMMX   赞  NaN   \n2      https://weibo.com/5639889665/Ly064auPj   赞  NaN   \n3      https://weibo.com/5639889665/Ly064auPj   赞  NaN   \n5      https://weibo.com/1631487171/LxZYeAfYE   赞  NaN   \n...                                       ...  ..  ...   \n12240  https://weibo.com/7766999489/LxT9fmmmr   赞  NaN   \n12241  https://weibo.com/7766890780/LxT8VDSQx   赞  NaN   \n12242  https://weibo.com/7766107849/LxT8v4tV2   赞  NaN   \n12243  https://weibo.com/7767130786/LxT7RaX8u   赞  NaN   \n12244  https://weibo.com/7767239873/LxT7c4oz9   赞  NaN   \n\n                                              <realpath>  \\\n0      https://weibo.com/1700648435/LxXAflnK6?refer_f...   \n1      https://weibo.com/1700648435/LxXAflnK6?refer_f...   \n2      https://weibo.com/6023189492/LxQ9B5sWa?refer_f...   \n3      https://weibo.com/6023189492/LxQ9B5sWa?refer_f...   \n5      https://weibo.com/6023189492/LxQ9B5sWa?refer_f...   \n...                                                  ...   \n12240  https://weibo.com/3241038324/LxQZF7cx2?refer_f...   \n12241  https://weibo.com/3241038324/LxQZF7cx2?refer_f...   \n12242  https://weibo.com/3241038324/LxQZF7cx2?refer_f...   \n12243  https://weibo.com/3241038324/LxQZF7cx2?refer_f...   \n12244  https://weibo.com/3241038324/LxQZF7cx2?refer_f...   \n\n                                              <fullpath>  \\\n0      https://weibo.com/1700648435/LxXAflnK6?refer_f...   \n1      https://weibo.com/1700648435/LxXAflnK6?refer_f...   \n2      https://weibo.com/6023189492/LxQ9B5sWa?refer_f...   \n3      https://weibo.com/6023189492/LxQ9B5sWa?refer_f...   \n5      https://weibo.com/6023189492/LxQ9B5sWa?refer_f...   \n...                                                  ...   \n12240  https://weibo.com/3241038324/LxQZF7cx2?refer_f...   \n12241  https://weibo.com/3241038324/LxQZF7cx2?refer_f...   \n12242  https://weibo.com/3241038324/LxQZF7cx2?refer_f...   \n12243  https://weibo.com/3241038324/LxQZF7cx2?refer_f...   \n12244  https://weibo.com/3241038324/LxQZF7cx2?refer_f...   \n\n                <createdate>  \\\n0      2022-06-16 17:43:32.0   \n1      2022-06-16 17:43:32.0   \n2      2022-06-16 17:43:57.0   \n3      2022-06-16 17:43:57.0   \n5      2022-06-16 17:44:25.0   \n...                      ...   \n12240  2022-06-18 15:30:48.0   \n12241  2022-06-18 15:30:58.0   \n12242  2022-06-18 15:30:58.0   \n12243  2022-06-18 15:31:08.0   \n12244  2022-06-18 15:31:19.0   \n\n                                                   split  \n0                                    确实，很讨厌聒噪或者在那儿轧戏的直播间  \n1      董老师让人看到了直播该有的样子，比起那些聒噪的直播间和给老板打电话砍价的戏精主播，董老师的涵...  \n2                                                         \n3                                        批评不自由则赞美无意义，说得好  \n5                                 天，他还那么年轻就这么有智慧……前途不可限量  \n...                                                  ...  \n12240                                              赞，支持。  \n12241                                        不错的哦，一定要赞一个  \n12242                                      给力的朋友们，果断些。。。  \n12243                                        给你来个32个大赞哈。  \n12244                                              值得收藏！  \n\n[3558 rows x 13 columns]",
      "text/html": "<div>\n<style scoped>\n    .dataframe tbody tr th:only-of-type {\n        vertical-align: middle;\n    }\n\n    .dataframe tbody tr th {\n        vertical-align: top;\n    }\n\n    .dataframe thead th {\n        text-align: right;\n    }\n</style>\n<table border=\"1\" class=\"dataframe\">\n  <thead>\n    <tr style=\"text-align: right;\">\n      <th></th>\n      <th>博主头像</th>\n      <th>博主id</th>\n      <th>博主</th>\n      <th>博主主页</th>\n      <th>转发内容</th>\n      <th>发布时间</th>\n      <th>博文独立网址</th>\n      <th>点赞数</th>\n      <th>转发数</th>\n      <th>&lt;realpath&gt;</th>\n      <th>&lt;fullpath&gt;</th>\n      <th>&lt;createdate&gt;</th>\n      <th>split</th>\n    </tr>\n  </thead>\n  <tbody>\n    <tr>\n      <th>0</th>\n      <td>https://tva3.sinaimg.cn/crop.0.0.664.664.1024/...</td>\n      <td>3136807007</td>\n      <td>猪猪的私密小天地</td>\n      <td>https://weibo.com/3136807007</td>\n      <td>猪猪的私密小天地：确实，很讨厌聒噪或者在那儿轧戏的直播间//@根正苗红的贫农:董老师让人看到...</td>\n      <td>今天 12:34</td>\n      <td>https://weibo.com/3136807007/LxYf1vMMX</td>\n      <td>赞</td>\n      <td>NaN</td>\n      <td>https://weibo.com/1700648435/LxXAflnK6?refer_f...</td>\n      <td>https://weibo.com/1700648435/LxXAflnK6?refer_f...</td>\n      <td>2022-06-16 17:43:32.0</td>\n      <td>确实，很讨厌聒噪或者在那儿轧戏的直播间</td>\n    </tr>\n    <tr>\n      <th>1</th>\n      <td>https://tva3.sinaimg.cn/crop.0.0.664.664.1024/...</td>\n      <td>3136807007</td>\n      <td>猪猪的私密小天地</td>\n      <td>https://weibo.com/3136807007</td>\n      <td>猪猪的私密小天地：确实，很讨厌聒噪或者在那儿轧戏的直播间//@根正苗红的贫农:董老师让人看到...</td>\n      <td>今天 12:34</td>\n      <td>https://weibo.com/3136807007/LxYf1vMMX</td>\n      <td>赞</td>\n      <td>NaN</td>\n      <td>https://weibo.com/1700648435/LxXAflnK6?refer_f...</td>\n      <td>https://weibo.com/1700648435/LxXAflnK6?refer_f...</td>\n      <td>2022-06-16 17:43:32.0</td>\n      <td>董老师让人看到了直播该有的样子，比起那些聒噪的直播间和给老板打电话砍价的戏精主播，董老师的涵...</td>\n    </tr>\n    <tr>\n      <th>2</th>\n      <td>https://tvax2.sinaimg.cn/crop.0.0.1000.1000.10...</td>\n      <td>5639889665</td>\n      <td>一颗快乐的糖橘子</td>\n      <td>https://weibo.com/5639889665</td>\n      <td>一颗快乐的糖橘子：//@鱼massage:批评不自由则赞美无意义，说得好</td>\n      <td>26分钟前</td>\n      <td>https://weibo.com/5639889665/Ly064auPj</td>\n      <td>赞</td>\n      <td>NaN</td>\n      <td>https://weibo.com/6023189492/LxQ9B5sWa?refer_f...</td>\n      <td>https://weibo.com/6023189492/LxQ9B5sWa?refer_f...</td>\n      <td>2022-06-16 17:43:57.0</td>\n      <td></td>\n    </tr>\n    <tr>\n      <th>3</th>\n      <td>https://tvax2.sinaimg.cn/crop.0.0.1000.1000.10...</td>\n      <td>5639889665</td>\n      <td>一颗快乐的糖橘子</td>\n      <td>https://weibo.com/5639889665</td>\n      <td>一颗快乐的糖橘子：//@鱼massage:批评不自由则赞美无意义，说得好</td>\n      <td>26分钟前</td>\n      <td>https://weibo.com/5639889665/Ly064auPj</td>\n      <td>赞</td>\n      <td>NaN</td>\n      <td>https://weibo.com/6023189492/LxQ9B5sWa?refer_f...</td>\n      <td>https://weibo.com/6023189492/LxQ9B5sWa?refer_f...</td>\n      <td>2022-06-16 17:43:57.0</td>\n      <td>批评不自由则赞美无意义，说得好</td>\n    </tr>\n    <tr>\n      <th>5</th>\n      <td>https://tvax1.sinaimg.cn/crop.0.0.996.996.1024...</td>\n      <td>1631487171</td>\n      <td>捡到现金请归还</td>\n      <td>https://weibo.com/1631487171</td>\n      <td>捡到现金请归还：//@Red-xxyyzz:天，他还那么年轻就这么有智慧……前途不可限量</td>\n      <td>46分钟前</td>\n      <td>https://weibo.com/1631487171/LxZYeAfYE</td>\n      <td>赞</td>\n      <td>NaN</td>\n      <td>https://weibo.com/6023189492/LxQ9B5sWa?refer_f...</td>\n      <td>https://weibo.com/6023189492/LxQ9B5sWa?refer_f...</td>\n      <td>2022-06-16 17:44:25.0</td>\n      <td>天，他还那么年轻就这么有智慧……前途不可限量</td>\n    </tr>\n    <tr>\n      <th>...</th>\n      <td>...</td>\n      <td>...</td>\n      <td>...</td>\n      <td>...</td>\n      <td>...</td>\n      <td>...</td>\n      <td>...</td>\n      <td>...</td>\n      <td>...</td>\n      <td>...</td>\n      <td>...</td>\n      <td>...</td>\n      <td>...</td>\n    </tr>\n    <tr>\n      <th>12240</th>\n      <td>https://tvax3.sinaimg.cn/crop.0.0.500.500.1024...</td>\n      <td>7766999489</td>\n      <td>恨天墒</td>\n      <td>https://weibo.com/7766999489</td>\n      <td>恨天墒：赞，支持。</td>\n      <td>6月15日 23:36</td>\n      <td>https://weibo.com/7766999489/LxT9fmmmr</td>\n      <td>赞</td>\n      <td>NaN</td>\n      <td>https://weibo.com/3241038324/LxQZF7cx2?refer_f...</td>\n      <td>https://weibo.com/3241038324/LxQZF7cx2?refer_f...</td>\n      <td>2022-06-18 15:30:48.0</td>\n      <td>赞，支持。</td>\n    </tr>\n    <tr>\n      <th>12241</th>\n      <td>https://tvax1.sinaimg.cn/crop.0.0.180.180.1024...</td>\n      <td>7766890780</td>\n      <td>心如困兽磷</td>\n      <td>https://weibo.com/7766890780</td>\n      <td>心如困兽磷：不错的哦，一定要赞一个</td>\n      <td>6月15日 23:36</td>\n      <td>https://weibo.com/7766890780/LxT8VDSQx</td>\n      <td>赞</td>\n      <td>NaN</td>\n      <td>https://weibo.com/3241038324/LxQZF7cx2?refer_f...</td>\n      <td>https://weibo.com/3241038324/LxQZF7cx2?refer_f...</td>\n      <td>2022-06-18 15:30:58.0</td>\n      <td>不错的哦，一定要赞一个</td>\n    </tr>\n    <tr>\n      <th>12242</th>\n      <td>https://tvax2.sinaimg.cn/crop.0.0.180.180.1024...</td>\n      <td>7766107849</td>\n      <td>凉薄女子示</td>\n      <td>https://weibo.com/7766107849</td>\n      <td>凉薄女子示：给力的朋友们，果断些。。。</td>\n      <td>6月15日 23:35</td>\n      <td>https://weibo.com/7766107849/LxT8v4tV2</td>\n      <td>赞</td>\n      <td>NaN</td>\n      <td>https://weibo.com/3241038324/LxQZF7cx2?refer_f...</td>\n      <td>https://weibo.com/3241038324/LxQZF7cx2?refer_f...</td>\n      <td>2022-06-18 15:30:58.0</td>\n      <td>给力的朋友们，果断些。。。</td>\n    </tr>\n    <tr>\n      <th>12243</th>\n      <td>https://tvax3.sinaimg.cn/crop.0.0.500.500.1024...</td>\n      <td>7767130786</td>\n      <td>樱花崂叶</td>\n      <td>https://weibo.com/7767130786</td>\n      <td>樱花崂叶：给你来个32个大赞哈。</td>\n      <td>6月15日 23:33</td>\n      <td>https://weibo.com/7767130786/LxT7RaX8u</td>\n      <td>赞</td>\n      <td>NaN</td>\n      <td>https://weibo.com/3241038324/LxQZF7cx2?refer_f...</td>\n      <td>https://weibo.com/3241038324/LxQZF7cx2?refer_f...</td>\n      <td>2022-06-18 15:31:08.0</td>\n      <td>给你来个32个大赞哈。</td>\n    </tr>\n    <tr>\n      <th>12244</th>\n      <td>https://tvax4.sinaimg.cn/crop.0.0.180.180.1024...</td>\n      <td>7767239873</td>\n      <td>偎靠臀</td>\n      <td>https://weibo.com/7767239873</td>\n      <td>偎靠臀：值得收藏！</td>\n      <td>6月15日 23:31</td>\n      <td>https://weibo.com/7767239873/LxT7c4oz9</td>\n      <td>赞</td>\n      <td>NaN</td>\n      <td>https://weibo.com/3241038324/LxQZF7cx2?refer_f...</td>\n      <td>https://weibo.com/3241038324/LxQZF7cx2?refer_f...</td>\n      <td>2022-06-18 15:31:19.0</td>\n      <td>值得收藏！</td>\n    </tr>\n  </tbody>\n</table>\n<p>3558 rows × 13 columns</p>\n</div>"
     },
     "execution_count": 442,
     "metadata": {},
     "output_type": "execute_result"
    }
   ],
   "source": [
    "repost"
   ],
   "metadata": {
    "collapsed": false,
    "pycharm": {
     "name": "#%%\n"
    }
   }
  },
  {
   "cell_type": "code",
   "execution_count": 443,
   "outputs": [
    {
     "data": {
      "text/plain": "                  发布时间           <createdate>  \\\n0             今天 12:34  2022-06-16 17:43:32.0   \n1             今天 12:34  2022-06-16 17:43:32.0   \n2                26分钟前  2022-06-16 17:43:57.0   \n3                26分钟前  2022-06-16 17:43:57.0   \n5                46分钟前  2022-06-16 17:44:25.0   \n...                ...                    ...   \n9442  6月17日 06:53 来自广东  2022-06-18 10:14:19.0   \n9443  6月16日 13:51 来自吉林  2022-06-18 10:14:33.0   \n9444  6月16日 13:07 来自广东  2022-06-18 10:14:33.0   \n9445  6月16日 13:33 来自上海  2022-06-18 10:14:33.0   \n9446  6月17日 14:16 来自天津  2022-06-18 10:23:06.0   \n\n                                                  split  \n0                                   确实，很讨厌聒噪或者在那儿轧戏的直播间  \n1     董老师让人看到了直播该有的样子，比起那些聒噪的直播间和给老板打电话砍价的戏精主播，董老师的涵...  \n2                                                        \n3                                       批评不自由则赞美无意义，说得好  \n5                                天，他还那么年轻就这么有智慧……前途不可限量  \n...                                                 ...  \n9442                                         销售本质是把故事讲好  \n9443                                 一颗颗玉米粒，数的是我童年的日月光阴  \n9444                                          他卖玉米，我买情怀  \n9445                                     我的天呐这真是语文英语都教了  \n9446                                               文化魅力  \n\n[11420 rows x 3 columns]",
      "text/html": "<div>\n<style scoped>\n    .dataframe tbody tr th:only-of-type {\n        vertical-align: middle;\n    }\n\n    .dataframe tbody tr th {\n        vertical-align: top;\n    }\n\n    .dataframe thead th {\n        text-align: right;\n    }\n</style>\n<table border=\"1\" class=\"dataframe\">\n  <thead>\n    <tr style=\"text-align: right;\">\n      <th></th>\n      <th>发布时间</th>\n      <th>&lt;createdate&gt;</th>\n      <th>split</th>\n    </tr>\n  </thead>\n  <tbody>\n    <tr>\n      <th>0</th>\n      <td>今天 12:34</td>\n      <td>2022-06-16 17:43:32.0</td>\n      <td>确实，很讨厌聒噪或者在那儿轧戏的直播间</td>\n    </tr>\n    <tr>\n      <th>1</th>\n      <td>今天 12:34</td>\n      <td>2022-06-16 17:43:32.0</td>\n      <td>董老师让人看到了直播该有的样子，比起那些聒噪的直播间和给老板打电话砍价的戏精主播，董老师的涵...</td>\n    </tr>\n    <tr>\n      <th>2</th>\n      <td>26分钟前</td>\n      <td>2022-06-16 17:43:57.0</td>\n      <td></td>\n    </tr>\n    <tr>\n      <th>3</th>\n      <td>26分钟前</td>\n      <td>2022-06-16 17:43:57.0</td>\n      <td>批评不自由则赞美无意义，说得好</td>\n    </tr>\n    <tr>\n      <th>5</th>\n      <td>46分钟前</td>\n      <td>2022-06-16 17:44:25.0</td>\n      <td>天，他还那么年轻就这么有智慧……前途不可限量</td>\n    </tr>\n    <tr>\n      <th>...</th>\n      <td>...</td>\n      <td>...</td>\n      <td>...</td>\n    </tr>\n    <tr>\n      <th>9442</th>\n      <td>6月17日 06:53 来自广东</td>\n      <td>2022-06-18 10:14:19.0</td>\n      <td>销售本质是把故事讲好</td>\n    </tr>\n    <tr>\n      <th>9443</th>\n      <td>6月16日 13:51 来自吉林</td>\n      <td>2022-06-18 10:14:33.0</td>\n      <td>一颗颗玉米粒，数的是我童年的日月光阴</td>\n    </tr>\n    <tr>\n      <th>9444</th>\n      <td>6月16日 13:07 来自广东</td>\n      <td>2022-06-18 10:14:33.0</td>\n      <td>他卖玉米，我买情怀</td>\n    </tr>\n    <tr>\n      <th>9445</th>\n      <td>6月16日 13:33 来自上海</td>\n      <td>2022-06-18 10:14:33.0</td>\n      <td>我的天呐这真是语文英语都教了</td>\n    </tr>\n    <tr>\n      <th>9446</th>\n      <td>6月17日 14:16 来自天津</td>\n      <td>2022-06-18 10:23:06.0</td>\n      <td>文化魅力</td>\n    </tr>\n  </tbody>\n</table>\n<p>11420 rows × 3 columns</p>\n</div>"
     },
     "execution_count": 443,
     "metadata": {},
     "output_type": "execute_result"
    }
   ],
   "source": [
    "weibo_df = pd.concat([repost[['发布时间', '<createdate>', 'split']], comment[['发布时间', '<createdate>', 'split']]])\n",
    "weibo_df"
   ],
   "metadata": {
    "collapsed": false,
    "pycharm": {
     "name": "#%%\n"
    }
   }
  },
  {
   "cell_type": "code",
   "execution_count": 444,
   "outputs": [
    {
     "data": {
      "text/plain": "              发布时间           <createdate>  \\\n0         今天 12:34  2022-06-16 17:43:32.0   \n1         今天 12:34  2022-06-16 17:43:32.0   \n2            26分钟前  2022-06-16 17:43:57.0   \n3            26分钟前  2022-06-16 17:43:57.0   \n5            46分钟前  2022-06-16 17:44:25.0   \n...            ...                    ...   \n12240  6月15日 23:36  2022-06-18 15:30:48.0   \n12241  6月15日 23:36  2022-06-18 15:30:58.0   \n12242  6月15日 23:35  2022-06-18 15:30:58.0   \n12243  6月15日 23:33  2022-06-18 15:31:08.0   \n12244  6月15日 23:31  2022-06-18 15:31:19.0   \n\n                                                   split  \n0                                    确实，很讨厌聒噪或者在那儿轧戏的直播间  \n1      董老师让人看到了直播该有的样子，比起那些聒噪的直播间和给老板打电话砍价的戏精主播，董老师的涵...  \n2                                                         \n3                                        批评不自由则赞美无意义，说得好  \n5                                 天，他还那么年轻就这么有智慧……前途不可限量  \n...                                                  ...  \n12240                                              赞，支持。  \n12241                                        不错的哦，一定要赞一个  \n12242                                      给力的朋友们，果断些。。。  \n12243                                        给你来个32个大赞哈。  \n12244                                              值得收藏！  \n\n[3558 rows x 3 columns]",
      "text/html": "<div>\n<style scoped>\n    .dataframe tbody tr th:only-of-type {\n        vertical-align: middle;\n    }\n\n    .dataframe tbody tr th {\n        vertical-align: top;\n    }\n\n    .dataframe thead th {\n        text-align: right;\n    }\n</style>\n<table border=\"1\" class=\"dataframe\">\n  <thead>\n    <tr style=\"text-align: right;\">\n      <th></th>\n      <th>发布时间</th>\n      <th>&lt;createdate&gt;</th>\n      <th>split</th>\n    </tr>\n  </thead>\n  <tbody>\n    <tr>\n      <th>0</th>\n      <td>今天 12:34</td>\n      <td>2022-06-16 17:43:32.0</td>\n      <td>确实，很讨厌聒噪或者在那儿轧戏的直播间</td>\n    </tr>\n    <tr>\n      <th>1</th>\n      <td>今天 12:34</td>\n      <td>2022-06-16 17:43:32.0</td>\n      <td>董老师让人看到了直播该有的样子，比起那些聒噪的直播间和给老板打电话砍价的戏精主播，董老师的涵...</td>\n    </tr>\n    <tr>\n      <th>2</th>\n      <td>26分钟前</td>\n      <td>2022-06-16 17:43:57.0</td>\n      <td></td>\n    </tr>\n    <tr>\n      <th>3</th>\n      <td>26分钟前</td>\n      <td>2022-06-16 17:43:57.0</td>\n      <td>批评不自由则赞美无意义，说得好</td>\n    </tr>\n    <tr>\n      <th>5</th>\n      <td>46分钟前</td>\n      <td>2022-06-16 17:44:25.0</td>\n      <td>天，他还那么年轻就这么有智慧……前途不可限量</td>\n    </tr>\n    <tr>\n      <th>...</th>\n      <td>...</td>\n      <td>...</td>\n      <td>...</td>\n    </tr>\n    <tr>\n      <th>12240</th>\n      <td>6月15日 23:36</td>\n      <td>2022-06-18 15:30:48.0</td>\n      <td>赞，支持。</td>\n    </tr>\n    <tr>\n      <th>12241</th>\n      <td>6月15日 23:36</td>\n      <td>2022-06-18 15:30:58.0</td>\n      <td>不错的哦，一定要赞一个</td>\n    </tr>\n    <tr>\n      <th>12242</th>\n      <td>6月15日 23:35</td>\n      <td>2022-06-18 15:30:58.0</td>\n      <td>给力的朋友们，果断些。。。</td>\n    </tr>\n    <tr>\n      <th>12243</th>\n      <td>6月15日 23:33</td>\n      <td>2022-06-18 15:31:08.0</td>\n      <td>给你来个32个大赞哈。</td>\n    </tr>\n    <tr>\n      <th>12244</th>\n      <td>6月15日 23:31</td>\n      <td>2022-06-18 15:31:19.0</td>\n      <td>值得收藏！</td>\n    </tr>\n  </tbody>\n</table>\n<p>3558 rows × 3 columns</p>\n</div>"
     },
     "execution_count": 444,
     "metadata": {},
     "output_type": "execute_result"
    }
   ],
   "source": [
    "repost[['发布时间', '<createdate>', 'split']]"
   ],
   "metadata": {
    "collapsed": false,
    "pycharm": {
     "name": "#%%\n"
    }
   }
  },
  {
   "cell_type": "code",
   "execution_count": 445,
   "outputs": [],
   "source": [
    "repost.to_excel('data/repost.xlsx')\n",
    "comment.to_excel('data/comment.xlsx')"
   ],
   "metadata": {
    "collapsed": false,
    "pycharm": {
     "name": "#%%\n"
    }
   }
  },
  {
   "cell_type": "code",
   "execution_count": 446,
   "outputs": [
    {
     "name": "stderr",
     "output_type": "stream",
     "text": [
      "C:\\Users\\Zhouzw\\anaconda3\\envs\\d2l\\lib\\site-packages\\pandas\\core\\strings\\accessor.py:101: UserWarning: This pattern has match groups. To actually get the groups, use str.extract.\n",
      "  return func(self, *args, **kwargs)\n"
     ]
    },
    {
     "data": {
      "text/plain": "((448, 3), (5885, 3), (5087, 3))"
     },
     "execution_count": 446,
     "metadata": {},
     "output_type": "execute_result"
    }
   ],
   "source": [
    "weibo_minutes = weibo_df[weibo_df['发布时间'].str.contains(r'(\\d+)\\u5206\\u949f\\u524d|(\\d+)\\u79d2\\u524d')]\n",
    "weibo_today = weibo_df[weibo_df['发布时间'].str.contains(r'\\u4eca\\u5929\\s(\\d+:\\d+)')]\n",
    "weibo_date = weibo_df[weibo_df['发布时间'].str.contains(r'(\\d+)\\u6708(\\d+)\\u65e5\\s(\\d+:\\d+)')]\n",
    "weibo_minutes.shape, weibo_today.shape, weibo_date.shape"
   ],
   "metadata": {
    "collapsed": false,
    "pycharm": {
     "name": "#%%\n"
    }
   }
  },
  {
   "cell_type": "code",
   "execution_count": 447,
   "outputs": [
    {
     "data": {
      "text/plain": "            发布时间           <createdate>  \\\n2          26分钟前  2022-06-16 17:43:57.0   \n3          26分钟前  2022-06-16 17:43:57.0   \n5          46分钟前  2022-06-16 17:44:25.0   \n7          60分钟前  2022-06-16 17:44:57.0   \n336         4分钟前  2022-06-16 18:07:26.0   \n...          ...                    ...   \n5958  30分钟前 来自陕西  2022-06-16 19:47:36.0   \n5959  33分钟前 来自上海  2022-06-16 19:47:36.0   \n6003  18分钟前 来自安徽  2022-06-16 19:47:56.0   \n9438  18分钟前 来自四川  2022-06-18 10:07:35.0   \n9441  16分钟前 来自辽宁  2022-06-18 10:14:05.0   \n\n                                                split  \n2                                                      \n3                                     批评不自由则赞美无意义，说得好  \n5                              天，他还那么年轻就这么有智慧……前途不可限量  \n7                                          批评不自由赞美无意义  \n336                                    确实是这样，也就是求个有饭吃  \n...                                               ...  \n5958                                      读书读得少，本本都说好  \n5959                                              太拼了  \n6003                                       肚里有货才能侃侃而谈  \n9438                                怒买三袋大米然后发现自己没有电饭锅  \n9441  心情不好用花钱缓解只会更空虚 看一本好的书，跟一两个好友唠唠最近彼此的生活都很放松最简单的快乐  \n\n[448 rows x 3 columns]",
      "text/html": "<div>\n<style scoped>\n    .dataframe tbody tr th:only-of-type {\n        vertical-align: middle;\n    }\n\n    .dataframe tbody tr th {\n        vertical-align: top;\n    }\n\n    .dataframe thead th {\n        text-align: right;\n    }\n</style>\n<table border=\"1\" class=\"dataframe\">\n  <thead>\n    <tr style=\"text-align: right;\">\n      <th></th>\n      <th>发布时间</th>\n      <th>&lt;createdate&gt;</th>\n      <th>split</th>\n    </tr>\n  </thead>\n  <tbody>\n    <tr>\n      <th>2</th>\n      <td>26分钟前</td>\n      <td>2022-06-16 17:43:57.0</td>\n      <td></td>\n    </tr>\n    <tr>\n      <th>3</th>\n      <td>26分钟前</td>\n      <td>2022-06-16 17:43:57.0</td>\n      <td>批评不自由则赞美无意义，说得好</td>\n    </tr>\n    <tr>\n      <th>5</th>\n      <td>46分钟前</td>\n      <td>2022-06-16 17:44:25.0</td>\n      <td>天，他还那么年轻就这么有智慧……前途不可限量</td>\n    </tr>\n    <tr>\n      <th>7</th>\n      <td>60分钟前</td>\n      <td>2022-06-16 17:44:57.0</td>\n      <td>批评不自由赞美无意义</td>\n    </tr>\n    <tr>\n      <th>336</th>\n      <td>4分钟前</td>\n      <td>2022-06-16 18:07:26.0</td>\n      <td>确实是这样，也就是求个有饭吃</td>\n    </tr>\n    <tr>\n      <th>...</th>\n      <td>...</td>\n      <td>...</td>\n      <td>...</td>\n    </tr>\n    <tr>\n      <th>5958</th>\n      <td>30分钟前 来自陕西</td>\n      <td>2022-06-16 19:47:36.0</td>\n      <td>读书读得少，本本都说好</td>\n    </tr>\n    <tr>\n      <th>5959</th>\n      <td>33分钟前 来自上海</td>\n      <td>2022-06-16 19:47:36.0</td>\n      <td>太拼了</td>\n    </tr>\n    <tr>\n      <th>6003</th>\n      <td>18分钟前 来自安徽</td>\n      <td>2022-06-16 19:47:56.0</td>\n      <td>肚里有货才能侃侃而谈</td>\n    </tr>\n    <tr>\n      <th>9438</th>\n      <td>18分钟前 来自四川</td>\n      <td>2022-06-18 10:07:35.0</td>\n      <td>怒买三袋大米然后发现自己没有电饭锅</td>\n    </tr>\n    <tr>\n      <th>9441</th>\n      <td>16分钟前 来自辽宁</td>\n      <td>2022-06-18 10:14:05.0</td>\n      <td>心情不好用花钱缓解只会更空虚 看一本好的书，跟一两个好友唠唠最近彼此的生活都很放松最简单的快乐</td>\n    </tr>\n  </tbody>\n</table>\n<p>448 rows × 3 columns</p>\n</div>"
     },
     "execution_count": 447,
     "metadata": {},
     "output_type": "execute_result"
    }
   ],
   "source": [
    "weibo_minutes"
   ],
   "metadata": {
    "collapsed": false,
    "pycharm": {
     "name": "#%%\n"
    }
   }
  },
  {
   "cell_type": "code",
   "execution_count": 448,
   "outputs": [
    {
     "data": {
      "text/plain": "Empty DataFrame\nColumns: [发布时间, <createdate>, split]\nIndex: []",
      "text/html": "<div>\n<style scoped>\n    .dataframe tbody tr th:only-of-type {\n        vertical-align: middle;\n    }\n\n    .dataframe tbody tr th {\n        vertical-align: top;\n    }\n\n    .dataframe thead th {\n        text-align: right;\n    }\n</style>\n<table border=\"1\" class=\"dataframe\">\n  <thead>\n    <tr style=\"text-align: right;\">\n      <th></th>\n      <th>发布时间</th>\n      <th>&lt;createdate&gt;</th>\n      <th>split</th>\n    </tr>\n  </thead>\n  <tbody>\n  </tbody>\n</table>\n</div>"
     },
     "execution_count": 448,
     "metadata": {},
     "output_type": "execute_result"
    }
   ],
   "source": [
    "pieces = pd.concat([weibo_minutes, weibo_today, weibo_date])\n",
    "section = pd.concat([weibo_df, pieces]).drop_duplicates(subset='发布时间', keep=False)\n",
    "section"
   ],
   "metadata": {
    "collapsed": false,
    "pycharm": {
     "name": "#%%\n"
    }
   }
  },
  {
   "cell_type": "code",
   "execution_count": 449,
   "outputs": [
    {
     "name": "stderr",
     "output_type": "stream",
     "text": [
      "C:\\Users\\Zhouzw\\AppData\\Local\\Temp\\ipykernel_19156\\1199499384.py:1: SettingWithCopyWarning: \n",
      "A value is trying to be set on a copy of a slice from a DataFrame.\n",
      "Try using .loc[row_indexer,col_indexer] = value instead\n",
      "\n",
      "See the caveats in the documentation: https://pandas.pydata.org/pandas-docs/stable/user_guide/indexing.html#returning-a-view-versus-a-copy\n",
      "  weibo_minutes['发布时间'] = weibo_minutes['发布时间'].str.extract(r'(\\d+)')\n"
     ]
    },
    {
     "data": {
      "text/plain": "     发布时间           <createdate>  \\\n2      26  2022-06-16 17:43:57.0   \n3      26  2022-06-16 17:43:57.0   \n5      46  2022-06-16 17:44:25.0   \n7      60  2022-06-16 17:44:57.0   \n336     4  2022-06-16 18:07:26.0   \n...   ...                    ...   \n5958   30  2022-06-16 19:47:36.0   \n5959   33  2022-06-16 19:47:36.0   \n6003   18  2022-06-16 19:47:56.0   \n9438   18  2022-06-18 10:07:35.0   \n9441   16  2022-06-18 10:14:05.0   \n\n                                                split  \n2                                                      \n3                                     批评不自由则赞美无意义，说得好  \n5                              天，他还那么年轻就这么有智慧……前途不可限量  \n7                                          批评不自由赞美无意义  \n336                                    确实是这样，也就是求个有饭吃  \n...                                               ...  \n5958                                      读书读得少，本本都说好  \n5959                                              太拼了  \n6003                                       肚里有货才能侃侃而谈  \n9438                                怒买三袋大米然后发现自己没有电饭锅  \n9441  心情不好用花钱缓解只会更空虚 看一本好的书，跟一两个好友唠唠最近彼此的生活都很放松最简单的快乐  \n\n[448 rows x 3 columns]",
      "text/html": "<div>\n<style scoped>\n    .dataframe tbody tr th:only-of-type {\n        vertical-align: middle;\n    }\n\n    .dataframe tbody tr th {\n        vertical-align: top;\n    }\n\n    .dataframe thead th {\n        text-align: right;\n    }\n</style>\n<table border=\"1\" class=\"dataframe\">\n  <thead>\n    <tr style=\"text-align: right;\">\n      <th></th>\n      <th>发布时间</th>\n      <th>&lt;createdate&gt;</th>\n      <th>split</th>\n    </tr>\n  </thead>\n  <tbody>\n    <tr>\n      <th>2</th>\n      <td>26</td>\n      <td>2022-06-16 17:43:57.0</td>\n      <td></td>\n    </tr>\n    <tr>\n      <th>3</th>\n      <td>26</td>\n      <td>2022-06-16 17:43:57.0</td>\n      <td>批评不自由则赞美无意义，说得好</td>\n    </tr>\n    <tr>\n      <th>5</th>\n      <td>46</td>\n      <td>2022-06-16 17:44:25.0</td>\n      <td>天，他还那么年轻就这么有智慧……前途不可限量</td>\n    </tr>\n    <tr>\n      <th>7</th>\n      <td>60</td>\n      <td>2022-06-16 17:44:57.0</td>\n      <td>批评不自由赞美无意义</td>\n    </tr>\n    <tr>\n      <th>336</th>\n      <td>4</td>\n      <td>2022-06-16 18:07:26.0</td>\n      <td>确实是这样，也就是求个有饭吃</td>\n    </tr>\n    <tr>\n      <th>...</th>\n      <td>...</td>\n      <td>...</td>\n      <td>...</td>\n    </tr>\n    <tr>\n      <th>5958</th>\n      <td>30</td>\n      <td>2022-06-16 19:47:36.0</td>\n      <td>读书读得少，本本都说好</td>\n    </tr>\n    <tr>\n      <th>5959</th>\n      <td>33</td>\n      <td>2022-06-16 19:47:36.0</td>\n      <td>太拼了</td>\n    </tr>\n    <tr>\n      <th>6003</th>\n      <td>18</td>\n      <td>2022-06-16 19:47:56.0</td>\n      <td>肚里有货才能侃侃而谈</td>\n    </tr>\n    <tr>\n      <th>9438</th>\n      <td>18</td>\n      <td>2022-06-18 10:07:35.0</td>\n      <td>怒买三袋大米然后发现自己没有电饭锅</td>\n    </tr>\n    <tr>\n      <th>9441</th>\n      <td>16</td>\n      <td>2022-06-18 10:14:05.0</td>\n      <td>心情不好用花钱缓解只会更空虚 看一本好的书，跟一两个好友唠唠最近彼此的生活都很放松最简单的快乐</td>\n    </tr>\n  </tbody>\n</table>\n<p>448 rows × 3 columns</p>\n</div>"
     },
     "execution_count": 449,
     "metadata": {},
     "output_type": "execute_result"
    }
   ],
   "source": [
    "weibo_minutes['发布时间'] = weibo_minutes['发布时间'].str.extract(r'(\\d+)')\n",
    "weibo_minutes"
   ],
   "metadata": {
    "collapsed": false,
    "pycharm": {
     "name": "#%%\n"
    }
   }
  },
  {
   "cell_type": "code",
   "execution_count": 450,
   "outputs": [
    {
     "name": "stderr",
     "output_type": "stream",
     "text": [
      "C:\\Users\\Zhouzw\\AppData\\Local\\Temp\\ipykernel_19156\\2744976607.py:1: SettingWithCopyWarning: \n",
      "A value is trying to be set on a copy of a slice from a DataFrame.\n",
      "Try using .loc[row_indexer,col_indexer] = value instead\n",
      "\n",
      "See the caveats in the documentation: https://pandas.pydata.org/pandas-docs/stable/user_guide/indexing.html#returning-a-view-versus-a-copy\n",
      "  weibo_minutes['发布时间'] = weibo_minutes['<createdate>'].apply(pd.Timestamp) - weibo_minutes['发布时间'].apply(\n"
     ]
    },
    {
     "data": {
      "text/plain": "                    发布时间           <createdate>  \\\n2    2022-06-16 17:17:57  2022-06-16 17:43:57.0   \n3    2022-06-16 17:17:57  2022-06-16 17:43:57.0   \n5    2022-06-16 16:58:25  2022-06-16 17:44:25.0   \n7    2022-06-16 16:44:57  2022-06-16 17:44:57.0   \n336  2022-06-16 18:03:26  2022-06-16 18:07:26.0   \n...                  ...                    ...   \n5958 2022-06-16 19:17:36  2022-06-16 19:47:36.0   \n5959 2022-06-16 19:14:36  2022-06-16 19:47:36.0   \n6003 2022-06-16 19:29:56  2022-06-16 19:47:56.0   \n9438 2022-06-18 09:49:35  2022-06-18 10:07:35.0   \n9441 2022-06-18 09:58:05  2022-06-18 10:14:05.0   \n\n                                                split  \n2                                                      \n3                                     批评不自由则赞美无意义，说得好  \n5                              天，他还那么年轻就这么有智慧……前途不可限量  \n7                                          批评不自由赞美无意义  \n336                                    确实是这样，也就是求个有饭吃  \n...                                               ...  \n5958                                      读书读得少，本本都说好  \n5959                                              太拼了  \n6003                                       肚里有货才能侃侃而谈  \n9438                                怒买三袋大米然后发现自己没有电饭锅  \n9441  心情不好用花钱缓解只会更空虚 看一本好的书，跟一两个好友唠唠最近彼此的生活都很放松最简单的快乐  \n\n[448 rows x 3 columns]",
      "text/html": "<div>\n<style scoped>\n    .dataframe tbody tr th:only-of-type {\n        vertical-align: middle;\n    }\n\n    .dataframe tbody tr th {\n        vertical-align: top;\n    }\n\n    .dataframe thead th {\n        text-align: right;\n    }\n</style>\n<table border=\"1\" class=\"dataframe\">\n  <thead>\n    <tr style=\"text-align: right;\">\n      <th></th>\n      <th>发布时间</th>\n      <th>&lt;createdate&gt;</th>\n      <th>split</th>\n    </tr>\n  </thead>\n  <tbody>\n    <tr>\n      <th>2</th>\n      <td>2022-06-16 17:17:57</td>\n      <td>2022-06-16 17:43:57.0</td>\n      <td></td>\n    </tr>\n    <tr>\n      <th>3</th>\n      <td>2022-06-16 17:17:57</td>\n      <td>2022-06-16 17:43:57.0</td>\n      <td>批评不自由则赞美无意义，说得好</td>\n    </tr>\n    <tr>\n      <th>5</th>\n      <td>2022-06-16 16:58:25</td>\n      <td>2022-06-16 17:44:25.0</td>\n      <td>天，他还那么年轻就这么有智慧……前途不可限量</td>\n    </tr>\n    <tr>\n      <th>7</th>\n      <td>2022-06-16 16:44:57</td>\n      <td>2022-06-16 17:44:57.0</td>\n      <td>批评不自由赞美无意义</td>\n    </tr>\n    <tr>\n      <th>336</th>\n      <td>2022-06-16 18:03:26</td>\n      <td>2022-06-16 18:07:26.0</td>\n      <td>确实是这样，也就是求个有饭吃</td>\n    </tr>\n    <tr>\n      <th>...</th>\n      <td>...</td>\n      <td>...</td>\n      <td>...</td>\n    </tr>\n    <tr>\n      <th>5958</th>\n      <td>2022-06-16 19:17:36</td>\n      <td>2022-06-16 19:47:36.0</td>\n      <td>读书读得少，本本都说好</td>\n    </tr>\n    <tr>\n      <th>5959</th>\n      <td>2022-06-16 19:14:36</td>\n      <td>2022-06-16 19:47:36.0</td>\n      <td>太拼了</td>\n    </tr>\n    <tr>\n      <th>6003</th>\n      <td>2022-06-16 19:29:56</td>\n      <td>2022-06-16 19:47:56.0</td>\n      <td>肚里有货才能侃侃而谈</td>\n    </tr>\n    <tr>\n      <th>9438</th>\n      <td>2022-06-18 09:49:35</td>\n      <td>2022-06-18 10:07:35.0</td>\n      <td>怒买三袋大米然后发现自己没有电饭锅</td>\n    </tr>\n    <tr>\n      <th>9441</th>\n      <td>2022-06-18 09:58:05</td>\n      <td>2022-06-18 10:14:05.0</td>\n      <td>心情不好用花钱缓解只会更空虚 看一本好的书，跟一两个好友唠唠最近彼此的生活都很放松最简单的快乐</td>\n    </tr>\n  </tbody>\n</table>\n<p>448 rows × 3 columns</p>\n</div>"
     },
     "execution_count": 450,
     "metadata": {},
     "output_type": "execute_result"
    }
   ],
   "source": [
    "weibo_minutes['发布时间'] = weibo_minutes['<createdate>'].apply(pd.Timestamp) - weibo_minutes['发布时间'].apply(\n",
    "    lambda x: pd.Timedelta(int(x), unit='minute'))\n",
    "weibo_minutes"
   ],
   "metadata": {
    "collapsed": false,
    "pycharm": {
     "name": "#%%\n"
    }
   }
  },
  {
   "cell_type": "code",
   "execution_count": 451,
   "outputs": [
    {
     "data": {
      "text/plain": "               发布时间           <createdate>  \\\n0          今天 12:34  2022-06-16 17:43:32.0   \n1          今天 12:34  2022-06-16 17:43:32.0   \n9          今天 16:38  2022-06-16 17:45:06.0   \n10         今天 16:38  2022-06-16 17:45:06.0   \n11         今天 16:38  2022-06-16 17:45:06.0   \n...             ...                    ...   \n8691  今天 13:50 来自广东  2022-06-16 20:42:23.0   \n8692  今天 01:08 来自云南  2022-06-16 20:42:23.0   \n8821  今天 12:48 来自广东  2022-06-16 20:44:30.0   \n8841  今天 12:19 来自广东  2022-06-16 20:45:15.0   \n8923  今天 15:44 来自湖南  2022-06-16 20:46:55.0   \n\n                                                  split  \n0                                   确实，很讨厌聒噪或者在那儿轧戏的直播间  \n1     董老师让人看到了直播该有的样子，比起那些聒噪的直播间和给老板打电话砍价的戏精主播，董老师的涵...  \n9                                                  采访不错  \n10                                    所以董老师大概什么时候会自立门户？  \n11                                                   ?   \n...                                                 ...  \n8691                                  天亮前最黑暗，但坚持下去，就看到光  \n8692                                         星光不负赶路人，加油  \n8821                                         一个有情怀的好老师?  \n8841                                                 坍缩  \n8923                                          董老师讲的也太好了  \n\n[5885 rows x 3 columns]",
      "text/html": "<div>\n<style scoped>\n    .dataframe tbody tr th:only-of-type {\n        vertical-align: middle;\n    }\n\n    .dataframe tbody tr th {\n        vertical-align: top;\n    }\n\n    .dataframe thead th {\n        text-align: right;\n    }\n</style>\n<table border=\"1\" class=\"dataframe\">\n  <thead>\n    <tr style=\"text-align: right;\">\n      <th></th>\n      <th>发布时间</th>\n      <th>&lt;createdate&gt;</th>\n      <th>split</th>\n    </tr>\n  </thead>\n  <tbody>\n    <tr>\n      <th>0</th>\n      <td>今天 12:34</td>\n      <td>2022-06-16 17:43:32.0</td>\n      <td>确实，很讨厌聒噪或者在那儿轧戏的直播间</td>\n    </tr>\n    <tr>\n      <th>1</th>\n      <td>今天 12:34</td>\n      <td>2022-06-16 17:43:32.0</td>\n      <td>董老师让人看到了直播该有的样子，比起那些聒噪的直播间和给老板打电话砍价的戏精主播，董老师的涵...</td>\n    </tr>\n    <tr>\n      <th>9</th>\n      <td>今天 16:38</td>\n      <td>2022-06-16 17:45:06.0</td>\n      <td>采访不错</td>\n    </tr>\n    <tr>\n      <th>10</th>\n      <td>今天 16:38</td>\n      <td>2022-06-16 17:45:06.0</td>\n      <td>所以董老师大概什么时候会自立门户？</td>\n    </tr>\n    <tr>\n      <th>11</th>\n      <td>今天 16:38</td>\n      <td>2022-06-16 17:45:06.0</td>\n      <td>?</td>\n    </tr>\n    <tr>\n      <th>...</th>\n      <td>...</td>\n      <td>...</td>\n      <td>...</td>\n    </tr>\n    <tr>\n      <th>8691</th>\n      <td>今天 13:50 来自广东</td>\n      <td>2022-06-16 20:42:23.0</td>\n      <td>天亮前最黑暗，但坚持下去，就看到光</td>\n    </tr>\n    <tr>\n      <th>8692</th>\n      <td>今天 01:08 来自云南</td>\n      <td>2022-06-16 20:42:23.0</td>\n      <td>星光不负赶路人，加油</td>\n    </tr>\n    <tr>\n      <th>8821</th>\n      <td>今天 12:48 来自广东</td>\n      <td>2022-06-16 20:44:30.0</td>\n      <td>一个有情怀的好老师?</td>\n    </tr>\n    <tr>\n      <th>8841</th>\n      <td>今天 12:19 来自广东</td>\n      <td>2022-06-16 20:45:15.0</td>\n      <td>坍缩</td>\n    </tr>\n    <tr>\n      <th>8923</th>\n      <td>今天 15:44 来自湖南</td>\n      <td>2022-06-16 20:46:55.0</td>\n      <td>董老师讲的也太好了</td>\n    </tr>\n  </tbody>\n</table>\n<p>5885 rows × 3 columns</p>\n</div>"
     },
     "execution_count": 451,
     "metadata": {},
     "output_type": "execute_result"
    }
   ],
   "source": [
    "weibo_today"
   ],
   "metadata": {
    "collapsed": false,
    "pycharm": {
     "name": "#%%\n"
    }
   }
  },
  {
   "cell_type": "code",
   "execution_count": 452,
   "outputs": [
    {
     "name": "stderr",
     "output_type": "stream",
     "text": [
      "C:\\Users\\Zhouzw\\AppData\\Local\\Temp\\ipykernel_19156\\562604677.py:1: SettingWithCopyWarning: \n",
      "A value is trying to be set on a copy of a slice from a DataFrame.\n",
      "Try using .loc[row_indexer,col_indexer] = value instead\n",
      "\n",
      "See the caveats in the documentation: https://pandas.pydata.org/pandas-docs/stable/user_guide/indexing.html#returning-a-view-versus-a-copy\n",
      "  weibo_today['发布时间'] = weibo_today['发布时间'].str.extract(r'\\u4eca\\u5929\\s(\\d+:\\d+)')\n"
     ]
    },
    {
     "data": {
      "text/plain": "0       12:34\n1       12:34\n9       16:38\n10      16:38\n11      16:38\n        ...  \n8691    13:50\n8692    01:08\n8821    12:48\n8841    12:19\n8923    15:44\nName: 发布时间, Length: 5885, dtype: object"
     },
     "execution_count": 452,
     "metadata": {},
     "output_type": "execute_result"
    }
   ],
   "source": [
    "weibo_today['发布时间'] = weibo_today['发布时间'].str.extract(r'\\u4eca\\u5929\\s(\\d+:\\d+)')\n",
    "weibo_today['发布时间']"
   ],
   "metadata": {
    "collapsed": false,
    "pycharm": {
     "name": "#%%\n"
    }
   }
  },
  {
   "cell_type": "code",
   "execution_count": 453,
   "outputs": [
    {
     "name": "stderr",
     "output_type": "stream",
     "text": [
      "C:\\Users\\Zhouzw\\AppData\\Local\\Temp\\ipykernel_19156\\3398498811.py:1: SettingWithCopyWarning: \n",
      "A value is trying to be set on a copy of a slice from a DataFrame.\n",
      "Try using .loc[row_indexer,col_indexer] = value instead\n",
      "\n",
      "See the caveats in the documentation: https://pandas.pydata.org/pandas-docs/stable/user_guide/indexing.html#returning-a-view-versus-a-copy\n",
      "  weibo_today['create_date'] = weibo_today['<createdate>'].str.extract(r'(\\d{4}-\\d{2}-\\d{2}\\s)')\n"
     ]
    },
    {
     "data": {
      "text/plain": "0       2022-06-16 \n1       2022-06-16 \n9       2022-06-16 \n10      2022-06-16 \n11      2022-06-16 \n           ...     \n8691    2022-06-16 \n8692    2022-06-16 \n8821    2022-06-16 \n8841    2022-06-16 \n8923    2022-06-16 \nName: create_date, Length: 5885, dtype: object"
     },
     "execution_count": 453,
     "metadata": {},
     "output_type": "execute_result"
    }
   ],
   "source": [
    "weibo_today['create_date'] = weibo_today['<createdate>'].str.extract(r'(\\d{4}-\\d{2}-\\d{2}\\s)')\n",
    "weibo_today['create_date']"
   ],
   "metadata": {
    "collapsed": false,
    "pycharm": {
     "name": "#%%\n"
    }
   }
  },
  {
   "cell_type": "code",
   "execution_count": 454,
   "outputs": [
    {
     "name": "stderr",
     "output_type": "stream",
     "text": [
      "C:\\Users\\Zhouzw\\AppData\\Local\\Temp\\ipykernel_19156\\1069901267.py:1: SettingWithCopyWarning: \n",
      "A value is trying to be set on a copy of a slice from a DataFrame.\n",
      "Try using .loc[row_indexer,col_indexer] = value instead\n",
      "\n",
      "See the caveats in the documentation: https://pandas.pydata.org/pandas-docs/stable/user_guide/indexing.html#returning-a-view-versus-a-copy\n",
      "  weibo_today['发布时间'] = weibo_today['create_date'].str.cat(weibo_today['发布时间'])\n"
     ]
    }
   ],
   "source": [
    "weibo_today['发布时间'] = weibo_today['create_date'].str.cat(weibo_today['发布时间'])"
   ],
   "metadata": {
    "collapsed": false,
    "pycharm": {
     "name": "#%%\n"
    }
   }
  },
  {
   "cell_type": "code",
   "execution_count": 455,
   "outputs": [
    {
     "data": {
      "text/plain": "0       2022-06-16 12:34\n1       2022-06-16 12:34\n9       2022-06-16 16:38\n10      2022-06-16 16:38\n11      2022-06-16 16:38\n              ...       \n8691    2022-06-16 13:50\n8692    2022-06-16 01:08\n8821    2022-06-16 12:48\n8841    2022-06-16 12:19\n8923    2022-06-16 15:44\nName: 发布时间, Length: 5885, dtype: object"
     },
     "execution_count": 455,
     "metadata": {},
     "output_type": "execute_result"
    }
   ],
   "source": [
    "weibo_today['发布时间']"
   ],
   "metadata": {
    "collapsed": false,
    "pycharm": {
     "name": "#%%\n"
    }
   }
  },
  {
   "cell_type": "code",
   "execution_count": 456,
   "outputs": [
    {
     "name": "stderr",
     "output_type": "stream",
     "text": [
      "C:\\Users\\Zhouzw\\anaconda3\\envs\\d2l\\lib\\site-packages\\pandas\\core\\frame.py:4305: SettingWithCopyWarning: \n",
      "A value is trying to be set on a copy of a slice from a DataFrame\n",
      "\n",
      "See the caveats in the documentation: https://pandas.pydata.org/pandas-docs/stable/user_guide/indexing.html#returning-a-view-versus-a-copy\n",
      "  return super().drop(\n"
     ]
    },
    {
     "data": {
      "text/plain": "                  发布时间           <createdate>  \\\n0     2022-06-16 12:34  2022-06-16 17:43:32.0   \n1     2022-06-16 12:34  2022-06-16 17:43:32.0   \n9     2022-06-16 16:38  2022-06-16 17:45:06.0   \n10    2022-06-16 16:38  2022-06-16 17:45:06.0   \n11    2022-06-16 16:38  2022-06-16 17:45:06.0   \n...                ...                    ...   \n8691  2022-06-16 13:50  2022-06-16 20:42:23.0   \n8692  2022-06-16 01:08  2022-06-16 20:42:23.0   \n8821  2022-06-16 12:48  2022-06-16 20:44:30.0   \n8841  2022-06-16 12:19  2022-06-16 20:45:15.0   \n8923  2022-06-16 15:44  2022-06-16 20:46:55.0   \n\n                                                  split  \n0                                   确实，很讨厌聒噪或者在那儿轧戏的直播间  \n1     董老师让人看到了直播该有的样子，比起那些聒噪的直播间和给老板打电话砍价的戏精主播，董老师的涵...  \n9                                                  采访不错  \n10                                    所以董老师大概什么时候会自立门户？  \n11                                                   ?   \n...                                                 ...  \n8691                                  天亮前最黑暗，但坚持下去，就看到光  \n8692                                         星光不负赶路人，加油  \n8821                                         一个有情怀的好老师?  \n8841                                                 坍缩  \n8923                                          董老师讲的也太好了  \n\n[5885 rows x 3 columns]",
      "text/html": "<div>\n<style scoped>\n    .dataframe tbody tr th:only-of-type {\n        vertical-align: middle;\n    }\n\n    .dataframe tbody tr th {\n        vertical-align: top;\n    }\n\n    .dataframe thead th {\n        text-align: right;\n    }\n</style>\n<table border=\"1\" class=\"dataframe\">\n  <thead>\n    <tr style=\"text-align: right;\">\n      <th></th>\n      <th>发布时间</th>\n      <th>&lt;createdate&gt;</th>\n      <th>split</th>\n    </tr>\n  </thead>\n  <tbody>\n    <tr>\n      <th>0</th>\n      <td>2022-06-16 12:34</td>\n      <td>2022-06-16 17:43:32.0</td>\n      <td>确实，很讨厌聒噪或者在那儿轧戏的直播间</td>\n    </tr>\n    <tr>\n      <th>1</th>\n      <td>2022-06-16 12:34</td>\n      <td>2022-06-16 17:43:32.0</td>\n      <td>董老师让人看到了直播该有的样子，比起那些聒噪的直播间和给老板打电话砍价的戏精主播，董老师的涵...</td>\n    </tr>\n    <tr>\n      <th>9</th>\n      <td>2022-06-16 16:38</td>\n      <td>2022-06-16 17:45:06.0</td>\n      <td>采访不错</td>\n    </tr>\n    <tr>\n      <th>10</th>\n      <td>2022-06-16 16:38</td>\n      <td>2022-06-16 17:45:06.0</td>\n      <td>所以董老师大概什么时候会自立门户？</td>\n    </tr>\n    <tr>\n      <th>11</th>\n      <td>2022-06-16 16:38</td>\n      <td>2022-06-16 17:45:06.0</td>\n      <td>?</td>\n    </tr>\n    <tr>\n      <th>...</th>\n      <td>...</td>\n      <td>...</td>\n      <td>...</td>\n    </tr>\n    <tr>\n      <th>8691</th>\n      <td>2022-06-16 13:50</td>\n      <td>2022-06-16 20:42:23.0</td>\n      <td>天亮前最黑暗，但坚持下去，就看到光</td>\n    </tr>\n    <tr>\n      <th>8692</th>\n      <td>2022-06-16 01:08</td>\n      <td>2022-06-16 20:42:23.0</td>\n      <td>星光不负赶路人，加油</td>\n    </tr>\n    <tr>\n      <th>8821</th>\n      <td>2022-06-16 12:48</td>\n      <td>2022-06-16 20:44:30.0</td>\n      <td>一个有情怀的好老师?</td>\n    </tr>\n    <tr>\n      <th>8841</th>\n      <td>2022-06-16 12:19</td>\n      <td>2022-06-16 20:45:15.0</td>\n      <td>坍缩</td>\n    </tr>\n    <tr>\n      <th>8923</th>\n      <td>2022-06-16 15:44</td>\n      <td>2022-06-16 20:46:55.0</td>\n      <td>董老师讲的也太好了</td>\n    </tr>\n  </tbody>\n</table>\n<p>5885 rows × 3 columns</p>\n</div>"
     },
     "execution_count": 456,
     "metadata": {},
     "output_type": "execute_result"
    }
   ],
   "source": [
    "weibo_today.drop(labels='create_date', axis=1, inplace=True)\n",
    "weibo_today"
   ],
   "metadata": {
    "collapsed": false,
    "pycharm": {
     "name": "#%%\n"
    }
   }
  },
  {
   "cell_type": "code",
   "execution_count": 457,
   "outputs": [
    {
     "data": {
      "text/plain": "                  发布时间           <createdate>  \\\n333        6月15日 23:54  2022-06-16 18:06:37.0   \n2046       6月15日 21:41  2022-06-16 18:57:37.0   \n2047       6月15日 11:45  2022-06-16 18:57:49.0   \n2048       6月15日 11:45  2022-06-16 18:57:49.0   \n2290       6月17日 23:43  2022-06-18 11:02:49.0   \n...                ...                    ...   \n9442  6月17日 06:53 来自广东  2022-06-18 10:14:19.0   \n9443  6月16日 13:51 来自吉林  2022-06-18 10:14:33.0   \n9444  6月16日 13:07 来自广东  2022-06-18 10:14:33.0   \n9445  6月16日 13:33 来自上海  2022-06-18 10:14:33.0   \n9446  6月17日 14:16 来自天津  2022-06-18 10:23:06.0   \n\n                                           split  \n333   听他说话也太舒服了叭 不愧是俞老的人  永远敬佩这些在沙漠里种出花的人  董小鱼冲鸭  \n2046                                售卖的是才华，货成了赠品  \n2047                   这么厉害的老师，没有讲台给他发挥，只能直播间卖货！  \n2048                            什么叫无数人却沉默了？什么意思？  \n2290                 难以进入or 构建真正的亲密关系，是非常不利于搞大件的  \n...                                          ...  \n9442                                  销售本质是把故事讲好  \n9443                          一颗颗玉米粒，数的是我童年的日月光阴  \n9444                                   他卖玉米，我买情怀  \n9445                              我的天呐这真是语文英语都教了  \n9446                                        文化魅力  \n\n[5087 rows x 3 columns]",
      "text/html": "<div>\n<style scoped>\n    .dataframe tbody tr th:only-of-type {\n        vertical-align: middle;\n    }\n\n    .dataframe tbody tr th {\n        vertical-align: top;\n    }\n\n    .dataframe thead th {\n        text-align: right;\n    }\n</style>\n<table border=\"1\" class=\"dataframe\">\n  <thead>\n    <tr style=\"text-align: right;\">\n      <th></th>\n      <th>发布时间</th>\n      <th>&lt;createdate&gt;</th>\n      <th>split</th>\n    </tr>\n  </thead>\n  <tbody>\n    <tr>\n      <th>333</th>\n      <td>6月15日 23:54</td>\n      <td>2022-06-16 18:06:37.0</td>\n      <td>听他说话也太舒服了叭 不愧是俞老的人  永远敬佩这些在沙漠里种出花的人  董小鱼冲鸭</td>\n    </tr>\n    <tr>\n      <th>2046</th>\n      <td>6月15日 21:41</td>\n      <td>2022-06-16 18:57:37.0</td>\n      <td>售卖的是才华，货成了赠品</td>\n    </tr>\n    <tr>\n      <th>2047</th>\n      <td>6月15日 11:45</td>\n      <td>2022-06-16 18:57:49.0</td>\n      <td>这么厉害的老师，没有讲台给他发挥，只能直播间卖货！</td>\n    </tr>\n    <tr>\n      <th>2048</th>\n      <td>6月15日 11:45</td>\n      <td>2022-06-16 18:57:49.0</td>\n      <td>什么叫无数人却沉默了？什么意思？</td>\n    </tr>\n    <tr>\n      <th>2290</th>\n      <td>6月17日 23:43</td>\n      <td>2022-06-18 11:02:49.0</td>\n      <td>难以进入or 构建真正的亲密关系，是非常不利于搞大件的</td>\n    </tr>\n    <tr>\n      <th>...</th>\n      <td>...</td>\n      <td>...</td>\n      <td>...</td>\n    </tr>\n    <tr>\n      <th>9442</th>\n      <td>6月17日 06:53 来自广东</td>\n      <td>2022-06-18 10:14:19.0</td>\n      <td>销售本质是把故事讲好</td>\n    </tr>\n    <tr>\n      <th>9443</th>\n      <td>6月16日 13:51 来自吉林</td>\n      <td>2022-06-18 10:14:33.0</td>\n      <td>一颗颗玉米粒，数的是我童年的日月光阴</td>\n    </tr>\n    <tr>\n      <th>9444</th>\n      <td>6月16日 13:07 来自广东</td>\n      <td>2022-06-18 10:14:33.0</td>\n      <td>他卖玉米，我买情怀</td>\n    </tr>\n    <tr>\n      <th>9445</th>\n      <td>6月16日 13:33 来自上海</td>\n      <td>2022-06-18 10:14:33.0</td>\n      <td>我的天呐这真是语文英语都教了</td>\n    </tr>\n    <tr>\n      <th>9446</th>\n      <td>6月17日 14:16 来自天津</td>\n      <td>2022-06-18 10:23:06.0</td>\n      <td>文化魅力</td>\n    </tr>\n  </tbody>\n</table>\n<p>5087 rows × 3 columns</p>\n</div>"
     },
     "execution_count": 457,
     "metadata": {},
     "output_type": "execute_result"
    }
   ],
   "source": [
    "weibo_date"
   ],
   "metadata": {
    "collapsed": false,
    "pycharm": {
     "name": "#%%\n"
    }
   }
  },
  {
   "cell_type": "code",
   "execution_count": 458,
   "outputs": [
    {
     "name": "stderr",
     "output_type": "stream",
     "text": [
      "C:\\Users\\Zhouzw\\AppData\\Local\\Temp\\ipykernel_19156\\2268726339.py:1: FutureWarning: The default value of regex will change from True to False in a future version.\n",
      "  weibo_date['发布时间'] = weibo_date['发布时间'].str.replace(r'\\u6708', '-')\n",
      "C:\\Users\\Zhouzw\\AppData\\Local\\Temp\\ipykernel_19156\\2268726339.py:1: SettingWithCopyWarning: \n",
      "A value is trying to be set on a copy of a slice from a DataFrame.\n",
      "Try using .loc[row_indexer,col_indexer] = value instead\n",
      "\n",
      "See the caveats in the documentation: https://pandas.pydata.org/pandas-docs/stable/user_guide/indexing.html#returning-a-view-versus-a-copy\n",
      "  weibo_date['发布时间'] = weibo_date['发布时间'].str.replace(r'\\u6708', '-')\n"
     ]
    },
    {
     "data": {
      "text/plain": "333          6-15日 23:54\n2046         6-15日 21:41\n2047         6-15日 11:45\n2048         6-15日 11:45\n2290         6-17日 23:43\n              ...       \n9442    6-17日 06:53 来自广东\n9443    6-16日 13:51 来自吉林\n9444    6-16日 13:07 来自广东\n9445    6-16日 13:33 来自上海\n9446    6-17日 14:16 来自天津\nName: 发布时间, Length: 5087, dtype: object"
     },
     "execution_count": 458,
     "metadata": {},
     "output_type": "execute_result"
    }
   ],
   "source": [
    "weibo_date['发布时间'] = weibo_date['发布时间'].str.replace(r'\\u6708', '-')\n",
    "weibo_date['发布时间']"
   ],
   "metadata": {
    "collapsed": false,
    "pycharm": {
     "name": "#%%\n"
    }
   }
  },
  {
   "cell_type": "code",
   "execution_count": 459,
   "outputs": [
    {
     "name": "stderr",
     "output_type": "stream",
     "text": [
      "C:\\Users\\Zhouzw\\AppData\\Local\\Temp\\ipykernel_19156\\1600628320.py:1: SettingWithCopyWarning: \n",
      "A value is trying to be set on a copy of a slice from a DataFrame.\n",
      "Try using .loc[row_indexer,col_indexer] = value instead\n",
      "\n",
      "See the caveats in the documentation: https://pandas.pydata.org/pandas-docs/stable/user_guide/indexing.html#returning-a-view-versus-a-copy\n",
      "  weibo_date['发布时间'] = weibo_date['发布时间'].str.replace(r'日', '')\n"
     ]
    },
    {
     "data": {
      "text/plain": "333          6-15 23:54\n2046         6-15 21:41\n2047         6-15 11:45\n2048         6-15 11:45\n2290         6-17 23:43\n             ...       \n9442    6-17 06:53 来自广东\n9443    6-16 13:51 来自吉林\n9444    6-16 13:07 来自广东\n9445    6-16 13:33 来自上海\n9446    6-17 14:16 来自天津\nName: 发布时间, Length: 5087, dtype: object"
     },
     "execution_count": 459,
     "metadata": {},
     "output_type": "execute_result"
    }
   ],
   "source": [
    "weibo_date['发布时间'] = weibo_date['发布时间'].str.replace(r'日', '')\n",
    "weibo_date['发布时间']"
   ],
   "metadata": {
    "collapsed": false,
    "pycharm": {
     "name": "#%%\n"
    }
   }
  },
  {
   "cell_type": "code",
   "execution_count": 467,
   "outputs": [
    {
     "name": "stderr",
     "output_type": "stream",
     "text": [
      "C:\\Users\\Zhouzw\\AppData\\Local\\Temp\\ipykernel_19156\\2216315986.py:1: SettingWithCopyWarning: \n",
      "A value is trying to be set on a copy of a slice from a DataFrame.\n",
      "Try using .loc[row_indexer,col_indexer] = value instead\n",
      "\n",
      "See the caveats in the documentation: https://pandas.pydata.org/pandas-docs/stable/user_guide/indexing.html#returning-a-view-versus-a-copy\n",
      "  weibo_date['发布时间'] = weibo_date['发布时间'].apply(lambda s: '2022-' + s)\n"
     ]
    },
    {
     "data": {
      "text/plain": "333          2022-6-15 23:54\n2046         2022-6-15 21:41\n2047         2022-6-15 11:45\n2048         2022-6-15 11:45\n2290         2022-6-17 23:43\n                ...         \n9442    2022-6-17 06:53 来自广东\n9443    2022-6-16 13:51 来自吉林\n9444    2022-6-16 13:07 来自广东\n9445    2022-6-16 13:33 来自上海\n9446    2022-6-17 14:16 来自天津\nName: 发布时间, Length: 5087, dtype: object"
     },
     "execution_count": 467,
     "metadata": {},
     "output_type": "execute_result"
    }
   ],
   "source": [
    "weibo_date['发布时间'] = weibo_date['发布时间'].apply(lambda s: '2022-' + s)\n",
    "weibo_date['发布时间']"
   ],
   "metadata": {
    "collapsed": false,
    "pycharm": {
     "name": "#%%\n"
    }
   }
  },
  {
   "cell_type": "code",
   "execution_count": 468,
   "outputs": [
    {
     "data": {
      "text/plain": "                      发布时间           <createdate>  \\\n333        2022-6-15 23:54  2022-06-16 18:06:37.0   \n2046       2022-6-15 21:41  2022-06-16 18:57:37.0   \n2047       2022-6-15 11:45  2022-06-16 18:57:49.0   \n2048       2022-6-15 11:45  2022-06-16 18:57:49.0   \n2290       2022-6-17 23:43  2022-06-18 11:02:49.0   \n...                    ...                    ...   \n9442  2022-6-17 06:53 来自广东  2022-06-18 10:14:19.0   \n9443  2022-6-16 13:51 来自吉林  2022-06-18 10:14:33.0   \n9444  2022-6-16 13:07 来自广东  2022-06-18 10:14:33.0   \n9445  2022-6-16 13:33 来自上海  2022-06-18 10:14:33.0   \n9446  2022-6-17 14:16 来自天津  2022-06-18 10:23:06.0   \n\n                                           split  \n333   听他说话也太舒服了叭 不愧是俞老的人  永远敬佩这些在沙漠里种出花的人  董小鱼冲鸭  \n2046                                售卖的是才华，货成了赠品  \n2047                   这么厉害的老师，没有讲台给他发挥，只能直播间卖货！  \n2048                            什么叫无数人却沉默了？什么意思？  \n2290                 难以进入or 构建真正的亲密关系，是非常不利于搞大件的  \n...                                          ...  \n9442                                  销售本质是把故事讲好  \n9443                          一颗颗玉米粒，数的是我童年的日月光阴  \n9444                                   他卖玉米，我买情怀  \n9445                              我的天呐这真是语文英语都教了  \n9446                                        文化魅力  \n\n[5087 rows x 3 columns]",
      "text/html": "<div>\n<style scoped>\n    .dataframe tbody tr th:only-of-type {\n        vertical-align: middle;\n    }\n\n    .dataframe tbody tr th {\n        vertical-align: top;\n    }\n\n    .dataframe thead th {\n        text-align: right;\n    }\n</style>\n<table border=\"1\" class=\"dataframe\">\n  <thead>\n    <tr style=\"text-align: right;\">\n      <th></th>\n      <th>发布时间</th>\n      <th>&lt;createdate&gt;</th>\n      <th>split</th>\n    </tr>\n  </thead>\n  <tbody>\n    <tr>\n      <th>333</th>\n      <td>2022-6-15 23:54</td>\n      <td>2022-06-16 18:06:37.0</td>\n      <td>听他说话也太舒服了叭 不愧是俞老的人  永远敬佩这些在沙漠里种出花的人  董小鱼冲鸭</td>\n    </tr>\n    <tr>\n      <th>2046</th>\n      <td>2022-6-15 21:41</td>\n      <td>2022-06-16 18:57:37.0</td>\n      <td>售卖的是才华，货成了赠品</td>\n    </tr>\n    <tr>\n      <th>2047</th>\n      <td>2022-6-15 11:45</td>\n      <td>2022-06-16 18:57:49.0</td>\n      <td>这么厉害的老师，没有讲台给他发挥，只能直播间卖货！</td>\n    </tr>\n    <tr>\n      <th>2048</th>\n      <td>2022-6-15 11:45</td>\n      <td>2022-06-16 18:57:49.0</td>\n      <td>什么叫无数人却沉默了？什么意思？</td>\n    </tr>\n    <tr>\n      <th>2290</th>\n      <td>2022-6-17 23:43</td>\n      <td>2022-06-18 11:02:49.0</td>\n      <td>难以进入or 构建真正的亲密关系，是非常不利于搞大件的</td>\n    </tr>\n    <tr>\n      <th>...</th>\n      <td>...</td>\n      <td>...</td>\n      <td>...</td>\n    </tr>\n    <tr>\n      <th>9442</th>\n      <td>2022-6-17 06:53 来自广东</td>\n      <td>2022-06-18 10:14:19.0</td>\n      <td>销售本质是把故事讲好</td>\n    </tr>\n    <tr>\n      <th>9443</th>\n      <td>2022-6-16 13:51 来自吉林</td>\n      <td>2022-06-18 10:14:33.0</td>\n      <td>一颗颗玉米粒，数的是我童年的日月光阴</td>\n    </tr>\n    <tr>\n      <th>9444</th>\n      <td>2022-6-16 13:07 来自广东</td>\n      <td>2022-06-18 10:14:33.0</td>\n      <td>他卖玉米，我买情怀</td>\n    </tr>\n    <tr>\n      <th>9445</th>\n      <td>2022-6-16 13:33 来自上海</td>\n      <td>2022-06-18 10:14:33.0</td>\n      <td>我的天呐这真是语文英语都教了</td>\n    </tr>\n    <tr>\n      <th>9446</th>\n      <td>2022-6-17 14:16 来自天津</td>\n      <td>2022-06-18 10:23:06.0</td>\n      <td>文化魅力</td>\n    </tr>\n  </tbody>\n</table>\n<p>5087 rows × 3 columns</p>\n</div>"
     },
     "execution_count": 468,
     "metadata": {},
     "output_type": "execute_result"
    }
   ],
   "source": [
    "weibo_date"
   ],
   "metadata": {
    "collapsed": false,
    "pycharm": {
     "name": "#%%\n"
    }
   }
  },
  {
   "cell_type": "code",
   "execution_count": 469,
   "outputs": [
    {
     "data": {
      "text/plain": "                      发布时间           <createdate>                   split\n2      2022-06-16 17:17:57  2022-06-16 17:43:57.0                        \n3      2022-06-16 17:17:57  2022-06-16 17:43:57.0         批评不自由则赞美无意义，说得好\n5      2022-06-16 16:58:25  2022-06-16 17:44:25.0  天，他还那么年轻就这么有智慧……前途不可限量\n7      2022-06-16 16:44:57  2022-06-16 17:44:57.0              批评不自由赞美无意义\n336    2022-06-16 18:03:26  2022-06-16 18:07:26.0          确实是这样，也就是求个有饭吃\n...                    ...                    ...                     ...\n9442  2022-6-17 06:53 来自广东  2022-06-18 10:14:19.0              销售本质是把故事讲好\n9443  2022-6-16 13:51 来自吉林  2022-06-18 10:14:33.0      一颗颗玉米粒，数的是我童年的日月光阴\n9444  2022-6-16 13:07 来自广东  2022-06-18 10:14:33.0               他卖玉米，我买情怀\n9445  2022-6-16 13:33 来自上海  2022-06-18 10:14:33.0          我的天呐这真是语文英语都教了\n9446  2022-6-17 14:16 来自天津  2022-06-18 10:23:06.0                    文化魅力\n\n[11420 rows x 3 columns]",
      "text/html": "<div>\n<style scoped>\n    .dataframe tbody tr th:only-of-type {\n        vertical-align: middle;\n    }\n\n    .dataframe tbody tr th {\n        vertical-align: top;\n    }\n\n    .dataframe thead th {\n        text-align: right;\n    }\n</style>\n<table border=\"1\" class=\"dataframe\">\n  <thead>\n    <tr style=\"text-align: right;\">\n      <th></th>\n      <th>发布时间</th>\n      <th>&lt;createdate&gt;</th>\n      <th>split</th>\n    </tr>\n  </thead>\n  <tbody>\n    <tr>\n      <th>2</th>\n      <td>2022-06-16 17:17:57</td>\n      <td>2022-06-16 17:43:57.0</td>\n      <td></td>\n    </tr>\n    <tr>\n      <th>3</th>\n      <td>2022-06-16 17:17:57</td>\n      <td>2022-06-16 17:43:57.0</td>\n      <td>批评不自由则赞美无意义，说得好</td>\n    </tr>\n    <tr>\n      <th>5</th>\n      <td>2022-06-16 16:58:25</td>\n      <td>2022-06-16 17:44:25.0</td>\n      <td>天，他还那么年轻就这么有智慧……前途不可限量</td>\n    </tr>\n    <tr>\n      <th>7</th>\n      <td>2022-06-16 16:44:57</td>\n      <td>2022-06-16 17:44:57.0</td>\n      <td>批评不自由赞美无意义</td>\n    </tr>\n    <tr>\n      <th>336</th>\n      <td>2022-06-16 18:03:26</td>\n      <td>2022-06-16 18:07:26.0</td>\n      <td>确实是这样，也就是求个有饭吃</td>\n    </tr>\n    <tr>\n      <th>...</th>\n      <td>...</td>\n      <td>...</td>\n      <td>...</td>\n    </tr>\n    <tr>\n      <th>9442</th>\n      <td>2022-6-17 06:53 来自广东</td>\n      <td>2022-06-18 10:14:19.0</td>\n      <td>销售本质是把故事讲好</td>\n    </tr>\n    <tr>\n      <th>9443</th>\n      <td>2022-6-16 13:51 来自吉林</td>\n      <td>2022-06-18 10:14:33.0</td>\n      <td>一颗颗玉米粒，数的是我童年的日月光阴</td>\n    </tr>\n    <tr>\n      <th>9444</th>\n      <td>2022-6-16 13:07 来自广东</td>\n      <td>2022-06-18 10:14:33.0</td>\n      <td>他卖玉米，我买情怀</td>\n    </tr>\n    <tr>\n      <th>9445</th>\n      <td>2022-6-16 13:33 来自上海</td>\n      <td>2022-06-18 10:14:33.0</td>\n      <td>我的天呐这真是语文英语都教了</td>\n    </tr>\n    <tr>\n      <th>9446</th>\n      <td>2022-6-17 14:16 来自天津</td>\n      <td>2022-06-18 10:23:06.0</td>\n      <td>文化魅力</td>\n    </tr>\n  </tbody>\n</table>\n<p>11420 rows × 3 columns</p>\n</div>"
     },
     "execution_count": 469,
     "metadata": {},
     "output_type": "execute_result"
    }
   ],
   "source": [
    "weibo_df = pd.concat([weibo_minutes, weibo_today, weibo_date])\n",
    "weibo_df"
   ],
   "metadata": {
    "collapsed": false,
    "pycharm": {
     "name": "#%%\n"
    }
   }
  },
  {
   "cell_type": "code",
   "execution_count": 470,
   "outputs": [
    {
     "data": {
      "text/plain": "                      发布时间           <createdate>                   split\n2      2022-06-16 17:17:57  2022-06-16 17:43:57.0                        \n3      2022-06-16 17:17:57  2022-06-16 17:43:57.0         批评不自由则赞美无意义，说得好\n5      2022-06-16 16:58:25  2022-06-16 17:44:25.0  天，他还那么年轻就这么有智慧……前途不可限量\n7      2022-06-16 16:44:57  2022-06-16 17:44:57.0              批评不自由赞美无意义\n336    2022-06-16 18:03:26  2022-06-16 18:07:26.0          确实是这样，也就是求个有饭吃\n...                    ...                    ...                     ...\n9437  2022-6-17 23:38 来自云南  2022-06-18 10:07:35.0                 直播行业卷起来\n9439  2022-6-17 23:38 来自云南  2022-06-18 10:07:35.0                   还是得读书\n9442  2022-6-17 06:53 来自广东  2022-06-18 10:14:19.0              销售本质是把故事讲好\n9444  2022-6-16 13:07 来自广东  2022-06-18 10:14:33.0               他卖玉米，我买情怀\n9446  2022-6-17 14:16 来自天津  2022-06-18 10:23:06.0                    文化魅力\n\n[10504 rows x 3 columns]",
      "text/html": "<div>\n<style scoped>\n    .dataframe tbody tr th:only-of-type {\n        vertical-align: middle;\n    }\n\n    .dataframe tbody tr th {\n        vertical-align: top;\n    }\n\n    .dataframe thead th {\n        text-align: right;\n    }\n</style>\n<table border=\"1\" class=\"dataframe\">\n  <thead>\n    <tr style=\"text-align: right;\">\n      <th></th>\n      <th>发布时间</th>\n      <th>&lt;createdate&gt;</th>\n      <th>split</th>\n    </tr>\n  </thead>\n  <tbody>\n    <tr>\n      <th>2</th>\n      <td>2022-06-16 17:17:57</td>\n      <td>2022-06-16 17:43:57.0</td>\n      <td></td>\n    </tr>\n    <tr>\n      <th>3</th>\n      <td>2022-06-16 17:17:57</td>\n      <td>2022-06-16 17:43:57.0</td>\n      <td>批评不自由则赞美无意义，说得好</td>\n    </tr>\n    <tr>\n      <th>5</th>\n      <td>2022-06-16 16:58:25</td>\n      <td>2022-06-16 17:44:25.0</td>\n      <td>天，他还那么年轻就这么有智慧……前途不可限量</td>\n    </tr>\n    <tr>\n      <th>7</th>\n      <td>2022-06-16 16:44:57</td>\n      <td>2022-06-16 17:44:57.0</td>\n      <td>批评不自由赞美无意义</td>\n    </tr>\n    <tr>\n      <th>336</th>\n      <td>2022-06-16 18:03:26</td>\n      <td>2022-06-16 18:07:26.0</td>\n      <td>确实是这样，也就是求个有饭吃</td>\n    </tr>\n    <tr>\n      <th>...</th>\n      <td>...</td>\n      <td>...</td>\n      <td>...</td>\n    </tr>\n    <tr>\n      <th>9437</th>\n      <td>2022-6-17 23:38 来自云南</td>\n      <td>2022-06-18 10:07:35.0</td>\n      <td>直播行业卷起来</td>\n    </tr>\n    <tr>\n      <th>9439</th>\n      <td>2022-6-17 23:38 来自云南</td>\n      <td>2022-06-18 10:07:35.0</td>\n      <td>还是得读书</td>\n    </tr>\n    <tr>\n      <th>9442</th>\n      <td>2022-6-17 06:53 来自广东</td>\n      <td>2022-06-18 10:14:19.0</td>\n      <td>销售本质是把故事讲好</td>\n    </tr>\n    <tr>\n      <th>9444</th>\n      <td>2022-6-16 13:07 来自广东</td>\n      <td>2022-06-18 10:14:33.0</td>\n      <td>他卖玉米，我买情怀</td>\n    </tr>\n    <tr>\n      <th>9446</th>\n      <td>2022-6-17 14:16 来自天津</td>\n      <td>2022-06-18 10:23:06.0</td>\n      <td>文化魅力</td>\n    </tr>\n  </tbody>\n</table>\n<p>10504 rows × 3 columns</p>\n</div>"
     },
     "execution_count": 470,
     "metadata": {},
     "output_type": "execute_result"
    }
   ],
   "source": [
    "weibo_df.drop_duplicates(subset='split', inplace=True)\n",
    "weibo_df"
   ],
   "metadata": {
    "collapsed": false,
    "pycharm": {
     "name": "#%%\n"
    }
   }
  },
  {
   "cell_type": "code",
   "execution_count": 471,
   "outputs": [
    {
     "data": {
      "text/plain": "                      发布时间                   split\n2      2022-06-16 17:17:57                        \n3      2022-06-16 17:17:57         批评不自由则赞美无意义，说得好\n5      2022-06-16 16:58:25  天，他还那么年轻就这么有智慧……前途不可限量\n7      2022-06-16 16:44:57              批评不自由赞美无意义\n336    2022-06-16 18:03:26          确实是这样，也就是求个有饭吃\n...                    ...                     ...\n9437  2022-6-17 23:38 来自云南                 直播行业卷起来\n9439  2022-6-17 23:38 来自云南                   还是得读书\n9442  2022-6-17 06:53 来自广东              销售本质是把故事讲好\n9444  2022-6-16 13:07 来自广东               他卖玉米，我买情怀\n9446  2022-6-17 14:16 来自天津                    文化魅力\n\n[10504 rows x 2 columns]",
      "text/html": "<div>\n<style scoped>\n    .dataframe tbody tr th:only-of-type {\n        vertical-align: middle;\n    }\n\n    .dataframe tbody tr th {\n        vertical-align: top;\n    }\n\n    .dataframe thead th {\n        text-align: right;\n    }\n</style>\n<table border=\"1\" class=\"dataframe\">\n  <thead>\n    <tr style=\"text-align: right;\">\n      <th></th>\n      <th>发布时间</th>\n      <th>split</th>\n    </tr>\n  </thead>\n  <tbody>\n    <tr>\n      <th>2</th>\n      <td>2022-06-16 17:17:57</td>\n      <td></td>\n    </tr>\n    <tr>\n      <th>3</th>\n      <td>2022-06-16 17:17:57</td>\n      <td>批评不自由则赞美无意义，说得好</td>\n    </tr>\n    <tr>\n      <th>5</th>\n      <td>2022-06-16 16:58:25</td>\n      <td>天，他还那么年轻就这么有智慧……前途不可限量</td>\n    </tr>\n    <tr>\n      <th>7</th>\n      <td>2022-06-16 16:44:57</td>\n      <td>批评不自由赞美无意义</td>\n    </tr>\n    <tr>\n      <th>336</th>\n      <td>2022-06-16 18:03:26</td>\n      <td>确实是这样，也就是求个有饭吃</td>\n    </tr>\n    <tr>\n      <th>...</th>\n      <td>...</td>\n      <td>...</td>\n    </tr>\n    <tr>\n      <th>9437</th>\n      <td>2022-6-17 23:38 来自云南</td>\n      <td>直播行业卷起来</td>\n    </tr>\n    <tr>\n      <th>9439</th>\n      <td>2022-6-17 23:38 来自云南</td>\n      <td>还是得读书</td>\n    </tr>\n    <tr>\n      <th>9442</th>\n      <td>2022-6-17 06:53 来自广东</td>\n      <td>销售本质是把故事讲好</td>\n    </tr>\n    <tr>\n      <th>9444</th>\n      <td>2022-6-16 13:07 来自广东</td>\n      <td>他卖玉米，我买情怀</td>\n    </tr>\n    <tr>\n      <th>9446</th>\n      <td>2022-6-17 14:16 来自天津</td>\n      <td>文化魅力</td>\n    </tr>\n  </tbody>\n</table>\n<p>10504 rows × 2 columns</p>\n</div>"
     },
     "execution_count": 471,
     "metadata": {},
     "output_type": "execute_result"
    }
   ],
   "source": [
    "weibo_df.drop(labels='<createdate>', axis=1, inplace=True)\n",
    "weibo_df"
   ],
   "metadata": {
    "collapsed": false,
    "pycharm": {
     "name": "#%%\n"
    }
   }
  },
  {
   "cell_type": "code",
   "execution_count": 473,
   "outputs": [],
   "source": [
    "weibo_df.to_excel('data/data_weibo.xlsx')"
   ],
   "metadata": {
    "collapsed": false,
    "pycharm": {
     "name": "#%%\n"
    }
   }
  }
 ],
 "metadata": {
  "kernelspec": {
   "display_name": "Python 3",
   "language": "python",
   "name": "python3"
  },
  "language_info": {
   "codemirror_mode": {
    "name": "ipython",
    "version": 2
   },
   "file_extension": ".py",
   "mimetype": "text/x-python",
   "name": "python",
   "nbconvert_exporter": "python",
   "pygments_lexer": "ipython2",
   "version": "2.7.6"
  }
 },
 "nbformat": 4,
 "nbformat_minor": 0
}