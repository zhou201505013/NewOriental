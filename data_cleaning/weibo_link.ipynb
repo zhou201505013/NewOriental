{
 "cells": [
  {
   "cell_type": "code",
   "execution_count": 1,
   "outputs": [],
   "source": [
    "# 提取评论链接\n",
    "import pandas as pd"
   ],
   "metadata": {
    "collapsed": false,
    "pycharm": {
     "name": "#%%\n"
    }
   }
  },
  {
   "cell_type": "code",
   "execution_count": 2,
   "outputs": [
    {
     "name": "stderr",
     "output_type": "stream",
     "text": [
      "C:\\Users\\Zhouzw\\anaconda3\\envs\\d2l\\lib\\site-packages\\openpyxl\\styles\\stylesheet.py:226: UserWarning: Workbook contains no default style, apply openpyxl's default\n",
      "  warn(\"Workbook contains no default style, apply openpyxl's default\")\n"
     ]
    },
    {
     "data": {
      "text/plain": "     关键字                               搜索条件  \\\n0  新东方直播  热门X2022-06-01 00时~2022-06-19 23时X   \n1  新东方直播  热门X2022-06-01 00时~2022-06-19 23时X   \n2  新东方直播  热门X2022-06-01 00时~2022-06-19 23时X   \n3  新东方直播  热门X2022-06-01 00时~2022-06-19 23时X   \n4  新东方直播  热门X2022-06-01 00时~2022-06-19 23时X   \n\n                                                博主头像        博主id      博主  \\\n0  https://tvax2.sinaimg.cn/crop.0.0.996.996.50/6...  1700040344      贼叉   \n1  https://tvax1.sinaimg.cn/crop.0.0.512.512.50/7...  1926909715  第一财经日报   \n2  https://tvax1.sinaimg.cn/crop.0.0.1080.1080.50...  5409671765   钟超聊财经   \n3  https://tvax4.sinaimg.cn/crop.0.0.512.512.50/6...  1726918143   中国青年报   \n4  https://tvax2.sinaimg.cn/crop.0.0.1080.1080.50...  1841558887      任韧   \n\n                                                博主主页  博主是否认证  \\\n0  https://weibo.com/1700040344?profile_ftype=1&i...  微博个人认证   \n1  https://weibo.com/1926909715?profile_ftype=1&i...  微博官方认证   \n2  https://weibo.com/5409671765?profile_ftype=1&i...  微博个人认证   \n3  https://weibo.com/1726918143?profile_ftype=1&i...  微博官方认证   \n4  https://weibo.com/1841558887?profile_ftype=1&i...  微博个人认证   \n\n                                                  博文  \\\n0                  新东方直播带货怎么就火了呢？！#微博公开课# L贼叉的微博视频 ​   \n1  【#新东方员工曾吐槽干活不如做PPT的#】#新东方年会员工改编歌曲吐槽工作# 近期，新东方在...   \n2  最近一年，新东方教育的市值从近400亿美元下跌至约40亿美元，市值蒸发近90%，属于俞敏洪个...   \n3  【#新东方直播间刷屏#：#好运究竟眷顾哪些人#？】新东方双语直播间火了！一个“半路出家”的直...   \n4  新东方直播带货，确实调性不一样。没那么油，甚至带点书生摆摊的生涩，但更显真诚，也更是真的有内...   \n\n                                              博文独立网址          发布时间  ... 转发_博文  \\\n0  https://weibo.com/1700040344/LybFEjvUK?refer_f...  06月17日 22:46  ...   NaN   \n1  https://weibo.com/1926909715/LybVUs7YW?refer_f...  06月17日 23:26  ...   NaN   \n2  https://weibo.com/5409671765/Ly6DoydTK?refer_f...  06月17日 09:56  ...   NaN   \n3  https://weibo.com/1726918143/LybaJaq78?refer_f...  06月17日 21:30  ...   NaN   \n4  https://weibo.com/1841558887/Lyi4CoFpl?refer_f...  06月18日 15:04  ...   NaN   \n\n   转发_博文独立网址  转发_发布时间  转发_发布终端  转发_转发数  转发_评论数  转发_点赞数  \\\n0        NaN      NaN      NaN     NaN     NaN     NaN   \n1        NaN      NaN      NaN     NaN     NaN     NaN   \n2        NaN      NaN      NaN     NaN     NaN     NaN   \n3        NaN      NaN      NaN     NaN     NaN     NaN   \n4        NaN      NaN      NaN     NaN     NaN     NaN   \n\n                                          <realpath>  \\\n0  https://s.weibo.com/weibo?q=%E6%96%B0%E4%B8%9C...   \n1  https://s.weibo.com/weibo?q=%E6%96%B0%E4%B8%9C...   \n2  https://s.weibo.com/weibo?q=%E6%96%B0%E4%B8%9C...   \n3  https://s.weibo.com/weibo?q=%E6%96%B0%E4%B8%9C...   \n4  https://s.weibo.com/weibo?q=%E6%96%B0%E4%B8%9C...   \n\n                                          <fullpath>           <createdate>  \n0  http://s.weibo.com/weibo?q=%E6%96%B0%E4%B8%9C%...  2022-06-19 09:43:15.0  \n1  http://s.weibo.com/weibo?q=%E6%96%B0%E4%B8%9C%...  2022-06-19 09:43:15.0  \n2  http://s.weibo.com/weibo?q=%E6%96%B0%E4%B8%9C%...  2022-06-19 09:43:15.0  \n3  http://s.weibo.com/weibo?q=%E6%96%B0%E4%B8%9C%...  2022-06-19 09:43:15.0  \n4  http://s.weibo.com/weibo?q=%E6%96%B0%E4%B8%9C%...  2022-06-19 09:43:15.0  \n\n[5 rows x 28 columns]",
      "text/html": "<div>\n<style scoped>\n    .dataframe tbody tr th:only-of-type {\n        vertical-align: middle;\n    }\n\n    .dataframe tbody tr th {\n        vertical-align: top;\n    }\n\n    .dataframe thead th {\n        text-align: right;\n    }\n</style>\n<table border=\"1\" class=\"dataframe\">\n  <thead>\n    <tr style=\"text-align: right;\">\n      <th></th>\n      <th>关键字</th>\n      <th>搜索条件</th>\n      <th>博主头像</th>\n      <th>博主id</th>\n      <th>博主</th>\n      <th>博主主页</th>\n      <th>博主是否认证</th>\n      <th>博文</th>\n      <th>博文独立网址</th>\n      <th>发布时间</th>\n      <th>...</th>\n      <th>转发_博文</th>\n      <th>转发_博文独立网址</th>\n      <th>转发_发布时间</th>\n      <th>转发_发布终端</th>\n      <th>转发_转发数</th>\n      <th>转发_评论数</th>\n      <th>转发_点赞数</th>\n      <th>&lt;realpath&gt;</th>\n      <th>&lt;fullpath&gt;</th>\n      <th>&lt;createdate&gt;</th>\n    </tr>\n  </thead>\n  <tbody>\n    <tr>\n      <th>0</th>\n      <td>新东方直播</td>\n      <td>热门X2022-06-01 00时~2022-06-19 23时X</td>\n      <td>https://tvax2.sinaimg.cn/crop.0.0.996.996.50/6...</td>\n      <td>1700040344</td>\n      <td>贼叉</td>\n      <td>https://weibo.com/1700040344?profile_ftype=1&amp;i...</td>\n      <td>微博个人认证</td>\n      <td>新东方直播带货怎么就火了呢？！#微博公开课# L贼叉的微博视频 ​</td>\n      <td>https://weibo.com/1700040344/LybFEjvUK?refer_f...</td>\n      <td>06月17日 22:46</td>\n      <td>...</td>\n      <td>NaN</td>\n      <td>NaN</td>\n      <td>NaN</td>\n      <td>NaN</td>\n      <td>NaN</td>\n      <td>NaN</td>\n      <td>NaN</td>\n      <td>https://s.weibo.com/weibo?q=%E6%96%B0%E4%B8%9C...</td>\n      <td>http://s.weibo.com/weibo?q=%E6%96%B0%E4%B8%9C%...</td>\n      <td>2022-06-19 09:43:15.0</td>\n    </tr>\n    <tr>\n      <th>1</th>\n      <td>新东方直播</td>\n      <td>热门X2022-06-01 00时~2022-06-19 23时X</td>\n      <td>https://tvax1.sinaimg.cn/crop.0.0.512.512.50/7...</td>\n      <td>1926909715</td>\n      <td>第一财经日报</td>\n      <td>https://weibo.com/1926909715?profile_ftype=1&amp;i...</td>\n      <td>微博官方认证</td>\n      <td>【#新东方员工曾吐槽干活不如做PPT的#】#新东方年会员工改编歌曲吐槽工作# 近期，新东方在...</td>\n      <td>https://weibo.com/1926909715/LybVUs7YW?refer_f...</td>\n      <td>06月17日 23:26</td>\n      <td>...</td>\n      <td>NaN</td>\n      <td>NaN</td>\n      <td>NaN</td>\n      <td>NaN</td>\n      <td>NaN</td>\n      <td>NaN</td>\n      <td>NaN</td>\n      <td>https://s.weibo.com/weibo?q=%E6%96%B0%E4%B8%9C...</td>\n      <td>http://s.weibo.com/weibo?q=%E6%96%B0%E4%B8%9C%...</td>\n      <td>2022-06-19 09:43:15.0</td>\n    </tr>\n    <tr>\n      <th>2</th>\n      <td>新东方直播</td>\n      <td>热门X2022-06-01 00时~2022-06-19 23时X</td>\n      <td>https://tvax1.sinaimg.cn/crop.0.0.1080.1080.50...</td>\n      <td>5409671765</td>\n      <td>钟超聊财经</td>\n      <td>https://weibo.com/5409671765?profile_ftype=1&amp;i...</td>\n      <td>微博个人认证</td>\n      <td>最近一年，新东方教育的市值从近400亿美元下跌至约40亿美元，市值蒸发近90%，属于俞敏洪个...</td>\n      <td>https://weibo.com/5409671765/Ly6DoydTK?refer_f...</td>\n      <td>06月17日 09:56</td>\n      <td>...</td>\n      <td>NaN</td>\n      <td>NaN</td>\n      <td>NaN</td>\n      <td>NaN</td>\n      <td>NaN</td>\n      <td>NaN</td>\n      <td>NaN</td>\n      <td>https://s.weibo.com/weibo?q=%E6%96%B0%E4%B8%9C...</td>\n      <td>http://s.weibo.com/weibo?q=%E6%96%B0%E4%B8%9C%...</td>\n      <td>2022-06-19 09:43:15.0</td>\n    </tr>\n    <tr>\n      <th>3</th>\n      <td>新东方直播</td>\n      <td>热门X2022-06-01 00时~2022-06-19 23时X</td>\n      <td>https://tvax4.sinaimg.cn/crop.0.0.512.512.50/6...</td>\n      <td>1726918143</td>\n      <td>中国青年报</td>\n      <td>https://weibo.com/1726918143?profile_ftype=1&amp;i...</td>\n      <td>微博官方认证</td>\n      <td>【#新东方直播间刷屏#：#好运究竟眷顾哪些人#？】新东方双语直播间火了！一个“半路出家”的直...</td>\n      <td>https://weibo.com/1726918143/LybaJaq78?refer_f...</td>\n      <td>06月17日 21:30</td>\n      <td>...</td>\n      <td>NaN</td>\n      <td>NaN</td>\n      <td>NaN</td>\n      <td>NaN</td>\n      <td>NaN</td>\n      <td>NaN</td>\n      <td>NaN</td>\n      <td>https://s.weibo.com/weibo?q=%E6%96%B0%E4%B8%9C...</td>\n      <td>http://s.weibo.com/weibo?q=%E6%96%B0%E4%B8%9C%...</td>\n      <td>2022-06-19 09:43:15.0</td>\n    </tr>\n    <tr>\n      <th>4</th>\n      <td>新东方直播</td>\n      <td>热门X2022-06-01 00时~2022-06-19 23时X</td>\n      <td>https://tvax2.sinaimg.cn/crop.0.0.1080.1080.50...</td>\n      <td>1841558887</td>\n      <td>任韧</td>\n      <td>https://weibo.com/1841558887?profile_ftype=1&amp;i...</td>\n      <td>微博个人认证</td>\n      <td>新东方直播带货，确实调性不一样。没那么油，甚至带点书生摆摊的生涩，但更显真诚，也更是真的有内...</td>\n      <td>https://weibo.com/1841558887/Lyi4CoFpl?refer_f...</td>\n      <td>06月18日 15:04</td>\n      <td>...</td>\n      <td>NaN</td>\n      <td>NaN</td>\n      <td>NaN</td>\n      <td>NaN</td>\n      <td>NaN</td>\n      <td>NaN</td>\n      <td>NaN</td>\n      <td>https://s.weibo.com/weibo?q=%E6%96%B0%E4%B8%9C...</td>\n      <td>http://s.weibo.com/weibo?q=%E6%96%B0%E4%B8%9C%...</td>\n      <td>2022-06-19 09:43:15.0</td>\n    </tr>\n  </tbody>\n</table>\n<p>5 rows × 28 columns</p>\n</div>"
     },
     "execution_count": 2,
     "metadata": {},
     "output_type": "execute_result"
    }
   ],
   "source": [
    "weibo = pd.read_excel('../data/temp_微博关键词搜索采集_default_列表_20220619095529005.xlsx')\n",
    "weibo.head()"
   ],
   "metadata": {
    "collapsed": false,
    "pycharm": {
     "name": "#%%\n"
    }
   }
  },
  {
   "cell_type": "code",
   "execution_count": 4,
   "outputs": [
    {
     "data": {
      "text/plain": "(343, 28)"
     },
     "execution_count": 4,
     "metadata": {},
     "output_type": "execute_result"
    }
   ],
   "source": [
    "weibo.shape"
   ],
   "metadata": {
    "collapsed": false,
    "pycharm": {
     "name": "#%%\n"
    }
   }
  },
  {
   "cell_type": "code",
   "execution_count": 5,
   "outputs": [
    {
     "data": {
      "text/plain": "0         8\n1        63\n2         8\n3         6\n4         9\n       ... \n338      27\n339    1900\n340       9\n341       4\n342      67\nName: 转发数, Length: 343, dtype: int64"
     },
     "execution_count": 5,
     "metadata": {},
     "output_type": "execute_result"
    }
   ],
   "source": [
    "weibo['转发数']"
   ],
   "metadata": {
    "collapsed": false,
    "pycharm": {
     "name": "#%%\n"
    }
   }
  },
  {
   "cell_type": "code",
   "execution_count": 6,
   "outputs": [
    {
     "data": {
      "text/plain": "0        15.0\n1        36.0\n2        48.0\n3         9.0\n4        10.0\n        ...  \n338      15.0\n339    2592.0\n340       4.0\n341       NaN\n342      15.0\nName: 评论数, Length: 343, dtype: float64"
     },
     "execution_count": 6,
     "metadata": {},
     "output_type": "execute_result"
    }
   ],
   "source": [
    "weibo['评论数']"
   ],
   "metadata": {
    "collapsed": false,
    "pycharm": {
     "name": "#%%\n"
    }
   }
  },
  {
   "cell_type": "code",
   "execution_count": 7,
   "outputs": [
    {
     "data": {
      "text/plain": "       关键字                               搜索条件  \\\n0    新东方直播  热门X2022-06-01 00时~2022-06-19 23时X   \n1    新东方直播  热门X2022-06-01 00时~2022-06-19 23时X   \n2    新东方直播  热门X2022-06-01 00时~2022-06-19 23时X   \n3    新东方直播  热门X2022-06-01 00时~2022-06-19 23时X   \n4    新东方直播  热门X2022-06-01 00时~2022-06-19 23时X   \n..     ...                                ...   \n338  新东方直播  热门X2022-06-01 00时~2022-06-19 23时X   \n339  新东方直播  热门X2022-06-01 00时~2022-06-19 23时X   \n340  新东方直播  热门X2022-06-01 00时~2022-06-19 23时X   \n341  新东方直播  热门X2022-06-01 00时~2022-06-19 23时X   \n342  新东方直播  热门X2022-06-01 00时~2022-06-19 23时X   \n\n                                                  博主头像        博主id       博主  \\\n0    https://tvax2.sinaimg.cn/crop.0.0.996.996.50/6...  1700040344       贼叉   \n1    https://tvax1.sinaimg.cn/crop.0.0.512.512.50/7...  1926909715   第一财经日报   \n2    https://tvax1.sinaimg.cn/crop.0.0.1080.1080.50...  5409671765    钟超聊财经   \n3    https://tvax4.sinaimg.cn/crop.0.0.512.512.50/6...  1726918143    中国青年报   \n4    https://tvax2.sinaimg.cn/crop.0.0.1080.1080.50...  1841558887       任韧   \n..                                                 ...         ...      ...   \n338  https://tvax1.sinaimg.cn/crop.0.3.636.636.50/a...  2907314262      新行情   \n339  https://tvax1.sinaimg.cn/crop.0.0.512.512.50/0...  5976482318  学生一起来吐槽   \n340  https://tva3.sinaimg.cn/crop.0.0.996.996.50/00...  5489929445    灯塔EDU   \n341  https://tvax3.sinaimg.cn/crop.0.0.888.888.50/0...  1193725273  中国企业家杂志   \n342  https://tvax4.sinaimg.cn/crop.0.0.800.800.50/0...  2437229713     电商行业   \n\n                                                  博主主页  博主是否认证  \\\n0    https://weibo.com/1700040344?profile_ftype=1&i...  微博个人认证   \n1    https://weibo.com/1926909715?profile_ftype=1&i...  微博官方认证   \n2    https://weibo.com/5409671765?profile_ftype=1&i...  微博个人认证   \n3    https://weibo.com/1726918143?profile_ftype=1&i...  微博官方认证   \n4    https://weibo.com/1841558887?profile_ftype=1&i...  微博个人认证   \n..                                                 ...     ...   \n338  https://weibo.com/2907314262?profile_ftype=1&i...  微博官方认证   \n339  https://weibo.com/5976482318?profile_ftype=1&i...  微博个人认证   \n340  https://weibo.com/5489929445?profile_ftype=1&i...  微博个人认证   \n341  https://weibo.com/1193725273?profile_ftype=1&i...  微博官方认证   \n342  https://weibo.com/2437229713?profile_ftype=1&i...  微博官方认证   \n\n                                                    博文  \\\n0                    新东方直播带货怎么就火了呢？！#微博公开课# L贼叉的微博视频 ​   \n1    【#新东方员工曾吐槽干活不如做PPT的#】#新东方年会员工改编歌曲吐槽工作# 近期，新东方在...   \n2    最近一年，新东方教育的市值从近400亿美元下跌至约40亿美元，市值蒸发近90%，属于俞敏洪个...   \n3    【#新东方直播间刷屏#：#好运究竟眷顾哪些人#？】新东方双语直播间火了！一个“半路出家”的直...   \n4    新东方直播带货，确实调性不一样。没那么油，甚至带点书生摆摊的生涩，但更显真诚，也更是真的有内...   \n..                                                 ...   \n338  #新东方在线股价涨超43%#今日，港股新东方在线一度涨超43%，截至目前报6.13港元每股，...   \n339  #2022年的直播界变化有多大# 从刘畊宏到新东方，直播界开始卷起来了#直播界能卷到什么程度...   \n340  快来东方甄选直播间快买点！还能有其他收获！这样的主播也只有新东方可以！#新东方#教育#灯塔E...   \n341  【#俞敏洪组建新东方直播间队伍专门推广教育产品#】6月8日，俞敏洪在个人微信公众号“老俞闲话...   \n342  #俞敏洪称直播经济是商业的第三次革命# 俞敏洪把直播经济叫做商业的第三次革命。第一次是大卖场...   \n\n                                                博文独立网址          发布时间  ...  \\\n0    https://weibo.com/1700040344/LybFEjvUK?refer_f...  06月17日 22:46  ...   \n1    https://weibo.com/1926909715/LybVUs7YW?refer_f...  06月17日 23:26  ...   \n2    https://weibo.com/5409671765/Ly6DoydTK?refer_f...  06月17日 09:56  ...   \n3    https://weibo.com/1726918143/LybaJaq78?refer_f...  06月17日 21:30  ...   \n4    https://weibo.com/1841558887/Lyi4CoFpl?refer_f...  06月18日 15:04  ...   \n..                                                 ...           ...  ...   \n338  https://weibo.com/2907314262/Lx4OwpEHi?refer_f...  06月10日 15:28  ...   \n339  https://weibo.com/5976482318/Lx6cGmePY?refer_f...  06月10日 19:00  ...   \n340  https://weibo.com/5489929445/LwUkE6KLG?refer_f...  06月09日 12:47  ...   \n341  https://weibo.com/1193725273/LwKhJgVv8?refer_f...  06月08日 11:12  ...   \n342  https://weibo.com/2437229713/LwKuKtrNI?refer_f...  06月08日 11:44  ...   \n\n    转发_博文  转发_博文独立网址  转发_发布时间  转发_发布终端  转发_转发数  转发_评论数  转发_点赞数  \\\n0     NaN        NaN      NaN      NaN     NaN     NaN     NaN   \n1     NaN        NaN      NaN      NaN     NaN     NaN     NaN   \n2     NaN        NaN      NaN      NaN     NaN     NaN     NaN   \n3     NaN        NaN      NaN      NaN     NaN     NaN     NaN   \n4     NaN        NaN      NaN      NaN     NaN     NaN     NaN   \n..    ...        ...      ...      ...     ...     ...     ...   \n338   NaN        NaN      NaN      NaN     NaN     NaN     NaN   \n339   NaN        NaN      NaN      NaN     NaN     NaN     NaN   \n340   NaN        NaN      NaN      NaN     NaN     NaN     NaN   \n341   NaN        NaN      NaN      NaN     NaN     NaN     NaN   \n342   NaN        NaN      NaN      NaN     NaN     NaN     NaN   \n\n                                            <realpath>  \\\n0    https://s.weibo.com/weibo?q=%E6%96%B0%E4%B8%9C...   \n1    https://s.weibo.com/weibo?q=%E6%96%B0%E4%B8%9C...   \n2    https://s.weibo.com/weibo?q=%E6%96%B0%E4%B8%9C...   \n3    https://s.weibo.com/weibo?q=%E6%96%B0%E4%B8%9C...   \n4    https://s.weibo.com/weibo?q=%E6%96%B0%E4%B8%9C...   \n..                                                 ...   \n338  https://s.weibo.com/weibo?q=%E6%96%B0%E4%B8%9C...   \n339  https://s.weibo.com/weibo?q=%E6%96%B0%E4%B8%9C...   \n340  https://s.weibo.com/weibo?q=%E6%96%B0%E4%B8%9C...   \n341  https://s.weibo.com/weibo?q=%E6%96%B0%E4%B8%9C...   \n342  https://s.weibo.com/weibo?q=%E6%96%B0%E4%B8%9C...   \n\n                                            <fullpath>           <createdate>  \n0    http://s.weibo.com/weibo?q=%E6%96%B0%E4%B8%9C%...  2022-06-19 09:43:15.0  \n1    http://s.weibo.com/weibo?q=%E6%96%B0%E4%B8%9C%...  2022-06-19 09:43:15.0  \n2    http://s.weibo.com/weibo?q=%E6%96%B0%E4%B8%9C%...  2022-06-19 09:43:15.0  \n3    http://s.weibo.com/weibo?q=%E6%96%B0%E4%B8%9C%...  2022-06-19 09:43:15.0  \n4    http://s.weibo.com/weibo?q=%E6%96%B0%E4%B8%9C%...  2022-06-19 09:43:15.0  \n..                                                 ...                    ...  \n338  https://s.weibo.com/weibo?q=%E6%96%B0%E4%B8%9C...  2022-06-19 09:47:37.0  \n339  https://s.weibo.com/weibo?q=%E6%96%B0%E4%B8%9C...  2022-06-19 09:47:37.0  \n340  https://s.weibo.com/weibo?q=%E6%96%B0%E4%B8%9C...  2022-06-19 09:47:37.0  \n341  https://s.weibo.com/weibo?q=%E6%96%B0%E4%B8%9C...  2022-06-19 09:47:37.0  \n342  https://s.weibo.com/weibo?q=%E6%96%B0%E4%B8%9C...  2022-06-19 09:47:37.0  \n\n[343 rows x 28 columns]",
      "text/html": "<div>\n<style scoped>\n    .dataframe tbody tr th:only-of-type {\n        vertical-align: middle;\n    }\n\n    .dataframe tbody tr th {\n        vertical-align: top;\n    }\n\n    .dataframe thead th {\n        text-align: right;\n    }\n</style>\n<table border=\"1\" class=\"dataframe\">\n  <thead>\n    <tr style=\"text-align: right;\">\n      <th></th>\n      <th>关键字</th>\n      <th>搜索条件</th>\n      <th>博主头像</th>\n      <th>博主id</th>\n      <th>博主</th>\n      <th>博主主页</th>\n      <th>博主是否认证</th>\n      <th>博文</th>\n      <th>博文独立网址</th>\n      <th>发布时间</th>\n      <th>...</th>\n      <th>转发_博文</th>\n      <th>转发_博文独立网址</th>\n      <th>转发_发布时间</th>\n      <th>转发_发布终端</th>\n      <th>转发_转发数</th>\n      <th>转发_评论数</th>\n      <th>转发_点赞数</th>\n      <th>&lt;realpath&gt;</th>\n      <th>&lt;fullpath&gt;</th>\n      <th>&lt;createdate&gt;</th>\n    </tr>\n  </thead>\n  <tbody>\n    <tr>\n      <th>0</th>\n      <td>新东方直播</td>\n      <td>热门X2022-06-01 00时~2022-06-19 23时X</td>\n      <td>https://tvax2.sinaimg.cn/crop.0.0.996.996.50/6...</td>\n      <td>1700040344</td>\n      <td>贼叉</td>\n      <td>https://weibo.com/1700040344?profile_ftype=1&amp;i...</td>\n      <td>微博个人认证</td>\n      <td>新东方直播带货怎么就火了呢？！#微博公开课# L贼叉的微博视频 ​</td>\n      <td>https://weibo.com/1700040344/LybFEjvUK?refer_f...</td>\n      <td>06月17日 22:46</td>\n      <td>...</td>\n      <td>NaN</td>\n      <td>NaN</td>\n      <td>NaN</td>\n      <td>NaN</td>\n      <td>NaN</td>\n      <td>NaN</td>\n      <td>NaN</td>\n      <td>https://s.weibo.com/weibo?q=%E6%96%B0%E4%B8%9C...</td>\n      <td>http://s.weibo.com/weibo?q=%E6%96%B0%E4%B8%9C%...</td>\n      <td>2022-06-19 09:43:15.0</td>\n    </tr>\n    <tr>\n      <th>1</th>\n      <td>新东方直播</td>\n      <td>热门X2022-06-01 00时~2022-06-19 23时X</td>\n      <td>https://tvax1.sinaimg.cn/crop.0.0.512.512.50/7...</td>\n      <td>1926909715</td>\n      <td>第一财经日报</td>\n      <td>https://weibo.com/1926909715?profile_ftype=1&amp;i...</td>\n      <td>微博官方认证</td>\n      <td>【#新东方员工曾吐槽干活不如做PPT的#】#新东方年会员工改编歌曲吐槽工作# 近期，新东方在...</td>\n      <td>https://weibo.com/1926909715/LybVUs7YW?refer_f...</td>\n      <td>06月17日 23:26</td>\n      <td>...</td>\n      <td>NaN</td>\n      <td>NaN</td>\n      <td>NaN</td>\n      <td>NaN</td>\n      <td>NaN</td>\n      <td>NaN</td>\n      <td>NaN</td>\n      <td>https://s.weibo.com/weibo?q=%E6%96%B0%E4%B8%9C...</td>\n      <td>http://s.weibo.com/weibo?q=%E6%96%B0%E4%B8%9C%...</td>\n      <td>2022-06-19 09:43:15.0</td>\n    </tr>\n    <tr>\n      <th>2</th>\n      <td>新东方直播</td>\n      <td>热门X2022-06-01 00时~2022-06-19 23时X</td>\n      <td>https://tvax1.sinaimg.cn/crop.0.0.1080.1080.50...</td>\n      <td>5409671765</td>\n      <td>钟超聊财经</td>\n      <td>https://weibo.com/5409671765?profile_ftype=1&amp;i...</td>\n      <td>微博个人认证</td>\n      <td>最近一年，新东方教育的市值从近400亿美元下跌至约40亿美元，市值蒸发近90%，属于俞敏洪个...</td>\n      <td>https://weibo.com/5409671765/Ly6DoydTK?refer_f...</td>\n      <td>06月17日 09:56</td>\n      <td>...</td>\n      <td>NaN</td>\n      <td>NaN</td>\n      <td>NaN</td>\n      <td>NaN</td>\n      <td>NaN</td>\n      <td>NaN</td>\n      <td>NaN</td>\n      <td>https://s.weibo.com/weibo?q=%E6%96%B0%E4%B8%9C...</td>\n      <td>http://s.weibo.com/weibo?q=%E6%96%B0%E4%B8%9C%...</td>\n      <td>2022-06-19 09:43:15.0</td>\n    </tr>\n    <tr>\n      <th>3</th>\n      <td>新东方直播</td>\n      <td>热门X2022-06-01 00时~2022-06-19 23时X</td>\n      <td>https://tvax4.sinaimg.cn/crop.0.0.512.512.50/6...</td>\n      <td>1726918143</td>\n      <td>中国青年报</td>\n      <td>https://weibo.com/1726918143?profile_ftype=1&amp;i...</td>\n      <td>微博官方认证</td>\n      <td>【#新东方直播间刷屏#：#好运究竟眷顾哪些人#？】新东方双语直播间火了！一个“半路出家”的直...</td>\n      <td>https://weibo.com/1726918143/LybaJaq78?refer_f...</td>\n      <td>06月17日 21:30</td>\n      <td>...</td>\n      <td>NaN</td>\n      <td>NaN</td>\n      <td>NaN</td>\n      <td>NaN</td>\n      <td>NaN</td>\n      <td>NaN</td>\n      <td>NaN</td>\n      <td>https://s.weibo.com/weibo?q=%E6%96%B0%E4%B8%9C...</td>\n      <td>http://s.weibo.com/weibo?q=%E6%96%B0%E4%B8%9C%...</td>\n      <td>2022-06-19 09:43:15.0</td>\n    </tr>\n    <tr>\n      <th>4</th>\n      <td>新东方直播</td>\n      <td>热门X2022-06-01 00时~2022-06-19 23时X</td>\n      <td>https://tvax2.sinaimg.cn/crop.0.0.1080.1080.50...</td>\n      <td>1841558887</td>\n      <td>任韧</td>\n      <td>https://weibo.com/1841558887?profile_ftype=1&amp;i...</td>\n      <td>微博个人认证</td>\n      <td>新东方直播带货，确实调性不一样。没那么油，甚至带点书生摆摊的生涩，但更显真诚，也更是真的有内...</td>\n      <td>https://weibo.com/1841558887/Lyi4CoFpl?refer_f...</td>\n      <td>06月18日 15:04</td>\n      <td>...</td>\n      <td>NaN</td>\n      <td>NaN</td>\n      <td>NaN</td>\n      <td>NaN</td>\n      <td>NaN</td>\n      <td>NaN</td>\n      <td>NaN</td>\n      <td>https://s.weibo.com/weibo?q=%E6%96%B0%E4%B8%9C...</td>\n      <td>http://s.weibo.com/weibo?q=%E6%96%B0%E4%B8%9C%...</td>\n      <td>2022-06-19 09:43:15.0</td>\n    </tr>\n    <tr>\n      <th>...</th>\n      <td>...</td>\n      <td>...</td>\n      <td>...</td>\n      <td>...</td>\n      <td>...</td>\n      <td>...</td>\n      <td>...</td>\n      <td>...</td>\n      <td>...</td>\n      <td>...</td>\n      <td>...</td>\n      <td>...</td>\n      <td>...</td>\n      <td>...</td>\n      <td>...</td>\n      <td>...</td>\n      <td>...</td>\n      <td>...</td>\n      <td>...</td>\n      <td>...</td>\n      <td>...</td>\n    </tr>\n    <tr>\n      <th>338</th>\n      <td>新东方直播</td>\n      <td>热门X2022-06-01 00时~2022-06-19 23时X</td>\n      <td>https://tvax1.sinaimg.cn/crop.0.3.636.636.50/a...</td>\n      <td>2907314262</td>\n      <td>新行情</td>\n      <td>https://weibo.com/2907314262?profile_ftype=1&amp;i...</td>\n      <td>微博官方认证</td>\n      <td>#新东方在线股价涨超43%#今日，港股新东方在线一度涨超43%，截至目前报6.13港元每股，...</td>\n      <td>https://weibo.com/2907314262/Lx4OwpEHi?refer_f...</td>\n      <td>06月10日 15:28</td>\n      <td>...</td>\n      <td>NaN</td>\n      <td>NaN</td>\n      <td>NaN</td>\n      <td>NaN</td>\n      <td>NaN</td>\n      <td>NaN</td>\n      <td>NaN</td>\n      <td>https://s.weibo.com/weibo?q=%E6%96%B0%E4%B8%9C...</td>\n      <td>https://s.weibo.com/weibo?q=%E6%96%B0%E4%B8%9C...</td>\n      <td>2022-06-19 09:47:37.0</td>\n    </tr>\n    <tr>\n      <th>339</th>\n      <td>新东方直播</td>\n      <td>热门X2022-06-01 00时~2022-06-19 23时X</td>\n      <td>https://tvax1.sinaimg.cn/crop.0.0.512.512.50/0...</td>\n      <td>5976482318</td>\n      <td>学生一起来吐槽</td>\n      <td>https://weibo.com/5976482318?profile_ftype=1&amp;i...</td>\n      <td>微博个人认证</td>\n      <td>#2022年的直播界变化有多大# 从刘畊宏到新东方，直播界开始卷起来了#直播界能卷到什么程度...</td>\n      <td>https://weibo.com/5976482318/Lx6cGmePY?refer_f...</td>\n      <td>06月10日 19:00</td>\n      <td>...</td>\n      <td>NaN</td>\n      <td>NaN</td>\n      <td>NaN</td>\n      <td>NaN</td>\n      <td>NaN</td>\n      <td>NaN</td>\n      <td>NaN</td>\n      <td>https://s.weibo.com/weibo?q=%E6%96%B0%E4%B8%9C...</td>\n      <td>https://s.weibo.com/weibo?q=%E6%96%B0%E4%B8%9C...</td>\n      <td>2022-06-19 09:47:37.0</td>\n    </tr>\n    <tr>\n      <th>340</th>\n      <td>新东方直播</td>\n      <td>热门X2022-06-01 00时~2022-06-19 23时X</td>\n      <td>https://tva3.sinaimg.cn/crop.0.0.996.996.50/00...</td>\n      <td>5489929445</td>\n      <td>灯塔EDU</td>\n      <td>https://weibo.com/5489929445?profile_ftype=1&amp;i...</td>\n      <td>微博个人认证</td>\n      <td>快来东方甄选直播间快买点！还能有其他收获！这样的主播也只有新东方可以！#新东方#教育#灯塔E...</td>\n      <td>https://weibo.com/5489929445/LwUkE6KLG?refer_f...</td>\n      <td>06月09日 12:47</td>\n      <td>...</td>\n      <td>NaN</td>\n      <td>NaN</td>\n      <td>NaN</td>\n      <td>NaN</td>\n      <td>NaN</td>\n      <td>NaN</td>\n      <td>NaN</td>\n      <td>https://s.weibo.com/weibo?q=%E6%96%B0%E4%B8%9C...</td>\n      <td>https://s.weibo.com/weibo?q=%E6%96%B0%E4%B8%9C...</td>\n      <td>2022-06-19 09:47:37.0</td>\n    </tr>\n    <tr>\n      <th>341</th>\n      <td>新东方直播</td>\n      <td>热门X2022-06-01 00时~2022-06-19 23时X</td>\n      <td>https://tvax3.sinaimg.cn/crop.0.0.888.888.50/0...</td>\n      <td>1193725273</td>\n      <td>中国企业家杂志</td>\n      <td>https://weibo.com/1193725273?profile_ftype=1&amp;i...</td>\n      <td>微博官方认证</td>\n      <td>【#俞敏洪组建新东方直播间队伍专门推广教育产品#】6月8日，俞敏洪在个人微信公众号“老俞闲话...</td>\n      <td>https://weibo.com/1193725273/LwKhJgVv8?refer_f...</td>\n      <td>06月08日 11:12</td>\n      <td>...</td>\n      <td>NaN</td>\n      <td>NaN</td>\n      <td>NaN</td>\n      <td>NaN</td>\n      <td>NaN</td>\n      <td>NaN</td>\n      <td>NaN</td>\n      <td>https://s.weibo.com/weibo?q=%E6%96%B0%E4%B8%9C...</td>\n      <td>https://s.weibo.com/weibo?q=%E6%96%B0%E4%B8%9C...</td>\n      <td>2022-06-19 09:47:37.0</td>\n    </tr>\n    <tr>\n      <th>342</th>\n      <td>新东方直播</td>\n      <td>热门X2022-06-01 00时~2022-06-19 23时X</td>\n      <td>https://tvax4.sinaimg.cn/crop.0.0.800.800.50/0...</td>\n      <td>2437229713</td>\n      <td>电商行业</td>\n      <td>https://weibo.com/2437229713?profile_ftype=1&amp;i...</td>\n      <td>微博官方认证</td>\n      <td>#俞敏洪称直播经济是商业的第三次革命# 俞敏洪把直播经济叫做商业的第三次革命。第一次是大卖场...</td>\n      <td>https://weibo.com/2437229713/LwKuKtrNI?refer_f...</td>\n      <td>06月08日 11:44</td>\n      <td>...</td>\n      <td>NaN</td>\n      <td>NaN</td>\n      <td>NaN</td>\n      <td>NaN</td>\n      <td>NaN</td>\n      <td>NaN</td>\n      <td>NaN</td>\n      <td>https://s.weibo.com/weibo?q=%E6%96%B0%E4%B8%9C...</td>\n      <td>https://s.weibo.com/weibo?q=%E6%96%B0%E4%B8%9C...</td>\n      <td>2022-06-19 09:47:37.0</td>\n    </tr>\n  </tbody>\n</table>\n<p>343 rows × 28 columns</p>\n</div>"
     },
     "execution_count": 7,
     "metadata": {},
     "output_type": "execute_result"
    }
   ],
   "source": [
    "weibo[weibo['转发数'] > 0]"
   ],
   "metadata": {
    "collapsed": false,
    "pycharm": {
     "name": "#%%\n"
    }
   }
  },
  {
   "cell_type": "code",
   "execution_count": 10,
   "outputs": [
    {
     "data": {
      "text/plain": "0      https://weibo.com/1700040344/LybFEjvUK?refer_f...\n1      https://weibo.com/1926909715/LybVUs7YW?refer_f...\n2      https://weibo.com/5409671765/Ly6DoydTK?refer_f...\n3      https://weibo.com/1726918143/LybaJaq78?refer_f...\n4      https://weibo.com/1841558887/Lyi4CoFpl?refer_f...\n                             ...                        \n337    https://weibo.com/1931093993/Lx5AIa5ap?refer_f...\n338    https://weibo.com/2907314262/Lx4OwpEHi?refer_f...\n339    https://weibo.com/5976482318/Lx6cGmePY?refer_f...\n340    https://weibo.com/5489929445/LwUkE6KLG?refer_f...\n342    https://weibo.com/2437229713/LwKuKtrNI?refer_f...\nName: 博文独立网址, Length: 327, dtype: object"
     },
     "execution_count": 10,
     "metadata": {},
     "output_type": "execute_result"
    }
   ],
   "source": [
    "weibo[weibo['评论数'] > 0]['博文独立网址']"
   ],
   "metadata": {
    "collapsed": false,
    "pycharm": {
     "name": "#%%\n"
    }
   }
  },
  {
   "cell_type": "code",
   "execution_count": 12,
   "outputs": [],
   "source": [
    "weibo[weibo['评论数'] > 0]['博文独立网址'].to_excel('data/微博评论链接.xlsx')"
   ],
   "metadata": {
    "collapsed": false,
    "pycharm": {
     "name": "#%%\n"
    }
   }
  }
 ],
 "metadata": {
  "kernelspec": {
   "display_name": "Python 3",
   "language": "python",
   "name": "python3"
  },
  "language_info": {
   "codemirror_mode": {
    "name": "ipython",
    "version": 2
   },
   "file_extension": ".py",
   "mimetype": "text/x-python",
   "name": "python",
   "nbconvert_exporter": "python",
   "pygments_lexer": "ipython2",
   "version": "2.7.6"
  }
 },
 "nbformat": 4,
 "nbformat_minor": 0
}