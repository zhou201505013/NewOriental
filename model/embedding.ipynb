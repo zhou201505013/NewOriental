{
 "cells": [
  {
   "cell_type": "code",
   "execution_count": 3,
   "metadata": {
    "collapsed": true,
    "pycharm": {
     "name": "#%%\n"
    }
   },
   "outputs": [],
   "source": [
    "# 去停用词\n",
    "import jieba\n",
    "import pandas as pd"
   ]
  },
  {
   "cell_type": "code",
   "execution_count": 4,
   "outputs": [
    {
     "name": "stderr",
     "output_type": "stream",
     "text": [
      "Building prefix dict from the default dictionary ...\n",
      "Dumping model to file cache C:\\Users\\62774\\AppData\\Local\\Temp\\jieba.cache\n",
      "Loading model cost 1.097 seconds.\n",
      "Prefix dict has been built successfully.\n"
     ]
    },
    {
     "data": {
      "text/plain": "       Unnamed: 0                 time  \\\n0               0  2022-06-19 15:42:32   \n1               1  2022-06-19 15:42:32   \n2               2  2022-06-19 15:42:32   \n3               3  2022-06-19 16:42:32   \n4               4  2022-06-19 16:42:32   \n...           ...                  ...   \n87462       87462  2022-06-11 00:00:00   \n87463       87463  2022-06-11 00:00:00   \n87464       87464  2022-06-11 00:00:00   \n87465       87465  2022-06-11 00:00:00   \n87466       87466  2022-06-11 00:00:00   \n\n                                                 comment    source  \\\n0                              董宇辉：小时候不懂得朱自清的《背影》，长大后才懂得  bilibili   \n1                                   活了18年了，别说初恋，我连男朋友都没有  bilibili   \n2      我的初恋就是我老公，谈了13年，结婚6个月，身边的人都觉得很不可思议，我们俩反而觉得挺正常的...  bilibili   \n3                她现在看到你如此成熟稳重有立场，她一定很高兴曾经成为你的女朋友，你是她的骄傲。  bilibili   \n4                                                     成长  bilibili   \n...                                                  ...       ...   \n87462                               这行业壁垒有点高啊，运营真的是越来越难了    douyin   \n87463                                                 反杀    douyin   \n87464                           我觉得 就算老俞去讨饭 也能比别人讨到更多的钱了    douyin   \n87465                                  学学中文吧，不要以学英文为傲！！！    douyin   \n87466                                               降为打击    douyin   \n\n             date sentiment_label  positive_probs  negative_probs  \\\n0      2022-06-19        negative        0.192710        0.807290   \n1      2022-06-19        negative        0.034080        0.965920   \n2      2022-06-19        positive        0.862732        0.137268   \n3      2022-06-19        positive        0.928367        0.071633   \n4      2022-06-19        positive        0.770281        0.229719   \n...           ...             ...             ...             ...   \n87462  2022-06-11        negative        0.012887        0.987113   \n87463  2022-06-11        negative        0.474875        0.525125   \n87464  2022-06-11        positive        0.831513        0.168487   \n87465  2022-06-11        negative        0.074865        0.925135   \n87466  2022-06-11        negative        0.239649        0.760351   \n\n                                                   words  \\\n0      [董宇辉, ：, 小时候, 不, 懂得, 朱自清, 的, 《, 背影, 》, ，, 长大, ...   \n1       [活, 了, 18, 年, 了, ，, 别说, 初恋, ，, 我, 连, 男朋友, 都, 没有]   \n2      [我, 的, 初恋, 就是, 我, 老公, ，, 谈, 了, 13, 年, ，, 结婚, 6...   \n3      [她, 现在, 看到, 你, 如此, 成熟, 稳重, 有, 立场, ，, 她, 一定, 很,...   \n4                                                   [成长]   \n...                                                  ...   \n87462     [这, 行业, 壁垒, 有点, 高, 啊, ，, 运营, 真的, 是, 越来越, 难, 了]   \n87463                                               [反杀]   \n87464  [我, 觉得,  , 就算, 老, 俞去, 讨饭,  , 也, 能比, 别人, 讨到, 更,...   \n87465            [学学, 中文, 吧, ，, 不要, 以学, 英文, 为傲, ！, ！, ！]   \n87466                                         [降, 为, 打击]   \n\n                                            stoped_words  \n0               [董宇辉, 小时候, 不, 懂得, 朱自清, 背影, 长大, 后, 才, 懂得]  \n1                             [活, 18, 年, 初恋, 男朋友, 都, 没有]  \n2      [初恋, 老公, 谈, 13, 年, 结婚, 6, 月, 身边, 人, 都, 觉得, 很, ...  \n3       [现在, 看到, 成熟, 稳重, 立场, 一定, 很, 高兴, 曾经, 成为, 女朋友, 骄傲]  \n4                                                   [成长]  \n...                                                  ...  \n87462                    [行业, 壁垒, 有点, 高, 运营, 真的, 越来越, 难]  \n87463                                               [反杀]  \n87464        [觉得,  , 就算, 老, 俞去, 讨饭,  , 能比, 别人, 讨到, 更, 钱]  \n87465                           [学学, 中文, 不要, 以学, 英文, 为傲]  \n87466                                            [降, 打击]  \n\n[87467 rows x 10 columns]",
      "text/html": "<div>\n<style scoped>\n    .dataframe tbody tr th:only-of-type {\n        vertical-align: middle;\n    }\n\n    .dataframe tbody tr th {\n        vertical-align: top;\n    }\n\n    .dataframe thead th {\n        text-align: right;\n    }\n</style>\n<table border=\"1\" class=\"dataframe\">\n  <thead>\n    <tr style=\"text-align: right;\">\n      <th></th>\n      <th>Unnamed: 0</th>\n      <th>time</th>\n      <th>comment</th>\n      <th>source</th>\n      <th>date</th>\n      <th>sentiment_label</th>\n      <th>positive_probs</th>\n      <th>negative_probs</th>\n      <th>words</th>\n      <th>stoped_words</th>\n    </tr>\n  </thead>\n  <tbody>\n    <tr>\n      <th>0</th>\n      <td>0</td>\n      <td>2022-06-19 15:42:32</td>\n      <td>董宇辉：小时候不懂得朱自清的《背影》，长大后才懂得</td>\n      <td>bilibili</td>\n      <td>2022-06-19</td>\n      <td>negative</td>\n      <td>0.192710</td>\n      <td>0.807290</td>\n      <td>[董宇辉, ：, 小时候, 不, 懂得, 朱自清, 的, 《, 背影, 》, ，, 长大, ...</td>\n      <td>[董宇辉, 小时候, 不, 懂得, 朱自清, 背影, 长大, 后, 才, 懂得]</td>\n    </tr>\n    <tr>\n      <th>1</th>\n      <td>1</td>\n      <td>2022-06-19 15:42:32</td>\n      <td>活了18年了，别说初恋，我连男朋友都没有</td>\n      <td>bilibili</td>\n      <td>2022-06-19</td>\n      <td>negative</td>\n      <td>0.034080</td>\n      <td>0.965920</td>\n      <td>[活, 了, 18, 年, 了, ，, 别说, 初恋, ，, 我, 连, 男朋友, 都, 没有]</td>\n      <td>[活, 18, 年, 初恋, 男朋友, 都, 没有]</td>\n    </tr>\n    <tr>\n      <th>2</th>\n      <td>2</td>\n      <td>2022-06-19 15:42:32</td>\n      <td>我的初恋就是我老公，谈了13年，结婚6个月，身边的人都觉得很不可思议，我们俩反而觉得挺正常的...</td>\n      <td>bilibili</td>\n      <td>2022-06-19</td>\n      <td>positive</td>\n      <td>0.862732</td>\n      <td>0.137268</td>\n      <td>[我, 的, 初恋, 就是, 我, 老公, ，, 谈, 了, 13, 年, ，, 结婚, 6...</td>\n      <td>[初恋, 老公, 谈, 13, 年, 结婚, 6, 月, 身边, 人, 都, 觉得, 很, ...</td>\n    </tr>\n    <tr>\n      <th>3</th>\n      <td>3</td>\n      <td>2022-06-19 16:42:32</td>\n      <td>她现在看到你如此成熟稳重有立场，她一定很高兴曾经成为你的女朋友，你是她的骄傲。</td>\n      <td>bilibili</td>\n      <td>2022-06-19</td>\n      <td>positive</td>\n      <td>0.928367</td>\n      <td>0.071633</td>\n      <td>[她, 现在, 看到, 你, 如此, 成熟, 稳重, 有, 立场, ，, 她, 一定, 很,...</td>\n      <td>[现在, 看到, 成熟, 稳重, 立场, 一定, 很, 高兴, 曾经, 成为, 女朋友, 骄傲]</td>\n    </tr>\n    <tr>\n      <th>4</th>\n      <td>4</td>\n      <td>2022-06-19 16:42:32</td>\n      <td>成长</td>\n      <td>bilibili</td>\n      <td>2022-06-19</td>\n      <td>positive</td>\n      <td>0.770281</td>\n      <td>0.229719</td>\n      <td>[成长]</td>\n      <td>[成长]</td>\n    </tr>\n    <tr>\n      <th>...</th>\n      <td>...</td>\n      <td>...</td>\n      <td>...</td>\n      <td>...</td>\n      <td>...</td>\n      <td>...</td>\n      <td>...</td>\n      <td>...</td>\n      <td>...</td>\n      <td>...</td>\n    </tr>\n    <tr>\n      <th>87462</th>\n      <td>87462</td>\n      <td>2022-06-11 00:00:00</td>\n      <td>这行业壁垒有点高啊，运营真的是越来越难了</td>\n      <td>douyin</td>\n      <td>2022-06-11</td>\n      <td>negative</td>\n      <td>0.012887</td>\n      <td>0.987113</td>\n      <td>[这, 行业, 壁垒, 有点, 高, 啊, ，, 运营, 真的, 是, 越来越, 难, 了]</td>\n      <td>[行业, 壁垒, 有点, 高, 运营, 真的, 越来越, 难]</td>\n    </tr>\n    <tr>\n      <th>87463</th>\n      <td>87463</td>\n      <td>2022-06-11 00:00:00</td>\n      <td>反杀</td>\n      <td>douyin</td>\n      <td>2022-06-11</td>\n      <td>negative</td>\n      <td>0.474875</td>\n      <td>0.525125</td>\n      <td>[反杀]</td>\n      <td>[反杀]</td>\n    </tr>\n    <tr>\n      <th>87464</th>\n      <td>87464</td>\n      <td>2022-06-11 00:00:00</td>\n      <td>我觉得 就算老俞去讨饭 也能比别人讨到更多的钱了</td>\n      <td>douyin</td>\n      <td>2022-06-11</td>\n      <td>positive</td>\n      <td>0.831513</td>\n      <td>0.168487</td>\n      <td>[我, 觉得,  , 就算, 老, 俞去, 讨饭,  , 也, 能比, 别人, 讨到, 更,...</td>\n      <td>[觉得,  , 就算, 老, 俞去, 讨饭,  , 能比, 别人, 讨到, 更, 钱]</td>\n    </tr>\n    <tr>\n      <th>87465</th>\n      <td>87465</td>\n      <td>2022-06-11 00:00:00</td>\n      <td>学学中文吧，不要以学英文为傲！！！</td>\n      <td>douyin</td>\n      <td>2022-06-11</td>\n      <td>negative</td>\n      <td>0.074865</td>\n      <td>0.925135</td>\n      <td>[学学, 中文, 吧, ，, 不要, 以学, 英文, 为傲, ！, ！, ！]</td>\n      <td>[学学, 中文, 不要, 以学, 英文, 为傲]</td>\n    </tr>\n    <tr>\n      <th>87466</th>\n      <td>87466</td>\n      <td>2022-06-11 00:00:00</td>\n      <td>降为打击</td>\n      <td>douyin</td>\n      <td>2022-06-11</td>\n      <td>negative</td>\n      <td>0.239649</td>\n      <td>0.760351</td>\n      <td>[降, 为, 打击]</td>\n      <td>[降, 打击]</td>\n    </tr>\n  </tbody>\n</table>\n<p>87467 rows × 10 columns</p>\n</div>"
     },
     "execution_count": 4,
     "metadata": {},
     "output_type": "execute_result"
    }
   ],
   "source": [
    "data = pd.read_csv('../data/sentiment.csv')\n",
    "data['words'] = data['comment'].apply(jieba.lcut)\n",
    "with open('../data/hit_stopwords.txt', 'r', encoding='utf-8') as f:\n",
    "    stop_words = f.readlines()\n",
    "stop_words = [stop_word.strip('\\n') for stop_word in stop_words]\n",
    "data['stoped_words'] = data['words'].apply(lambda sentence: list(filter(lambda word: word not in stop_words, sentence)))\n",
    "data"
   ],
   "metadata": {
    "collapsed": false,
    "pycharm": {
     "name": "#%%\n"
    }
   }
  },
  {
   "cell_type": "code",
   "execution_count": 6,
   "outputs": [],
   "source": [
    "data.to_csv('../data/sentiment_stoped_word.csv', index=False)"
   ],
   "metadata": {
    "collapsed": false,
    "pycharm": {
     "name": "#%%\n"
    }
   }
  }
 ],
 "metadata": {
  "kernelspec": {
   "display_name": "Python 3",
   "language": "python",
   "name": "python3"
  },
  "language_info": {
   "codemirror_mode": {
    "name": "ipython",
    "version": 2
   },
   "file_extension": ".py",
   "mimetype": "text/x-python",
   "name": "python",
   "nbconvert_exporter": "python",
   "pygments_lexer": "ipython2",
   "version": "2.7.6"
  }
 },
 "nbformat": 4,
 "nbformat_minor": 0
}