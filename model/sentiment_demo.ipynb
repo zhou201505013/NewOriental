{
 "cells": [
  {
   "cell_type": "code",
   "execution_count": 1,
   "metadata": {
    "collapsed": false,
    "jupyter": {
     "outputs_hidden": false
    },
    "pycharm": {
     "name": "#%%\n"
    }
   },
   "outputs": [],
   "source": [
    "import pandas as pd\n",
    "import paddlehub as hub"
   ]
  },
  {
   "cell_type": "code",
   "execution_count": 2,
   "metadata": {
    "collapsed": false,
    "jupyter": {
     "outputs_hidden": false
    },
    "pycharm": {
     "name": "#%%\n"
    }
   },
   "outputs": [],
   "source": [
    "data = pd.read_csv('../data/data_all.csv')"
   ]
  },
  {
   "cell_type": "code",
   "execution_count": null,
   "outputs": [],
   "source": [
    "demo_set = data.loc[0:49, :]\n",
    "demo_set"
   ],
   "metadata": {
    "collapsed": false,
    "pycharm": {
     "name": "#%%\n"
    }
   }
  },
  {
   "cell_type": "code",
   "execution_count": null,
   "outputs": [],
   "source": [
    "# paddlenlp：模型需要有标签数据微调，没用\n",
    "# import paddlenlp\n",
    "# import paddle\n",
    "#\n",
    "# MODEL_NAME_1 = 'ernie-1.0-base-zh'\n",
    "# MODEL_NAME_2 = 'ernie-3.0-base-zh'\n",
    "# ernie1_model = paddlenlp.transformers.ErnieModel.from_pretrained(MODEL_NAME_1)\n",
    "# tokenizer = paddlenlp.transformers.ErnieTokenizer.from_pretrained(MODEL_NAME_1)\n",
    "# encoded_text = tokenizer(text=demo_set['comment'])\n",
    "# input_ids = paddle.to_tensor([encoded_text['input_ids']])\n",
    "\n",
    "# 筛选某天数据\n",
    "# data[data['date'] == '2022-06-10']\n",
    "# data[data['date'] == '2022-06-16']\n",
    "\n",
    "# paddlehub\n",
    "import os\n",
    "os.environ['CUDA_VISIBLE_DEVICES'] = '0' \n",
    "module = hub.Module(name=\"ernie_skep_sentiment_analysis\")\n",
    "sentiment = module.predict_sentiment(demo_set['comment'], use_gpu=True)\n",
    "sentiment"
   ],
   "metadata": {
    "collapsed": false,
    "pycharm": {
     "name": "#%%\n"
    }
   }
  },
  {
   "cell_type": "code",
   "execution_count": null,
   "outputs": [],
   "source": [
    "sentiment_df = pd.DataFrame(sentiment)\n",
    "sentiment_df"
   ],
   "metadata": {
    "collapsed": false,
    "pycharm": {
     "name": "#%%\n"
    }
   }
  },
  {
   "cell_type": "code",
   "execution_count": null,
   "outputs": [],
   "source": [
    "demo_set_sentiment = pd.concat([demo_set, sentiment_df], axis=1)\n",
    "demo_set_sentiment"
   ],
   "metadata": {
    "collapsed": false,
    "pycharm": {
     "name": "#%%\n"
    }
   }
  },
  {
   "cell_type": "code",
   "execution_count": null,
   "outputs": [],
   "source": [
    "from transformers import BertForSequenceClassification\n",
    "from transformers import BertTokenizer\n",
    "import torch\n",
    "\n",
    "tokenizer = BertTokenizer.from_pretrained('IDEA-CCNL/Erlangshen-Roberta-110M-Sentiment')\n",
    "model = BertForSequenceClassification.from_pretrained('IDEA-CCNL/Erlangshen-Roberta-110M-Sentiment').to('cuda')"
   ],
   "metadata": {
    "collapsed": false,
    "pycharm": {
     "name": "#%%\n"
    }
   }
  },
  {
   "cell_type": "code",
   "execution_count": null,
   "outputs": [],
   "source": [
    "import numpy as np\n",
    "comment = np.array(demo_set['comment']).tolist()\n",
    "text = '当有知识见识，有人生理解的人（还是老师）来带货，我只能说，降维打击。懂得都懂好叭'\n",
    "#tokenizer(comment, padding=True)['input_ids']\n",
    "output = model(torch.tensor([tokenizer.encode(text)]).to('cuda'))\n",
    "probs = torch.nn.functional.softmax(output.logits, dim=-1)\n",
    "probs"
   ],
   "metadata": {
    "collapsed": false,
    "pycharm": {
     "name": "#%%\n"
    }
   }
  },
  {
   "cell_type": "code",
   "execution_count": null,
   "outputs": [],
   "source": [
    "probs_df = pd.DataFrame(probs.data)\n",
    "probs_df"
   ],
   "metadata": {
    "collapsed": false,
    "pycharm": {
     "name": "#%%\n"
    }
   }
  },
  {
   "cell_type": "code",
   "execution_count": null,
   "outputs": [],
   "source": [
    "test_demo = data.sample(20)\n",
    "test_demo\n",
    "test_demo['sentiment_label'] = test_demo['comment'].apply(lambda x: module.predict_sentiment([x], use_gpu=True)[0]['sentiment_label'])\n",
    "test_demo['positive_probs'] = test_demo['comment'].apply(lambda x: module.predict_sentiment([x], use_gpu=True)[0]['positive_probs'])\n",
    "test_demo['negative_probs'] = test_demo['comment'].apply(lambda x: module.predict_sentiment([x], use_gpu=True)[0]['negative_probs'])\n",
    "test_demo"
   ],
   "metadata": {
    "collapsed": false,
    "pycharm": {
     "name": "#%%\n"
    }
   }
  },
  {
   "cell_type": "code",
   "execution_count": null,
   "metadata": {
    "pycharm": {
     "name": "#%%\n"
    }
   },
   "outputs": [],
   "source": [
    "test_demo = data.sample(20)\n",
    "test_demo\n",
    "test_demo['sentiment_label'] = test_demo['comment'].apply(lambda x: module.predict_sentiment([x], use_gpu=True)[0]['sentiment_label'])\n",
    "test_demo['positive_probs'] = test_demo['comment'].apply(lambda x: module.predict_sentiment([x], use_gpu=True)[0]['positive_probs'])\n",
    "test_demo['negative_probs'] = test_demo['comment'].apply(lambda x: module.predict_sentiment([x], use_gpu=True)[0]['negative_probs'])\n",
    "test_demo"
   ]
  }
 ],
 "metadata": {
  "kernelspec": {
   "display_name": "Python 3",
   "language": "python",
   "name": "python3"
  },
  "language_info": {
   "codemirror_mode": {
    "name": "ipython",
    "version": 3
   },
   "file_extension": ".py",
   "mimetype": "text/x-python",
   "name": "python",
   "nbconvert_exporter": "python",
   "pygments_lexer": "ipython3",
   "version": "3.6.8"
  },
  "vscode": {
   "interpreter": {
    "hash": "767d51c1340bd893661ea55ea3124f6de3c7a262a8b4abca0554b478b1e2ff90"
   }
  }
 },
 "nbformat": 4,
 "nbformat_minor": 4
}