{
 "cells": [
  {
   "cell_type": "code",
   "execution_count": 1,
   "outputs": [],
   "source": [
    "import pandas as pd\n",
    "import paddlehub as hub"
   ],
   "metadata": {
    "collapsed": false,
    "pycharm": {
     "name": "#%%\n"
    }
   }
  },
  {
   "cell_type": "code",
   "execution_count": 2,
   "outputs": [],
   "source": [
    "data = pd.read_csv('../data/data_all.csv')"
   ],
   "metadata": {
    "collapsed": false,
    "pycharm": {
     "name": "#%%\n"
    }
   }
  },
  {
   "cell_type": "code",
   "execution_count": 3,
   "outputs": [
    {
     "data": {
      "text/plain": "                   time                                            comment  \\\n0   2022-06-19 15:42:32                          董宇辉：小时候不懂得朱自清的《背影》，长大后才懂得   \n1   2022-06-19 15:42:32                               活了18年了，别说初恋，我连男朋友都没有   \n2   2022-06-19 15:42:32  我的初恋就是我老公，谈了13年，结婚6个月，身边的人都觉得很不可思议，我们俩反而觉得挺正常的...   \n3   2022-06-19 16:42:32            她现在看到你如此成熟稳重有立场，她一定很高兴曾经成为你的女朋友，你是她的骄傲。   \n4   2022-06-19 16:42:32                                                 成长   \n..                  ...                                                ...   \n95  2022-06-19 08:33:14                                      请问顿顿每天什么时候直播啊   \n96  2022-06-19 14:33:14                                                好温柔   \n97  2022-06-19 12:33:14                          他什么时候直播啊，在哪里直播，为什么b站上只有片段   \n98  2022-06-19 13:33:14                                              这才是教育   \n99  2022-06-19 13:33:14       这帮学英语的啊，只会讲莎士比亚，他就不会给你讲孔子，孟子。和王阳明。归结起来还是读死书。   \n\n      source        date  \n0   bilibili  2022-06-19  \n1   bilibili  2022-06-19  \n2   bilibili  2022-06-19  \n3   bilibili  2022-06-19  \n4   bilibili  2022-06-19  \n..       ...         ...  \n95  bilibili  2022-06-19  \n96  bilibili  2022-06-19  \n97  bilibili  2022-06-19  \n98  bilibili  2022-06-19  \n99  bilibili  2022-06-19  \n\n[100 rows x 4 columns]",
      "text/html": "<div>\n<style scoped>\n    .dataframe tbody tr th:only-of-type {\n        vertical-align: middle;\n    }\n\n    .dataframe tbody tr th {\n        vertical-align: top;\n    }\n\n    .dataframe thead th {\n        text-align: right;\n    }\n</style>\n<table border=\"1\" class=\"dataframe\">\n  <thead>\n    <tr style=\"text-align: right;\">\n      <th></th>\n      <th>time</th>\n      <th>comment</th>\n      <th>source</th>\n      <th>date</th>\n    </tr>\n  </thead>\n  <tbody>\n    <tr>\n      <th>0</th>\n      <td>2022-06-19 15:42:32</td>\n      <td>董宇辉：小时候不懂得朱自清的《背影》，长大后才懂得</td>\n      <td>bilibili</td>\n      <td>2022-06-19</td>\n    </tr>\n    <tr>\n      <th>1</th>\n      <td>2022-06-19 15:42:32</td>\n      <td>活了18年了，别说初恋，我连男朋友都没有</td>\n      <td>bilibili</td>\n      <td>2022-06-19</td>\n    </tr>\n    <tr>\n      <th>2</th>\n      <td>2022-06-19 15:42:32</td>\n      <td>我的初恋就是我老公，谈了13年，结婚6个月，身边的人都觉得很不可思议，我们俩反而觉得挺正常的...</td>\n      <td>bilibili</td>\n      <td>2022-06-19</td>\n    </tr>\n    <tr>\n      <th>3</th>\n      <td>2022-06-19 16:42:32</td>\n      <td>她现在看到你如此成熟稳重有立场，她一定很高兴曾经成为你的女朋友，你是她的骄傲。</td>\n      <td>bilibili</td>\n      <td>2022-06-19</td>\n    </tr>\n    <tr>\n      <th>4</th>\n      <td>2022-06-19 16:42:32</td>\n      <td>成长</td>\n      <td>bilibili</td>\n      <td>2022-06-19</td>\n    </tr>\n    <tr>\n      <th>...</th>\n      <td>...</td>\n      <td>...</td>\n      <td>...</td>\n      <td>...</td>\n    </tr>\n    <tr>\n      <th>95</th>\n      <td>2022-06-19 08:33:14</td>\n      <td>请问顿顿每天什么时候直播啊</td>\n      <td>bilibili</td>\n      <td>2022-06-19</td>\n    </tr>\n    <tr>\n      <th>96</th>\n      <td>2022-06-19 14:33:14</td>\n      <td>好温柔</td>\n      <td>bilibili</td>\n      <td>2022-06-19</td>\n    </tr>\n    <tr>\n      <th>97</th>\n      <td>2022-06-19 12:33:14</td>\n      <td>他什么时候直播啊，在哪里直播，为什么b站上只有片段</td>\n      <td>bilibili</td>\n      <td>2022-06-19</td>\n    </tr>\n    <tr>\n      <th>98</th>\n      <td>2022-06-19 13:33:14</td>\n      <td>这才是教育</td>\n      <td>bilibili</td>\n      <td>2022-06-19</td>\n    </tr>\n    <tr>\n      <th>99</th>\n      <td>2022-06-19 13:33:14</td>\n      <td>这帮学英语的啊，只会讲莎士比亚，他就不会给你讲孔子，孟子。和王阳明。归结起来还是读死书。</td>\n      <td>bilibili</td>\n      <td>2022-06-19</td>\n    </tr>\n  </tbody>\n</table>\n<p>100 rows × 4 columns</p>\n</div>"
     },
     "execution_count": 3,
     "metadata": {},
     "output_type": "execute_result"
    }
   ],
   "source": [
    "demo_set = data.loc[0:99, :]\n",
    "demo_set"
   ],
   "metadata": {
    "collapsed": false,
    "pycharm": {
     "name": "#%%\n"
    }
   }
  },
  {
   "cell_type": "code",
   "execution_count": 5,
   "outputs": [
    {
     "name": "stderr",
     "output_type": "stream",
     "text": [
      "\u001B[33m[2022-07-07 20:27:27,221] [ WARNING]\u001B[0m - The _initialize method in HubModule will soon be deprecated, you can use the __init__() to handle the initialization of the object\u001B[0m\n"
     ]
    },
    {
     "ename": "MemoryError",
     "evalue": "(ResourceExhausted) Fail to alloc memory of 839684096 size.\n  [Hint: p should not be null.] (at C:\\home\\workspace\\Paddle_release\\paddle\\fluid\\memory\\detail\\system_allocator.cc:70)\n  [operator < fc > error]",
     "output_type": "error",
     "traceback": [
      "\u001B[1;31m---------------------------------------------------------------------------\u001B[0m",
      "\u001B[1;31mMemoryError\u001B[0m                               Traceback (most recent call last)",
      "Input \u001B[1;32mIn [5]\u001B[0m, in \u001B[0;36m<cell line: 20>\u001B[1;34m()\u001B[0m\n\u001B[0;32m     18\u001B[0m os\u001B[38;5;241m.\u001B[39menviron[\u001B[38;5;124m'\u001B[39m\u001B[38;5;124mCUDA_VISIBLE_DEVICES\u001B[39m\u001B[38;5;124m'\u001B[39m]\u001B[38;5;241m=\u001B[39m\u001B[38;5;124m'\u001B[39m\u001B[38;5;124m0\u001B[39m\u001B[38;5;124m'\u001B[39m\n\u001B[0;32m     19\u001B[0m module \u001B[38;5;241m=\u001B[39m hub\u001B[38;5;241m.\u001B[39mModule(name\u001B[38;5;241m=\u001B[39m\u001B[38;5;124m\"\u001B[39m\u001B[38;5;124mernie_skep_sentiment_analysis\u001B[39m\u001B[38;5;124m\"\u001B[39m)\n\u001B[1;32m---> 20\u001B[0m sentiment \u001B[38;5;241m=\u001B[39m \u001B[43mmodule\u001B[49m\u001B[38;5;241;43m.\u001B[39;49m\u001B[43mpredict_sentiment\u001B[49m\u001B[43m(\u001B[49m\u001B[43mdemo_set\u001B[49m\u001B[43m[\u001B[49m\u001B[38;5;124;43m'\u001B[39;49m\u001B[38;5;124;43mcomment\u001B[39;49m\u001B[38;5;124;43m'\u001B[39;49m\u001B[43m]\u001B[49m\u001B[43m,\u001B[49m\u001B[43m \u001B[49m\u001B[43muse_gpu\u001B[49m\u001B[38;5;241;43m=\u001B[39;49m\u001B[38;5;28;43;01mTrue\u001B[39;49;00m\u001B[43m)\u001B[49m\n\u001B[0;32m     21\u001B[0m sentiment\n",
      "File \u001B[1;32m~\\anaconda3\\envs\\d2l\\lib\\site-packages\\paddlehub\\compat\\paddle_utils.py:220\u001B[0m, in \u001B[0;36mrun_in_static_mode.<locals>.runner\u001B[1;34m(*args, **kwargs)\u001B[0m\n\u001B[0;32m    218\u001B[0m \u001B[38;5;28;01mdef\u001B[39;00m \u001B[38;5;21mrunner\u001B[39m(\u001B[38;5;241m*\u001B[39margs, \u001B[38;5;241m*\u001B[39m\u001B[38;5;241m*\u001B[39mkwargs):\n\u001B[0;32m    219\u001B[0m     \u001B[38;5;28;01mwith\u001B[39;00m static_mode_guard():\n\u001B[1;32m--> 220\u001B[0m         \u001B[38;5;28;01mreturn\u001B[39;00m \u001B[43mfunc\u001B[49m\u001B[43m(\u001B[49m\u001B[38;5;241;43m*\u001B[39;49m\u001B[43margs\u001B[49m\u001B[43m,\u001B[49m\u001B[43m \u001B[49m\u001B[38;5;241;43m*\u001B[39;49m\u001B[38;5;241;43m*\u001B[39;49m\u001B[43mkwargs\u001B[49m\u001B[43m)\u001B[49m\n",
      "File \u001B[1;32m~\\anaconda3\\envs\\d2l\\lib\\site-packages\\paddlehub\\module\\module.py:63\u001B[0m, in \u001B[0;36mserving.<locals>._wrapper\u001B[1;34m(*args, **kwargs)\u001B[0m\n\u001B[0;32m     62\u001B[0m \u001B[38;5;28;01mdef\u001B[39;00m \u001B[38;5;21m_wrapper\u001B[39m(\u001B[38;5;241m*\u001B[39margs, \u001B[38;5;241m*\u001B[39m\u001B[38;5;241m*\u001B[39mkwargs):\n\u001B[1;32m---> 63\u001B[0m     \u001B[38;5;28;01mreturn\u001B[39;00m \u001B[43mfunc\u001B[49m\u001B[43m(\u001B[49m\u001B[38;5;241;43m*\u001B[39;49m\u001B[43margs\u001B[49m\u001B[43m,\u001B[49m\u001B[43m \u001B[49m\u001B[38;5;241;43m*\u001B[39;49m\u001B[38;5;241;43m*\u001B[39;49m\u001B[43mkwargs\u001B[49m\u001B[43m)\u001B[49m\n",
      "File \u001B[1;32m~\\.paddlehub\\modules\\ernie_skep_sentiment_analysis\\module.py:136\u001B[0m, in \u001B[0;36mErnieSkepSentimentAnalysis.predict_sentiment\u001B[1;34m(self, texts, use_gpu)\u001B[0m\n\u001B[0;32m    127\u001B[0m feature_batch \u001B[38;5;241m=\u001B[39m [\n\u001B[0;32m    128\u001B[0m     np\u001B[38;5;241m.\u001B[39mconcatenate([feature[\u001B[38;5;241m0\u001B[39m] \u001B[38;5;28;01mfor\u001B[39;00m feature \u001B[38;5;129;01min\u001B[39;00m feature_list], axis\u001B[38;5;241m=\u001B[39m\u001B[38;5;241m0\u001B[39m),\n\u001B[0;32m    129\u001B[0m     np\u001B[38;5;241m.\u001B[39mconcatenate([feature[\u001B[38;5;241m1\u001B[39m] \u001B[38;5;28;01mfor\u001B[39;00m feature \u001B[38;5;129;01min\u001B[39;00m feature_list], axis\u001B[38;5;241m=\u001B[39m\u001B[38;5;241m0\u001B[39m),\n\u001B[1;32m   (...)\u001B[0m\n\u001B[0;32m    132\u001B[0m     np\u001B[38;5;241m.\u001B[39mconcatenate([feature[\u001B[38;5;241m4\u001B[39m] \u001B[38;5;28;01mfor\u001B[39;00m feature \u001B[38;5;129;01min\u001B[39;00m feature_list], axis\u001B[38;5;241m=\u001B[39m\u001B[38;5;241m0\u001B[39m),\n\u001B[0;32m    133\u001B[0m ]\n\u001B[0;32m    135\u001B[0m inputs \u001B[38;5;241m=\u001B[39m [\u001B[38;5;28mself\u001B[39m\u001B[38;5;241m.\u001B[39marray2tensor(ndarray) \u001B[38;5;28;01mfor\u001B[39;00m ndarray \u001B[38;5;129;01min\u001B[39;00m feature_batch]\n\u001B[1;32m--> 136\u001B[0m output \u001B[38;5;241m=\u001B[39m \u001B[38;5;28;43mself\u001B[39;49m\u001B[38;5;241;43m.\u001B[39;49m\u001B[43mpredictor\u001B[49m\u001B[38;5;241;43m.\u001B[39;49m\u001B[43mrun\u001B[49m\u001B[43m(\u001B[49m\u001B[43minputs\u001B[49m\u001B[43m)\u001B[49m\n\u001B[0;32m    137\u001B[0m probilities_list \u001B[38;5;241m=\u001B[39m np\u001B[38;5;241m.\u001B[39marray(output[\u001B[38;5;241m0\u001B[39m]\u001B[38;5;241m.\u001B[39mdata\u001B[38;5;241m.\u001B[39mfloat_data())\n\u001B[0;32m    138\u001B[0m probilities_list \u001B[38;5;241m=\u001B[39m probilities_list\u001B[38;5;241m.\u001B[39mreshape((\u001B[38;5;241m-\u001B[39m\u001B[38;5;241m1\u001B[39m, \u001B[38;5;241m2\u001B[39m))\n",
      "\u001B[1;31mMemoryError\u001B[0m: (ResourceExhausted) Fail to alloc memory of 839684096 size.\n  [Hint: p should not be null.] (at C:\\home\\workspace\\Paddle_release\\paddle\\fluid\\memory\\detail\\system_allocator.cc:70)\n  [operator < fc > error]"
     ]
    }
   ],
   "source": [
    "# paddlenlp：模型需要有标签数据微调，没用\n",
    "# import paddlenlp\n",
    "# import paddle\n",
    "#\n",
    "# MODEL_NAME_1 = 'ernie-1.0-base-zh'\n",
    "# MODEL_NAME_2 = 'ernie-3.0-base-zh'\n",
    "# ernie1_model = paddlenlp.transformers.ErnieModel.from_pretrained(MODEL_NAME_1)\n",
    "# tokenizer = paddlenlp.transformers.ErnieTokenizer.from_pretrained(MODEL_NAME_1)\n",
    "# encoded_text = tokenizer(text=demo_set['comment'])\n",
    "# input_ids = paddle.to_tensor([encoded_text['input_ids']])\n",
    "\n",
    "# 筛选某天数据\n",
    "# data[data['date'] == '2022-06-10']\n",
    "# data[data['date'] == '2022-06-16']\n",
    "\n",
    "# paddlehub\n",
    "import os\n",
    "os.environ['CUDA_VISIBLE_DEVICES']='0'\n",
    "module = hub.Module(name=\"ernie_skep_sentiment_analysis\")\n",
    "sentiment = module.predict_sentiment(demo_set['comment'], use_gpu=True)\n",
    "sentiment"
   ],
   "metadata": {
    "collapsed": false,
    "pycharm": {
     "name": "#%%\n"
    }
   }
  },
  {
   "cell_type": "code",
   "execution_count": null,
   "outputs": [],
   "source": [
    "sentiment_df = pd.DataFrame(sentiment)\n",
    "sentiment_df"
   ],
   "metadata": {
    "collapsed": false,
    "pycharm": {
     "name": "#%%\n"
    }
   }
  },
  {
   "cell_type": "code",
   "execution_count": null,
   "outputs": [],
   "source": [
    "demo_set_sentiment = pd.concat([demo_set, sentiment_df], axis=1)\n",
    "demo_set_sentiment"
   ],
   "metadata": {
    "collapsed": false,
    "pycharm": {
     "name": "#%%\n"
    }
   }
  },
  {
   "cell_type": "code",
   "execution_count": null,
   "outputs": [],
   "source": [
    "from transformers import BertForSequenceClassification\n",
    "from transformers import BertTokenizer\n",
    "import torch\n",
    "\n",
    "tokenizer = BertTokenizer.from_pretrained('IDEA-CCNL/Erlangshen-Roberta-110M-Sentiment')\n",
    "model = BertForSequenceClassification.from_pretrained('IDEA-CCNL/Erlangshen-Roberta-110M-Sentiment')"
   ],
   "metadata": {
    "collapsed": false,
    "pycharm": {
     "name": "#%%\n"
    }
   }
  },
  {
   "cell_type": "code",
   "execution_count": null,
   "outputs": [],
   "source": [
    "import numpy as np\n",
    "comment = np.array(demo_set['comment']).tolist()\n",
    "text = '到底要看多少书才能有这样的输出'\n",
    "output = model(torch.tensor(tokenizer(comment, padding=True)['input_ids']).to('cuda'))\n",
    "print(torch.nn.functional.softmax(output.logits, dim=-1))"
   ],
   "metadata": {
    "collapsed": false,
    "pycharm": {
     "name": "#%%\n"
    }
   }
  },
  {
   "cell_type": "code",
   "execution_count": null,
   "outputs": [],
   "source": [
    "output."
   ],
   "metadata": {
    "collapsed": false,
    "pycharm": {
     "name": "#%%\n"
    }
   }
  }
 ],
 "metadata": {
  "kernelspec": {
   "display_name": "Python 3",
   "language": "python",
   "name": "python3"
  },
  "language_info": {
   "codemirror_mode": {
    "name": "ipython",
    "version": 2
   },
   "file_extension": ".py",
   "mimetype": "text/x-python",
   "name": "python",
   "nbconvert_exporter": "python",
   "pygments_lexer": "ipython2",
   "version": "2.7.6"
  }
 },
 "nbformat": 4,
 "nbformat_minor": 0
}